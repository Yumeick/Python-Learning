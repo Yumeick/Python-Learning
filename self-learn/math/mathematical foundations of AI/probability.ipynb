{
 "cells": [
  {
   "cell_type": "markdown",
   "metadata": {},
   "source": [
    "## **随机变量与概率估计**"
   ]
  },
  {
   "cell_type": "markdown",
   "metadata": {},
   "source": [
    "---\n",
    "---\n",
    "---"
   ]
  },
  {
   "cell_type": "markdown",
   "metadata": {},
   "source": [
    "### 基于Python的实现"
   ]
  },
  {
   "cell_type": "markdown",
   "metadata": {},
   "source": [
    "#### 随机变量的数字特征"
   ]
  },
  {
   "cell_type": "markdown",
   "metadata": {},
   "source": [
    "##### 数学期望"
   ]
  },
  {
   "cell_type": "markdown",
   "metadata": {},
   "source": [
    "ex 8.6  \n",
    "一民航送客车载有$20$位旅客自机场出发，旅客有$10$个车站可以下车，如到达一个车站没有旅客下车就不停车，以$X$表示停车的次数，求$E(X)$。"
   ]
  },
  {
   "cell_type": "code",
   "execution_count": 2,
   "metadata": {},
   "outputs": [
    {
     "name": "stdout",
     "output_type": "stream",
     "text": [
      "E(X)=8.784\n"
     ]
    }
   ],
   "source": [
    "# 引入随机变量X\n",
    "X=[0, 1]    #在当前车站有无人下车？\n",
    "station= 10 #车站数量\n",
    "passenger= 20   #旅客数量\n",
    "p= 1 / station  #一位旅客在任一车站下车的概率\n",
    "EX=0\n",
    "\n",
    "for i in range(station):\n",
    "    p_0= (1-p)**passenger\n",
    "    EX_0= X[0] * p_0\n",
    "    EX_1= X[1] * (1-p_0)\n",
    "    EX+= (EX_0+EX_1)\n",
    "print(\"E(X)={:.3f}\".format(EX))"
   ]
  },
  {
   "cell_type": "markdown",
   "metadata": {},
   "source": [
    "---"
   ]
  },
  {
   "cell_type": "markdown",
   "metadata": {},
   "source": [
    "##### 方差"
   ]
  },
  {
   "cell_type": "markdown",
   "metadata": {},
   "source": [
    "设$X$为随机变量，如果$E\\left \\{ \\left [ X-E(X) \\right ]^{2}  \\right \\} $存在，则方差为：\n",
    "$$D(X)=E\\left [ (X-\\mu)^2 \\right ]=\n",
    "\\left\\{\\begin{matrix}\n",
    " \\displaystyle {\\sum_{k=1}^{\\infty}\\left [ x_k-E(X) \\right ]^2 \\cdot P(X=x_k)}, &离散型随机变量 \\\\\n",
    " \\displaystyle{\\int_{-\\infty }^{\\infty}\\left [ x-E(X) \\right ]^2 \\cdot f(x)\\mathrm{d}x}, &连续型随机变量\n",
    "\\end{matrix}\\right.$$"
   ]
  },
  {
   "cell_type": "markdown",
   "metadata": {},
   "source": [
    "方差的计算公式：\n",
    "$$D(X)=E(X)-\\left [ E(X) \\right ]^2 $$"
   ]
  },
  {
   "cell_type": "markdown",
   "metadata": {},
   "source": [
    "方差刻画了随机变量$X$的取值与数学期望的偏离程度，它的大小可以衡量随机变量取值的稳定性。  \n",
    "$X$的取值越集中，方差越小  \n",
    "$X$的取值越分散，方差越大  "
   ]
  },
  {
   "cell_type": "markdown",
   "metadata": {},
   "source": [
    "ex 8.10  **标准化**  \n",
    "设随机变量$X$具有数学期望$E(X)=\\mu$，方差$D(X)=\\sigma ^{2} \\ne 0$。  \n",
    "记$X^{\\ast }=\\frac{X-\\mu}{\\sigma } $，求$X^{\\ast}$的期望和方差。"
   ]
  },
  {
   "cell_type": "markdown",
   "metadata": {},
   "source": [
    "解：  \n",
    "$$E(X^{\\ast})=E(\\frac{X-\\mu}{\\sigma})\n",
    "=\\frac{1}{\\sigma}E(X-\\mu)\n",
    "=\\frac{1}{\\sigma}\\left [  E(X)-\\mu \\right ]\n",
    "=0$$  \n",
    "$$D(X^{\\ast})=E(X^{\\ast^{2}})-\\left [ E(X^{\\ast}) \\right ]^2\n",
    "=E\\left [ (\\frac{X-\\mu}{\\sigma}^2) \\right ]\n",
    "=\\frac{1}{\\sigma^2}E\\left [ (X-\\mu)^2 \\right ]\n",
    "=\\frac{\\sigma^2}{\\sigma^2} \n",
    "=1$$\n",
    "即$X^{\\ast }=\\frac{X-\\mu}{\\sigma } $的数学期望为$0$，方差为$1$。"
   ]
  },
  {
   "cell_type": "markdown",
   "metadata": {},
   "source": [
    "**一般的正态分布经标准化后，服从$N(0,1)$的标准化正态分布**"
   ]
  },
  {
   "cell_type": "markdown",
   "metadata": {},
   "source": [
    "---"
   ]
  },
  {
   "cell_type": "markdown",
   "metadata": {},
   "source": [
    "##### **切比雪夫不等式**"
   ]
  },
  {
   "cell_type": "markdown",
   "metadata": {},
   "source": [
    "如果随机变量$X$的期望$\\mu$和方差$\\sigma$存在，则对任意$\\varepsilon>0$，有：\n",
    "$$P\\left \\{ \\left | X-\\mu \\right | \\ge \\varepsilon  \\right \\} \\le \\frac{\\sigma^2}{\\varepsilon^2}  $$\n",
    "等价于\n",
    "$$P\\left \\{ \\left | X-\\mu \\right | < \\varepsilon  \\right \\} \\ge 1- \\frac{\\sigma^2}{\\varepsilon^2} $$"
   ]
  },
  {
   "cell_type": "markdown",
   "metadata": {},
   "source": [
    "##### 常用分布的数学期望和方差"
   ]
  },
  {
   "cell_type": "markdown",
   "metadata": {},
   "source": [
    "|分布类型|概率密度函数|期望$E(X)$|$方差D(X)$|\n",
    "|:---:|:---:|:---:|:---:|\n",
    "|两点分布|$$P\\left \\{ X=0 \\right \\}=1-p,P\\left \\{ X=1 \\right \\}=p$$|$$p$$|$$p(1-p)$$|\n",
    "|泊松分布|$$P\\left \\{ X=k \\right \\}=\\frac{\\lambda ^k}{k!}e^{-\\lambda} ,k=0,1,2,\\cdots $$|$$\\lambda$$|$$\\lambda$$|\n",
    "|二项分布|$$P\\left \\{ X=k \\right \\}=C_{n}^{k}\\cdot p^k \\cdot (1-p)^{n-k}  ,k=0,1,2,\\cdots n$$|$$np$$|$$np(1-p)$$|\n",
    "|均匀分布|$$f(x)=\\left\\{\\begin{matrix}\\displaystyle {\\frac{1}{b-a}}, & a<x<b\\\\0,& else\\end{matrix}\\right.$$|$$\\frac{a+b}{2}$$|$$\\frac{(b-a)^2}{12}$$|\n",
    "|指数分布|$$f(x)=\\left\\{\\begin{matrix}\\lambda e^{-\\lambda x}, &x>0 \\\\0 & else\\end{matrix}\\right.$$|$$\\frac{1}{\\lambda}$$|$$\\frac{1}{\\lambda^2}$$|\n",
    "|正态分布|$$\\displaystyle {f(x)=\\frac{1}{\\sqrt[]{2 \\pi}\\sigma}e^{-\\frac{(x-\\mu)^2}{2\\sigma^2}}},-\\infty <x<\\infty $$|$$\\mu$$|$$\\sigma^2$$|"
   ]
  },
  {
   "cell_type": "markdown",
   "metadata": {},
   "source": [
    "---\n",
    "---"
   ]
  },
  {
   "cell_type": "markdown",
   "metadata": {},
   "source": [
    "#### 大数定律"
   ]
  },
  {
   "cell_type": "markdown",
   "metadata": {},
   "source": [
    "**伯努利大数定律**：  \n",
    "$设n_A是n次独立重复试验中事件A发生的次数，p是事件A在每次试验中发生的概率，则对任意正数\\varepsilon，有$  \n",
    "$$\\lim_{n \\to \\infty}\\left \\{ \\left | \\frac{n_A}{n}-p \\right |<\\varepsilon   \\right \\} =1$$  \n",
    "或  \n",
    "$$\\lim_{n \\to \\infty}\\left \\{ \\left | \\frac{n_A}{n}-p \\right | \\ge \\varepsilon   \\right \\} =0$$  \n",
    "解释：  \n",
    "在实际应用中，当试验次数$n$很大时，可以利用事件A发生的概率来近似代替事件A发生的概率。  \n",
    "在抽样调查中，用样本参数去估计总体参数。"
   ]
  },
  {
   "cell_type": "markdown",
   "metadata": {},
   "source": [
    "**辛钦大数定律**：  \n",
    "$设随机变量X_1,X_2,\\cdots,X_3,\\cdots相互独立，服从同一分布，且具有数学期望E(X_i)=\\mu，i=1,2,\\cdots则对任意给定的正数\\varepsilon >0，有$  \n",
    "$$\\lim_{n \\to \\infty} \\left \\{ \\left | \\frac{1}{n}\\sum_{i=1}^{n}X_i-\\mu \\right | < \\varepsilon \\right\\}=1$$  \n",
    "解释：  \n",
    "随着样本数量$n$增大，样本均值几乎必然等于总体真实的均值。"
   ]
  },
  {
   "cell_type": "markdown",
   "metadata": {},
   "source": [
    "---\n",
    "---"
   ]
  },
  {
   "cell_type": "markdown",
   "metadata": {},
   "source": [
    "#### 中心极限定理"
   ]
  },
  {
   "cell_type": "markdown",
   "metadata": {},
   "source": [
    "**独立同分布的中心极限定理**  \n"
   ]
  },
  {
   "cell_type": "markdown",
   "metadata": {},
   "source": [
    "设随机变量$X_1,X_2,\\cdots,X_n,\\cdots$相互独立，服从同一分布，且具有数学期望和$E(X_i)=\\mu$，$D(X_i)=\\sigma^2\\ne 0$，$i=1,2,\\cdots$，\n",
    "则随机变量之和$\\displaystyle{\\sum_{i=1}^{n}X_i}$的标准化变量为\n",
    "$$Y_n=\\frac{\\displaystyle{\\sum_{i=1}^{n}X_i-n\\mu}}{\\sqrt[]{n}\\sigma} $$  \n",
    "$Y_n$的分布函数$F(x)$对于任意实数$x$满足：  \n",
    "$$\\lim_{n \\to \\infty}F_n(x)=\n",
    "\\lim_{n \\to \\infty}P\\left \\{ \\frac{\n",
    "\\displaystyle{\\sum_{i=1}^{n}X_i-n\\mu}}{\\sqrt[]{n}\\sigma}\\le x \\right \\} \n",
    "=\\Phi (x)$$  \n",
    "对$Y_n$分子分母同除$n$，得到：\n",
    "$$Y_n= \\frac{\\displaystyle{\\frac{1}{n}\\sum_{i=1}^{n}X_i-\\mu}}{\\frac{\\sigma}{\\sqrt[]{n}}} \n",
    "=\\frac{\\bar{X}-\\mu}{\\frac{\\sigma}{\\sqrt[]{n}}} \n",
    "\\sim N(0,1)$$  \n",
    "或\n",
    "$$\\bar{X}\\sim N(\\mu,\\frac{\\sigma^2}{n}) $$"
   ]
  },
  {
   "cell_type": "markdown",
   "metadata": {},
   "source": [
    "简化表述：  \n",
    "当$n$充分大时，均值为$\\mu$，方差为$\\sigma^2>0$的独立同分布的随机变量$X_1,X_2,\\cdots,X_n,\\cdots$的算术平均值$\\displaystyle{\\bar{X}=\\frac{1}{n}\\sum_{i=1}^{n}X_i}$\n",
    "近似地服从均值为$\\mu$，方差为$\\frac{\\sigma ^2}{n}$的正态分布。  \n",
    "解释：  \n",
    "任何独立、同分布的大量随机变量序列和的均值也近似服从正态分布。只要样本容量够大，样本估计值就趋于正态分布。"
   ]
  },
  {
   "cell_type": "markdown",
   "metadata": {},
   "source": [
    "ex 8.11  \n",
    "设随机变量$X_1,X_2,\\cdots,X_{20}$相互独立，且都在区间$(0,10)$上服从均匀分布，记$\\displaystyle {X=\\sum_{i=1}^{20}X_i}$，求$P\\left\\{ X>120\\right\\} $的近似值。"
   ]
  },
  {
   "cell_type": "code",
   "execution_count": 5,
   "metadata": {},
   "outputs": [
    {
     "name": "stdout",
     "output_type": "stream",
     "text": [
      "P(X>120)的近似值为0.061\n"
     ]
    }
   ],
   "source": [
    "from scipy.stats import norm\n",
    "EX= (10+0) / 2  #数学期望\n",
    "DX= (10-0)**2 / 12  #方差\n",
    "n=20\n",
    "\n",
    "#标准化\n",
    "def Y_n(X, n, EX, DX):\n",
    "    return (X-n*EX)/((n*DX)**(0.5))\n",
    "\n",
    "phi= Y_n(120, n, EX, DX)\n",
    "print(\"P(X>120)的近似值为{:.3f}\".format(1-norm.cdf(phi)))"
   ]
  },
  {
   "cell_type": "markdown",
   "metadata": {},
   "source": [
    "---\n",
    "---"
   ]
  },
  {
   "cell_type": "markdown",
   "metadata": {},
   "source": [
    "#### 数理统计基本概念"
   ]
  },
  {
   "cell_type": "markdown",
   "metadata": {},
   "source": [
    "##### 常用统计量"
   ]
  },
  {
   "cell_type": "markdown",
   "metadata": {},
   "source": [
    "---"
   ]
  },
  {
   "cell_type": "markdown",
   "metadata": {},
   "source": [
    "##### 参数估计"
   ]
  },
  {
   "cell_type": "markdown",
   "metadata": {},
   "source": [
    "---\n",
    "---"
   ]
  },
  {
   "cell_type": "markdown",
   "metadata": {},
   "source": [
    "#### 最大似然估计"
   ]
  },
  {
   "cell_type": "markdown",
   "metadata": {},
   "source": [
    "##### 似然函数"
   ]
  },
  {
   "cell_type": "markdown",
   "metadata": {},
   "source": [
    "---"
   ]
  },
  {
   "cell_type": "markdown",
   "metadata": {},
   "source": [
    "##### 最大似然估计"
   ]
  },
  {
   "cell_type": "markdown",
   "metadata": {},
   "source": [
    "---\n",
    "---"
   ]
  },
  {
   "cell_type": "markdown",
   "metadata": {},
   "source": [
    "#### 最大后验估计"
   ]
  },
  {
   "cell_type": "markdown",
   "metadata": {},
   "source": [
    "---\n",
    "---\n",
    "---"
   ]
  },
  {
   "cell_type": "markdown",
   "metadata": {},
   "source": [
    "### 应用"
   ]
  },
  {
   "cell_type": "markdown",
   "metadata": {},
   "source": [
    "---\n",
    "---\n",
    "---"
   ]
  },
  {
   "cell_type": "markdown",
   "metadata": {},
   "source": [
    "### 课后习题"
   ]
  }
 ],
 "metadata": {
  "kernelspec": {
   "display_name": "Python 3.9.12 ('base')",
   "language": "python",
   "name": "python3"
  },
  "language_info": {
   "codemirror_mode": {
    "name": "ipython",
    "version": 3
   },
   "file_extension": ".py",
   "mimetype": "text/x-python",
   "name": "python",
   "nbconvert_exporter": "python",
   "pygments_lexer": "ipython3",
   "version": "3.9.12"
  },
  "orig_nbformat": 4,
  "vscode": {
   "interpreter": {
    "hash": "a4f385f22347421055792fc979c9466e694c4cd728743b19e9db4ebd3910237c"
   }
  }
 },
 "nbformat": 4,
 "nbformat_minor": 2
}
