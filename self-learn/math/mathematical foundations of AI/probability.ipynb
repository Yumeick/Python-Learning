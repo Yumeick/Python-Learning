{
 "cells": [
  {
   "cell_type": "markdown",
   "metadata": {},
   "source": [
    "## **随机变量与概率估计**"
   ]
  },
  {
   "cell_type": "markdown",
   "metadata": {},
   "source": [
    "---\n",
    "---\n",
    "---"
   ]
  },
  {
   "cell_type": "markdown",
   "metadata": {},
   "source": [
    "### 基于Python的实现"
   ]
  },
  {
   "cell_type": "markdown",
   "metadata": {},
   "source": [
    "#### 随机变量的数字特征"
   ]
  },
  {
   "cell_type": "markdown",
   "metadata": {},
   "source": [
    "##### 数学期望"
   ]
  },
  {
   "cell_type": "markdown",
   "metadata": {},
   "source": [
    "ex 8.6  \n",
    "一民航送客车载有$20$位旅客自机场出发，旅客有$10$个车站可以下车，如到达一个车站没有旅客下车就不停车，以$X$表示停车的次数，求$E(X)$。"
   ]
  },
  {
   "cell_type": "code",
   "execution_count": 2,
   "metadata": {},
   "outputs": [
    {
     "name": "stdout",
     "output_type": "stream",
     "text": [
      "E(X)=8.784\n"
     ]
    }
   ],
   "source": [
    "# 引入随机变量X\n",
    "X=[0, 1]    #在当前车站有无人下车？\n",
    "station= 10 #车站数量\n",
    "passenger= 20   #旅客数量\n",
    "p= 1 / station  #一位旅客在任一车站下车的概率\n",
    "EX=0\n",
    "\n",
    "for i in range(station):\n",
    "    p_0= (1-p)**passenger\n",
    "    EX_0= X[0] * p_0\n",
    "    EX_1= X[1] * (1-p_0)\n",
    "    EX+= (EX_0+EX_1)\n",
    "print(\"E(X)={:.3f}\".format(EX))"
   ]
  },
  {
   "cell_type": "markdown",
   "metadata": {},
   "source": [
    "---"
   ]
  },
  {
   "cell_type": "markdown",
   "metadata": {},
   "source": [
    "##### 方差"
   ]
  },
  {
   "cell_type": "markdown",
   "metadata": {},
   "source": [
    "设$X$为随机变量，如果$E\\left \\{ \\left [ X-E(X) \\right ]^{2}  \\right \\} $存在，则方差为：\n",
    "$$D(X)=E\\left [ (X-\\mu)^2 \\right ]=\n",
    "\\left\\{\\begin{matrix}\n",
    " \\displaystyle {\\sum_{k=1}^{\\infty}\\left [ x_k-E(X) \\right ]^2 \\cdot P(X=x_k)}, &离散型随机变量 \\\\\n",
    " \\displaystyle{\\int_{-\\infty }^{\\infty}\\left [ x-E(X) \\right ]^2 \\cdot f(x)\\mathrm{d}x}, &连续型随机变量\n",
    "\\end{matrix}\\right.$$"
   ]
  },
  {
   "cell_type": "markdown",
   "metadata": {},
   "source": [
    "方差的计算公式：\n",
    "$$D(X)=E(X)-\\left [ E(X) \\right ]^2 $$"
   ]
  },
  {
   "cell_type": "markdown",
   "metadata": {},
   "source": [
    "方差刻画了随机变量$X$的取值与数学期望的偏离程度，它的大小可以衡量随机变量取值的稳定性。  \n",
    "$X$的取值越集中，方差越小  \n",
    "$X$的取值越分散，方差越大  "
   ]
  },
  {
   "cell_type": "markdown",
   "metadata": {},
   "source": [
    "ex 8.10  **标准化**  \n",
    "设随机变量$X$具有数学期望$E(X)=\\mu$，方差$D(X)=\\sigma ^{2} \\ne 0$。  \n",
    "记$X^{\\ast }=\\frac{X-\\mu}{\\sigma } $，求$X^{\\ast}$的期望和方差。"
   ]
  },
  {
   "cell_type": "markdown",
   "metadata": {},
   "source": [
    "解：  \n",
    "$$E(X^{\\ast})=E(\\frac{X-\\mu}{\\sigma})\n",
    "=\\frac{1}{\\sigma}E(X-\\mu)\n",
    "=\\frac{1}{\\sigma}\\left [  E(X)-\\mu \\right ]\n",
    "=0$$  \n",
    "$$D(X^{\\ast})=E(X^{\\ast^{2}})-\\left [ E(X^{\\ast}) \\right ]^2\n",
    "=E\\left [ (\\frac{X-\\mu}{\\sigma}^2) \\right ]\n",
    "=\\frac{1}{\\sigma^2}E\\left [ (X-\\mu)^2 \\right ]\n",
    "=\\frac{\\sigma^2}{\\sigma^2} \n",
    "=1$$\n",
    "即$X^{\\ast }=\\frac{X-\\mu}{\\sigma } $的数学期望为$0$，方差为$1$。"
   ]
  },
  {
   "cell_type": "markdown",
   "metadata": {},
   "source": [
    "**一般的正态分布经标准化后，服从$N(0,1)$的标准化正态分布**"
   ]
  },
  {
   "cell_type": "markdown",
   "metadata": {},
   "source": [
    "---"
   ]
  },
  {
   "cell_type": "markdown",
   "metadata": {},
   "source": [
    "##### **切比雪夫不等式**"
   ]
  },
  {
   "cell_type": "markdown",
   "metadata": {},
   "source": [
    "如果随机变量$X$的期望$\\mu$和方差$\\sigma$存在，则对任意$\\varepsilon>0$，有：\n",
    "$$P\\left \\{ \\left | X-\\mu \\right | \\ge \\varepsilon  \\right \\} \\le \\frac{\\sigma^2}{\\varepsilon^2}  $$\n",
    "等价于\n",
    "$$P\\left \\{ \\left | X-\\mu \\right | < \\varepsilon  \\right \\} \\ge 1- \\frac{\\sigma^2}{\\varepsilon^2} $$"
   ]
  },
  {
   "cell_type": "markdown",
   "metadata": {},
   "source": [
    "##### 常用分布的数学期望和方差"
   ]
  },
  {
   "cell_type": "markdown",
   "metadata": {},
   "source": [
    "|分布类型|概率密度函数|期望$E(X)$|$方差D(X)$|\n",
    "|:---:|:---:|:---:|:---:|\n",
    "|两点分布|$$P\\left \\{ X=0 \\right \\}=1-p,P\\left \\{ X=1 \\right \\}=p$$|$$p$$|$$p(1-p)$$|\n",
    "|泊松分布|$$P\\left \\{ X=k \\right \\}=\\frac{\\lambda ^k}{k!}e^{-\\lambda} ,k=0,1,2,\\cdots $$|$$\\lambda$$|$$\\lambda$$|\n",
    "|二项分布|$$P\\left \\{ X=k \\right \\}=C_{n}^{k}\\cdot p^k \\cdot (1-p)^{n-k}  ,k=0,1,2,\\cdots n$$|$$np$$|$$np(1-p)$$|\n",
    "|均匀分布|$$f(x)=\\left\\{\\begin{matrix}\\displaystyle {\\frac{1}{b-a}}, & a<x<b\\\\0,& else\\end{matrix}\\right.$$|$$\\frac{2}{a+b}$$|$$\\frac{12}{(b-a)^2}$$|\n",
    "|指数分布|$$f(x)=\\left\\{\\begin{matrix}\\lambda e^{-\\lambda x}, &x>0 \\\\0 & else\\end{matrix}\\right.$$|$$\\frac{1}{\\lambda}$$|$$\\frac{\\lambda^2}{1}$$|\n",
    "|正态分布|$$\\displaystyle {f(x)=\\frac{1}{\\sqrt[]{2 \\pi}\\sigma}e^{-\\frac{(x-\\mu)^2}{2\\sigma^2}}},-\\infty <x<\\infty $$|$$\\mu$$|$$\\sigma^2$$|"
   ]
  },
  {
   "cell_type": "markdown",
   "metadata": {},
   "source": [
    "---\n",
    "---"
   ]
  },
  {
   "cell_type": "markdown",
   "metadata": {},
   "source": [
    "#### 大数定律"
   ]
  },
  {
   "cell_type": "markdown",
   "metadata": {},
   "source": [
    "**伯努利大数定律**：  \n",
    "$设n_A是n次独立重复试验中事件A发生的次数，p是事件A在每次试验中发生的概率，则对任意正数\\varepsilon，有$  \n",
    "$$\\lim_{n \\to \\infty}\\left \\{ \\left | \\frac{n_A}{n}-p \\right |<\\varepsilon   \\right \\} =1$$  \n",
    "或  \n",
    "$$\\lim_{n \\to \\infty}\\left \\{ \\left | \\frac{n_A}{n}-p \\right | \\ge \\varepsilon   \\right \\} =0$$  \n",
    "解释：  \n",
    "在实际应用中，当试验次数$n$很大时，可以利用事件A发生的概率来近似代替事件A发生的概率。  \n",
    "在抽样调查中，用样本参数去估计总体参数。"
   ]
  },
  {
   "cell_type": "markdown",
   "metadata": {},
   "source": [
    "**辛钦大数定律**：  \n",
    "$设随机变量X_1,X_2,\\cdots,X_3,\\cdots相互独立，服从同一分布，且具有数学期望E(X_i)=\\mu，i=1,2,\\cdots则对任意给定的正数\\varepsilon >0，有$  \n",
    "$$\\lim_{n \\to \\infty} \\left \\{ \\left | \\frac{1}{n}\\sum_{i=1}^{n}X_i-\\mu \\right | < \\varepsilon \\right\\}=1$$  \n",
    "解释：  \n",
    "随着样本数量$n$增大，样本均值几乎必然等于总体真实的均值。"
   ]
  },
  {
   "cell_type": "markdown",
   "metadata": {},
   "source": [
    "---\n",
    "---"
   ]
  },
  {
   "cell_type": "markdown",
   "metadata": {},
   "source": [
    "#### 中心极限定理"
   ]
  },
  {
   "cell_type": "markdown",
   "metadata": {},
   "source": []
  },
  {
   "cell_type": "markdown",
   "metadata": {},
   "source": [
    "---\n",
    "---"
   ]
  },
  {
   "cell_type": "markdown",
   "metadata": {},
   "source": [
    "#### 数理统计基本概念"
   ]
  },
  {
   "cell_type": "markdown",
   "metadata": {},
   "source": [
    "##### 常用统计量"
   ]
  },
  {
   "cell_type": "markdown",
   "metadata": {},
   "source": [
    "---"
   ]
  },
  {
   "cell_type": "markdown",
   "metadata": {},
   "source": [
    "##### 参数估计"
   ]
  },
  {
   "cell_type": "markdown",
   "metadata": {},
   "source": [
    "---\n",
    "---"
   ]
  },
  {
   "cell_type": "markdown",
   "metadata": {},
   "source": [
    "#### 最大似然估计"
   ]
  },
  {
   "cell_type": "markdown",
   "metadata": {},
   "source": [
    "##### 似然函数"
   ]
  },
  {
   "cell_type": "markdown",
   "metadata": {},
   "source": [
    "---"
   ]
  },
  {
   "cell_type": "markdown",
   "metadata": {},
   "source": [
    "##### 最大似然估计"
   ]
  },
  {
   "cell_type": "markdown",
   "metadata": {},
   "source": [
    "---\n",
    "---"
   ]
  },
  {
   "cell_type": "markdown",
   "metadata": {},
   "source": [
    "#### 最大后验估计"
   ]
  },
  {
   "cell_type": "markdown",
   "metadata": {},
   "source": [
    "---\n",
    "---\n",
    "---"
   ]
  },
  {
   "cell_type": "markdown",
   "metadata": {},
   "source": [
    "### 应用"
   ]
  },
  {
   "cell_type": "markdown",
   "metadata": {},
   "source": [
    "---\n",
    "---\n",
    "---"
   ]
  },
  {
   "cell_type": "markdown",
   "metadata": {},
   "source": [
    "### 课后习题"
   ]
  }
 ],
 "metadata": {
  "kernelspec": {
   "display_name": "Python 3.10.2 64-bit",
   "language": "python",
   "name": "python3"
  },
  "language_info": {
   "codemirror_mode": {
    "name": "ipython",
    "version": 3
   },
   "file_extension": ".py",
   "mimetype": "text/x-python",
   "name": "python",
   "nbconvert_exporter": "python",
   "pygments_lexer": "ipython3",
   "version": "3.10.2"
  },
  "orig_nbformat": 4,
  "vscode": {
   "interpreter": {
    "hash": "875265320606c99a0b480fa6cfc4e12dcdb2cc0c89106af3e4f88e5863941da0"
   }
  }
 },
 "nbformat": 4,
 "nbformat_minor": 2
}
