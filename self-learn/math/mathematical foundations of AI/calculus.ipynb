{
 "cells": [
  {
   "cell_type": "markdown",
   "metadata": {},
   "source": [
    "### **微积分**"
   ]
  },
  {
   "cell_type": "markdown",
   "metadata": {},
   "source": [
    "---\n",
    "---\n",
    "#### **定积分**"
   ]
  },
  {
   "cell_type": "code",
   "execution_count": 1,
   "metadata": {},
   "outputs": [],
   "source": [
    "import sympy\n",
    "from sympy import *\n",
    "import numpy as np"
   ]
  },
  {
   "cell_type": "markdown",
   "metadata": {},
   "source": [
    "ex 3.1  \n",
    "求定积分$$\\int_{0}^{1} {x^2}\\mathrm{d}x$$"
   ]
  },
  {
   "cell_type": "code",
   "execution_count": 6,
   "metadata": {},
   "outputs": [
    {
     "name": "stdout",
     "output_type": "stream",
     "text": [
      "1/3\n"
     ]
    }
   ],
   "source": [
    "x= sympy.Symbol('x', real=True) #积分变量\n",
    "interval=(x,0,1)    #(积分变量，积分下限，积分上限)\n",
    "y= x**2             #被积函数\n",
    "cal=integrate(y,interval)\n",
    "print(cal)"
   ]
  },
  {
   "cell_type": "markdown",
   "metadata": {},
   "source": [
    "---\n",
    "---\n",
    "#### **牛顿-莱布尼茨公式**  \n",
    "设函数$f(x)$在区间$\\left [ a,b \\right ] $上连续，$F(x)$是$f(x)$在$\\left [ a,b \\right ] $上的一个原函数，则$$\\int_{a}^{b}{f(x)}\\mathrm{d}x=F(b)-F(a)=F(x)\\mid _{a}^{b}  $$\n",
    "\n",
    "通俗解释：\n",
    "$$\\underbrace{\n",
    "\\underbrace{\\int_{a}^{b}{f(x)}\\mathrm{d}x=f(\\xi )\\cdot (b-a)}_{积分中值定理}=\n",
    "\\underbrace{F(\\xi )\\cdot(b-a)=F(b)-F(a)}_{微分中值定理}}_{牛顿-莱布尼茨公式}$$"
   ]
  },
  {
   "cell_type": "markdown",
   "metadata": {},
   "source": [
    "ex 3.3  \n",
    "求$$\\int_{0}^{\\frac{\\pi}{2}} {(2\\cos x+\\sin x-1)}\\mathrm{d}x $$"
   ]
  },
  {
   "cell_type": "code",
   "execution_count": 60,
   "metadata": {},
   "outputs": [
    {
     "name": "stdout",
     "output_type": "stream",
     "text": [
      "结果：1.4292036732051032\n",
      "误差：1.5867348248711533e-14\n"
     ]
    }
   ],
   "source": [
    "import scipy\n",
    "import numpy as np\n",
    "from scipy.integrate import quad\n",
    "\n",
    "f= lambda x: 2*cos(x) + sin(x) - 1\n",
    "solution= quad(f, 0, (pi/2)) #输出的元组：(积分值，误差)\n",
    "\n",
    "print(\"结果：{}\\n误差：{}\".format(solution[0],solution[1]))"
   ]
  },
  {
   "cell_type": "markdown",
   "metadata": {},
   "source": [
    "---\n",
    "ex 3.4  \n",
    "设$$f(x)=\\left\\{\\begin{matrix}\n",
    "  2x, & 0\\le x  \\le 1\\\\\n",
    "  5, & 1<x \\le 2\n",
    "\\end{matrix}\\right.$$\n",
    "求$$\\int_{0}^{2}{f(x)}\\mathrm{d}x $$"
   ]
  },
  {
   "cell_type": "code",
   "execution_count": 59,
   "metadata": {},
   "outputs": [
    {
     "name": "stdout",
     "output_type": "stream",
     "text": [
      "结果：6.0\n",
      "误差：6.661338147750939e-14\n"
     ]
    }
   ],
   "source": [
    "import sympy\n",
    "from sympy import *\n",
    "import numpy as np\n",
    "import matplotlib\n",
    "import matplotlib.pyplot as plt\n",
    "\n",
    "x=sympy.Symbol('x', real=True)\n",
    "def f(x):\n",
    "    if x>=0 and x<=1:\n",
    "        return 2*x\n",
    "    elif x>1 and x<=2:\n",
    "        return 5\n",
    "solution= quad(f, 0, 2)\n",
    "print(\"结果：{}\\n误差：{}\".format(solution[0],solution[1]))"
   ]
  },
  {
   "cell_type": "markdown",
   "metadata": {},
   "source": [
    "---\n",
    "ex 3.5  \n",
    "计算由曲线$y^2=2x$和直线$y=x-4$所围成的图形的面积$S$"
   ]
  },
  {
   "cell_type": "code",
   "execution_count": 142,
   "metadata": {},
   "outputs": [
    {
     "name": "stdout",
     "output_type": "stream",
     "text": [
      "两曲线的交点为(2, -2)和(8, 4)\n",
      "结果：18.0\n",
      "误差：1.9984014443252818e-13\n"
     ]
    }
   ],
   "source": [
    "import sympy as sy\n",
    "import numpy as np\n",
    "from scipy.integrate import quad\n",
    "\n",
    "x, y= sy.symbols('x,y')\n",
    "f1= y**2 - 2*x\n",
    "f2= y - x + 4\n",
    "point=sy.solve([f1,f2], [x,y])\n",
    "print(\"两曲线的交点为{}和{}\".format(point[0],point[1]))\n",
    "\n",
    "#以y为积分变量，其取值范围是[-2,4]\n",
    "x= lambda y: (y + 4) - (y**2/2) #此处的x是一个函数\n",
    "solution= quad(x, -2, 4)\n",
    "print(\"结果：{}\\n误差：{}\".format(solution[0],solution[1]))"
   ]
  },
  {
   "cell_type": "markdown",
   "metadata": {},
   "source": [
    "---\n",
    "ex 3.6  \n",
    "用SciPy科学计算库求$$\\int_{0}^{3} {\\cos^{2}{(e^{x})}} \\mathrm{d}x$$"
   ]
  },
  {
   "cell_type": "code",
   "execution_count": 150,
   "metadata": {},
   "outputs": [
    {
     "name": "stdout",
     "output_type": "stream",
     "text": [
      "结果：1.2964677857243732\n",
      "误差：1.3977971558904195e-09\n"
     ]
    }
   ],
   "source": [
    "import sympy as sy\n",
    "import scipy\n",
    "from scipy.integrate import quad\n",
    "\n",
    "def f(x):\n",
    "    return cos(pow(E,x))**2\n",
    "solution= quad(f, 0, 3)\n",
    "print(\"结果：{}\\n误差：{}\".format(solution[0],solution[1]))"
   ]
  },
  {
   "cell_type": "markdown",
   "metadata": {},
   "source": [
    "---\n",
    "ex 3.7  \n",
    "用SciPy求$$\\underset{D}{\\iint} {e^{-x^2-y^2}} {\\mathrm{d}x \\mathrm{d}y}$$其中$D=\\left \\{ (x,y)\\mid 0 \\le x \\le 10,0 \\le y \\le 10 \\right \\} $"
   ]
  },
  {
   "cell_type": "code",
   "execution_count": 152,
   "metadata": {},
   "outputs": [
    {
     "name": "stdout",
     "output_type": "stream",
     "text": [
      "结果：0.7853981633974476\n",
      "误差：1.375309851021853e-08\n"
     ]
    }
   ],
   "source": [
    "import sympy as sy\n",
    "import scipy\n",
    "from scipy.integrate import dblquad\n",
    "\n",
    "def f(x,y):\n",
    "    return pow(E,(-x**2-y**2))\n",
    "solution= dblquad(f, 0, 10, lambda x: 0, lambda x: 10)\n",
    "print(\"结果：{}\\n误差：{}\".format(solution[0],solution[1]))"
   ]
  },
  {
   "cell_type": "markdown",
   "metadata": {},
   "source": [
    "---\n",
    "ex 3.8  \n",
    "求定积分近似解  \n",
    "$$\\int_{0}^{3} {\\cos^{2}{(e^{x})}} \\mathrm{d}x$$"
   ]
  },
  {
   "cell_type": "code",
   "execution_count": 164,
   "metadata": {},
   "outputs": [
    {
     "name": "stdout",
     "output_type": "stream",
     "text": [
      "0.944822326405313\n",
      "1.2843391540917446\n",
      "1.296075056733816\n",
      "1.296434741500134\n",
      "1.2964645400078034\n"
     ]
    }
   ],
   "source": [
    "from numpy import *\n",
    "import sympy\n",
    "a,b= 0,3\n",
    "def f(x):\n",
    "    return sympy.cos(pow(E,x))**2\n",
    "\n",
    "def trape(n):\n",
    "    h= (b-a)/n\n",
    "    x=a\n",
    "    sum=0\n",
    "    for i in range(1,n):\n",
    "        x2= a + i*h\n",
    "        sum+= (f(x)+f(x2)) *h /2\n",
    "        x=x2\n",
    "    return sum\n",
    "\n",
    "list_test= [10**i for i in range(1,6)]\n",
    "solution= [trape(i) for i in list_test]\n",
    "for i in solution:\n",
    "    print(float(i))"
   ]
  },
  {
   "cell_type": "markdown",
   "metadata": {},
   "source": [
    "---\n",
    "课后习题"
   ]
  },
  {
   "cell_type": "markdown",
   "metadata": {},
   "source": [
    "- 用SciPy库求下列定积分"
   ]
  },
  {
   "cell_type": "markdown",
   "metadata": {},
   "source": [
    "1.$$\\int_{1}^{2}{(x^2+\\frac{1}{x^4})}\\mathrm{d}x $$"
   ]
  },
  {
   "cell_type": "code",
   "execution_count": 166,
   "metadata": {},
   "outputs": [
    {
     "name": "stdout",
     "output_type": "stream",
     "text": [
      "结果：2.625\n",
      "误差：2.914335439641036e-14\n"
     ]
    }
   ],
   "source": [
    "import sympy\n",
    "from scipy.integrate import quad\n",
    "\n",
    "def f(x):\n",
    "    return x**2+(1/x**4)\n",
    "\n",
    "solution= quad(f,1,2)\n",
    "print(\"结果：{}\\n误差：{}\".format(solution[0],solution[1]))"
   ]
  },
  {
   "cell_type": "markdown",
   "metadata": {},
   "source": [
    "2.$$\\int_{-1}^{0}{\\frac{3x^4+3x^2+1}{x^2+1} }\\mathrm{d}x $$"
   ]
  },
  {
   "cell_type": "code",
   "execution_count": 168,
   "metadata": {},
   "outputs": [
    {
     "name": "stdout",
     "output_type": "stream",
     "text": [
      "结果：1.7853981633974483\n",
      "误差：1.9821901491273144e-14\n"
     ]
    }
   ],
   "source": [
    "import sympy\n",
    "from scipy.integrate import quad\n",
    "\n",
    "def f(x):\n",
    "    return (3*x**4+3*x**2+1)/(x**2+1)\n",
    "\n",
    "solution= quad(f, -1, 0)\n",
    "print(\"结果：{}\\n误差：{}\".format(solution[0],solution[1]))"
   ]
  },
  {
   "cell_type": "markdown",
   "metadata": {},
   "source": [
    "- 计算\n",
    "$$\\lim_{n \\to \\infty} {\\frac{1^p+2^p+\\cdots +n^p}{n^{p+1}} }$$  \n",
    "其中$p>0$"
   ]
  },
  {
   "cell_type": "code",
   "execution_count": 201,
   "metadata": {},
   "outputs": [],
   "source": [
    "import sympy\n",
    "from scipy.integrate import quad\n",
    "\n",
    "n,p= sympy.symbols(\"n,p\")\n",
    "def f(n,p):\n",
    "    sum= 0\n",
    "    for i in range(1,n+1):\n",
    "        x= pow(i, p)\n",
    "        sum+= x/pow(n,p+1)\n",
    "    return sum"
   ]
  },
  {
   "cell_type": "markdown",
   "metadata": {},
   "source": [
    "---\n",
    "待解决问题：\n",
    "- 不连续分段函数的绘制\n",
    "- 隐函数的显化\n",
    "- 复杂函数的图像绘制\n",
    "- 项数未知的多项式的极限"
   ]
  }
 ],
 "metadata": {
  "kernelspec": {
   "display_name": "Python 3.9.12 ('base')",
   "language": "python",
   "name": "python3"
  },
  "language_info": {
   "codemirror_mode": {
    "name": "ipython",
    "version": 3
   },
   "file_extension": ".py",
   "mimetype": "text/x-python",
   "name": "python",
   "nbconvert_exporter": "python",
   "pygments_lexer": "ipython3",
   "version": "3.9.12"
  },
  "orig_nbformat": 4,
  "vscode": {
   "interpreter": {
    "hash": "a4f385f22347421055792fc979c9466e694c4cd728743b19e9db4ebd3910237c"
   }
  }
 },
 "nbformat": 4,
 "nbformat_minor": 2
}
