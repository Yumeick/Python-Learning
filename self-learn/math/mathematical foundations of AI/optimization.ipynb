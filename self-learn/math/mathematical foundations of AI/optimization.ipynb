{
 "cells": [
  {
   "cell_type": "markdown",
   "metadata": {},
   "source": [
    "### **泰勒公式与拉格朗日乘子法**\n",
    "---\n",
    "---"
   ]
  },
  {
   "cell_type": "markdown",
   "metadata": {},
   "source": [
    "#### **泰勒公式**"
   ]
  },
  {
   "cell_type": "markdown",
   "metadata": {},
   "source": [
    "ex 4.2  \n",
    "已知二次多项式$p_{2}(x)=a_0+a_1x+a_2x^2$，在原点逼近$f(x)=\\cos x$时，求$a_0$、$a_1$、$a_2$的值。"
   ]
  },
  {
   "cell_type": "code",
   "execution_count": 36,
   "metadata": {},
   "outputs": [
    {
     "name": "stdout",
     "output_type": "stream",
     "text": [
      "a0:[1]\n",
      "a1:[0]\n",
      "a2:[-1/2]\n"
     ]
    }
   ],
   "source": [
    "import sympy \n",
    "\n",
    "x=sympy.symbols('x')\n",
    "f= sympy.cos(x)\n",
    "a=sympy.symbols('a:3')\n",
    "p= a[0] + a[1]*x + a[2]*x**2\n",
    "f1=sympy.diff(f, x)\n",
    "p1=sympy.diff(p, x)\n",
    "f2=sympy.diff(f1, x)\n",
    "p2=sympy.diff(p1, x)\n",
    "\n",
    "solution0=sympy.solvers.solve((f.subs(x,0)-p.subs(x,0)),a[0])\n",
    "solution1=sympy.solvers.solve((f1.subs(x,0)-p1.subs(x,0)),a[1])\n",
    "solution2=sympy.solvers.solve((f2.subs(x,0)-p2.subs(x,0)),a[2])\n",
    "print(\"a0:{}\\na1:{}\\na2:{}\".format(solution0,solution1,solution2))"
   ]
  },
  {
   "cell_type": "markdown",
   "metadata": {},
   "source": [
    "---\n",
    "ex 4.3  \n",
    "已知八次多项式$p_8(x)=a_{0}+a_{1}x^{}+a_{2}x^{2}+a_{3}x^{3}+a_{4}x^{4}+a_{5}x^{5}+a_{6}x^{6}+a_{7}x^{7}+a_{8}x^{8}$，在原点逼近$f(x)=\\cos x$，求解各系数值"
   ]
  },
  {
   "cell_type": "code",
   "execution_count": 56,
   "metadata": {},
   "outputs": [
    {
     "name": "stdout",
     "output_type": "stream",
     "text": [
      "a0：[1]\n",
      "a1：[0]\n",
      "a2：[-1/2]\n",
      "a3：[0]\n",
      "a4：[1/24]\n",
      "a5：[0]\n",
      "a6：[-1/720]\n",
      "a7：[0]\n",
      "a8：[1/40320]\n"
     ]
    }
   ],
   "source": [
    "import sympy\n",
    "from sympy.solvers import solve\n",
    "\n",
    "x= sympy.symbols('x')\n",
    "f=sympy.cos(x)\n",
    "p=0\n",
    "a=sympy.symbols('a:9')\n",
    "for i in range(9):\n",
    "    p+= a[i]*(x**(i))\n",
    "\n",
    "fs=[]\n",
    "ps=[]\n",
    "for i in range(9):\n",
    "    fs.append(f)\n",
    "    ps.append(p)\n",
    "    f=sympy.diff(f,x)\n",
    "    p=sympy.diff(p,x)\n",
    "\n",
    "solutions=[]\n",
    "for i in range(9):\n",
    "    solutions.append(solve((fs[i].subs(x,0)-ps[i].subs(x,0)),a[i]))\n",
    "    print(\"a{}：{}\".format(i,solutions[i]))\n",
    "\n"
   ]
  },
  {
   "cell_type": "markdown",
   "metadata": {},
   "source": [
    "---\n",
    "ex 4.6  \n",
    "求函数$f(x)=e^{x}$的$n$阶麦克劳林展开式"
   ]
  },
  {
   "cell_type": "markdown",
   "metadata": {},
   "source": [
    "ex 4.7  \n",
    "根据$e^{x}$的$n$次泰勒多项式展开式，求无理数$e$的近似值"
   ]
  },
  {
   "cell_type": "code",
   "execution_count": 25,
   "metadata": {},
   "outputs": [
    {
     "name": "stdout",
     "output_type": "stream",
     "text": [
      "e约等于2.718282\n",
      "误差为6.80986909887327e-08\n"
     ]
    }
   ],
   "source": [
    "#n也是一个未知的变量，怎么样让计算机循环一个未知变量次是个有待解决的问题，故此题以下所有的n替换为10\n",
    "#再简化题目，只翻译书中句子\n",
    "import sympy\n",
    "import scipy\n",
    "from sympy.solvers import solve\n",
    "x= sympy.symbols('x')\n",
    "n=10\n",
    "a=sympy.symbols('a:{}'.format(n))\n",
    "f=pow(sympy.E,x)\n",
    "\n",
    "#求出所有导数\n",
    "fs=[]\n",
    "for i in range(n):\n",
    "    fs.append(f)\n",
    "    f= sympy.diff(f, x)\n",
    "\n",
    "#求出当x=0时的所有导数\n",
    "fs_0=[]\n",
    "for i in range(n):\n",
    "    fs_0.append(fs[i].subs(x, 0))\n",
    "\n",
    "#忽略误差项，令x=1的麦克劳林展开式\n",
    "def fact(n):\n",
    "    if n==1 or n==0:\n",
    "        return 1\n",
    "    else:\n",
    "        return fact(n-1)* n\n",
    "p=0\n",
    "for i in range(n):\n",
    "    p+= fs_0[i] / fact(i) * pow(x, i)\n",
    "print(\"e约等于{:.6f}\".format(float(p.subs(x, 1))))\n",
    "\n",
    "#误差项\n",
    "r= abs(float((sympy.diff(f, x) / fact(n+1) * pow(x, n+1)).subs(x, 1)))\n",
    "print(\"误差为{}\".format(r))"
   ]
  },
  {
   "cell_type": "markdown",
   "metadata": {},
   "source": [
    "---\n",
    "ex 4.8  \n",
    "求函数$f(x)=\\sin x$的$n$阶麦克劳林展开式"
   ]
  },
  {
   "cell_type": "code",
   "execution_count": 39,
   "metadata": {},
   "outputs": [
    {
     "name": "stdout",
     "output_type": "stream",
     "text": [
      "sinx约等于\n"
     ]
    },
    {
     "data": {
      "text/latex": [
       "$\\displaystyle \\frac{x^{9}}{362880} - \\frac{x^{7}}{5040} + \\frac{x^{5}}{120} - \\frac{x^{3}}{6} + x$"
      ],
      "text/plain": [
       "x**9/362880 - x**7/5040 + x**5/120 - x**3/6 + x"
      ]
     },
     "execution_count": 39,
     "metadata": {},
     "output_type": "execute_result"
    }
   ],
   "source": [
    "import sympy\n",
    "import scipy\n",
    "from sympy.solvers import solve\n",
    "\n",
    "n=10\n",
    "x= sympy.symbols('x')\n",
    "fd= sympy.symbols(\"fd:{}\".format(n))\n",
    "f=sympy.sin(x)\n",
    "\n",
    "#求所有导数\n",
    "fs=[]\n",
    "for i in range(n):\n",
    "    fs.append(f)\n",
    "    f= sympy.diff(f, x)\n",
    "\n",
    "#求当x=0时的所有导数\n",
    "fs_0=[]\n",
    "for i in range(n):\n",
    "    fs_0.append(fs[i].subs(x, 0))\n",
    "\n",
    "#忽略误差项的麦克劳林展开式\n",
    "def fact(n):\n",
    "    if n==1 or n==0:\n",
    "        return 1\n",
    "    else:\n",
    "        return fact(n-1)*n\n",
    "p=0\n",
    "for i in range(n):\n",
    "    p+= fs_0[i] / fact(i) * pow(x, i)\n",
    "print(\"sinx约等于\")\n",
    "p"
   ]
  },
  {
   "cell_type": "code",
   "execution_count": 41,
   "metadata": {},
   "outputs": [
    {
     "name": "stdout",
     "output_type": "stream",
     "text": [
      "误差为\n"
     ]
    },
    {
     "data": {
      "text/latex": [
       "$\\displaystyle - \\frac{x^{11} \\cos{\\left(x \\right)}}{39916800}$"
      ],
      "text/plain": [
       "-x**11*cos(x)/39916800"
      ]
     },
     "execution_count": 41,
     "metadata": {},
     "output_type": "execute_result"
    }
   ],
   "source": [
    "#误差项\n",
    "r= sympy.diff(f, x) / fact(n+1) * pow(x, n+1)\n",
    "print(\"误差为\")\n",
    "r"
   ]
  },
  {
   "cell_type": "markdown",
   "metadata": {},
   "source": [
    "---\n",
    "ex 4.10  \n",
    "已知目标函数为$V(x,y,z)=xyz$，在约束条件$2xy+2xz+2yz=12$下，求体积$V$的最大值。"
   ]
  },
  {
   "cell_type": "code",
   "execution_count": 20,
   "metadata": {},
   "outputs": [
    {
     "name": "stdout",
     "output_type": "stream",
     "text": [
      "最优解为:2*sqrt(2)\n",
      "x=sqrt(2),y=sqrt(2),z=sqrt(2),lam=-sqrt(2)/4\n"
     ]
    }
   ],
   "source": [
    "import sympy\n",
    "from sympy.solvers import solve\n",
    "\n",
    "#原问题描述\n",
    "x,y,z,lam= sympy.symbols('x,y,z,lam')\n",
    "f= x * y * z\n",
    "p= 2*x*y + 2*x*z + 2*y*z - 12\n",
    "\n",
    "#构造函数\n",
    "F=f + lam*p\n",
    "\n",
    "#构造函数求偏导，列出方程组\n",
    "Fx= sympy.diff(F, x)\n",
    "Fy= sympy.diff(F, y)\n",
    "Fz= sympy.diff(F, z)\n",
    "Flam= sympy.diff(F, lam)\n",
    "Fs=[Fx, Fy, Fz, Flam]\n",
    "s=[x, y, z, lam]\n",
    "\n",
    "#求出x，y，z，lam的值\n",
    "solution= solve(Fs, s)\n",
    "solution\n",
    "\n",
    "#代入求出最优解\n",
    "f1=f.subs([(x,solution[0][0]),(y,solution[0][1]),(z,solution[0][2])])\n",
    "f2=f.subs([(x,solution[1][0]),(y,solution[1][1]),(z,solution[1][2])])\n",
    "print(\"最优解为:\",end='')\n",
    "if f1 > f2:\n",
    "    print(f1)\n",
    "    print(\"x={},y={},z={},lam={}\".format(solution[0][0],solution[0][1],solution[0][2],solution[0][3]))\n",
    "else:\n",
    "    print(f2)\n",
    "    print(\"x={},y={},z={},lam={}\".format(solution[1][0],solution[1][1],solution[1][2],solution[1][3]))"
   ]
  },
  {
   "cell_type": "markdown",
   "metadata": {},
   "source": [
    "---\n",
    "ex 4.11  \n",
    "已知目标函数为$u=x^{3}y^{2}z$，约束条件为$x+y+z=12$，求其最大值。"
   ]
  },
  {
   "cell_type": "code",
   "execution_count": 8,
   "metadata": {},
   "outputs": [
    {
     "name": "stdout",
     "output_type": "stream",
     "text": [
      "解得x=6,y=4,z=2,最大值为6912\n"
     ]
    }
   ],
   "source": [
    "import sympy\n",
    "from sympy.solvers import solve\n",
    "\n",
    "#描述原问题\n",
    "x,y,z,lam= sympy.symbols('x,y,z,lam')\n",
    "f=(x**3)*(y**2)*(z)\n",
    "p=(x)+(y)+(z)-(12)\n",
    "\n",
    "#构造函数\n",
    "F= f + lam*p\n",
    "\n",
    "#构造函数求偏导，列出方程组\n",
    "Fx= sympy.diff(F, x)\n",
    "Fy= sympy.diff(F, y)\n",
    "Fz= sympy.diff(F, z)\n",
    "Flam= sympy.diff(F, lam)\n",
    "Fs= [Fx, Fy, Fz, Flam]\n",
    "s= [x, y, z, lam]\n",
    "\n",
    "#求出x,y,z,lam的值\n",
    "solution= solve(Fs, s)\n",
    "\n",
    "#代入求出最优解\n",
    "f_max= f.subs([(x,solution[0][0]),(y,solution[0][1]),(z,solution[0][2])])\n",
    "for i in range(1,len(solution)):\n",
    "    t= f.subs([(x,solution[i][0]),(y,solution[i][1]),(z,solution[i][2])])\n",
    "    if t > f_max:\n",
    "        f_max= t\n",
    "        x_max=solution[i][0]\n",
    "        y_max=solution[i][1]\n",
    "        z_max=solution[i][2]\n",
    "print(\"解得x={},y={},z={},最大值为{}\".format(x_max,y_max,z_max,f_max))"
   ]
  },
  {
   "cell_type": "markdown",
   "metadata": {},
   "source": [
    "---\n",
    "ex 4.12  \n",
    "在第一象限内做椭球面$$\\frac{x^{2}}{a^{2}}+\\frac{y^{2}}{b^{2}}+\\frac{z^{2}}{c^{2}}=1 $$的切平面，使切平面与3个坐标面所围成的四面体体积最小，求切点坐标。"
   ]
  },
  {
   "cell_type": "code",
   "execution_count": 93,
   "metadata": {},
   "outputs": [
    {
     "name": "stdout",
     "output_type": "stream",
     "text": [
      "x=sqrt(3)*a/3,y=sqrt(3)*b/3,z=sqrt(3)*c/3,最小值为sqrt(3)*a*b*c/2\n"
     ]
    }
   ],
   "source": [
    "import sympy\n",
    "from sympy.solvers import solve\n",
    "\n",
    "#原问题描述\n",
    "#定义\n",
    "x,x0,y,y0,z,z0= sympy.symbols('x,x0,y,y0,z,z0')\n",
    "a,b,c= sympy.symbols('a:c')\n",
    "f=(x**2/a**2) + (y**2/b**2) + (z**2/c**2) - 1\n",
    "#求p(x0,y0,z0)上的偏导数\n",
    "fx= (sympy.diff(f, x)).subs(x,x0)\n",
    "fy= (sympy.diff(f, y)).subs(y,y0)\n",
    "fz= (sympy.diff(f, z)).subs(z,z0)\n",
    "#求过p(x0,y0,z0)的切平面方程,并化简\n",
    "F= sympy.expand(fx*(x-x0) + fy*(y-y0) + fz*(z-z0))/2\n",
    "F= F.subs((x0**2/a**2+ y0**2/b**2 + z0**2/c**2),1)\n",
    "#求该切平面在三个坐标轴上的截距\n",
    "x_intercept= F.subs([(y,0),(z,0)])\n",
    "x_intercept= a**2/x0 #人工纠正\n",
    "y_intercept= F.subs([(x,0),(z,0)])\n",
    "y_intercept= b**2/y0\n",
    "z_intercept= F.subs([(x,0),(y,0)])\n",
    "z_intercept= c**2/z0\n",
    "#求出目标函数V\n",
    "V=(x_intercept*y_intercept*z_intercept)/6  #如果是人工运算的话，这里两边求对数会好算些\n",
    "f0=(x0**2/a**2) + (y0**2/b**2) + (z0**2/c**2) - 1\n",
    "lam=sympy.symbols('lam')\n",
    "\n",
    "#构造函数\n",
    "Func= V + lam*f0\n",
    "\n",
    "#构造函数求偏导，并列出方程组\n",
    "Funcx= sympy.diff(Func, x0)\n",
    "Funcy= sympy.diff(Func, y0)\n",
    "Funcz= sympy.diff(Func, z0)\n",
    "Funclam= sympy.diff(Func, lam)\n",
    "Fs=[Funcx, Funcy, Funcz, Funclam]\n",
    "s=[x0, y0, z0, lam]\n",
    "\n",
    "#求出x0, y0, z0的值\n",
    "solution= solve(Fs, s)\n",
    "#代入求出最优解\n",
    "T=x0*y0*z0 #化简原函数，将求整体的最小值问题转化为求分母的最大值问题\n",
    "T_max= T.subs([(x0,solution[0][0]),(y0,solution[0][1]),(z0,solution[0][2]),(a,1),(b,1),(c,1)])  #a，b，c都是正实数，所以都用1代替，否则下面没法比较\n",
    "x_max= solution[0][0]\n",
    "y_max= solution[0][1]\n",
    "z_max= solution[0][2]\n",
    "\n",
    "for i in range(1,len(solution)):\n",
    "    t= T.subs([(x0,solution[i][0]),(y0,solution[i][1]),(z0,solution[i][2]),(a,1),(b,1),(c,1)])\n",
    "    if t >= T_max: #等于号的留否是个有待探究的问题\n",
    "        T_max= t\n",
    "        x_max= solution[i][0]\n",
    "        y_max= solution[i][1]\n",
    "        z_max= solution[i][2]\n",
    "V_min= V.subs([(x0,x_max),(y0,y_max),(z0,z_max)])\n",
    "print(\"x={},y={},z={},最小值为{}\".format(x_max,y_max,z_max,V_min))"
   ]
  },
  {
   "cell_type": "markdown",
   "metadata": {},
   "source": [
    "---\n",
    "ex 4.13  \n",
    "编程模拟实现$\\sin x$的$n$阶泰勒多项式并验证结果，假设$m=20$，$n=39$"
   ]
  },
  {
   "cell_type": "code",
   "execution_count": 88,
   "metadata": {},
   "outputs": [
    {
     "name": "stdout",
     "output_type": "stream",
     "text": [
      "x=-20时的误差：-5365.324791414636\n",
      "Numpy库的：-0.9129452507276277   自定义的：5364.411846163908\n",
      "\n",
      "\n",
      "x=-19时的误差：-667.1442621649126\n",
      "Numpy库的：-0.14987720966295234   自定义的：666.9943849552496\n",
      "\n",
      "\n",
      "x=-18时的误差：-73.98805507187768\n",
      "Numpy库的：0.7509872467716762   自定义的：74.73904231864935\n",
      "\n",
      "\n",
      "x=-17时的误差：-7.223644693188855\n",
      "Numpy库的：0.9613974918795568   自定义的：8.185042185068411\n",
      "\n",
      "\n",
      "x=-16时的误差：-0.611379289454407\n",
      "Numpy库的：0.2879033166650653   自定义的：0.8992826061194723\n",
      "\n",
      "\n",
      "x=-15时的误差：-0.04403900653366599\n",
      "Numpy库的：-0.6502878401571168   自定义的：-0.6062488336234508\n",
      "\n",
      "\n",
      "x=-14时的误差：-0.0026405735872586655\n",
      "Numpy库的：-0.9906073556948704   自定义的：-0.9879667821076117\n",
      "\n",
      "\n",
      "x=-13时的误差：-0.00012826640430391167\n",
      "Numpy库的：-0.4201670368266409   自定义的：-0.420038770422337\n",
      "\n",
      "\n",
      "x=-12时的误差：-4.880595159351131e-06\n",
      "Numpy库的：0.5365729180004349   自定义的：0.5365777985955943\n",
      "\n",
      "\n",
      "x=-11时的误差：-1.394300008783489e-07\n",
      "Numpy库的：0.9999902065507035   自定义的：0.9999903459807044\n",
      "\n",
      "\n",
      "x=-10时的误差：-2.8316786693238782e-09\n",
      "Numpy库的：0.5440211108893698   自定义的：0.5440211137210484\n",
      "\n",
      "\n",
      "x=-9时的误差：-3.790195934882945e-11\n",
      "Numpy库的：-0.4121184852417566   自定义的：-0.41211848520385463\n",
      "\n",
      "\n",
      "x=-8时的误差：-2.858824288409778e-13\n",
      "Numpy库的：-0.9893582466233818   自定义的：-0.9893582466230959\n",
      "\n",
      "\n",
      "x=-7时的误差：-3.4416913763379853e-15\n",
      "Numpy库的：-0.6569865987187891   自定义的：-0.6569865987187856\n",
      "\n",
      "\n",
      "x=-6时的误差：-3.497202527569243e-15\n",
      "Numpy库的：0.27941549819892586   自定义的：0.27941549819892936\n",
      "\n",
      "\n",
      "x=-5时的误差：2.7755575615628914e-15\n",
      "Numpy库的：0.9589242746631385   自定义的：0.9589242746631357\n",
      "\n",
      "\n",
      "x=-4时的误差：6.661338147750939e-16\n",
      "Numpy库的：0.7568024953079282   自定义的：0.7568024953079275\n",
      "\n",
      "\n",
      "x=-3时的误差：-1.1102230246251565e-16\n",
      "Numpy库的：-0.1411200080598672   自定义的：-0.1411200080598671\n",
      "\n",
      "\n",
      "x=-2时的误差：0.0\n",
      "Numpy库的：-0.9092974268256817   自定义的：-0.9092974268256817\n",
      "\n",
      "\n",
      "x=-1时的误差：0.0\n",
      "Numpy库的：-0.8414709848078965   自定义的：-0.8414709848078965\n",
      "\n",
      "\n",
      "x=0时的误差：0.0\n",
      "Numpy库的：0.0   自定义的：0.0\n",
      "\n",
      "\n",
      "x=1时的误差：0.0\n",
      "Numpy库的：0.8414709848078965   自定义的：0.8414709848078965\n",
      "\n",
      "\n",
      "x=2时的误差：0.0\n",
      "Numpy库的：0.9092974268256817   自定义的：0.9092974268256817\n",
      "\n",
      "\n",
      "x=3时的误差：1.1102230246251565e-16\n",
      "Numpy库的：0.1411200080598672   自定义的：0.1411200080598671\n",
      "\n",
      "\n",
      "x=4时的误差：-6.661338147750939e-16\n",
      "Numpy库的：-0.7568024953079282   自定义的：-0.7568024953079275\n",
      "\n",
      "\n",
      "x=5时的误差：-2.7755575615628914e-15\n",
      "Numpy库的：-0.9589242746631385   自定义的：-0.9589242746631357\n",
      "\n",
      "\n",
      "x=6时的误差：3.497202527569243e-15\n",
      "Numpy库的：-0.27941549819892586   自定义的：-0.27941549819892936\n",
      "\n",
      "\n",
      "x=7时的误差：3.4416913763379853e-15\n",
      "Numpy库的：0.6569865987187891   自定义的：0.6569865987187856\n",
      "\n",
      "\n",
      "x=8时的误差：2.858824288409778e-13\n",
      "Numpy库的：0.9893582466233818   自定义的：0.9893582466230959\n",
      "\n",
      "\n",
      "x=9时的误差：3.790195934882945e-11\n",
      "Numpy库的：0.4121184852417566   自定义的：0.41211848520385463\n",
      "\n",
      "\n",
      "x=10时的误差：2.8316786693238782e-09\n",
      "Numpy库的：-0.5440211108893698   自定义的：-0.5440211137210484\n",
      "\n",
      "\n",
      "x=11时的误差：1.394300008783489e-07\n",
      "Numpy库的：-0.9999902065507035   自定义的：-0.9999903459807044\n",
      "\n",
      "\n",
      "x=12时的误差：4.880595159351131e-06\n",
      "Numpy库的：-0.5365729180004349   自定义的：-0.5365777985955943\n",
      "\n",
      "\n",
      "x=13时的误差：0.00012826640430391167\n",
      "Numpy库的：0.4201670368266409   自定义的：0.420038770422337\n",
      "\n",
      "\n",
      "x=14时的误差：0.0026405735872586655\n",
      "Numpy库的：0.9906073556948704   自定义的：0.9879667821076117\n",
      "\n",
      "\n",
      "x=15时的误差：0.04403900653366599\n",
      "Numpy库的：0.6502878401571168   自定义的：0.6062488336234508\n",
      "\n",
      "\n",
      "x=16时的误差：0.611379289454407\n",
      "Numpy库的：-0.2879033166650653   自定义的：-0.8992826061194723\n",
      "\n",
      "\n",
      "x=17时的误差：7.223644693188855\n",
      "Numpy库的：-0.9613974918795568   自定义的：-8.185042185068411\n",
      "\n",
      "\n",
      "x=18时的误差：73.98805507187768\n",
      "Numpy库的：-0.7509872467716762   自定义的：-74.73904231864935\n",
      "\n",
      "\n",
      "x=19时的误差：667.1442621649126\n",
      "Numpy库的：0.14987720966295234   自定义的：-666.9943849552496\n",
      "\n",
      "\n"
     ]
    }
   ],
   "source": [
    "#书本原代码\n",
    "def fsin(x):\n",
    "    m=20\n",
    "    sum=0.0\n",
    "    for i in range(1,m+1):\n",
    "        n= 2*i - 1\n",
    "        t1, t2, t3= 1, 1, 1\n",
    "        for j in range(1, i):\n",
    "            t1= -t1\n",
    "        for j in range(1, n+1):\n",
    "            t2= t2*x\n",
    "            t3= t3*j\n",
    "        sum= sum+ t1*t2/t3\n",
    "    return sum\n",
    "\n",
    "from numpy import *\n",
    "for x in range(-20, 20):\n",
    "    print(\"x={}时的误差：{}\\nNumpy库的：{}   自定义的：{}\\n\\n\".format(x,sin(x)-fsin(x),sin(x),fsin(x)))"
   ]
  },
  {
   "cell_type": "markdown",
   "metadata": {},
   "source": [
    "---\n",
    "课后习题\n",
    "1. 求$$\\lim_{x \\to 0} {(\\frac{\\sin x-x\\cos x}{\\sin^{3} x})}$$"
   ]
  },
  {
   "cell_type": "code",
   "execution_count": 92,
   "metadata": {},
   "outputs": [
    {
     "data": {
      "text/latex": [
       "$\\displaystyle -\\infty$"
      ],
      "text/plain": [
       "-oo"
      ]
     },
     "execution_count": 92,
     "metadata": {},
     "output_type": "execute_result"
    }
   ],
   "source": [
    "import sympy\n",
    "\n",
    "x=sympy.symbols('x')\n",
    "f=sympy.sin(x)-x*sympy.cos(x) / (sympy.sin(x))**3\n",
    "sympy.limit(f, x, 0)"
   ]
  }
 ],
 "metadata": {
  "kernelspec": {
   "display_name": "Python 3.9.12 ('base')",
   "language": "python",
   "name": "python3"
  },
  "language_info": {
   "codemirror_mode": {
    "name": "ipython",
    "version": 3
   },
   "file_extension": ".py",
   "mimetype": "text/x-python",
   "name": "python",
   "nbconvert_exporter": "python",
   "pygments_lexer": "ipython3",
   "version": "3.9.12"
  },
  "orig_nbformat": 4,
  "vscode": {
   "interpreter": {
    "hash": "a4f385f22347421055792fc979c9466e694c4cd728743b19e9db4ebd3910237c"
   }
  }
 },
 "nbformat": 4,
 "nbformat_minor": 2
}
