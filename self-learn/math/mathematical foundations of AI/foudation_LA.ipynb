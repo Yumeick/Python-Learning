{
 "cells": [
  {
   "cell_type": "markdown",
   "metadata": {},
   "source": [
    "## **线性代数基础**"
   ]
  },
  {
   "cell_type": "markdown",
   "metadata": {},
   "source": [
    "### 线性代数基础基于Python的实现"
   ]
  },
  {
   "cell_type": "markdown",
   "metadata": {},
   "source": [
    "---\n",
    "---\n",
    "#### 矩阵的创建"
   ]
  },
  {
   "cell_type": "markdown",
   "metadata": {},
   "source": [
    "##### 直接定义"
   ]
  },
  {
   "cell_type": "markdown",
   "metadata": {},
   "source": [
    "`np.array(参数)  `  \n",
    "参数：**二维列表或者元组**"
   ]
  },
  {
   "cell_type": "code",
   "execution_count": 36,
   "metadata": {},
   "outputs": [
    {
     "name": "stdout",
     "output_type": "stream",
     "text": [
      "arrA=\n",
      "[[1 2 3]\n",
      " [4 5 6]\n",
      " [7 8 9]]\n",
      "arrB=\n",
      "[[1 2 3]\n",
      " [4 5 6]\n",
      " [7 8 9]]\n"
     ]
    }
   ],
   "source": [
    "import numpy as np\n",
    "A=[[1,2,3],[4,5,6],[7,8,9]] #列表\n",
    "B=((1,2,3),(4,5,6),(7,8,9)) #元组\n",
    "arrA=np.array(A)\n",
    "arrB=np.array(B)\n",
    "print(\"arrA=\\n{}\".format(arrA))\n",
    "print(\"arrB=\\n{}\".format(arrB))"
   ]
  },
  {
   "cell_type": "markdown",
   "metadata": {},
   "source": [
    "矩阵信息的获取  \n",
    "行数和列数：`shape`属性或者`np.shape(参数)  `  \n",
    "参数：**矩阵**  \n",
    "  \n",
    "类型:`type()`"
   ]
  },
  {
   "cell_type": "code",
   "execution_count": 37,
   "metadata": {},
   "outputs": [
    {
     "name": "stdout",
     "output_type": "stream",
     "text": [
      "A的属性：<class 'list'>\n",
      "arrA的属性:<class 'numpy.ndarray'>\n",
      "arrA的大小：(3, 3)\n",
      "arrA的大小：(3, 3)\n"
     ]
    }
   ],
   "source": [
    "print(\"A的属性：{}\".format(type(A)))\n",
    "print(\"arrA的属性:{}\".format(type(arrA)))\n",
    "print(\"arrA的大小：{}\".format(arrA.shape))\n",
    "print(\"arrA的大小：{}\".format(np.shape(arrA)))"
   ]
  },
  {
   "cell_type": "markdown",
   "metadata": {},
   "source": [
    "以表格形式显示矩阵的内容  \n",
    "`pd.DataFrame(matrix)`"
   ]
  },
  {
   "cell_type": "code",
   "execution_count": 38,
   "metadata": {},
   "outputs": [
    {
     "data": {
      "text/html": [
       "<div>\n",
       "<style scoped>\n",
       "    .dataframe tbody tr th:only-of-type {\n",
       "        vertical-align: middle;\n",
       "    }\n",
       "\n",
       "    .dataframe tbody tr th {\n",
       "        vertical-align: top;\n",
       "    }\n",
       "\n",
       "    .dataframe thead th {\n",
       "        text-align: right;\n",
       "    }\n",
       "</style>\n",
       "<table border=\"1\" class=\"dataframe\">\n",
       "  <thead>\n",
       "    <tr style=\"text-align: right;\">\n",
       "      <th></th>\n",
       "      <th>0</th>\n",
       "      <th>1</th>\n",
       "      <th>2</th>\n",
       "    </tr>\n",
       "  </thead>\n",
       "  <tbody>\n",
       "    <tr>\n",
       "      <th>0</th>\n",
       "      <td>1</td>\n",
       "      <td>2</td>\n",
       "      <td>3</td>\n",
       "    </tr>\n",
       "    <tr>\n",
       "      <th>1</th>\n",
       "      <td>4</td>\n",
       "      <td>5</td>\n",
       "      <td>6</td>\n",
       "    </tr>\n",
       "    <tr>\n",
       "      <th>2</th>\n",
       "      <td>7</td>\n",
       "      <td>8</td>\n",
       "      <td>9</td>\n",
       "    </tr>\n",
       "  </tbody>\n",
       "</table>\n",
       "</div>"
      ],
      "text/plain": [
       "   0  1  2\n",
       "0  1  2  3\n",
       "1  4  5  6\n",
       "2  7  8  9"
      ]
     },
     "execution_count": 38,
     "metadata": {},
     "output_type": "execute_result"
    }
   ],
   "source": [
    "import numpy as np \n",
    "import pandas as pd\n",
    "pd.DataFrame(arrA)"
   ]
  },
  {
   "cell_type": "markdown",
   "metadata": {},
   "source": [
    "---\n",
    "##### 间接创建"
   ]
  },
  {
   "cell_type": "markdown",
   "metadata": {},
   "source": [
    "随机生成矩阵元素\n",
    "1. `np.random.random(参数)  `  \n",
    "参数：**元组**  \n",
    "若元组为(d0,d1,...,dn)，则生成$\\left [ 0,1 \\right )$区间的$n$为维浮点~~数组~~矩阵；  \n",
    "若元组为(d0,d1)，则生成$\\text{d0} \\times \\text{d1}$阶矩阵  \n",
    "2. `np.random.randint(low, high=None, size=None, dtype='I')`  \n",
    "- 若`high=None`，则生成随机数范围是$\\left [ 0,\\text{low}  \\right ) $  \n",
    "否则范围是$\\left [ \\text{low},\\text{high}  \\right )$  \n",
    "- `size=[d0,d1]`，则生成$\\text{d0}\\times\\text{d1}$阶的矩阵\n",
    "- `dtype`为数据类型，默认为np.int\n",
    " "
   ]
  },
  {
   "cell_type": "code",
   "execution_count": 39,
   "metadata": {},
   "outputs": [
    {
     "name": "stdout",
     "output_type": "stream",
     "text": [
      "[[[0.86506395 0.69897602 0.54097832]\n",
      "  [0.74527431 0.80395849 0.08592888]]]\n",
      "[[0.69990184 0.52253652 0.96460442]\n",
      " [0.45816972 0.1869911  0.52582338]\n",
      " [0.54926951 0.97283471 0.08056014]]\n",
      "[[475 188 239]\n",
      " [524 325 263]\n",
      " [580 127 209]]\n"
     ]
    }
   ],
   "source": [
    "import numpy as np\n",
    "\n",
    "ranA= np.random.random((1,2,3))\n",
    "ranB= np.random.random((3,3))\n",
    "print(ranA)\n",
    "print(ranB)\n",
    "\n",
    "ranC= np.random.randint(low=30, high=648, size=[3,3], dtype='I')\n",
    "print(ranC)"
   ]
  },
  {
   "cell_type": "markdown",
   "metadata": {},
   "source": [
    "改变矩阵的大小  \n",
    "`reshape(参数)`  \n",
    "参数：一个正整数的元组`（行数，列数）`,元组的括号可以省略    \n",
    "若行数或者列数中有一个 **-1**，该函数则会自动根据另一个参数计算出 **-1** 的具体数值"
   ]
  },
  {
   "cell_type": "code",
   "execution_count": 40,
   "metadata": {},
   "outputs": [
    {
     "name": "stdout",
     "output_type": "stream",
     "text": [
      "[[1 2 3]\n",
      " [4 5 6]\n",
      " [7 8 9]]\n"
     ]
    }
   ],
   "source": [
    "newA=arrA.reshape((3,-1))\n",
    "print(newA)"
   ]
  },
  {
   "cell_type": "markdown",
   "metadata": {},
   "source": [
    "---\n",
    "##### 矩阵元素的存取操作"
   ]
  },
  {
   "cell_type": "markdown",
   "metadata": {},
   "source": [
    "取整行`arr[i,:]` 其中 **,:** 可以省略  \n",
    "取整列`arr[:,j]` 其中 **:,** 不可以省略\n",
    "- 范围选取：例如要选取第0行到第1行(可以理解为$\\left [ 0,2  \\right ) $)`arr[0:2,:]`\n",
    "- 特定行/列选取：例如要选取第0行跟第2行`arr[[0,2],:]`"
   ]
  },
  {
   "cell_type": "code",
   "execution_count": 41,
   "metadata": {},
   "outputs": [
    {
     "name": "stdout",
     "output_type": "stream",
     "text": [
      "arrA的第0行元素:\n",
      "[1 2 3]\n",
      "arrA的第2列元素:\n",
      "[3 6 9]\n",
      "arrA的第0到1行元素:\n",
      "[[1 2 3]\n",
      " [4 5 6]]\n",
      "arrA的第0和2行元素:\n",
      "[[1 2 3]\n",
      " [7 8 9]]\n"
     ]
    }
   ],
   "source": [
    "print(\"arrA的第0行元素:\\n{}\".format(arrA[0,:]))\n",
    "print(\"arrA的第2列元素:\\n{}\".format(arrA[:,2]))\n",
    "\n",
    "print(\"arrA的第0到1行元素:\\n{}\".format(arrA[0:2,:]))\n",
    "print(\"arrA的第0和2行元素:\\n{}\".format(arrA[[0,2],:]))"
   ]
  },
  {
   "cell_type": "markdown",
   "metadata": {},
   "source": [
    "---\n",
    "##### Numpy相关函数"
   ]
  },
  {
   "cell_type": "markdown",
   "metadata": {},
   "source": [
    "1. 等差数列： `np.arange(start, stop, step, dtype=None)`  \n",
    "范围：$\\left [ \\text{start} ,\\text{stop}  \\right ) $  \n",
    "步长：step  \n",
    "输出：**一维数组**，最好再转化为向量或者矩阵"
   ]
  },
  {
   "cell_type": "code",
   "execution_count": 69,
   "metadata": {},
   "outputs": [
    {
     "name": "stdout",
     "output_type": "stream",
     "text": [
      "A=[0 1 2 3 4 5 6 7 8 9]\n"
     ]
    }
   ],
   "source": [
    "import numpy as np\n",
    "A= np.arange(0, 10, 1)\n",
    "print(\"A={}\".format(A))"
   ]
  },
  {
   "cell_type": "markdown",
   "metadata": {},
   "source": [
    "2. 等差数列： `np.linspace(start, stop, num=50, endpoint=True, retstep=False, dtype=None)`  \n",
    "范围：$\\left [ \\text{start} ,\\text{stop}  \\right ] $  \n",
    "若`endpoint=False`，则范围变为 $\\left [ \\text{start} ,\\text{stop}  \\right ) $  \n",
    "数组长度：`num`  \n",
    "输出：**一维数组**  \n",
    "返回步长：`retstep=True`  \n"
   ]
  },
  {
   "cell_type": "code",
   "execution_count": 70,
   "metadata": {},
   "outputs": [
    {
     "name": "stdout",
     "output_type": "stream",
     "text": [
      "A=[0. 1. 2. 3. 4. 5. 6. 7. 8. 9.]\n",
      "step=1.0\n"
     ]
    }
   ],
   "source": [
    "import numpy as np \n",
    "A= np.linspace(0, 10, 10, False, True)\n",
    "print(\"A={}\\nstep={}\".format(A[0],A[1]))"
   ]
  },
  {
   "cell_type": "markdown",
   "metadata": {},
   "source": [
    "3. 等比序列：`np.logspace(start, stop, num=50, endpoint=True, base=10, dtype=None)`  \n",
    "范围：$\\left [ \\text{start} ,\\text{stop}  \\right ] $  \n",
    "若`endpoint=False`，则范围变为 $\\left [ \\text{start} ,\\text{stop}  \\right ) $  \n",
    "数组长度：`num`  \n",
    "输出：**一维数组**  \n",
    "指数：`base`  "
   ]
  },
  {
   "cell_type": "code",
   "execution_count": 78,
   "metadata": {},
   "outputs": [
    {
     "name": "stdout",
     "output_type": "stream",
     "text": [
      "A=[   2.    4.    8.   16.   32.   64.  128.  256.  512. 1024.]\n"
     ]
    }
   ],
   "source": [
    "import numpy as np\n",
    "A= np.logspace(1,10,10,base=2)\n",
    "print(\"A={}\".format(A))"
   ]
  },
  {
   "cell_type": "markdown",
   "metadata": {},
   "source": [
    "4. 计算数组的最大值、最小值、和、平均值、中值  \n",
    "\n",
    "|参数`axis`|默认（整个矩阵）|列方向|行方向|\n",
    "|:---:|:---:|:---:|:---:|\n",
    "|取值|None|0|1|\n",
    "\n",
    "最大值：`matrix.max(axis)`  \n",
    "最小值：`matrix.min(axis)`  \n",
    "最值的位置：`matrix.argmax(axis)`  \n",
    "和：`matrix.sum(axis)`  \n",
    "平均值：`matrix.mean(axis)`  \n",
    "中值：`np.median(matrix, axis)`  "
   ]
  },
  {
   "cell_type": "code",
   "execution_count": null,
   "metadata": {},
   "outputs": [],
   "source": [
    "#ex 5.2"
   ]
  },
  {
   "cell_type": "markdown",
   "metadata": {},
   "source": [
    "---\n",
    "---\n",
    "#### 向量的创建"
   ]
  },
  {
   "cell_type": "markdown",
   "metadata": {},
   "source": [
    "用创建矩阵的方式来创建向量"
   ]
  },
  {
   "cell_type": "markdown",
   "metadata": {},
   "source": [
    "---\n",
    "---\n",
    "#### 特殊矩阵"
   ]
  },
  {
   "cell_type": "markdown",
   "metadata": {},
   "source": [
    "##### 零矩阵"
   ]
  },
  {
   "cell_type": "markdown",
   "metadata": {},
   "source": [
    "`np.zeros(参数)`  \n",
    "参数： **元组**`(行数,列数)`"
   ]
  },
  {
   "cell_type": "code",
   "execution_count": 42,
   "metadata": {},
   "outputs": [
    {
     "name": "stdout",
     "output_type": "stream",
     "text": [
      "arr0=\n",
      "[[0. 0. 0.]\n",
      " [0. 0. 0.]\n",
      " [0. 0. 0.]]\n"
     ]
    }
   ],
   "source": [
    "import numpy as np\n",
    "arr0= np.zeros((3,3))\n",
    "print(\"arr0=\\n{}\".format(arr0))"
   ]
  },
  {
   "cell_type": "markdown",
   "metadata": {},
   "source": [
    "---\n",
    "##### 方阵"
   ]
  },
  {
   "cell_type": "markdown",
   "metadata": {},
   "source": [
    "行列数相等的矩阵"
   ]
  },
  {
   "cell_type": "markdown",
   "metadata": {},
   "source": [
    "---\n",
    "##### 单位矩阵"
   ]
  },
  {
   "cell_type": "markdown",
   "metadata": {},
   "source": [
    "1. `np.eye(参数)`  \n",
    "参数：**行列数**  \n",
    "2. `np.identity(参数)`  \n",
    "参数：**行列数**\n"
   ]
  },
  {
   "cell_type": "code",
   "execution_count": 43,
   "metadata": {},
   "outputs": [
    {
     "name": "stdout",
     "output_type": "stream",
     "text": [
      "E1=\n",
      "[[1. 0. 0.]\n",
      " [0. 1. 0.]\n",
      " [0. 0. 1.]]\n",
      "E2=\n",
      "[[1. 0. 0.]\n",
      " [0. 1. 0.]\n",
      " [0. 0. 1.]]\n"
     ]
    }
   ],
   "source": [
    "import numpy as np\n",
    "E1= np.eye(3)\n",
    "E2= np.identity(3)\n",
    "print(\"E1=\\n{}\".format(E1))\n",
    "print(\"E2=\\n{}\".format(E2))"
   ]
  },
  {
   "cell_type": "markdown",
   "metadata": {},
   "source": [
    "---\n",
    "##### 对角矩阵"
   ]
  },
  {
   "cell_type": "markdown",
   "metadata": {},
   "source": [
    "1. 创建对角矩阵或获取对角线元素  \n",
    "`np.diag(参数)`  \n",
    "参数：\n",
    "- 创建对角矩阵：**对角线元素**，以元组或者列表的形式\n",
    "- 获取对角线元素：**方阵或矩阵**\n",
    "2. 根据已有矩阵的对角线元素生成对角矩阵  \n",
    "`np.diag(np.diag(参数))`  \n",
    "参数:**方阵**"
   ]
  },
  {
   "cell_type": "code",
   "execution_count": 44,
   "metadata": {},
   "outputs": [
    {
     "name": "stdout",
     "output_type": "stream",
     "text": [
      "arr_diag1=\n",
      "[[1 0 0]\n",
      " [0 2 0]\n",
      " [0 0 3]]\n",
      "arr_diag2=\n",
      "[1 5 9]\n",
      "arr_diag3=\n",
      "[[1 0 0]\n",
      " [0 5 0]\n",
      " [0 0 9]]\n"
     ]
    }
   ],
   "source": [
    "import numpy as np\n",
    "\n",
    "#1.1\n",
    "a=[1, 2, 3]\n",
    "arr_diag1= np.diag(a)\n",
    "print(\"arr_diag1=\\n{}\".format(arr_diag1))\n",
    "\n",
    "#1.2\n",
    "arr_diag2= np.diag(arrA)\n",
    "print(\"arr_diag2=\\n{}\".format(arr_diag2))\n",
    "\n",
    "#2\n",
    "arr_diag3= np.diag(np.diag(arrA))\n",
    "print(\"arr_diag3=\\n{}\".format(arr_diag3))"
   ]
  },
  {
   "cell_type": "markdown",
   "metadata": {},
   "source": [
    "---\n",
    "##### 上三角矩阵"
   ]
  },
  {
   "cell_type": "markdown",
   "metadata": {},
   "source": [
    "`np.triu(matrix, k)`  \n",
    "- **matrix**：矩阵  \n",
    "- **k**：类型  \n",
    "\n",
    "|k|结果|\n",
    "|:---:|:---:|\n",
    "|0|含对角线|\n",
    "|1|不含对角线|"
   ]
  },
  {
   "cell_type": "code",
   "execution_count": 45,
   "metadata": {},
   "outputs": [
    {
     "name": "stdout",
     "output_type": "stream",
     "text": [
      "arr_u1=\n",
      "[[1 2 3]\n",
      " [0 5 6]\n",
      " [0 0 9]]\n",
      "arr_u2=\n",
      "[[0 2 3]\n",
      " [0 0 6]\n",
      " [0 0 0]]\n"
     ]
    }
   ],
   "source": [
    "import numpy as np\n",
    "arr_u1= np.triu(arrA, 0)\n",
    "arr_u2= np.triu(arrA, 1)\n",
    "print(\"arr_u1=\\n{}\".format(arr_u1))\n",
    "print(\"arr_u2=\\n{}\".format(arr_u2))"
   ]
  },
  {
   "cell_type": "markdown",
   "metadata": {},
   "source": [
    "---\n",
    "##### 下三角矩阵"
   ]
  },
  {
   "cell_type": "markdown",
   "metadata": {},
   "source": [
    "`np.tril(matrix, k)`  \n",
    "- **matrix**：矩阵  \n",
    "- **k**：类型  \n",
    "\n",
    "|k|结果|\n",
    "|:---:|:---:|\n",
    "|0|含对角线|\n",
    "|-1|不含对角线|"
   ]
  },
  {
   "cell_type": "code",
   "execution_count": 46,
   "metadata": {},
   "outputs": [
    {
     "name": "stdout",
     "output_type": "stream",
     "text": [
      "arr_l1=\n",
      "[[1 0 0]\n",
      " [4 5 0]\n",
      " [7 8 9]]\n",
      "arr_l2=\n",
      "[[0 0 0]\n",
      " [4 0 0]\n",
      " [7 8 0]]\n"
     ]
    }
   ],
   "source": [
    "import numpy as np\n",
    "arr_l1= np.tril(arrA, 0)\n",
    "arr_l2= np.tril(arrA, -1)\n",
    "print(\"arr_l1=\\n{}\".format(arr_l1))\n",
    "print(\"arr_l2=\\n{}\".format(arr_l2))"
   ]
  },
  {
   "cell_type": "markdown",
   "metadata": {},
   "source": [
    "---\n",
    "##### 对称矩阵"
   ]
  },
  {
   "cell_type": "markdown",
   "metadata": {},
   "source": [
    "关于主对角线对称的矩阵"
   ]
  },
  {
   "cell_type": "markdown",
   "metadata": {},
   "source": [
    "1. 创建对称矩阵：利用上三角矩阵"
   ]
  },
  {
   "cell_type": "code",
   "execution_count": 47,
   "metadata": {},
   "outputs": [
    {
     "name": "stdout",
     "output_type": "stream",
     "text": [
      "arr_sym=\n",
      "[[1 2 3]\n",
      " [2 5 6]\n",
      " [3 6 9]]\n"
     ]
    }
   ],
   "source": [
    "import numpy as np\n",
    "arr_sym= np.triu(arrA, 1)+ np.triu(arrA, 0).T\n",
    "print(\"arr_sym=\\n{}\".format(arr_sym))"
   ]
  },
  {
   "cell_type": "markdown",
   "metadata": {},
   "source": [
    "2. 对称矩阵的判定：利用矩阵相等"
   ]
  },
  {
   "cell_type": "code",
   "execution_count": 48,
   "metadata": {},
   "outputs": [
    {
     "name": "stdout",
     "output_type": "stream",
     "text": [
      "arrA是否为对称矩阵：False\n"
     ]
    }
   ],
   "source": [
    "import numpy as np\n",
    "print(\"arrA是否为对称矩阵：{}\".format(np.allclose(arrA,arrA.T)))"
   ]
  },
  {
   "cell_type": "markdown",
   "metadata": {},
   "source": [
    "---\n",
    "##### 同型矩阵"
   ]
  },
  {
   "cell_type": "markdown",
   "metadata": {},
   "source": [
    "行数和列数都相等的两个矩阵"
   ]
  },
  {
   "cell_type": "markdown",
   "metadata": {},
   "source": [
    "---\n",
    "##### 矩阵相等"
   ]
  },
  {
   "cell_type": "markdown",
   "metadata": {},
   "source": [
    "两个矩阵行列数相等且对应位置的元素都一样  \n",
    "`np.allclose(matrix1, matrix2)`"
   ]
  },
  {
   "cell_type": "code",
   "execution_count": 49,
   "metadata": {},
   "outputs": [
    {
     "name": "stdout",
     "output_type": "stream",
     "text": [
      "arrA与arrB是否相等：True\n"
     ]
    }
   ],
   "source": [
    "import numpy as np\n",
    "print(\"arrA与arrB是否相等：{}\".format(np.allclose(arrA, arrB)))"
   ]
  },
  {
   "cell_type": "markdown",
   "metadata": {},
   "source": [
    "---\n",
    "---\n",
    "#### 矩阵的基本操作"
   ]
  },
  {
   "cell_type": "markdown",
   "metadata": {},
   "source": [
    "---\n",
    "##### 矩阵的加减法运算"
   ]
  },
  {
   "cell_type": "markdown",
   "metadata": {},
   "source": [
    "运算前先判断是否为同型矩阵"
   ]
  },
  {
   "cell_type": "markdown",
   "metadata": {},
   "source": [
    "---\n",
    "##### 矩阵的数乘运算"
   ]
  },
  {
   "cell_type": "markdown",
   "metadata": {},
   "source": [
    "$$\\lambda \\cdot \\bf A=\\bf A \\cdot  \\lambda =\\begin{bmatrix}\n",
    "  \\lambda a_{11} & \\lambda a_{12} & \\cdots & \\lambda a_{1n} \\\\\n",
    "  \\lambda a_{21} & \\lambda a_{22} & \\cdots & \\lambda a_{2n} \\\\\n",
    "  \\vdots  & \\vdots &  & \\vdots \\\\\n",
    "  \\lambda a_{m1} & \\lambda a_{m2} & \\cdots & \\lambda a_{mn} \n",
    "\\end{bmatrix}$$"
   ]
  },
  {
   "cell_type": "markdown",
   "metadata": {},
   "source": [
    "---\n",
    "##### 矩阵的乘法"
   ]
  },
  {
   "cell_type": "markdown",
   "metadata": {},
   "source": [
    "1. array类型\n",
    "- `np.dot(matrix1, matrix2)`\n",
    "- `matrix1.dot(matrix2)`\n",
    "- `np.matmul(matrix1, matrix2)`  \n",
    "\n",
    "2. array类型：两个同型矩阵中对应元素的相乘\n",
    "- `np.multiply(matrix1, matrix2)`\n",
    "- `matrix1 * matrix2`\n",
    "\n",
    "3. matrix类型\n",
    "- 前三种跟array类型一样\n",
    "- `matrix1 * matrix2`\n",
    "\n",
    "4. matrix类型：两个同型矩阵中对应元素的相乘\n",
    "- 跟array类型的对应相乘的第一种一样"
   ]
  },
  {
   "cell_type": "code",
   "execution_count": 50,
   "metadata": {},
   "outputs": [
    {
     "name": "stdout",
     "output_type": "stream",
     "text": [
      "matrix类型是矩阵乘法：\n",
      "[[1 2 3]\n",
      " [4 5 6]\n",
      " [7 8 9]]\n",
      "*\n",
      "[[1 2 3]\n",
      " [4 5 6]\n",
      " [7 8 9]]\n",
      "=\n",
      "[[ 30  36  42]\n",
      " [ 66  81  96]\n",
      " [102 126 150]]\n",
      "array类型是对应元素相乘：\n",
      "[[1 2 3]\n",
      " [4 5 6]\n",
      " [7 8 9]]\n",
      "*\n",
      "[[1 2 3]\n",
      " [4 5 6]\n",
      " [7 8 9]]\n",
      "=\n",
      "[[ 1  4  9]\n",
      " [16 25 36]\n",
      " [49 64 81]]\n"
     ]
    }
   ],
   "source": [
    "import numpy as np\n",
    "\n",
    "matA= np.matrix(arrA)\n",
    "matB= np.matrix(arrB)\n",
    "\n",
    "print(\"matrix类型是矩阵乘法：\\n{}\\n*\\n{}\\n=\\n{}\".format(matA,matB,matA*matB))\n",
    "print(\"array类型是对应元素相乘：\\n{}\\n*\\n{}\\n=\\n{}\".format(arrA,arrB,arrA*arrB))"
   ]
  },
  {
   "cell_type": "markdown",
   "metadata": {},
   "source": [
    "---\n",
    "##### 矩阵与向量的乘法"
   ]
  },
  {
   "cell_type": "markdown",
   "metadata": {},
   "source": [
    "注意行列数的规范  \n",
    "$$\\bf {A}_{mn} \\times {a}_{n1}=b_{m1}$$\n",
    "$$\\bf a_{1m} \\times A_{mn}=b_{1n}$$"
   ]
  },
  {
   "cell_type": "markdown",
   "metadata": {},
   "source": [
    "---\n",
    "##### 矩阵的乘方"
   ]
  },
  {
   "cell_type": "markdown",
   "metadata": {},
   "source": [
    "**只有方阵才能进行矩阵的乘方运算**"
   ]
  },
  {
   "cell_type": "markdown",
   "metadata": {},
   "source": [
    "1. array类型  \n",
    "- 多次`np.dot(matrix1, matrix2)`  \n",
    "Tips: `matrix**n` 得到每个元素的n次方，所以不要求是方阵\n",
    "\n",
    "2. matrix类型\n",
    "- `matrix**n`"
   ]
  },
  {
   "cell_type": "code",
   "execution_count": 51,
   "metadata": {},
   "outputs": [
    {
     "name": "stdout",
     "output_type": "stream",
     "text": [
      "arrA的2次方：\n",
      "[[ 30  36  42]\n",
      " [ 66  81  96]\n",
      " [102 126 150]]\n",
      "arrA中所有元素的2次方：\n",
      "[[ 1  4  9]\n",
      " [16 25 36]\n",
      " [49 64 81]]\n",
      "matA的2次方：\n",
      "[[ 30  36  42]\n",
      " [ 66  81  96]\n",
      " [102 126 150]]\n"
     ]
    }
   ],
   "source": [
    "import numpy as np\n",
    "\n",
    "print(\"arrA的2次方：\\n{}\".format(arrA.dot(arrA)))\n",
    "print(\"arrA中所有元素的2次方：\\n{}\".format(arrA**2))\n",
    "print(\"matA的2次方：\\n{}\".format(matA**2))"
   ]
  },
  {
   "cell_type": "markdown",
   "metadata": {},
   "source": [
    "---\n",
    "---\n",
    "#### 转置矩阵和逆矩阵"
   ]
  },
  {
   "cell_type": "markdown",
   "metadata": {},
   "source": [
    "##### 转置矩阵"
   ]
  },
  {
   "cell_type": "markdown",
   "metadata": {},
   "source": [
    "- `np.transpose(matrix)`\n",
    "- `matrix.T`"
   ]
  },
  {
   "cell_type": "code",
   "execution_count": 52,
   "metadata": {},
   "outputs": [
    {
     "name": "stdout",
     "output_type": "stream",
     "text": [
      "方法一：\n",
      "[[1 4 7]\n",
      " [2 5 8]\n",
      " [3 6 9]]\n",
      "方法二：\n",
      "[[1 4 7]\n",
      " [2 5 8]\n",
      " [3 6 9]]\n"
     ]
    }
   ],
   "source": [
    "import numpy as np\n",
    "print(\"方法一：\\n{}\".format(np.transpose(arrA)))\n",
    "print(\"方法二：\\n{}\".format(arrA.T))"
   ]
  },
  {
   "cell_type": "markdown",
   "metadata": {},
   "source": [
    "---\n",
    "##### 逆矩阵"
   ]
  },
  {
   "cell_type": "markdown",
   "metadata": {},
   "source": [
    "1. array类型  \n",
    "- `np.linalg.inv(matrix)`\n",
    "\n",
    "2. matrix类型\n",
    "- `matrix.I`"
   ]
  },
  {
   "cell_type": "code",
   "execution_count": 53,
   "metadata": {},
   "outputs": [
    {
     "name": "stdout",
     "output_type": "stream",
     "text": [
      "inv()：\n",
      "[[-4.50359963e+15  9.00719925e+15 -4.50359963e+15]\n",
      " [ 9.00719925e+15 -1.80143985e+16  9.00719925e+15]\n",
      " [-4.50359963e+15  9.00719925e+15 -4.50359963e+15]]\n",
      "I属性：\n",
      "[[-4.50359963e+15  9.00719925e+15 -4.50359963e+15]\n",
      " [ 9.00719925e+15 -1.80143985e+16  9.00719925e+15]\n",
      " [-4.50359963e+15  9.00719925e+15 -4.50359963e+15]]\n"
     ]
    }
   ],
   "source": [
    "import numpy as np\n",
    "print(\"inv()：\\n{}\".format(np.linalg.inv(arrA)))\n",
    "print(\"I属性：\\n{}\".format(np.matrix(arrA).I))"
   ]
  },
  {
   "cell_type": "markdown",
   "metadata": {},
   "source": [
    "---\n",
    "---\n",
    "#### 行列式"
   ]
  },
  {
   "cell_type": "markdown",
   "metadata": {},
   "source": [
    "##### 行列式的计算"
   ]
  },
  {
   "cell_type": "markdown",
   "metadata": {},
   "source": [
    "`np.linalg.det(matrix)`"
   ]
  },
  {
   "cell_type": "code",
   "execution_count": 54,
   "metadata": {},
   "outputs": [
    {
     "name": "stdout",
     "output_type": "stream",
     "text": [
      "det(arrA)：\n",
      "6.66133814775094e-16\n"
     ]
    }
   ],
   "source": [
    "import numpy as np \n",
    "\n",
    "print(\"det(arrA)：\\n{}\".format(np.linalg.det(arrA)))"
   ]
  },
  {
   "cell_type": "markdown",
   "metadata": {},
   "source": [
    "---\n",
    "---\n",
    "#### 秩"
   ]
  },
  {
   "cell_type": "markdown",
   "metadata": {},
   "source": [
    "##### 矩阵秩的计算"
   ]
  },
  {
   "cell_type": "markdown",
   "metadata": {},
   "source": [
    "`np.linalg.matrix_rank(matrix)`"
   ]
  },
  {
   "cell_type": "code",
   "execution_count": 55,
   "metadata": {},
   "outputs": [
    {
     "name": "stdout",
     "output_type": "stream",
     "text": [
      "matA的秩：\n",
      "2\n"
     ]
    }
   ],
   "source": [
    "print(\"matA的秩：\\n{}\".format(np.linalg.matrix_rank(matA)))"
   ]
  },
  {
   "cell_type": "markdown",
   "metadata": {},
   "source": [
    "---\n",
    "---\n",
    "#### 内积与正交"
   ]
  },
  {
   "cell_type": "markdown",
   "metadata": {},
   "source": [
    "##### 向量的内积"
   ]
  },
  {
   "cell_type": "markdown",
   "metadata": {},
   "source": [
    "$$\\bf a_{1n} \\cdot b_{n1}$$"
   ]
  },
  {
   "cell_type": "markdown",
   "metadata": {},
   "source": [
    "`np.dot(vector1,vector2)`"
   ]
  },
  {
   "cell_type": "code",
   "execution_count": 56,
   "metadata": {},
   "outputs": [
    {
     "name": "stdout",
     "output_type": "stream",
     "text": [
      "[1 4 7] * [1 2 3].T = 30\n"
     ]
    }
   ],
   "source": [
    "import numpy as np\n",
    "vec1= arrA[:,0]\n",
    "vec2= arrA[0,:]\n",
    "print(\"{} * {}.T = {}\".format(vec1,vec2,vec1.dot(vec2)))"
   ]
  },
  {
   "cell_type": "markdown",
   "metadata": {},
   "source": [
    "---\n",
    "##### 向量的长度"
   ]
  },
  {
   "cell_type": "markdown",
   "metadata": {},
   "source": [
    "`np.linalg.norm(vector)`"
   ]
  },
  {
   "cell_type": "code",
   "execution_count": 57,
   "metadata": {},
   "outputs": [
    {
     "name": "stdout",
     "output_type": "stream",
     "text": [
      "||vec1||=8.12403840463596\n"
     ]
    }
   ],
   "source": [
    "import numpy as np\n",
    "print(\"||vec1||={}\".format(np.linalg.norm(vec1)))"
   ]
  },
  {
   "cell_type": "markdown",
   "metadata": {},
   "source": [
    "利用向量的内积和长度求两个向量夹角的余弦值  \n",
    "$$\\cos \\theta =\\frac{[\\vec{x},\\vec{y}]}{\\left \\| \\vec{x} \\right \\| \\times \\left \\| \\vec{y} \\right \\| } $$"
   ]
  },
  {
   "cell_type": "markdown",
   "metadata": {},
   "source": [
    "---\n",
    "##### 向量的正交"
   ]
  },
  {
   "cell_type": "markdown",
   "metadata": {},
   "source": [
    "向量相互垂直，即内积为0"
   ]
  },
  {
   "cell_type": "markdown",
   "metadata": {},
   "source": [
    "---\n",
    "##### 标准正交基"
   ]
  },
  {
   "cell_type": "markdown",
   "metadata": {},
   "source": [
    "线性无关且向量两两垂直"
   ]
  },
  {
   "cell_type": "markdown",
   "metadata": {},
   "source": [
    "对原浮点数进行四舍五入： `np.round(matrix, 0)`"
   ]
  },
  {
   "cell_type": "markdown",
   "metadata": {},
   "source": [
    "---\n",
    "---\n",
    "---\n",
    "### 应用"
   ]
  },
  {
   "cell_type": "markdown",
   "metadata": {},
   "source": [
    "##### ex 5.2  \n",
    "编号为1~4的4个学生选修了A~E共5门课，每个学生每门课的成绩对应下表。\n",
    "|编号|A|B|C|D|E|\n",
    "|:---:|:---:|:---:|:---:|:---:|:---:|\n",
    "|1|80|75|75|78|83|\n",
    "|2|98|70|85|84|90|\n",
    "|3|90|75|90|90|95|\n",
    "|4|88|70|82|80|82|  \n",
    "\n",
    "求每个学生的平均分、最高分和最低分以及每门课的平均分、最高分和最低分。并且求出每门课的分数分布情况。"
   ]
  },
  {
   "cell_type": "code",
   "execution_count": 58,
   "metadata": {},
   "outputs": [
    {
     "name": "stdout",
     "output_type": "stream",
     "text": [
      "同学1的平均分：78.2，最高分：83，最低分：75\n",
      "同学2的平均分：85.4，最高分：98，最低分：70\n",
      "同学3的平均分：88.0，最高分：95，最低分：75\n",
      "同学4的平均分：80.4，最高分：88，最低分：70\n",
      "\n",
      "科目A的平均分：89.0，最高分：98，最低分：80\n",
      "科目B的平均分：72.5，最高分：75，最低分：70\n",
      "科目C的平均分：83.0，最高分：90，最低分：75\n",
      "科目D的平均分：83.0，最高分：90，最低分：78\n",
      "科目E的平均分：87.5，最高分：95，最低分：82\n"
     ]
    }
   ],
   "source": [
    "import numpy as np\n",
    "import sympy\n",
    "\n",
    "A=np.array([[80,75,75,78,83],[98,70,85,84,90],[90,75,90,90,95],[88,70,82,80,82]])\n",
    "mean=list(sympy.symbols('mean:{}'.format(len(A))))\n",
    "max=list(sympy.symbols('max:{}'.format(len(A))))\n",
    "min=list(sympy.symbols('min:{}'.format(len(A))))\n",
    "#每个学生的平均分\n",
    "for i in range(len(A)):\n",
    "    sum= 0\n",
    "    Amax=A[i,0]\n",
    "    Amin=A[i,0]\n",
    "    for j in range(len(A[i])):\n",
    "        sum+= A[i,j]/len(A[i])\n",
    "        if A[i,j] > Amax:\n",
    "            Amax=A[i,j]\n",
    "        elif A[i,j] < Amin:\n",
    "            Amin=A[i,j]\n",
    "    mean[i]=sum\n",
    "    max[i]=Amax\n",
    "    min[i]=Amin\n",
    "pl=[print(\"同学{}的平均分：{}，最高分：{}，最低分：{}\".format((i+1), mean[i], max[i], min[i])) for i in range(len(A))]\n",
    "print()\n",
    "\n",
    "#每门课的平均分\n",
    "a=list(sympy.symbols('A:E'))\n",
    "mean=list(sympy.symbols('mean:{}'.format(len(A[0]))))\n",
    "max=list(sympy.symbols('max:{}'.format(len(A[0]))))\n",
    "min=list(sympy.symbols('min:{}'.format(len(A[0]))))\n",
    "for j in range(len(A[0])):\n",
    "    sum=0\n",
    "    Amax=A[0,j]\n",
    "    Amin=A[0,j]\n",
    "    for i in range(len(A)):\n",
    "        sum+= A[i,j]/ len(A)\n",
    "        if A[i,j] > Amax:\n",
    "            Amax= A[i,j]\n",
    "        elif A[i,j] < Amin:\n",
    "            Amin= A[i,j]\n",
    "    mean[j]=sum\n",
    "    max[j]=Amax\n",
    "    min[j]=Amin\n",
    "pl=[print(\"科目{}的平均分：{}，最高分：{}，最低分：{}\".format(a[j], mean[j], max[j], min[j])) for j in range(len(A[0]))]"
   ]
  },
  {
   "cell_type": "code",
   "execution_count": 95,
   "metadata": {},
   "outputs": [
    {
     "name": "stdout",
     "output_type": "stream",
     "text": [
      "学生1的平均分：78.2， 最高分：83， 最低分：75\n",
      "学生2的平均分：85.4， 最高分：98， 最低分：70\n",
      "学生3的平均分：88.0， 最高分：95， 最低分：75\n",
      "学生4的平均分：80.4， 最高分：88， 最低分：70\n",
      "\n",
      "科目A的平均分：89.0， 最高分：98， 最低分：80\n",
      "科目B的平均分：72.5， 最高分：75， 最低分：70\n",
      "科目C的平均分：83.0， 最高分：90， 最低分：75\n",
      "科目D的平均分：83.0， 最高分：90， 最低分：78\n",
      "科目E的平均分：87.5， 最高分：95， 最低分：82\n"
     ]
    }
   ],
   "source": [
    "#Numpy函数法\n",
    "import sympy as sp\n",
    "import numpy as np\n",
    "import pandas as pd\n",
    "A=np.array([[80,75,75,78,83],[98,70,85,84,90],[90,75,90,90,95],[88,70,82,80,82]])\n",
    "\n",
    "stu_mean= A.mean(1)\n",
    "stu_max= A.max(1)\n",
    "stu_min= A.min(1)\n",
    "stu= [print(\"学生{}的平均分：{}， 最高分：{}， 最低分：{}\".format((i+1), stu_mean[i], stu_max[i], stu_min[i])) for i in range(len(stu_mean))]\n",
    "\n",
    "print()\n",
    "sym_les= sp.symbols(\"A:E\")\n",
    "les_mean= A.mean(0)\n",
    "les_max= A.max(0)\n",
    "les_min= A.min(0)\n",
    "les= [print(\"科目{}的平均分：{}， 最高分：{}， 最低分：{}\".format(sym_les[i], les_mean[i], les_max[i], les_min[i])) for i in range(len(les_mean))]"
   ]
  },
  {
   "cell_type": "markdown",
   "metadata": {},
   "source": [
    "---\n",
    "#### ex 5.16\n",
    "表1 不同商店3种水果的价格\n",
    "|商店水果价格|商店A|商店B|\n",
    "|:---:|:---:|:---:|\n",
    "|苹果|8.5|9|\n",
    "|橘子|4.5|4|\n",
    "|梨|9|9.5|\n",
    "\n",
    "表2 不同人员需要水果的数量\n",
    "|人员需要水果数量|苹果|橘子|梨|\n",
    "|:---:|:---:|:---:|:---:|\n",
    "|人员A|5|10|3|\n",
    "|人员B|4|5|5|\n",
    "\n",
    "表3 不同城镇不同人员的数目\n",
    "|城镇人员数目|人员A|人员B|\n",
    "|:---:|:---:|:---:|\n",
    "|城镇1|1000|500|\n",
    "|城镇2|2000|1000|\n",
    "\n",
    "1. 计算在每个商店中每个人购买水果的费用\n",
    "2. 计算在每个城镇中每种水果的购买量"
   ]
  },
  {
   "cell_type": "code",
   "execution_count": 59,
   "metadata": {},
   "outputs": [
    {
     "name": "stdout",
     "output_type": "stream",
     "text": [
      "每个商店中每个人购买水果的费用:\n",
      "[[114.5 113.5]\n",
      " [101.5 103.5]]\n",
      "计算在每个城镇中每种水果的购买量\n",
      "[[ 7000 12500  5500]\n",
      " [14000 25000 11000]]\n"
     ]
    }
   ],
   "source": [
    "import numpy as np\n",
    "\n",
    "A=np.matrix([[8.5, 9], [4.5, 4] , [9, 9.5]])\n",
    "B=np.matrix([[5, 10, 3], [4, 5, 5]])\n",
    "C=np.matrix([[1000, 500], [2000, 1000]])\n",
    "\n",
    "#1\n",
    "D= B.dot(A)\n",
    "print(\"每个商店中每个人购买水果的费用:\\n{}\".format(D))\n",
    "\n",
    "#2\n",
    "E=C.dot(B)\n",
    "print(\"计算在每个城镇中每种水果的购买量\\n{}\".format(E))"
   ]
  },
  {
   "cell_type": "markdown",
   "metadata": {},
   "source": [
    "---\n",
    "#### ex 5.17  \n",
    "将某线性系统用下面的线性方程组表示，求未知量$x$、$y$、$z$，并验证结果\n",
    "$$\\left\\{\\begin{matrix}\n",
    "  x+2y+z=7 \\\\\n",
    "  2x-y+3z=7 \\\\\n",
    "  3x+y+2z=18\n",
    "\\end{matrix}\\right.$$"
   ]
  },
  {
   "cell_type": "code",
   "execution_count": 60,
   "metadata": {},
   "outputs": [
    {
     "name": "stdout",
     "output_type": "stream",
     "text": [
      "系数矩阵A的秩：3\n",
      "增广矩阵(A,B)的秩：3\n",
      "增广矩阵(A,B)：\n",
      "[[ 1  2  1  7]\n",
      " [ 2 -1  3  7]\n",
      " [ 3  1  2 18]]\n"
     ]
    }
   ],
   "source": [
    "import numpy as np\n",
    "\n",
    "#定义 \n",
    "A= np.matrix([[1, 2, 1], [2, -1, 3], [3, 1, 2]])    #系数矩阵\n",
    "B= np.matrix([7, 7, 18]).T  #常数项矩阵\n",
    "\n",
    "#求系数矩阵A的秩 和 增广矩阵(A,B)的秩\n",
    "AB= np.hstack((A,B))\n",
    "print(\"系数矩阵A的秩：{}\\n增广矩阵(A,B)的秩：{}\".format(np.linalg.matrix_rank(A), np.linalg.matrix_rank(AB)))\n",
    "print(\"增广矩阵(A,B)：\\n{}\".format(AB))\n"
   ]
  },
  {
   "cell_type": "code",
   "execution_count": 61,
   "metadata": {},
   "outputs": [
    {
     "name": "stdout",
     "output_type": "stream",
     "text": [
      "方法一\n",
      "未知数矩阵X：\n",
      "[[ 7.]\n",
      " [ 1.]\n",
      " [-2.]]\n",
      "B和A*X是否相等：True\n"
     ]
    }
   ],
   "source": [
    "#方法一：\n",
    "print(\"方法一\")\n",
    "#未知数矩阵X = 系数矩阵A的逆矩阵 * 常数项矩阵\n",
    "A_inv= np.linalg.inv(A)\n",
    "X= A_inv.dot(B)\n",
    "print(\"未知数矩阵X：\\n{}\".format(X))\n",
    "\n",
    "#用allclose()函数检验\n",
    "print(\"B和A*X是否相等：{}\".format(np.allclose(B,A.dot(X))))"
   ]
  },
  {
   "cell_type": "code",
   "execution_count": 62,
   "metadata": {},
   "outputs": [
    {
     "name": "stdout",
     "output_type": "stream",
     "text": [
      "方法二：\n",
      "未知数矩阵X：\n",
      "[[ 7.]\n",
      " [ 1.]\n",
      " [-2.]]\n",
      "B和A*X是否相等：True\n"
     ]
    }
   ],
   "source": [
    "#方法二：\n",
    "print(\"方法二：\")\n",
    "#np.linalg.solve()\n",
    "X= np.linalg.solve(A, B)    #A必须是非奇异矩阵\n",
    "print(\"未知数矩阵X：\\n{}\".format(X))\n",
    "\n",
    "#验证\n",
    "print(\"B和A*X是否相等：{}\".format(np.allclose(B,A.dot(X))))"
   ]
  },
  {
   "cell_type": "code",
   "execution_count": 63,
   "metadata": {},
   "outputs": [
    {
     "name": "stdout",
     "output_type": "stream",
     "text": [
      "方法三：\n",
      "结果：{x: 7, y: 1, z: -2}\n"
     ]
    }
   ],
   "source": [
    "#方法三：\n",
    "print(\"方法三：\")\n",
    "#Sympy库的solve()函数\n",
    "from sympy import *\n",
    "x, y, z= symbols('x,y,z')\n",
    "eq= [x+2*y+z-7, 2*x-y+3*z-7, 3*x+y+2*z-18]\n",
    "solution= solve(eq, [x, y, z])\n",
    "print(\"结果：{}\".format(solution))"
   ]
  },
  {
   "cell_type": "markdown",
   "metadata": {},
   "source": [
    "解方程\n",
    "$$\\left\\{\\begin{matrix}\n",
    "  x+2y+z-2w=0 \\\\\n",
    "  2x+3y-w=0 \\\\\n",
    "  x-y-5z+7w=0\n",
    "\\end{matrix}\\right.$$"
   ]
  },
  {
   "cell_type": "code",
   "execution_count": 64,
   "metadata": {},
   "outputs": [
    {
     "name": "stdout",
     "output_type": "stream",
     "text": [
      "系数矩阵A的秩：2\n"
     ]
    }
   ],
   "source": [
    "import numpy as np\n",
    "\n",
    "#定义\n",
    "A= np.matrix([[1, 2, 1, -2], [2, 3, 0, -1], [1, -1, -5, 7]])    #系数矩阵\n",
    "print(\"系数矩阵A的秩：{}\".format(np.linalg.matrix_rank(A)))"
   ]
  },
  {
   "cell_type": "code",
   "execution_count": 65,
   "metadata": {},
   "outputs": [
    {
     "name": "stdout",
     "output_type": "stream",
     "text": [
      "结果是：{x: -4*w + 3*z, y: 3*w - 2*z}\n",
      "x=-5.0, y=4.0, z=1, w=2\n"
     ]
    }
   ],
   "source": [
    "from sympy import *\n",
    "\n",
    "x, y, z, w= symbols('x,y,z,w')\n",
    "eq= [x+2*y+z-2*w, 2*x+3*y-w, x-y-5*z+7*w]\n",
    "solution= solve(eq, [x, y, z, w])\n",
    "print(\"结果是：{}\".format(solution))\n",
    "\n",
    "#赋值\n",
    "A={z:1, w:2}\n",
    "x= float(solution[x].subs(A))\n",
    "y= float(solution[y].subs(A))\n",
    "print(\"x={}, y={}, z={}, w={}\".format(x, y, A[z], A[w]))"
   ]
  },
  {
   "cell_type": "markdown",
   "metadata": {},
   "source": [
    "---\n",
    "#### ex 5.18  \n",
    "**获取数据集的数据**"
   ]
  },
  {
   "cell_type": "markdown",
   "metadata": {},
   "source": [
    "1. 从文件中读入数据"
   ]
  },
  {
   "cell_type": "markdown",
   "metadata": {},
   "source": [
    "2. 将数据转化成矩阵的形式"
   ]
  },
  {
   "cell_type": "markdown",
   "metadata": {},
   "source": [
    "3. 对样本数据和类别标签进行分离"
   ]
  },
  {
   "cell_type": "code",
   "execution_count": 66,
   "metadata": {},
   "outputs": [
    {
     "name": "stdout",
     "output_type": "stream",
     "text": [
      "数据集中的样本数为150，列数为5\n",
      "数据集的第0个样本\n",
      "[5.8 4.1 1.6 0.1]\n",
      "数据集的属性值类型：<class 'float'>\n",
      "数据集的类型标签值类型：<class 'str'>\n"
     ]
    }
   ],
   "source": [
    "#方法1：用pandas导入文本文件\n",
    "import pandas as pd\n",
    "import numpy as np\n",
    "\n",
    "# 读取文件\n",
    "dataset= pd.read_csv(\"iris.csv\")\n",
    "\n",
    "# 将数据转化为矩阵的形式\n",
    "data= np.array(dataset)\n",
    "\n",
    "# 获取数据和标签\n",
    "X_data= data[:,:-1]\n",
    "Y_data= data[:,-1]\n",
    "\n",
    "#(查看相关信息)\n",
    "print(\"数据集中的样本数为{}，列数为{}\".format(data.shape[0], data.shape[1]))\n",
    "data_0= X_data[0]\n",
    "print(\"数据集的第0个样本\\n{}\".format(data_0))\n",
    "print(\"数据集的属性值类型：{}\".format(type(X_data[1,0])))\n",
    "print(\"数据集的类型标签值类型：{}\".format(type(Y_data[1])))"
   ]
  },
  {
   "cell_type": "code",
   "execution_count": 67,
   "metadata": {},
   "outputs": [
    {
     "name": "stdout",
     "output_type": "stream",
     "text": [
      "数据集中的样本数为150，列数为5\n",
      "数据集的第0个样本\n",
      "[5.8 4.1 1.6 0.1]\n",
      "数据集的属性值类型：<class 'numpy.float64'>\n",
      "数据集的类型标签值类型：<class 'numpy.str_'>\n"
     ]
    }
   ],
   "source": [
    "#方法二： 用Numpy的loadtxt()函数或者genfromtxt()函数\n",
    "#genfromtxt()函数：面向结构化数组和确实数据\n",
    "#loadtxt()函数：默认读入的数据类型是float，如果数据中存在str，则需要让参数dtype=np.str;参数skiprows设置数据从哪行开始\n",
    "import numpy as np\n",
    "\n",
    "# 读取文件\n",
    "data= np.loadtxt('iris.csv', delimiter=\",\", dtype=np.str_, skiprows=1)  #不保留标题行\n",
    "\n",
    "# 获取数据和标签\n",
    "X_data= data[:,:-1].astype('float') #如果保留标题行，行数从1开始\n",
    "Y_data= data[:,-1]\n",
    "\n",
    "#(查看相关信息)\n",
    "print(\"数据集中的样本数为{}，列数为{}\".format(data.shape[0], data.shape[1]))\n",
    "data_0= X_data[0]\n",
    "print(\"数据集的第0个样本\\n{}\".format(data_0))\n",
    "print(\"数据集的属性值类型：{}\".format(type(X_data[1,0])))\n",
    "print(\"数据集的类型标签值类型：{}\".format(type(Y_data[1])))"
   ]
  },
  {
   "cell_type": "code",
   "execution_count": 68,
   "metadata": {},
   "outputs": [
    {
     "name": "stdout",
     "output_type": "stream",
     "text": [
      "数据集中的样本数为151，列数为5\n",
      "数据集的第0个样本\n",
      "[5.8 4.1 1.6 0.1]\n",
      "数据集的属性值类型：<class 'numpy.float64'>\n",
      "数据集的类型标签值类型：<class 'numpy.str_'>\n"
     ]
    }
   ],
   "source": [
    "#方法3： 原始方式\n",
    "import numpy as np\n",
    "\n",
    "# 读取数据\n",
    "dataset= [(line.split(',') ) for line in open(\"iris.csv\")]\n",
    "\n",
    "# 将数据转化为矩阵的形式\n",
    "data= np.array(dataset)\n",
    "\n",
    "# 获取数据和标签\n",
    "X_data= np.array([[float(x) for x in line[:-1]] for line in data[1:]])\n",
    "Y_data= np.array([x.strip('\\n') for x in data[1:,-1]])\n",
    "\n",
    "#(查看相关信息)\n",
    "print(\"数据集中的样本数为{}，列数为{}\".format(data.shape[0], data.shape[1]))\n",
    "data_0= X_data[0]\n",
    "print(\"数据集的第0个样本\\n{}\".format(data_0))\n",
    "print(\"数据集的属性值类型：{}\".format(type(X_data[1,0])))\n",
    "print(\"数据集的类型标签值类型：{}\".format(type(Y_data[1])))"
   ]
  },
  {
   "cell_type": "markdown",
   "metadata": {},
   "source": [
    "---\n",
    "---\n",
    "---\n",
    "### 课后习题"
   ]
  },
  {
   "cell_type": "markdown",
   "metadata": {},
   "source": [
    "#### 1. 分别用三种方法求如下线性方程组的解  \n",
    "$$\\left\\{\\begin{matrix}\n",
    " x+y+z=2\\\\\n",
    " x+2y+4z=3\\\\\n",
    " x+3y+9z=5\n",
    "\\end{matrix}\\right.$$"
   ]
  },
  {
   "cell_type": "code",
   "execution_count": 103,
   "metadata": {},
   "outputs": [
    {
     "name": "stdout",
     "output_type": "stream",
     "text": [
      "系数矩阵A和增广矩阵的(A,B)的秩是否相等：True\n"
     ]
    }
   ],
   "source": [
    "import numpy as np\n",
    "A= np.matrix([[1, 1, 1], [1, 2, 4], [1, 3, 9]])\n",
    "B= np.matrix([2, 3, 5]).T\n",
    "AB= np.hstack((A, B))\n",
    "print(\"系数矩阵A和增广矩阵的(A,B)的秩是否相等：{}\".format((np.linalg.matrix_rank(A))==(np.linalg.matrix_rank(AB))))"
   ]
  },
  {
   "cell_type": "code",
   "execution_count": 106,
   "metadata": {},
   "outputs": [
    {
     "name": "stdout",
     "output_type": "stream",
     "text": [
      "X=A_inv*B=\n",
      "[[ 2. ]\n",
      " [-0.5]\n",
      " [ 0.5]]\n",
      "验证A*X是否等于B：True\n"
     ]
    }
   ],
   "source": [
    "#方法一\n",
    "A_inv= np.linalg.inv(A)\n",
    "X =A_inv.dot(B)\n",
    "print(\"X=A_inv*B=\\n{}\".format(X))\n",
    "print(\"验证A*X是否等于B：{}\".format(np.allclose(A.dot(X), B)))"
   ]
  },
  {
   "cell_type": "code",
   "execution_count": 107,
   "metadata": {},
   "outputs": [
    {
     "name": "stdout",
     "output_type": "stream",
     "text": [
      "X=A_inv*B=\n",
      "[[ 2. ]\n",
      " [-0.5]\n",
      " [ 0.5]]\n",
      "验证A*X是否等于B：True\n"
     ]
    }
   ],
   "source": [
    "#方法二：\n",
    "X= np.linalg.solve(A, B)\n",
    "print(\"X=A_inv*B=\\n{}\".format(X))\n",
    "print(\"验证A*X是否等于B：{}\".format(np.allclose(A.dot(X), B)))"
   ]
  },
  {
   "cell_type": "markdown",
   "metadata": {},
   "source": [
    "$$\\left\\{\\begin{matrix}\n",
    " x+y+z=2\\\\\n",
    " x+2y+4z=3\\\\\n",
    " x+3y+9z=5\n",
    "\\end{matrix}\\right.$$"
   ]
  },
  {
   "cell_type": "code",
   "execution_count": 110,
   "metadata": {},
   "outputs": [
    {
     "name": "stdout",
     "output_type": "stream",
     "text": [
      "x=2, y=-1/2, z=1/2\n"
     ]
    }
   ],
   "source": [
    "#方法三：\n",
    "from sympy import *\n",
    "\n",
    "x, y, z= symbols('x:z')\n",
    "eq= [x+y+z-2, x+2*y+4*z-3, x+3*y+9*z-5]\n",
    "solution= solve(eq, [x, y, z])\n",
    "print(\"x={}, y={}, z={}\".format(solution[x], solution[y], solution[z]))"
   ]
  },
  {
   "cell_type": "markdown",
   "metadata": {},
   "source": [
    "---\n",
    "#### ２. 分别创建 $3\\times4$ 阶和 $4\\times5$ 阶的矩阵，元素值为 $1$~$20$ 的随机整数，计算这两个矩阵的相加、乘积，求这两个矩阵的秩"
   ]
  },
  {
   "cell_type": "code",
   "execution_count": 54,
   "metadata": {},
   "outputs": [
    {
     "name": "stdout",
     "output_type": "stream",
     "text": [
      "A=\n",
      "[[ 8  5  4 16]\n",
      " [11 17 19 19]\n",
      " [13 14  7  7]]\n",
      "B=\n",
      "[[ 4 14 19  9 16]\n",
      " [17  1 12 13 11]\n",
      " [18 18  8 17 14]\n",
      " [12 10 12 11  1]]\n",
      "A+B=None\n",
      "A*B=\n",
      "[[381 349 436 381 255]\n",
      " [903 703 793 852 648]\n",
      " [500 392 555 495 467]]\n",
      "rank_A=3\n",
      "rank_B=4\n"
     ]
    }
   ],
   "source": [
    "import numpy as np\n",
    "\n",
    "A= np.random.randint(1, 20, (3,4))\n",
    "B= np.random.randint(1, 20, (4,5))\n",
    "if A.shape == B.shape:\n",
    "    AB_and= A + B\n",
    "else:\n",
    "    AB_and= None\n",
    "AB_mul= A.dot(B)\n",
    "rank_A= np.linalg.matrix_rank(A)\n",
    "rank_B= np.linalg.matrix_rank(B)\n",
    "print(\"A=\\n{}\\nB=\\n{}\\nA+B={}\\nA*B=\\n{}\\nrank_A={}\\nrank_B={}\".format(A, B, AB_and, AB_mul, rank_A, rank_B))"
   ]
  },
  {
   "cell_type": "markdown",
   "metadata": {},
   "source": [
    "---\n",
    "#### 3. 求下面矩阵的逆矩阵，求逆矩阵之前要先求行列式，行列式不为0时逆矩阵存在，之后在进行求逆操作。  \n",
    "$$\\bf A=\\begin{bmatrix}\n",
    " 1 & 2 & 3\\\\\n",
    " 2 & 2 & 1\\\\\n",
    " 3 & 4 & 3\n",
    "\\end{bmatrix}$$"
   ]
  },
  {
   "cell_type": "code",
   "execution_count": 61,
   "metadata": {},
   "outputs": [
    {
     "name": "stdout",
     "output_type": "stream",
     "text": [
      "A的逆矩阵是否存在：True\n",
      "A的逆矩阵为：\n",
      "[[ 1.   3.  -2. ]\n",
      " [-1.5 -3.   2.5]\n",
      " [ 1.   1.  -1. ]]\n",
      "验证：True\n"
     ]
    }
   ],
   "source": [
    "import numpy as np\n",
    "\n",
    "A= np.matrix([[1, 2, 3], [2, 2, 1], [3, 4, 3]])\n",
    "det_A= np.linalg.det(A)\n",
    "print(\"A的逆矩阵是否存在：{}\".format(det_A!=0))\n",
    "A_inv= np.linalg.inv(A)\n",
    "print(\"A的逆矩阵为：\\n{}\".format(A_inv))\n",
    "print(\"验证：{}\".format(np.allclose(A.dot(A_inv), np.eye(A.shape[0],A.shape[1]))))"
   ]
  },
  {
   "cell_type": "markdown",
   "metadata": {},
   "source": [
    "---\n",
    "#### 4. 分别创建四阶零矩阵和四阶单位矩阵，以及对角线元素分别为 $1, 2, 3, 4$ 的对角矩阵。"
   ]
  },
  {
   "cell_type": "code",
   "execution_count": 68,
   "metadata": {},
   "outputs": [
    {
     "name": "stdout",
     "output_type": "stream",
     "text": [
      "四阶零矩阵：\n",
      "[[0. 0. 0. 0.]\n",
      " [0. 0. 0. 0.]\n",
      " [0. 0. 0. 0.]\n",
      " [0. 0. 0. 0.]]\n",
      "四阶单位矩阵：\n",
      "[[1. 0. 0. 0.]\n",
      " [0. 1. 0. 0.]\n",
      " [0. 0. 1. 0.]\n",
      " [0. 0. 0. 1.]]\n",
      "对角矩阵：\n",
      "[[1 0 0 0]\n",
      " [0 2 0 0]\n",
      " [0 0 3 0]\n",
      " [0 0 0 4]]\n"
     ]
    }
   ],
   "source": [
    "import numpy as np\n",
    "\n",
    "Zero= np.zeros((4,4))\n",
    "Eye= np.eye(4)\n",
    "Diag= np.diag([1, 2, 3, 4])\n",
    "print(\"四阶零矩阵：\\n{}\\n四阶单位矩阵：\\n{}\\n对角矩阵：\\n{}\".format(Zero, Eye, Diag))"
   ]
  },
  {
   "cell_type": "markdown",
   "metadata": {},
   "source": [
    "---\n",
    "#### 5. 创建一个四阶方阵，元素值为 $1$~$20$ 的随机浮点数，根据其上三角和下三角矩阵，分别创建对应的对称矩阵。"
   ]
  },
  {
   "cell_type": "code",
   "execution_count": 105,
   "metadata": {},
   "outputs": [
    {
     "name": "stdout",
     "output_type": "stream",
     "text": [
      "上三角矩阵的对称矩阵：\n",
      "[[ 8.65665363 14.50521017  9.99025207 10.69112443]\n",
      " [14.50521017 11.23272485  3.01849015 12.41810065]\n",
      " [ 9.99025207  3.01849015 16.08408762 13.88100402]\n",
      " [10.69112443 12.41810065 13.88100402 13.43689347]]\n",
      "下三角矩阵的对称矩阵：\n",
      "[[ 8.65665363 10.62193845 14.92407263  1.28103483]\n",
      " [10.62193845 11.23272485 16.6070416  18.33634152]\n",
      " [14.92407263 16.6070416  16.08408762 18.19060746]\n",
      " [ 1.28103483 18.33634152 18.19060746 13.43689347]]\n"
     ]
    }
   ],
   "source": [
    "import numpy as np\n",
    "\n",
    "A=np.random.uniform(1, 20, (4,4))\n",
    "A_u0= np.triu(A)\n",
    "A_u1= np.triu(A, k=1)\n",
    "A_symu= A_u0 + A_u1.T\n",
    "\n",
    "A_l0= np.tril(A)\n",
    "A_l1= np.tril(A, k=-1)\n",
    "A_syml= A_l0 + A_l1.T\n",
    "\n",
    "print(\"上三角矩阵的对称矩阵：\\n{}\\n下三角矩阵的对称矩阵：\\n{}\".format(A_symu, A_syml))"
   ]
  }
 ],
 "metadata": {
  "kernelspec": {
   "display_name": "Python 3.9.12 ('base')",
   "language": "python",
   "name": "python3"
  },
  "language_info": {
   "codemirror_mode": {
    "name": "ipython",
    "version": 3
   },
   "file_extension": ".py",
   "mimetype": "text/x-python",
   "name": "python",
   "nbconvert_exporter": "python",
   "pygments_lexer": "ipython3",
   "version": "3.9.12"
  },
  "orig_nbformat": 4,
  "vscode": {
   "interpreter": {
    "hash": "a4f385f22347421055792fc979c9466e694c4cd728743b19e9db4ebd3910237c"
   }
  }
 },
 "nbformat": 4,
 "nbformat_minor": 2
}
