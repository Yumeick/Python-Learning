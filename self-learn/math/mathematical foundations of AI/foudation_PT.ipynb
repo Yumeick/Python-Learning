{
 "cells": [
  {
   "cell_type": "markdown",
   "metadata": {},
   "source": [
    "## **概率论基础**"
   ]
  },
  {
   "cell_type": "markdown",
   "metadata": {},
   "source": [
    "---\n",
    "---\n",
    "---"
   ]
  },
  {
   "cell_type": "markdown",
   "metadata": {},
   "source": [
    "### 概率论基础基于Python的实现"
   ]
  },
  {
   "cell_type": "markdown",
   "metadata": {},
   "source": [
    "---\n",
    "---\n",
    "#### 概率与频率"
   ]
  },
  {
   "cell_type": "markdown",
   "metadata": {},
   "source": [
    "##### 抛硬币试验"
   ]
  },
  {
   "cell_type": "code",
   "execution_count": 5,
   "metadata": {},
   "outputs": [
    {
     "name": "stdout",
     "output_type": "stream",
     "text": [
      "抛1次硬币中正面朝上的次数：6.0\n",
      "抛10次硬币中正面朝上的次数：5.0\n",
      "抛100次硬币中正面朝上的次数：4.98\n",
      "抛1000次硬币中正面朝上的次数：4.985\n",
      "抛10000次硬币中正面朝上的次数：4.9891\n"
     ]
    }
   ],
   "source": [
    "import random\n",
    "\n",
    "def coin_trail():   #模拟抛10次硬币\n",
    "    heads=0\n",
    "    for i in range(10):\n",
    "        if random.random()<=0.5:\n",
    "            heads+= 1\n",
    "    return heads\n",
    "\n",
    "def simulate(n):\n",
    "    trails= []\n",
    "    for i in range(n):\n",
    "        trails.append(coin_trail())\n",
    "    return (sum(trails)/n)\n",
    "\n",
    "print_list= [print(\"抛{}次硬币中正面朝上的次数：{}\".format((10**i), simulate(pow(10, i)))) for i in range(5)]"
   ]
  },
  {
   "cell_type": "markdown",
   "metadata": {},
   "source": [
    "---\n",
    "---\n",
    "#### 古典概型"
   ]
  },
  {
   "cell_type": "markdown",
   "metadata": {},
   "source": [
    "事件A发生的概率$$P(A)=\\frac{k}{n} $$  \n",
    "$k$：事件A中包含的基本事件$\\omega$的个数  \n",
    "$n$：样本空间中包含的基本事件$\\omega$的个数"
   ]
  },
  {
   "cell_type": "markdown",
   "metadata": {},
   "source": [
    "---\n",
    "---\n",
    "#### 条件概率"
   ]
  },
  {
   "cell_type": "markdown",
   "metadata": {},
   "source": [
    "设A，B为随机事件，且$P(A)>0$\n",
    "$$P(B\\mid A)=\\frac{P(AB)}{P(A)}=\\frac{n(AB)}{n(A)} $$\n",
    "$$P(AB)=\\frac{n(AB)}{n(\\Omega)}$$  \n",
    "$\\Omega$：全样本空间"
   ]
  },
  {
   "cell_type": "markdown",
   "metadata": {},
   "source": [
    "---\n",
    "ex 7.5  \n",
    "3张奖券中只有1张能中奖，现分别由3名同学无放回地抽取，最后一名同学抽到中奖券地概率是多少？如果已经知道第一个同学没抽中，那最后一名抽中地概率会变吗？"
   ]
  },
  {
   "cell_type": "code",
   "execution_count": 6,
   "metadata": {},
   "outputs": [
    {
     "name": "stdout",
     "output_type": "stream",
     "text": [
      "最后一名同学中奖的概率是：0.3333333333333333\n",
      "第一名同学没中，最后一名同学中奖的概率是：0.5\n"
     ]
    }
   ],
   "source": [
    "paper= 3\n",
    "prize= 1\n",
    "no_prize= paper - prize\n",
    "\n",
    "#1\n",
    "p1= prize / paper\n",
    "print(\"最后一名同学中奖的概率是：{}\".format(p1))\n",
    "\n",
    "#2\n",
    "p2= prize / ((no_prize-1) + prize)\n",
    "print(\"第一名同学没中，最后一名同学中奖的概率是：{}\".format(p2))"
   ]
  },
  {
   "cell_type": "markdown",
   "metadata": {},
   "source": [
    "---\n",
    "ex 7.6 \n",
    "甲乙两地都位于长江下游，根据一百多年的气象记录可知甲乙两地一年中雨天所占的比例分别为$ 20\\% $和$ 18\\% $，两地同时下雨的比例为$ 12\\% $，计算如下概率。\n",
    "1. 乙地为雨天时，甲地为雨天的概率是多少？\n",
    "2. 甲地为雨天时，乙地为雨天的概率是多少？"
   ]
  },
  {
   "cell_type": "code",
   "execution_count": 7,
   "metadata": {},
   "outputs": [
    {
     "name": "stdout",
     "output_type": "stream",
     "text": [
      "乙地为雨天时，甲地为雨天的概率是：0.6666666666666666\n",
      "甲地为雨天时，乙地为雨天的概率是：0.6\n"
     ]
    }
   ],
   "source": [
    "pA= 0.2\n",
    "pB= 0.18\n",
    "pAB= 0.12\n",
    "\n",
    "#1\n",
    "p1= pAB / pB\n",
    "print(\"乙地为雨天时，甲地为雨天的概率是：{}\".format(p1))\n",
    "\n",
    "#2\n",
    "p2= pAB / pA\n",
    "print(\"甲地为雨天时，乙地为雨天的概率是：{}\".format(p2))"
   ]
  },
  {
   "cell_type": "markdown",
   "metadata": {},
   "source": [
    "---\n",
    "ex 7.7  \n",
    "某厂生产的产品能直接出厂的概率为$ 70\\% $，余下$ 30\\% $的产品要调试后再定。已知调试后有$ 80\\% $的产品可以出厂，$ 20\\% $的产品要报废，求该厂产品的报废率。"
   ]
  },
  {
   "cell_type": "code",
   "execution_count": 8,
   "metadata": {},
   "outputs": [
    {
     "name": "stdout",
     "output_type": "stream",
     "text": [
      "该厂产品的报废率为：0.0600\n"
     ]
    }
   ],
   "source": [
    "pT= 0.7     #产品可以直接出厂的概率\n",
    "pF= 1 - pT  #产品需要调试的概率\n",
    "pF_F= 0.2   #调试的产品中报废的概率\n",
    "pF_T= 0     #直接出厂的产品中报废的概率\n",
    "\n",
    "p=(pT * pF_T) + (pF * pF_F)\n",
    "print(\"该厂产品的报废率为：{:.4f}\".format(p))"
   ]
  },
  {
   "cell_type": "markdown",
   "metadata": {},
   "source": [
    "---\n",
    "---\n",
    "#### 独立性"
   ]
  },
  {
   "cell_type": "markdown",
   "metadata": {},
   "source": [
    "设A，B是试验E的两个随机事件，如果事件A,B相互独立\n",
    "$$P(B\\mid A)=P(B)$$  \n",
    "即条件概率与无条件概率相等  \n",
    "所以事件A,B满足\n",
    "$$P(AB)=P(A) \\cdot P(B)$$"
   ]
  },
  {
   "cell_type": "markdown",
   "metadata": {},
   "source": [
    "多事件独立情况：  \n",
    "$$n个事件相互独立 \\Longrightarrow n个事件两两独立$$\n"
   ]
  },
  {
   "cell_type": "markdown",
   "metadata": {},
   "source": [
    "---\n",
    "ex 7.9  \n",
    "甲、乙两人同时向一目标射击，甲击中率为$80\\%$，乙击中率为$70\\%$，求目标被击中的概率。"
   ]
  },
  {
   "cell_type": "code",
   "execution_count": 9,
   "metadata": {},
   "outputs": [
    {
     "name": "stdout",
     "output_type": "stream",
     "text": [
      "目标被击中的概率是：0.9400000000000001\n"
     ]
    }
   ],
   "source": [
    "pA= 0.8\n",
    "pB= 0.7\n",
    "pAB= pA * pB\n",
    "p= pA + pB - pAB\n",
    "print(\"目标被击中的概率是：{}\".format(p))"
   ]
  },
  {
   "cell_type": "markdown",
   "metadata": {},
   "source": [
    "---\n",
    "##### 独立试验"
   ]
  },
  {
   "cell_type": "markdown",
   "metadata": {},
   "source": [
    "伯努利试验：一个只产生两个结果$A和\\bar{A} $的随机试验$E$  \n",
    "$ n $重伯努利试验（或称伯努利概型）：将$ E $重复进行$ n $次  \n",
    "伯努利概型计算公式：  \n",
    "$$P_{n}(X=k)=C_{n}^{k}\\cdot p^{k}\\cdot (1-p)^{n-k}$$\n",
    "$k=0,1,2,\\cdots ,n$"
   ]
  },
  {
   "cell_type": "markdown",
   "metadata": {},
   "source": [
    "Scipy库  \n",
    "1. 求排列：`scipy.special.perm(N, k, exact=False)`  \n",
    "\n",
    "|参数`exact`|float|long int|\n",
    "|:---:|:---:|:---:|\n",
    "|bool|**False**|True|\n",
    "2. 求组合：`scipy.special.comb(N, k, exact=False, repetition=False, legacy=True)`  \n",
    "参数暂时用默认的"
   ]
  },
  {
   "cell_type": "markdown",
   "metadata": {},
   "source": [
    "ex 7.10  \n",
    "将一枚均匀的骰子连续抛掷3次，求6点出现的次数及相应的概率。"
   ]
  },
  {
   "cell_type": "code",
   "execution_count": 10,
   "metadata": {},
   "outputs": [
    {
     "name": "stdout",
     "output_type": "stream",
     "text": [
      "出现0次6点的概率为：0.57870\n",
      "出现1次6点的概率为：0.34722\n",
      "出现2次6点的概率为：0.06944\n",
      "出现3次6点的概率为：0.00463\n"
     ]
    }
   ],
   "source": [
    "import numpy as np\n",
    "from scipy.special import comb\n",
    "\n",
    "n=3\n",
    "p= 1 / 6\n",
    "p_k=0\n",
    "\n",
    "for k in range(4):\n",
    "    p_k= comb(n, k) * p**k * (1-p)**(n-k)\n",
    "    print(\"出现{}次6点的概率为：{:.5f}\".format(k, p_k))"
   ]
  },
  {
   "cell_type": "markdown",
   "metadata": {},
   "source": [
    "ex 7.11  \n",
    "考虑一个抛硬币的例子，求抛出了49个正面，31个反面的概率是多少？"
   ]
  },
  {
   "cell_type": "code",
   "execution_count": 11,
   "metadata": {},
   "outputs": [
    {
     "name": "stdout",
     "output_type": "stream",
     "text": [
      "抛出了49个正面，31个反面的概率是：0.01184\n"
     ]
    }
   ],
   "source": [
    "from scipy.special import comb\n",
    "\n",
    "k=49\n",
    "n= k + 31\n",
    "p= 1 / 2\n",
    "\n",
    "p_k= comb(n, k) * p**k * (1-p)**(n-k)\n",
    "print(\"抛出了49个正面，31个反面的概率是：{:.5f}\".format(p_k))"
   ]
  },
  {
   "cell_type": "markdown",
   "metadata": {},
   "source": [
    "---\n",
    "---\n",
    "#### 随机变量"
   ]
  },
  {
   "cell_type": "markdown",
   "metadata": {},
   "source": [
    "##### 离散型随机变量"
   ]
  },
  {
   "cell_type": "markdown",
   "metadata": {},
   "source": [
    "1. 设离散型随机变量$X$的所有取值为$x_{k}$，$k=1,2,\\cdots$，  \n",
    "记$P\\left \\{ X=x_{k} \\right \\} = p_{k} $，$k=1,2,\\cdots$  \n",
    "2. 离散型随机变量$X$的分布律(**PMF**)  \n",
    "\n",
    "|$X$的取值|$x_1$|$x_2$|$\\cdots$|$x_n$|$\\cdots$|\n",
    "|:---:|:---:|:---:|:---:|:---:|:---:|\n",
    "|对应概率$p_k$|$p_1$|$p_2$|$\\cdots$|$p_n$|$\\cdots$|"
   ]
  },
  {
   "cell_type": "markdown",
   "metadata": {},
   "source": [
    "ex 7.12  \n",
    "运送给零售商的20台笔记本电脑中有3台次品，若某学校随机购买了这批电脑中的1台，求学校买到次品的概率函数？"
   ]
  },
  {
   "cell_type": "code",
   "execution_count": 12,
   "metadata": {},
   "outputs": [
    {
     "name": "stdout",
     "output_type": "stream",
     "text": [
      "X的取值\t概率\n",
      "X=0\t0.85\n",
      "X=1\t0.15\n"
     ]
    }
   ],
   "source": [
    "from scipy.special import comb\n",
    "\n",
    "num_pc= 20\n",
    "bad_pc= 3\n",
    "demand= 1\n",
    "\n",
    "p=[]\n",
    "print(\"X的取值\\t概率\")\n",
    "for k in range(demand+1):\n",
    "    p_k=(comb(bad_pc, k) * comb(num_pc-bad_pc, demand-k)) / comb(num_pc, demand)\n",
    "    p.append(p_k)\n",
    "    print(\"X={}\\t{}\".format(k, p[k]))"
   ]
  },
  {
   "cell_type": "markdown",
   "metadata": {},
   "source": [
    "ex 7.13  \n",
    "若某公司生产的某个产品中奖率是$50\\%$,求购买4个同样的产品中奖的概率函数和概率分布函数。"
   ]
  },
  {
   "cell_type": "code",
   "execution_count": 13,
   "metadata": {},
   "outputs": [
    {
     "name": "stdout",
     "output_type": "stream",
     "text": [
      "X的取值\t概率p\t概率分布函数F(X)\n",
      "0\t0.0625\t0.0625\n",
      "1\t0.25\t0.3125\n",
      "2\t0.375\t0.6875\n",
      "3\t0.25\t0.9375\n",
      "4\t0.0625\t1.0\n"
     ]
    }
   ],
   "source": [
    "from scipy.special import comb\n",
    "\n",
    "n= 4\n",
    "p= 0.5\n",
    "\n",
    "F= []\n",
    "p_k= []\n",
    "sum=0\n",
    "print(\"X的取值\\t概率p\\t概率分布函数F(X)\")\n",
    "for k in range(n+1):\n",
    "    p_k.append(comb(n, k) * p**k * (1-p)**(n-k))\n",
    "    sum+= p_k[k]\n",
    "    F.append(sum)\n",
    "    print(\"{}\\t{}\\t{}\".format(k, p_k[k], F[k]))"
   ]
  },
  {
   "cell_type": "markdown",
   "metadata": {},
   "source": [
    "概率分布函数为\n",
    "$$F(x)=\\left\\{\\begin{matrix}\n",
    " 0 & ,x<0\\\\\n",
    " 0.0625 & ,0\\le x<1\\\\\n",
    " 0.3125 & ,1\\le x<2\\\\\n",
    " 0.6875 & ,2\\le x<3\\\\\n",
    " 0.9375 & ,3\\le x<4\\\\\n",
    " 1 & ,x\\ge 4\\\\\n",
    "\\end{matrix}\\right.$$"
   ]
  },
  {
   "cell_type": "markdown",
   "metadata": {},
   "source": [
    "ex 7.14  \n",
    "在python中画出ex 7.13的概率函数以及分布函数图"
   ]
  },
  {
   "cell_type": "code",
   "execution_count": 14,
   "metadata": {},
   "outputs": [
    {
     "data": {
      "image/png": "[encoded data removed]",
      "image/svg+xml": "<?xml version=\"1.0\" encoding=\"utf-8\" standalone=\"no\"?>\n<!DOCTYPE svg PUBLIC \"-//W3C//DTD SVG 1.1//EN\"\n  \"http://www.w3.org/Graphics/SVG/1.1/DTD/svg11.dtd\">\n<svg xmlns:xlink=\"http://www.w3.org/1999/xlink\" width=\"600.803106pt\" height=\"319.272187pt\" viewBox=\"0 0 600.803106 319.272187\" xmlns=\"http://www.w3.org/2000/svg\" version=\"1.1\">\n <metadata>\n  <rdf:RDF xmlns:dc=\"http://purl.org/dc/elements/1.1/\" xmlns:cc=\"http://creativecommons.org/ns#\" xmlns:rdf=\"http://www.w3.org/1999/02/22-rdf-syntax-ns#\">\n   <cc:Work>\n    <dc:type rdf:resource=\"http://purl.org/dc/dcmitype/StillImage\"/>\n    <dc:date>2023-02-17T22:15:49.267776</dc:date>\n    <dc:format>image/svg+xml</dc:format>\n    <dc:creator>\n     <cc:Agent>\n      <dc:title>Matplotlib v3.6.3, https://matplotlib.org/</dc:title>\n     </cc:Agent>\n    </dc:creator>\n   </cc:Work>\n  </rdf:RDF>\n </metadata>\n <defs>\n  <style type=\"text/css\">*{stroke-linejoin: round; stroke-linecap: butt}</style>\n </defs>\n <g id=\"figure_1\">\n  <g id=\"patch_1\">\n   <path d=\"M -0 319.272187 \nL 600.803106 319.272187 \nL 600.803106 0 \nL -0 0 \nL -0 319.272187 \nz\n\" style=\"fill: none\"/>\n  </g>\n  <g id=\"axes_1\">\n   <g id=\"patch_2\">\n    <path d=\"M 34.2 294.5925 \nL 287.836364 294.5925 \nL 287.836364 22.7925 \nL 34.2 22.7925 \nz\n\" style=\"fill: #ffffff\"/>\n   </g>\n   <g id=\"matplotlib.axis_1\">\n    <g id=\"xtick_1\">\n     <g id=\"line2d_1\">\n      <defs>\n       <path id=\"m3a0e9b8a7c\" d=\"M 0 0 \nL 0 3.5 \n\" style=\"stroke: #000000; stroke-width: 0.8\"/>\n      </defs>\n      <g>\n       <use xlink:href=\"#m3a0e9b8a7c\" x=\"45.728926\" y=\"294.5925\" style=\"stroke: #000000; stroke-width: 0.8\"/>\n      </g>\n     </g>\n     <g id=\"text_1\">\n      <!-- 0 -->\n      <g transform=\"translate(42.796894 309.58625) scale(0.1 -0.1)\">\n       <defs>\n        <path id=\"MicrosoftYaHei-30\" d=\"M 284 2325 \nQ 284 3606 709 4264 \nQ 1134 4922 1941 4922 \nQ 3478 4922 3478 2441 \nQ 3478 1216 3045 567 \nQ 2613 -81 1831 -81 \nQ 1094 -81 689 534 \nQ 284 1150 284 2325 \nz\nM 909 2353 \nQ 909 425 1888 425 \nQ 2850 425 2850 2384 \nQ 2850 4413 1906 4413 \nQ 909 4413 909 2353 \nz\n\" transform=\"scale(0.015625)\"/>\n       </defs>\n       <use xlink:href=\"#MicrosoftYaHei-30\"/>\n      </g>\n     </g>\n    </g>\n    <g id=\"xtick_2\">\n     <g id=\"line2d_2\">\n      <g>\n       <use xlink:href=\"#m3a0e9b8a7c\" x=\"103.373554\" y=\"294.5925\" style=\"stroke: #000000; stroke-width: 0.8\"/>\n      </g>\n     </g>\n     <g id=\"text_2\">\n      <!-- 1 -->\n      <g transform=\"translate(100.441522 309.58625) scale(0.1 -0.1)\">\n       <defs>\n        <path id=\"MicrosoftYaHei-31\" d=\"M 1781 0 \nL 1781 4141 \nQ 1638 3997 1295 3819 \nQ 953 3641 663 3569 \nL 663 4169 \nQ 1047 4275 1484 4508 \nQ 1922 4741 2156 4947 \nL 2388 4947 \nL 2388 0 \nL 1781 0 \nz\n\" transform=\"scale(0.015625)\"/>\n       </defs>\n       <use xlink:href=\"#MicrosoftYaHei-31\"/>\n      </g>\n     </g>\n    </g>\n    <g id=\"xtick_3\">\n     <g id=\"line2d_3\">\n      <g>\n       <use xlink:href=\"#m3a0e9b8a7c\" x=\"161.018182\" y=\"294.5925\" style=\"stroke: #000000; stroke-width: 0.8\"/>\n      </g>\n     </g>\n     <g id=\"text_3\">\n      <!-- 2 -->\n      <g transform=\"translate(158.086151 309.58625) scale(0.1 -0.1)\">\n       <defs>\n        <path id=\"MicrosoftYaHei-32\" d=\"M 2666 3572 \nQ 2666 3963 2419 4186 \nQ 2172 4409 1747 4409 \nQ 1447 4409 1140 4256 \nQ 834 4103 569 3819 \nL 569 4413 \nQ 806 4659 1107 4790 \nQ 1409 4922 1816 4922 \nQ 2472 4922 2872 4570 \nQ 3272 4219 3272 3619 \nQ 3272 3084 3026 2693 \nQ 2781 2303 2188 1894 \nQ 1581 1475 1376 1294 \nQ 1172 1113 1090 947 \nQ 1009 781 1009 544 \nL 3416 544 \nL 3416 0 \nL 372 0 \nL 372 241 \nQ 372 659 486 951 \nQ 600 1244 862 1520 \nQ 1125 1797 1681 2184 \nQ 2250 2584 2458 2886 \nQ 2666 3188 2666 3572 \nz\n\" transform=\"scale(0.015625)\"/>\n       </defs>\n       <use xlink:href=\"#MicrosoftYaHei-32\"/>\n      </g>\n     </g>\n    </g>\n    <g id=\"xtick_4\">\n     <g id=\"line2d_4\">\n      <g>\n       <use xlink:href=\"#m3a0e9b8a7c\" x=\"218.66281\" y=\"294.5925\" style=\"stroke: #000000; stroke-width: 0.8\"/>\n      </g>\n     </g>\n     <g id=\"text_4\">\n      <!-- 3 -->\n      <g transform=\"translate(215.730779 309.58625) scale(0.1 -0.1)\">\n       <defs>\n        <path id=\"MicrosoftYaHei-33\" d=\"M 447 809 \nQ 944 425 1569 425 \nQ 2069 425 2361 670 \nQ 2653 916 2653 1328 \nQ 2653 2247 1338 2247 \nL 934 2247 \nL 934 2753 \nL 1319 2753 \nQ 2484 2753 2484 3616 \nQ 2484 4413 1594 4413 \nQ 1084 4413 634 4069 \nL 634 4647 \nQ 1109 4922 1744 4922 \nQ 2363 4922 2738 4598 \nQ 3113 4275 3113 3759 \nQ 3113 2809 2144 2538 \nL 2144 2525 \nQ 2669 2469 2973 2155 \nQ 3278 1841 3278 1372 \nQ 3278 719 2808 319 \nQ 2338 -81 1556 -81 \nQ 869 -81 447 175 \nL 447 809 \nz\n\" transform=\"scale(0.015625)\"/>\n       </defs>\n       <use xlink:href=\"#MicrosoftYaHei-33\"/>\n      </g>\n     </g>\n    </g>\n    <g id=\"xtick_5\">\n     <g id=\"line2d_5\">\n      <g>\n       <use xlink:href=\"#m3a0e9b8a7c\" x=\"276.307438\" y=\"294.5925\" style=\"stroke: #000000; stroke-width: 0.8\"/>\n      </g>\n     </g>\n     <g id=\"text_5\">\n      <!-- 4 -->\n      <g transform=\"translate(273.375407 309.58625) scale(0.1 -0.1)\">\n       <defs>\n        <path id=\"MicrosoftYaHei-34\" d=\"M 2906 4841 \nL 2906 1644 \nL 3631 1644 \nL 3631 1138 \nL 2906 1138 \nL 2906 0 \nL 2313 0 \nL 2313 1138 \nL 53 1138 \nL 53 1616 \nQ 656 2294 1265 3178 \nQ 1875 4063 2272 4841 \nL 2906 4841 \nz\nM 741 1644 \nL 2313 1644 \nL 2313 3950 \nQ 1988 3366 1616 2817 \nQ 1244 2269 741 1644 \nz\n\" transform=\"scale(0.015625)\"/>\n       </defs>\n       <use xlink:href=\"#MicrosoftYaHei-34\"/>\n      </g>\n     </g>\n    </g>\n   </g>\n   <g id=\"matplotlib.axis_2\">\n    <g id=\"ytick_1\">\n     <g id=\"line2d_6\">\n      <defs>\n       <path id=\"m71a4789c92\" d=\"M 0 0 \nL -3.5 0 \n\" style=\"stroke: #000000; stroke-width: 0.8\"/>\n      </defs>\n      <g>\n       <use xlink:href=\"#m71a4789c92\" x=\"34.2\" y=\"282.237955\" style=\"stroke: #000000; stroke-width: 0.8\"/>\n      </g>\n     </g>\n     <g id=\"text_6\">\n      <!-- 0.00 -->\n      <g transform=\"translate(7.2 286.23483) scale(0.1 -0.1)\">\n       <defs>\n        <path id=\"MicrosoftYaHei-2e\" d=\"M 372 322 \nQ 372 491 487 606 \nQ 603 722 775 722 \nQ 950 722 1065 605 \nQ 1181 488 1181 322 \nQ 1181 159 1065 42 \nQ 950 -75 772 -75 \nQ 600 -75 486 42 \nQ 372 159 372 322 \nz\n\" transform=\"scale(0.015625)\"/>\n       </defs>\n       <use xlink:href=\"#MicrosoftYaHei-30\"/>\n       <use xlink:href=\"#MicrosoftYaHei-2e\" x=\"58.642578\"/>\n       <use xlink:href=\"#MicrosoftYaHei-30\" x=\"82.714844\"/>\n       <use xlink:href=\"#MicrosoftYaHei-30\" x=\"141.357422\"/>\n      </g>\n     </g>\n    </g>\n    <g id=\"ytick_2\">\n     <g id=\"line2d_7\">\n      <g>\n       <use xlink:href=\"#m71a4789c92\" x=\"34.2\" y=\"249.2925\" style=\"stroke: #000000; stroke-width: 0.8\"/>\n      </g>\n     </g>\n     <g id=\"text_7\">\n      <!-- 0.05 -->\n      <g transform=\"translate(7.2 253.289375) scale(0.1 -0.1)\">\n       <defs>\n        <path id=\"MicrosoftYaHei-35\" d=\"M 3294 1494 \nQ 3294 784 2823 350 \nQ 2353 -84 1559 -84 \nQ 878 -84 544 119 \nL 544 744 \nQ 1034 425 1544 425 \nQ 2050 425 2361 704 \nQ 2672 984 2672 1447 \nQ 2672 1909 2348 2167 \nQ 2025 2425 1434 2425 \nQ 978 2425 613 2384 \nL 791 4841 \nL 3053 4841 \nL 3053 4303 \nL 1306 4303 \nL 1206 2931 \nL 1647 2950 \nQ 2416 2950 2855 2567 \nQ 3294 2184 3294 1494 \nz\n\" transform=\"scale(0.015625)\"/>\n       </defs>\n       <use xlink:href=\"#MicrosoftYaHei-30\"/>\n       <use xlink:href=\"#MicrosoftYaHei-2e\" x=\"58.642578\"/>\n       <use xlink:href=\"#MicrosoftYaHei-30\" x=\"82.714844\"/>\n       <use xlink:href=\"#MicrosoftYaHei-35\" x=\"141.357422\"/>\n      </g>\n     </g>\n    </g>\n    <g id=\"ytick_3\">\n     <g id=\"line2d_8\">\n      <g>\n       <use xlink:href=\"#m71a4789c92\" x=\"34.2\" y=\"216.347045\" style=\"stroke: #000000; stroke-width: 0.8\"/>\n      </g>\n     </g>\n     <g id=\"text_8\">\n      <!-- 0.10 -->\n      <g transform=\"translate(7.2 220.34392) scale(0.1 -0.1)\">\n       <use xlink:href=\"#MicrosoftYaHei-30\"/>\n       <use xlink:href=\"#MicrosoftYaHei-2e\" x=\"58.642578\"/>\n       <use xlink:href=\"#MicrosoftYaHei-31\" x=\"82.714844\"/>\n       <use xlink:href=\"#MicrosoftYaHei-30\" x=\"141.357422\"/>\n      </g>\n     </g>\n    </g>\n    <g id=\"ytick_4\">\n     <g id=\"line2d_9\">\n      <g>\n       <use xlink:href=\"#m71a4789c92\" x=\"34.2\" y=\"183.401591\" style=\"stroke: #000000; stroke-width: 0.8\"/>\n      </g>\n     </g>\n     <g id=\"text_9\">\n      <!-- 0.15 -->\n      <g transform=\"translate(7.2 187.398466) scale(0.1 -0.1)\">\n       <use xlink:href=\"#MicrosoftYaHei-30\"/>\n       <use xlink:href=\"#MicrosoftYaHei-2e\" x=\"58.642578\"/>\n       <use xlink:href=\"#MicrosoftYaHei-31\" x=\"82.714844\"/>\n       <use xlink:href=\"#MicrosoftYaHei-35\" x=\"141.357422\"/>\n      </g>\n     </g>\n    </g>\n    <g id=\"ytick_5\">\n     <g id=\"line2d_10\">\n      <g>\n       <use xlink:href=\"#m71a4789c92\" x=\"34.2\" y=\"150.456136\" style=\"stroke: #000000; stroke-width: 0.8\"/>\n      </g>\n     </g>\n     <g id=\"text_10\">\n      <!-- 0.20 -->\n      <g transform=\"translate(7.2 154.453011) scale(0.1 -0.1)\">\n       <use xlink:href=\"#MicrosoftYaHei-30\"/>\n       <use xlink:href=\"#MicrosoftYaHei-2e\" x=\"58.642578\"/>\n       <use xlink:href=\"#MicrosoftYaHei-32\" x=\"82.714844\"/>\n       <use xlink:href=\"#MicrosoftYaHei-30\" x=\"141.357422\"/>\n      </g>\n     </g>\n    </g>\n    <g id=\"ytick_6\">\n     <g id=\"line2d_11\">\n      <g>\n       <use xlink:href=\"#m71a4789c92\" x=\"34.2\" y=\"117.510682\" style=\"stroke: #000000; stroke-width: 0.8\"/>\n      </g>\n     </g>\n     <g id=\"text_11\">\n      <!-- 0.25 -->\n      <g transform=\"translate(7.2 121.507557) scale(0.1 -0.1)\">\n       <use xlink:href=\"#MicrosoftYaHei-30\"/>\n       <use xlink:href=\"#MicrosoftYaHei-2e\" x=\"58.642578\"/>\n       <use xlink:href=\"#MicrosoftYaHei-32\" x=\"82.714844\"/>\n       <use xlink:href=\"#MicrosoftYaHei-35\" x=\"141.357422\"/>\n      </g>\n     </g>\n    </g>\n    <g id=\"ytick_7\">\n     <g id=\"line2d_12\">\n      <g>\n       <use xlink:href=\"#m71a4789c92\" x=\"34.2\" y=\"84.565227\" style=\"stroke: #000000; stroke-width: 0.8\"/>\n      </g>\n     </g>\n     <g id=\"text_12\">\n      <!-- 0.30 -->\n      <g transform=\"translate(7.2 88.562102) scale(0.1 -0.1)\">\n       <use xlink:href=\"#MicrosoftYaHei-30\"/>\n       <use xlink:href=\"#MicrosoftYaHei-2e\" x=\"58.642578\"/>\n       <use xlink:href=\"#MicrosoftYaHei-33\" x=\"82.714844\"/>\n       <use xlink:href=\"#MicrosoftYaHei-30\" x=\"141.357422\"/>\n      </g>\n     </g>\n    </g>\n    <g id=\"ytick_8\">\n     <g id=\"line2d_13\">\n      <g>\n       <use xlink:href=\"#m71a4789c92\" x=\"34.2\" y=\"51.619773\" style=\"stroke: #000000; stroke-width: 0.8\"/>\n      </g>\n     </g>\n     <g id=\"text_13\">\n      <!-- 0.35 -->\n      <g transform=\"translate(7.2 55.616648) scale(0.1 -0.1)\">\n       <use xlink:href=\"#MicrosoftYaHei-30\"/>\n       <use xlink:href=\"#MicrosoftYaHei-2e\" x=\"58.642578\"/>\n       <use xlink:href=\"#MicrosoftYaHei-33\" x=\"82.714844\"/>\n       <use xlink:href=\"#MicrosoftYaHei-35\" x=\"141.357422\"/>\n      </g>\n     </g>\n    </g>\n   </g>\n   <g id=\"line2d_14\">\n    <defs>\n     <path id=\"m5b0e1572f6\" d=\"M 0 4 \nC 1.060812 4 2.078319 3.578535 2.828427 2.828427 \nC 3.578535 2.078319 4 1.060812 4 0 \nC 4 -1.060812 3.578535 -2.078319 2.828427 -2.828427 \nC 2.078319 -3.578535 1.060812 -4 0 -4 \nC -1.060812 -4 -2.078319 -3.578535 -2.828427 -2.828427 \nC -3.578535 -2.078319 -4 -1.060812 -4 0 \nC -4 1.060812 -3.578535 2.078319 -2.828427 2.828427 \nC -2.078319 3.578535 -1.060812 4 0 4 \nz\n\" style=\"stroke: #ff0000\"/>\n    </defs>\n    <g clip-path=\"url(#p94dea485f8)\">\n     <use xlink:href=\"#m5b0e1572f6\" x=\"45.728926\" y=\"241.056136\" style=\"fill: #ff0000; stroke: #ff0000\"/>\n     <use xlink:href=\"#m5b0e1572f6\" x=\"103.373554\" y=\"117.510682\" style=\"fill: #ff0000; stroke: #ff0000\"/>\n     <use xlink:href=\"#m5b0e1572f6\" x=\"161.018182\" y=\"35.147045\" style=\"fill: #ff0000; stroke: #ff0000\"/>\n     <use xlink:href=\"#m5b0e1572f6\" x=\"218.66281\" y=\"117.510682\" style=\"fill: #ff0000; stroke: #ff0000\"/>\n     <use xlink:href=\"#m5b0e1572f6\" x=\"276.307438\" y=\"241.056136\" style=\"fill: #ff0000; stroke: #ff0000\"/>\n    </g>\n   </g>\n   <g id=\"LineCollection_1\">\n    <path d=\"M 45.728926 282.237955 \nL 45.728926 241.056136 \n\" clip-path=\"url(#p94dea485f8)\" style=\"fill: none; stroke: #ff0000; stroke-width: 2\"/>\n    <path d=\"M 103.373554 282.237955 \nL 103.373554 117.510682 \n\" clip-path=\"url(#p94dea485f8)\" style=\"fill: none; stroke: #ff0000; stroke-width: 2\"/>\n    <path d=\"M 161.018182 282.237955 \nL 161.018182 35.147045 \n\" clip-path=\"url(#p94dea485f8)\" style=\"fill: none; stroke: #ff0000; stroke-width: 2\"/>\n    <path d=\"M 218.66281 282.237955 \nL 218.66281 117.510682 \n\" clip-path=\"url(#p94dea485f8)\" style=\"fill: none; stroke: #ff0000; stroke-width: 2\"/>\n    <path d=\"M 276.307438 282.237955 \nL 276.307438 241.056136 \n\" clip-path=\"url(#p94dea485f8)\" style=\"fill: none; stroke: #ff0000; stroke-width: 2\"/>\n   </g>\n   <g id=\"patch_3\">\n    <path d=\"M 34.2 294.5925 \nL 34.2 22.7925 \n\" style=\"fill: none; stroke: #000000; stroke-width: 0.8; stroke-linejoin: miter; stroke-linecap: square\"/>\n   </g>\n   <g id=\"patch_4\">\n    <path d=\"M 287.836364 294.5925 \nL 287.836364 22.7925 \n\" style=\"fill: none; stroke: #000000; stroke-width: 0.8; stroke-linejoin: miter; stroke-linecap: square\"/>\n   </g>\n   <g id=\"patch_5\">\n    <path d=\"M 34.2 294.5925 \nL 287.836364 294.5925 \n\" style=\"fill: none; stroke: #000000; stroke-width: 0.8; stroke-linejoin: miter; stroke-linecap: square\"/>\n   </g>\n   <g id=\"patch_6\">\n    <path d=\"M 34.2 22.7925 \nL 287.836364 22.7925 \n\" style=\"fill: none; stroke: #000000; stroke-width: 0.8; stroke-linejoin: miter; stroke-linecap: square\"/>\n   </g>\n   <g id=\"text_14\">\n    <!-- 0.062 -->\n    <g transform=\"translate(32.796894 238.570199) scale(0.1 -0.1)\">\n     <defs>\n      <path id=\"MicrosoftYaHei-36\" d=\"M 3181 4219 \nQ 2803 4413 2391 4413 \nQ 1763 4413 1381 3866 \nQ 1000 3319 994 2372 \nL 1009 2372 \nQ 1353 3038 2106 3038 \nQ 2734 3038 3109 2628 \nQ 3484 2219 3484 1541 \nQ 3484 831 3051 375 \nQ 2619 -81 1947 -81 \nQ 1209 -81 789 495 \nQ 369 1072 369 2131 \nQ 369 3413 920 4167 \nQ 1472 4922 2372 4922 \nQ 2888 4922 3181 4781 \nL 3181 4219 \nz\nM 1031 1584 \nQ 1031 1106 1286 765 \nQ 1541 425 1963 425 \nQ 2363 425 2613 719 \nQ 2863 1013 2863 1475 \nQ 2863 1975 2627 2253 \nQ 2391 2531 1956 2531 \nQ 1544 2531 1287 2250 \nQ 1031 1969 1031 1584 \nz\n\" transform=\"scale(0.015625)\"/>\n     </defs>\n     <use xlink:href=\"#MicrosoftYaHei-30\"/>\n     <use xlink:href=\"#MicrosoftYaHei-2e\" x=\"58.642578\"/>\n     <use xlink:href=\"#MicrosoftYaHei-30\" x=\"82.714844\"/>\n     <use xlink:href=\"#MicrosoftYaHei-36\" x=\"141.357422\"/>\n     <use xlink:href=\"#MicrosoftYaHei-32\" x=\"200\"/>\n    </g>\n   </g>\n   <g id=\"text_15\">\n    <!-- 0.250 -->\n    <g transform=\"translate(90.441522 115.024744) scale(0.1 -0.1)\">\n     <use xlink:href=\"#MicrosoftYaHei-30\"/>\n     <use xlink:href=\"#MicrosoftYaHei-2e\" x=\"58.642578\"/>\n     <use xlink:href=\"#MicrosoftYaHei-32\" x=\"82.714844\"/>\n     <use xlink:href=\"#MicrosoftYaHei-35\" x=\"141.357422\"/>\n     <use xlink:href=\"#MicrosoftYaHei-30\" x=\"200\"/>\n    </g>\n   </g>\n   <g id=\"text_16\">\n    <!-- 0.375 -->\n    <g transform=\"translate(148.086151 32.661108) scale(0.1 -0.1)\">\n     <defs>\n      <path id=\"MicrosoftYaHei-37\" d=\"M 3422 4463 \nQ 2659 3131 2223 1998 \nQ 1788 866 1684 0 \nL 1047 0 \nQ 1163 853 1594 1947 \nQ 2025 3041 2747 4300 \nL 347 4300 \nL 347 4841 \nL 3422 4841 \nL 3422 4463 \nz\n\" transform=\"scale(0.015625)\"/>\n     </defs>\n     <use xlink:href=\"#MicrosoftYaHei-30\"/>\n     <use xlink:href=\"#MicrosoftYaHei-2e\" x=\"58.642578\"/>\n     <use xlink:href=\"#MicrosoftYaHei-33\" x=\"82.714844\"/>\n     <use xlink:href=\"#MicrosoftYaHei-37\" x=\"141.357422\"/>\n     <use xlink:href=\"#MicrosoftYaHei-35\" x=\"200\"/>\n    </g>\n   </g>\n   <g id=\"text_17\">\n    <!-- 0.250 -->\n    <g transform=\"translate(205.730779 115.024744) scale(0.1 -0.1)\">\n     <use xlink:href=\"#MicrosoftYaHei-30\"/>\n     <use xlink:href=\"#MicrosoftYaHei-2e\" x=\"58.642578\"/>\n     <use xlink:href=\"#MicrosoftYaHei-32\" x=\"82.714844\"/>\n     <use xlink:href=\"#MicrosoftYaHei-35\" x=\"141.357422\"/>\n     <use xlink:href=\"#MicrosoftYaHei-30\" x=\"200\"/>\n    </g>\n   </g>\n   <g id=\"text_18\">\n    <!-- 0.062 -->\n    <g transform=\"translate(263.375407 238.570199) scale(0.1 -0.1)\">\n     <use xlink:href=\"#MicrosoftYaHei-30\"/>\n     <use xlink:href=\"#MicrosoftYaHei-2e\" x=\"58.642578\"/>\n     <use xlink:href=\"#MicrosoftYaHei-30\" x=\"82.714844\"/>\n     <use xlink:href=\"#MicrosoftYaHei-36\" x=\"141.357422\"/>\n     <use xlink:href=\"#MicrosoftYaHei-32\" x=\"200\"/>\n    </g>\n   </g>\n   <g id=\"text_19\">\n    <!-- 概率函数 -->\n    <g transform=\"translate(137.018182 16.7925) scale(0.12 -0.12)\">\n     <defs>\n      <path id=\"MicrosoftYaHei-6982\" d=\"M 2900 1359 \nL 3263 1559 \nQ 3519 1141 3869 466 \nL 3494 222 \nQ 3416 384 3344 528 \nQ 3041 325 2544 -22 \nQ 2419 -103 2219 -322 \nL 1869 91 \nQ 2063 303 2063 659 \nL 2063 4966 \nL 3606 4966 \nL 3606 1803 \nL 3206 1803 \nL 3206 2009 \nL 2469 2009 \nL 2469 484 \nQ 2781 669 3147 916 \nQ 3009 1178 2900 1359 \nz\nM 4313 2584 \nL 4850 2584 \nQ 4950 3300 4950 4566 \nL 3900 4566 \nL 3900 4966 \nL 6100 4966 \nL 6100 4566 \nL 5363 4566 \nQ 5369 3344 5272 2584 \nL 6138 2584 \nL 6138 2184 \nL 5209 2184 \nQ 5156 1897 5075 1628 \nL 5281 1628 \nL 5281 59 \nQ 5281 -228 5500 -228 \nL 5619 -228 \nQ 5781 -228 5844 22 \nQ 5913 284 5900 853 \nQ 6131 747 6319 691 \nQ 6306 141 6213 -216 \nQ 6081 -653 5744 -653 \nL 5369 -653 \nQ 4869 -653 4869 -3 \nL 4869 1072 \nQ 4366 -41 3281 -841 \nQ 3150 -647 2963 -484 \nQ 4425 534 4778 2184 \nL 3894 2184 \nL 4063 4253 \nL 4450 4253 \nL 4313 2584 \nz\nM 75 1384 \nQ 569 2369 856 3616 \nL 169 3616 \nL 169 4003 \nL 913 4003 \nL 913 5322 \nL 1325 5322 \nL 1325 4003 \nL 1913 4003 \nL 1913 3616 \nL 1325 3616 \nL 1325 2775 \nL 1494 2922 \nQ 1819 2578 2019 2309 \nL 1725 2059 \nQ 1534 2341 1325 2588 \nL 1325 -822 \nL 913 -822 \nL 913 2691 \nQ 622 1531 256 841 \nQ 175 1103 75 1384 \nz\nM 2469 2397 \nL 3206 2397 \nL 3206 3297 \nL 2469 3297 \nL 2469 2397 \nz\nM 3206 4578 \nL 2469 4578 \nL 2469 3684 \nL 3206 3684 \nL 3206 4578 \nz\n\" transform=\"scale(0.015625)\"/>\n      <path id=\"MicrosoftYaHei-7387\" d=\"M 2525 2009 \nQ 2622 2016 3928 2081 \nQ 3772 2300 3625 2491 \nL 3963 2703 \nQ 4413 2203 4794 1653 \nL 4394 1403 \nQ 4284 1569 4178 1725 \nQ 2991 1659 2213 1597 \nQ 2075 1584 1881 1541 \nL 1725 1966 \nQ 1913 2028 2006 2084 \nQ 2534 2441 3050 2913 \nQ 2597 2894 2275 2866 \nQ 2144 2847 1988 2809 \nL 1800 3191 \nQ 1956 3247 2088 3366 \nQ 2509 3722 2875 4228 \nL 231 4228 \nL 231 4666 \nL 3031 4666 \nQ 2878 4944 2744 5153 \nL 3194 5372 \nQ 3438 5000 3616 4666 \nL 6175 4666 \nL 6175 4228 \nL 3053 4228 \nL 3350 4072 \nQ 2844 3553 2494 3247 \nQ 2850 3256 3425 3269 \nQ 3675 3519 3925 3797 \nL 4356 3547 \nQ 3363 2603 2525 2009 \nz\nM 144 991 \nL 2994 991 \nL 2994 1541 \nL 3488 1541 \nL 3488 991 \nL 6275 991 \nL 6275 553 \nL 3488 553 \nL 3488 -853 \nL 2994 -853 \nL 2994 553 \nL 144 553 \nL 144 991 \nz\nM 1719 2672 \nL 1944 2303 \nQ 1200 1866 425 1409 \nL 163 1828 \nQ 813 2134 1719 2672 \nz\nM 4856 2678 \nQ 5750 2172 6250 1816 \nL 5975 1409 \nQ 5331 1909 4600 2341 \nL 4856 2678 \nz\nM 5994 3591 \nQ 5519 3178 4963 2809 \nL 4644 3141 \nQ 5244 3534 5638 3928 \nL 5994 3591 \nz\nM 363 3634 \nL 681 3941 \nQ 1200 3528 1588 3159 \nL 1238 2816 \nQ 875 3197 363 3634 \nz\n\" transform=\"scale(0.015625)\"/>\n      <path id=\"MicrosoftYaHei-51fd\" d=\"M 5431 -816 \nL 5431 -516 \nL 469 -516 \nL 469 3722 \nL 969 3722 \nL 969 -53 \nL 5431 -53 \nL 5431 3722 \nL 5931 3722 \nL 5931 -816 \nL 5431 -816 \nz\nM 3069 3753 \nL 4550 4541 \nL 1013 4541 \nL 1013 4997 \nL 5294 4997 \nL 5294 4478 \nL 3544 3509 \nL 3544 1047 \nQ 3544 266 2775 266 \nQ 2463 266 1994 278 \nQ 1975 491 1919 784 \nQ 2319 734 2675 734 \nQ 3069 734 3069 1109 \nL 3069 3753 \nz\nM 2681 2372 \nL 2938 1978 \nQ 2169 1541 1300 1016 \nL 1019 1447 \nQ 1794 1822 2681 2372 \nz\nM 3638 1997 \nL 3938 2359 \nQ 4631 1928 5375 1409 \nL 5038 991 \nQ 4350 1528 3638 1997 \nz\nM 1219 3484 \nL 1525 3822 \nQ 2150 3391 2731 2934 \nL 2394 2547 \nQ 1788 3066 1219 3484 \nz\nM 4894 3753 \nL 5256 3416 \nQ 4763 2997 4150 2522 \nL 3825 2878 \nQ 4375 3284 4894 3753 \nz\n\" transform=\"scale(0.015625)\"/>\n      <path id=\"MicrosoftYaHei-6570\" d=\"M 4175 5303 \nL 4675 5228 \nQ 4544 4622 4369 4097 \nL 6281 4097 \nL 6281 3672 \nL 5888 3672 \nQ 5731 1834 5088 753 \nQ 5594 66 6375 -372 \nQ 6175 -647 6038 -866 \nQ 5275 -372 4769 309 \nQ 4194 -403 3400 -928 \nQ 3263 -747 3044 -534 \nQ 3919 41 4463 772 \nQ 3956 1647 3794 2791 \nQ 3663 2559 3519 2359 \nQ 3394 2541 3206 2759 \nQ 3931 3803 4175 5303 \nz\nM 150 1697 \nL 1100 1697 \nQ 1238 1934 1369 2184 \nL 1819 2041 \nQ 1719 1866 1619 1697 \nL 3150 1697 \nL 3150 1291 \nQ 2913 678 2431 216 \nQ 2775 53 3131 -109 \nL 2856 -541 \nQ 2469 -322 2050 -103 \nQ 1344 -609 269 -903 \nQ 169 -703 56 -466 \nQ 969 -259 1600 128 \nQ 1063 403 475 691 \nQ 675 978 863 1284 \nL 150 1284 \nL 150 1697 \nz\nM 219 3847 \nL 1656 3847 \nL 1656 5247 \nL 2119 5247 \nL 2119 3847 \nL 3319 3847 \nL 3319 3434 \nL 2119 3434 \nL 2119 3053 \nL 2306 3266 \nQ 2888 2841 3281 2516 \nL 2981 2166 \nQ 2638 2491 2119 2897 \nL 2119 2184 \nL 1656 2184 \nL 1656 3059 \nQ 1088 2466 331 2016 \nQ 213 2197 63 2397 \nQ 850 2822 1506 3434 \nL 219 3434 \nL 219 3847 \nz\nM 5388 3672 \nL 4219 3672 \nQ 4188 3591 4150 3516 \nQ 4263 2191 4775 1247 \nQ 5275 2159 5388 3672 \nz\nM 1088 834 \nQ 1531 634 2000 416 \nQ 2431 784 2675 1284 \nL 1375 1284 \nQ 1231 1053 1088 834 \nz\nM 3038 5091 \nL 3425 4834 \nQ 3081 4384 2738 4003 \nQ 2594 4128 2400 4266 \nQ 2725 4647 3038 5091 \nz\nM 381 4816 \nL 738 5059 \nQ 1019 4716 1319 4322 \nL 931 4047 \nQ 656 4453 381 4816 \nz\n\" transform=\"scale(0.015625)\"/>\n     </defs>\n     <use xlink:href=\"#MicrosoftYaHei-6982\"/>\n     <use xlink:href=\"#MicrosoftYaHei-7387\" x=\"100\"/>\n     <use xlink:href=\"#MicrosoftYaHei-51fd\" x=\"200\"/>\n     <use xlink:href=\"#MicrosoftYaHei-6570\" x=\"300\"/>\n    </g>\n   </g>\n  </g>\n  <g id=\"axes_2\">\n   <g id=\"patch_7\">\n    <path d=\"M 338.563636 294.5925 \nL 592.2 294.5925 \nL 592.2 22.7925 \nL 338.563636 22.7925 \nz\n\" style=\"fill: #ffffff\"/>\n   </g>\n   <g id=\"matplotlib.axis_3\">\n    <g id=\"xtick_6\">\n     <g id=\"line2d_15\">\n      <g>\n       <use xlink:href=\"#m3a0e9b8a7c\" x=\"350.092562\" y=\"294.5925\" style=\"stroke: #000000; stroke-width: 0.8\"/>\n      </g>\n     </g>\n     <g id=\"text_20\">\n      <!-- 0 -->\n      <g transform=\"translate(347.160531 309.58625) scale(0.1 -0.1)\">\n       <use xlink:href=\"#MicrosoftYaHei-30\"/>\n      </g>\n     </g>\n    </g>\n    <g id=\"xtick_7\">\n     <g id=\"line2d_16\">\n      <g>\n       <use xlink:href=\"#m3a0e9b8a7c\" x=\"407.73719\" y=\"294.5925\" style=\"stroke: #000000; stroke-width: 0.8\"/>\n      </g>\n     </g>\n     <g id=\"text_21\">\n      <!-- 1 -->\n      <g transform=\"translate(404.805159 309.58625) scale(0.1 -0.1)\">\n       <use xlink:href=\"#MicrosoftYaHei-31\"/>\n      </g>\n     </g>\n    </g>\n    <g id=\"xtick_8\">\n     <g id=\"line2d_17\">\n      <g>\n       <use xlink:href=\"#m3a0e9b8a7c\" x=\"465.381818\" y=\"294.5925\" style=\"stroke: #000000; stroke-width: 0.8\"/>\n      </g>\n     </g>\n     <g id=\"text_22\">\n      <!-- 2 -->\n      <g transform=\"translate(462.449787 309.58625) scale(0.1 -0.1)\">\n       <use xlink:href=\"#MicrosoftYaHei-32\"/>\n      </g>\n     </g>\n    </g>\n    <g id=\"xtick_9\">\n     <g id=\"line2d_18\">\n      <g>\n       <use xlink:href=\"#m3a0e9b8a7c\" x=\"523.026446\" y=\"294.5925\" style=\"stroke: #000000; stroke-width: 0.8\"/>\n      </g>\n     </g>\n     <g id=\"text_23\">\n      <!-- 3 -->\n      <g transform=\"translate(520.094415 309.58625) scale(0.1 -0.1)\">\n       <use xlink:href=\"#MicrosoftYaHei-33\"/>\n      </g>\n     </g>\n    </g>\n    <g id=\"xtick_10\">\n     <g id=\"line2d_19\">\n      <g>\n       <use xlink:href=\"#m3a0e9b8a7c\" x=\"580.671074\" y=\"294.5925\" style=\"stroke: #000000; stroke-width: 0.8\"/>\n      </g>\n     </g>\n     <g id=\"text_24\">\n      <!-- 4 -->\n      <g transform=\"translate(577.739043 309.58625) scale(0.1 -0.1)\">\n       <use xlink:href=\"#MicrosoftYaHei-34\"/>\n      </g>\n     </g>\n    </g>\n   </g>\n   <g id=\"matplotlib.axis_4\">\n    <g id=\"ytick_9\">\n     <g id=\"line2d_20\">\n      <g>\n       <use xlink:href=\"#m71a4789c92\" x=\"338.563636\" y=\"294.5925\" style=\"stroke: #000000; stroke-width: 0.8\"/>\n      </g>\n     </g>\n     <g id=\"text_25\">\n      <!-- 0.0 -->\n      <g transform=\"translate(317.427699 298.589375) scale(0.1 -0.1)\">\n       <use xlink:href=\"#MicrosoftYaHei-30\"/>\n       <use xlink:href=\"#MicrosoftYaHei-2e\" x=\"58.642578\"/>\n       <use xlink:href=\"#MicrosoftYaHei-30\" x=\"82.714844\"/>\n      </g>\n     </g>\n    </g>\n    <g id=\"ytick_10\">\n     <g id=\"line2d_21\">\n      <g>\n       <use xlink:href=\"#m71a4789c92\" x=\"338.563636\" y=\"242.821071\" style=\"stroke: #000000; stroke-width: 0.8\"/>\n      </g>\n     </g>\n     <g id=\"text_26\">\n      <!-- 0.2 -->\n      <g transform=\"translate(317.427699 246.817946) scale(0.1 -0.1)\">\n       <use xlink:href=\"#MicrosoftYaHei-30\"/>\n       <use xlink:href=\"#MicrosoftYaHei-2e\" x=\"58.642578\"/>\n       <use xlink:href=\"#MicrosoftYaHei-32\" x=\"82.714844\"/>\n      </g>\n     </g>\n    </g>\n    <g id=\"ytick_11\">\n     <g id=\"line2d_22\">\n      <g>\n       <use xlink:href=\"#m71a4789c92\" x=\"338.563636\" y=\"191.049643\" style=\"stroke: #000000; stroke-width: 0.8\"/>\n      </g>\n     </g>\n     <g id=\"text_27\">\n      <!-- 0.4 -->\n      <g transform=\"translate(317.427699 195.046518) scale(0.1 -0.1)\">\n       <use xlink:href=\"#MicrosoftYaHei-30\"/>\n       <use xlink:href=\"#MicrosoftYaHei-2e\" x=\"58.642578\"/>\n       <use xlink:href=\"#MicrosoftYaHei-34\" x=\"82.714844\"/>\n      </g>\n     </g>\n    </g>\n    <g id=\"ytick_12\">\n     <g id=\"line2d_23\">\n      <g>\n       <use xlink:href=\"#m71a4789c92\" x=\"338.563636\" y=\"139.278214\" style=\"stroke: #000000; stroke-width: 0.8\"/>\n      </g>\n     </g>\n     <g id=\"text_28\">\n      <!-- 0.6 -->\n      <g transform=\"translate(317.427699 143.275089) scale(0.1 -0.1)\">\n       <use xlink:href=\"#MicrosoftYaHei-30\"/>\n       <use xlink:href=\"#MicrosoftYaHei-2e\" x=\"58.642578\"/>\n       <use xlink:href=\"#MicrosoftYaHei-36\" x=\"82.714844\"/>\n      </g>\n     </g>\n    </g>\n    <g id=\"ytick_13\">\n     <g id=\"line2d_24\">\n      <g>\n       <use xlink:href=\"#m71a4789c92\" x=\"338.563636\" y=\"87.506786\" style=\"stroke: #000000; stroke-width: 0.8\"/>\n      </g>\n     </g>\n     <g id=\"text_29\">\n      <!-- 0.8 -->\n      <g transform=\"translate(317.427699 91.503661) scale(0.1 -0.1)\">\n       <defs>\n        <path id=\"MicrosoftYaHei-38\" d=\"M 306 1350 \nQ 306 1769 556 2122 \nQ 806 2475 1200 2625 \nQ 884 2803 700 3081 \nQ 516 3359 516 3684 \nQ 516 4028 692 4312 \nQ 869 4597 1183 4759 \nQ 1497 4922 1875 4922 \nQ 2256 4922 2572 4761 \nQ 2888 4600 3063 4315 \nQ 3238 4031 3238 3684 \nQ 3238 3366 3058 3086 \nQ 2878 2806 2559 2625 \nQ 2953 2472 3200 2119 \nQ 3447 1766 3447 1350 \nQ 3447 938 3250 611 \nQ 3053 284 2690 103 \nQ 2328 -78 1875 -78 \nQ 1425 -78 1065 103 \nQ 706 284 506 612 \nQ 306 941 306 1350 \nz\nM 906 1378 \nQ 906 947 1172 687 \nQ 1438 428 1878 428 \nQ 2309 428 2582 692 \nQ 2856 956 2856 1378 \nQ 2856 1778 2579 2051 \nQ 2303 2325 1878 2325 \nQ 1456 2325 1181 2058 \nQ 906 1791 906 1378 \nz\nM 1081 3634 \nQ 1081 3309 1312 3076 \nQ 1544 2844 1878 2844 \nQ 2206 2844 2445 3078 \nQ 2684 3313 2684 3634 \nQ 2684 3963 2454 4191 \nQ 2225 4419 1878 4419 \nQ 1534 4419 1307 4195 \nQ 1081 3972 1081 3634 \nz\n\" transform=\"scale(0.015625)\"/>\n       </defs>\n       <use xlink:href=\"#MicrosoftYaHei-30\"/>\n       <use xlink:href=\"#MicrosoftYaHei-2e\" x=\"58.642578\"/>\n       <use xlink:href=\"#MicrosoftYaHei-38\" x=\"82.714844\"/>\n      </g>\n     </g>\n    </g>\n    <g id=\"ytick_14\">\n     <g id=\"line2d_25\">\n      <g>\n       <use xlink:href=\"#m71a4789c92\" x=\"338.563636\" y=\"35.735357\" style=\"stroke: #000000; stroke-width: 0.8\"/>\n      </g>\n     </g>\n     <g id=\"text_30\">\n      <!-- 1.0 -->\n      <g transform=\"translate(317.427699 39.732232) scale(0.1 -0.1)\">\n       <use xlink:href=\"#MicrosoftYaHei-31\"/>\n       <use xlink:href=\"#MicrosoftYaHei-2e\" x=\"58.642578\"/>\n       <use xlink:href=\"#MicrosoftYaHei-30\" x=\"82.714844\"/>\n      </g>\n     </g>\n    </g>\n   </g>\n   <g id=\"patch_8\">\n    <path d=\"M 350.092562 294.5925 \nL 350.092562 273.883929 \nL 407.73719 273.883929 \nL 407.73719 198.815357 \nL 465.381818 198.815357 \nL 465.381818 115.981071 \nL 523.026446 115.981071 \nL 523.026446 35.735357 \nL 580.671074 35.735357 \nL 580.671074 294.5925 \n\" clip-path=\"url(#pfa846e427f)\" style=\"fill: none; opacity: 0.75; stroke: #1f77b4; stroke-linejoin: miter\"/>\n   </g>\n   <g id=\"patch_9\">\n    <path d=\"M 338.563636 294.5925 \nL 338.563636 22.7925 \n\" style=\"fill: none; stroke: #000000; stroke-width: 0.8; stroke-linejoin: miter; stroke-linecap: square\"/>\n   </g>\n   <g id=\"patch_10\">\n    <path d=\"M 592.2 294.5925 \nL 592.2 22.7925 \n\" style=\"fill: none; stroke: #000000; stroke-width: 0.8; stroke-linejoin: miter; stroke-linecap: square\"/>\n   </g>\n   <g id=\"patch_11\">\n    <path d=\"M 338.563636 294.5925 \nL 592.2 294.5925 \n\" style=\"fill: none; stroke: #000000; stroke-width: 0.8; stroke-linejoin: miter; stroke-linecap: square\"/>\n   </g>\n   <g id=\"patch_12\">\n    <path d=\"M 338.563636 22.7925 \nL 592.2 22.7925 \n\" style=\"fill: none; stroke: #000000; stroke-width: 0.8; stroke-linejoin: miter; stroke-linecap: square\"/>\n   </g>\n   <g id=\"text_31\">\n    <!-- 0.062 -->\n    <g transform=\"translate(337.160531 275.927991) scale(0.1 -0.1)\">\n     <use xlink:href=\"#MicrosoftYaHei-30\"/>\n     <use xlink:href=\"#MicrosoftYaHei-2e\" x=\"58.642578\"/>\n     <use xlink:href=\"#MicrosoftYaHei-30\" x=\"82.714844\"/>\n     <use xlink:href=\"#MicrosoftYaHei-36\" x=\"141.357422\"/>\n     <use xlink:href=\"#MicrosoftYaHei-32\" x=\"200\"/>\n    </g>\n   </g>\n   <g id=\"text_32\">\n    <!-- 0.312 -->\n    <g transform=\"translate(394.805159 227.392277) scale(0.1 -0.1)\">\n     <use xlink:href=\"#MicrosoftYaHei-30\"/>\n     <use xlink:href=\"#MicrosoftYaHei-2e\" x=\"58.642578\"/>\n     <use xlink:href=\"#MicrosoftYaHei-33\" x=\"82.714844\"/>\n     <use xlink:href=\"#MicrosoftYaHei-31\" x=\"141.357422\"/>\n     <use xlink:href=\"#MicrosoftYaHei-32\" x=\"200\"/>\n    </g>\n   </g>\n   <g id=\"text_33\">\n    <!-- 0.688 -->\n    <g transform=\"translate(452.449787 195.035134) scale(0.1 -0.1)\">\n     <use xlink:href=\"#MicrosoftYaHei-30\"/>\n     <use xlink:href=\"#MicrosoftYaHei-2e\" x=\"58.642578\"/>\n     <use xlink:href=\"#MicrosoftYaHei-36\" x=\"82.714844\"/>\n     <use xlink:href=\"#MicrosoftYaHei-38\" x=\"141.357422\"/>\n     <use xlink:href=\"#MicrosoftYaHei-38\" x=\"200\"/>\n    </g>\n   </g>\n   <g id=\"text_34\">\n    <!-- 0.938 -->\n    <g transform=\"translate(510.094415 227.392277) scale(0.1 -0.1)\">\n     <defs>\n      <path id=\"MicrosoftYaHei-39\" d=\"M 578 656 \nQ 978 425 1441 425 \nQ 2091 425 2448 937 \nQ 2806 1450 2806 2394 \nQ 2800 2388 2794 2394 \nQ 2475 1788 1722 1788 \nQ 1113 1788 713 2206 \nQ 313 2625 313 3294 \nQ 313 4006 750 4464 \nQ 1188 4922 1884 4922 \nQ 2606 4922 3012 4355 \nQ 3419 3788 3419 2703 \nQ 3419 1363 2894 641 \nQ 2369 -81 1441 -81 \nQ 931 -81 578 84 \nL 578 656 \nz\nM 931 3372 \nQ 931 2884 1181 2598 \nQ 1431 2313 1872 2313 \nQ 2253 2313 2512 2573 \nQ 2772 2834 2772 3206 \nQ 2772 3728 2514 4070 \nQ 2256 4413 1834 4413 \nQ 1444 4413 1187 4116 \nQ 931 3819 931 3372 \nz\n\" transform=\"scale(0.015625)\"/>\n     </defs>\n     <use xlink:href=\"#MicrosoftYaHei-30\"/>\n     <use xlink:href=\"#MicrosoftYaHei-2e\" x=\"58.642578\"/>\n     <use xlink:href=\"#MicrosoftYaHei-39\" x=\"82.714844\"/>\n     <use xlink:href=\"#MicrosoftYaHei-33\" x=\"141.357422\"/>\n     <use xlink:href=\"#MicrosoftYaHei-38\" x=\"200\"/>\n    </g>\n   </g>\n   <g id=\"text_35\">\n    <!-- 1.000 -->\n    <g transform=\"translate(567.739043 275.927991) scale(0.1 -0.1)\">\n     <use xlink:href=\"#MicrosoftYaHei-31\"/>\n     <use xlink:href=\"#MicrosoftYaHei-2e\" x=\"58.642578\"/>\n     <use xlink:href=\"#MicrosoftYaHei-30\" x=\"82.714844\"/>\n     <use xlink:href=\"#MicrosoftYaHei-30\" x=\"141.357422\"/>\n     <use xlink:href=\"#MicrosoftYaHei-30\" x=\"200\"/>\n    </g>\n   </g>\n   <g id=\"text_36\">\n    <!-- 分布函数 -->\n    <g transform=\"translate(441.381818 16.7925) scale(0.12 -0.12)\">\n     <defs>\n      <path id=\"MicrosoftYaHei-5206\" d=\"M 900 2559 \nL 5056 2559 \nQ 5025 1497 4963 484 \nQ 4888 -684 3856 -678 \nQ 3350 -684 2788 -647 \nQ 2750 -384 2700 -116 \nQ 3181 -184 3775 -191 \nQ 4400 -203 4463 541 \nQ 4513 1216 4538 2097 \nL 2616 2097 \nQ 2541 1053 2181 416 \nQ 1706 -422 588 -878 \nQ 425 -666 231 -459 \nQ 1269 -72 1725 666 \nQ 2053 1225 2103 2097 \nL 900 2097 \nL 900 2559 \nz\nM 3488 5159 \nL 3938 5353 \nQ 4625 3678 6350 2847 \nQ 6069 2553 5944 2372 \nQ 4225 3366 3488 5159 \nz\nM 50 2766 \nQ 1338 3678 2250 5253 \nL 2694 5009 \nQ 1744 3347 413 2341 \nQ 281 2534 50 2766 \nz\n\" transform=\"scale(0.015625)\"/>\n      <path id=\"MicrosoftYaHei-5e03\" d=\"M 3250 3666 \nL 3750 3666 \nL 3750 2703 \nL 5681 2703 \nL 5681 541 \nQ 5681 -197 5050 -197 \nQ 4888 -197 4119 -191 \nQ 4081 16 4019 316 \nQ 4644 278 4769 278 \nQ 5188 266 5188 666 \nL 5188 2253 \nL 3750 2253 \nL 3750 -828 \nL 3250 -828 \nL 3250 2253 \nL 1844 2253 \nL 1844 -353 \nL 1350 -353 \nL 1350 2113 \nQ 928 1553 450 1028 \nQ 294 1253 94 1447 \nQ 1241 2647 1969 3984 \nL 200 3984 \nL 200 4434 \nL 2200 4434 \nQ 2419 4884 2594 5353 \nL 3088 5153 \nQ 2934 4788 2766 4434 \nL 6250 4434 \nL 6250 3984 \nL 2538 3984 \nQ 2188 3325 1772 2703 \nL 3250 2703 \nL 3250 3666 \nz\n\" transform=\"scale(0.015625)\"/>\n     </defs>\n     <use xlink:href=\"#MicrosoftYaHei-5206\"/>\n     <use xlink:href=\"#MicrosoftYaHei-5e03\" x=\"100\"/>\n     <use xlink:href=\"#MicrosoftYaHei-51fd\" x=\"200\"/>\n     <use xlink:href=\"#MicrosoftYaHei-6570\" x=\"300\"/>\n    </g>\n   </g>\n  </g>\n </g>\n <defs>\n  <clipPath id=\"p94dea485f8\">\n   <rect x=\"34.2\" y=\"22.7925\" width=\"253.636364\" height=\"271.8\"/>\n  </clipPath>\n  <clipPath id=\"pfa846e427f\">\n   <rect x=\"338.563636\" y=\"22.7925\" width=\"253.636364\" height=\"271.8\"/>\n  </clipPath>\n </defs>\n</svg>\n",
      "text/plain": [
       "<Figure size 720x360 with 2 Axes>"
      ]
     },
     "metadata": {
      "needs_background": "light"
     },
     "output_type": "display_data"
    }
   ],
   "source": [
    "import numpy as np \n",
    "from scipy import stats\n",
    "import matplotlib.pyplot as plt\n",
    "from matplotlib.font_manager import FontProperties\n",
    "\n",
    "plt.rcParams[\"font.sans-serif\"]= ['Microsoft YaHei'] #更改字体为 微软雅黑\n",
    "plt.rcParams['axes.unicode_minus']= False   #设置正常显示字符\n",
    "\n",
    "def Discrete_pmf(n, p_k):\n",
    "    xk= np.arange(n+1)    #等差数列，用np.linspace()效果不好，参数多\n",
    "    pk= tuple(p_k)  #概率元组\n",
    "    #用 rv_discrete类自定义离散概率分布 rvs\n",
    "    dist= stats.rv_discrete(name='custm', values=(xk, pk))\n",
    "\n",
    "    #调用 其rvs方法，获得符合概率的100个随机数\n",
    "    rv= dist.rvs(size= 100)\n",
    "    fig, (ax0, ax1)= plt.subplots(ncols= 2, figsize= (10, 5))\n",
    "\n",
    "    #显示概率函数\n",
    "    ax0.set_title(\"概率函数\")\n",
    "    ax0.plot(xk, pk, 'ro', ms=8, mec='r')\n",
    "    ax0.vlines(xk, 0, pk, colors='r', linestyles='-', lw=2)\n",
    "    for i in xk:\n",
    "        ax0.text(i, pk[i], '%.3f'%pk[i], ha='center', va='bottom')\n",
    "\n",
    "    #显示分布函数\n",
    "    ax1.set_title(\"分布函数\")\n",
    "    pk1= dist.cdf(xk)\n",
    "\n",
    "    #利用直方图显示分布函数\n",
    "    ax1.hist(rv, 4, density=1, histtype='step', facecolor='blue'\\\n",
    "        , alpha=0.75, cumulative=True, rwidth=0.9)\n",
    "    for i in xk:\n",
    "        ax1.text(i, pk[i], '%.3f'%pk1[i], ha='center', va='bottom')\n",
    "    \n",
    "Discrete_pmf(n, p_k)\n"
   ]
  },
  {
   "cell_type": "markdown",
   "metadata": {},
   "source": [
    "---\n",
    "##### 连续型随机变量"
   ]
  },
  {
   "cell_type": "markdown",
   "metadata": {},
   "source": [
    "1. 概率密度函数(**PDF**)：设$X$为连续型随机变量，$X$在任意区间$(a,b)$上的概率:\n",
    "$$P(a<X\\le b)=\\int_{a}^{b} f(x)\\mathrm{d}x$$\n",
    "2. 累积分布函数(**CDF**)$F(x)$：\n",
    "$$F(x)=\\int_{-\\infty}^{x} f(t)\\mathrm{d}t $$\n",
    "3. 对于任意常数$a<b$，有：\n",
    "$$P(a<X\\le b)= F(b)-F(a) =\\int_{a}^{b} f(x)\\mathrm{d}x$$"
   ]
  },
  {
   "cell_type": "markdown",
   "metadata": {},
   "source": [
    "ex 7.15  \n",
    "假设某零件误差量在区间$(-4,4)$均匀分布，计算误差量为$1\\sim3$的概率。"
   ]
  },
  {
   "cell_type": "code",
   "execution_count": 15,
   "metadata": {},
   "outputs": [
    {
     "name": "stdout",
     "output_type": "stream",
     "text": [
      "误差量为1~3的概率是：0.25\n"
     ]
    }
   ],
   "source": [
    "import sympy\n",
    "import numpy as np \n",
    "from scipy.integrate import quad\n",
    "\n",
    "x,C= sympy.symbols(\"x,C\")\n",
    "def f(x):\n",
    "    if -4 < x < 4:\n",
    "        return 1    #此处将未知常量C提到外面，否则下面无法求积分\n",
    "    else:\n",
    "        return 0\n",
    "P= quad(f, -4, 4)   #返回一个元组，第一个元素是计算结果，第二个元素是误差\n",
    "C= 1 / P[0]\n",
    "\n",
    "#概率密度函数\n",
    "def f(x):\n",
    "    if -4 < x < 4:\n",
    "        return C\n",
    "    else:\n",
    "        return 0\n",
    "\n",
    "F1_3= quad(f, 1, 3)\n",
    "print(\"误差量为1~3的概率是：{}\".format(F1_3[0]))"
   ]
  },
  {
   "cell_type": "code",
   "execution_count": 16,
   "metadata": {},
   "outputs": [],
   "source": [
    "#绘图\n",
    "# 待补充"
   ]
  },
  {
   "cell_type": "markdown",
   "metadata": {},
   "source": [
    "ex 7.16  \n",
    "在Python中输出正态分布概率密度函数$f(x)$和对应的概率分布函数$F(x)$。"
   ]
  },
  {
   "cell_type": "markdown",
   "metadata": {},
   "source": [
    "随机变量$X$满足正态分布：$X \\sim N(\\mu, \\sigma^{2})$\n",
    "概率密度函数：$$f(x)=\\frac{1}{\\sqrt[]{2\\pi }\\sigma }\\cdot e^{-\\frac{(x-\\mu)^2}{2\\sigma^2} }  $$\n",
    "其中$-\\infty < x < \\infty$"
   ]
  },
  {
   "cell_type": "code",
   "execution_count": 17,
   "metadata": {},
   "outputs": [
    {
     "data": {
      "image/png": "[encoded data removed]",
      "image/svg+xml": "<?xml version=\"1.0\" encoding=\"utf-8\" standalone=\"no\"?>\n<!DOCTYPE svg PUBLIC \"-//W3C//DTD SVG 1.1//EN\"\n  \"http://www.w3.org/Graphics/SVG/1.1/DTD/svg11.dtd\">\n<svg xmlns:xlink=\"http://www.w3.org/1999/xlink\" width=\"619.20625pt\" height=\"334.61625pt\" viewBox=\"0 0 619.20625 334.61625\" xmlns=\"http://www.w3.org/2000/svg\" version=\"1.1\">\n <metadata>\n  <rdf:RDF xmlns:dc=\"http://purl.org/dc/elements/1.1/\" xmlns:cc=\"http://creativecommons.org/ns#\" xmlns:rdf=\"http://www.w3.org/1999/02/22-rdf-syntax-ns#\">\n   <cc:Work>\n    <dc:type rdf:resource=\"http://purl.org/dc/dcmitype/StillImage\"/>\n    <dc:date>2023-02-17T22:15:50.594080</dc:date>\n    <dc:format>image/svg+xml</dc:format>\n    <dc:creator>\n     <cc:Agent>\n      <dc:title>Matplotlib v3.6.3, https://matplotlib.org/</dc:title>\n     </cc:Agent>\n    </dc:creator>\n   </cc:Work>\n  </rdf:RDF>\n </metadata>\n <defs>\n  <style type=\"text/css\">*{stroke-linejoin: round; stroke-linecap: butt}</style>\n </defs>\n <g id=\"figure_1\">\n  <g id=\"patch_1\">\n   <path d=\"M 0 334.61625 \nL 619.20625 334.61625 \nL 619.20625 0 \nL 0 0 \nL 0 334.61625 \nz\n\" style=\"fill: none\"/>\n  </g>\n  <g id=\"axes_1\">\n   <g id=\"patch_2\">\n    <path d=\"M 54.00625 295.456875 \nL 286.50625 295.456875 \nL 286.50625 23.656875 \nL 54.00625 23.656875 \nz\n\" style=\"fill: #ffffff\"/>\n   </g>\n   <g id=\"matplotlib.axis_1\">\n    <g id=\"xtick_1\">\n     <g id=\"line2d_1\">\n      <defs>\n       <path id=\"m7c04517e37\" d=\"M 0 0 \nL 0 3.5 \n\" style=\"stroke: #000000; stroke-width: 0.8\"/>\n      </defs>\n      <g>\n       <use xlink:href=\"#m7c04517e37\" x=\"85.924294\" y=\"295.456875\" style=\"stroke: #000000; stroke-width: 0.8\"/>\n      </g>\n     </g>\n     <g id=\"text_1\">\n      <!-- -4 -->\n      <g transform=\"translate(80.828982 310.450625) scale(0.1 -0.1)\">\n       <defs>\n        <path id=\"MicrosoftYaHei-2d\" d=\"M 2328 1681 \nL 488 1681 \nL 488 2153 \nL 2328 2153 \nL 2328 1681 \nz\n\" transform=\"scale(0.015625)\"/>\n        <path id=\"MicrosoftYaHei-34\" d=\"M 2906 4841 \nL 2906 1644 \nL 3631 1644 \nL 3631 1138 \nL 2906 1138 \nL 2906 0 \nL 2313 0 \nL 2313 1138 \nL 53 1138 \nL 53 1616 \nQ 656 2294 1265 3178 \nQ 1875 4063 2272 4841 \nL 2906 4841 \nz\nM 741 1644 \nL 2313 1644 \nL 2313 3950 \nQ 1988 3366 1616 2817 \nQ 1244 2269 741 1644 \nz\n\" transform=\"scale(0.015625)\"/>\n       </defs>\n       <use xlink:href=\"#MicrosoftYaHei-2d\"/>\n       <use xlink:href=\"#MicrosoftYaHei-34\" x=\"43.261719\"/>\n      </g>\n     </g>\n    </g>\n    <g id=\"xtick_2\">\n     <g id=\"line2d_2\">\n      <g>\n       <use xlink:href=\"#m7c04517e37\" x=\"128.624019\" y=\"295.456875\" style=\"stroke: #000000; stroke-width: 0.8\"/>\n      </g>\n     </g>\n     <g id=\"text_2\">\n      <!-- -2 -->\n      <g transform=\"translate(123.528706 310.450625) scale(0.1 -0.1)\">\n       <defs>\n        <path id=\"MicrosoftYaHei-32\" d=\"M 2666 3572 \nQ 2666 3963 2419 4186 \nQ 2172 4409 1747 4409 \nQ 1447 4409 1140 4256 \nQ 834 4103 569 3819 \nL 569 4413 \nQ 806 4659 1107 4790 \nQ 1409 4922 1816 4922 \nQ 2472 4922 2872 4570 \nQ 3272 4219 3272 3619 \nQ 3272 3084 3026 2693 \nQ 2781 2303 2188 1894 \nQ 1581 1475 1376 1294 \nQ 1172 1113 1090 947 \nQ 1009 781 1009 544 \nL 3416 544 \nL 3416 0 \nL 372 0 \nL 372 241 \nQ 372 659 486 951 \nQ 600 1244 862 1520 \nQ 1125 1797 1681 2184 \nQ 2250 2584 2458 2886 \nQ 2666 3188 2666 3572 \nz\n\" transform=\"scale(0.015625)\"/>\n       </defs>\n       <use xlink:href=\"#MicrosoftYaHei-2d\"/>\n       <use xlink:href=\"#MicrosoftYaHei-32\" x=\"43.261719\"/>\n      </g>\n     </g>\n    </g>\n    <g id=\"xtick_3\">\n     <g id=\"line2d_3\">\n      <g>\n       <use xlink:href=\"#m7c04517e37\" x=\"171.323743\" y=\"295.456875\" style=\"stroke: #000000; stroke-width: 0.8\"/>\n      </g>\n     </g>\n     <g id=\"text_3\">\n      <!-- 0 -->\n      <g transform=\"translate(168.391712 310.450625) scale(0.1 -0.1)\">\n       <defs>\n        <path id=\"MicrosoftYaHei-30\" d=\"M 284 2325 \nQ 284 3606 709 4264 \nQ 1134 4922 1941 4922 \nQ 3478 4922 3478 2441 \nQ 3478 1216 3045 567 \nQ 2613 -81 1831 -81 \nQ 1094 -81 689 534 \nQ 284 1150 284 2325 \nz\nM 909 2353 \nQ 909 425 1888 425 \nQ 2850 425 2850 2384 \nQ 2850 4413 1906 4413 \nQ 909 4413 909 2353 \nz\n\" transform=\"scale(0.015625)\"/>\n       </defs>\n       <use xlink:href=\"#MicrosoftYaHei-30\"/>\n      </g>\n     </g>\n    </g>\n    <g id=\"xtick_4\">\n     <g id=\"line2d_4\">\n      <g>\n       <use xlink:href=\"#m7c04517e37\" x=\"214.023468\" y=\"295.456875\" style=\"stroke: #000000; stroke-width: 0.8\"/>\n      </g>\n     </g>\n     <g id=\"text_4\">\n      <!-- 2 -->\n      <g transform=\"translate(211.091436 310.450625) scale(0.1 -0.1)\">\n       <use xlink:href=\"#MicrosoftYaHei-32\"/>\n      </g>\n     </g>\n    </g>\n    <g id=\"xtick_5\">\n     <g id=\"line2d_5\">\n      <g>\n       <use xlink:href=\"#m7c04517e37\" x=\"256.723192\" y=\"295.456875\" style=\"stroke: #000000; stroke-width: 0.8\"/>\n      </g>\n     </g>\n     <g id=\"text_5\">\n      <!-- 4 -->\n      <g transform=\"translate(253.791161 310.450625) scale(0.1 -0.1)\">\n       <use xlink:href=\"#MicrosoftYaHei-34\"/>\n      </g>\n     </g>\n    </g>\n    <g id=\"text_6\">\n     <!-- x -->\n     <g transform=\"translate(167.721875 324.930312) scale(0.1 -0.1)\">\n      <defs>\n       <path id=\"MicrosoftYaHei-78\" d=\"M 3163 3456 \nL 2006 1716 \nL 3147 0 \nL 2434 0 \nL 1775 1100 \nQ 1722 1188 1625 1369 \nL 1613 1369 \nQ 1609 1350 1456 1100 \nL 784 0 \nL 81 0 \nL 1256 1697 \nL 134 3456 \nL 847 3456 \nL 1494 2300 \nQ 1553 2194 1638 2025 \nL 1650 2025 \nL 2491 3456 \nL 3163 3456 \nz\n\" transform=\"scale(0.015625)\"/>\n      </defs>\n      <use xlink:href=\"#MicrosoftYaHei-78\"/>\n     </g>\n    </g>\n   </g>\n   <g id=\"matplotlib.axis_2\">\n    <g id=\"ytick_1\">\n     <g id=\"line2d_6\">\n      <defs>\n       <path id=\"m365a9456c0\" d=\"M 0 0 \nL -3.5 0 \n\" style=\"stroke: #000000; stroke-width: 0.8\"/>\n      </defs>\n      <g>\n       <use xlink:href=\"#m365a9456c0\" x=\"54.00625\" y=\"283.10325\" style=\"stroke: #000000; stroke-width: 0.8\"/>\n      </g>\n     </g>\n     <g id=\"text_7\">\n      <!-- 0.00 -->\n      <g transform=\"translate(27.00625 287.100125) scale(0.1 -0.1)\">\n       <defs>\n        <path id=\"MicrosoftYaHei-2e\" d=\"M 372 322 \nQ 372 491 487 606 \nQ 603 722 775 722 \nQ 950 722 1065 605 \nQ 1181 488 1181 322 \nQ 1181 159 1065 42 \nQ 950 -75 772 -75 \nQ 600 -75 486 42 \nQ 372 159 372 322 \nz\n\" transform=\"scale(0.015625)\"/>\n       </defs>\n       <use xlink:href=\"#MicrosoftYaHei-30\"/>\n       <use xlink:href=\"#MicrosoftYaHei-2e\" x=\"58.642578\"/>\n       <use xlink:href=\"#MicrosoftYaHei-30\" x=\"82.714844\"/>\n       <use xlink:href=\"#MicrosoftYaHei-30\" x=\"141.357422\"/>\n      </g>\n     </g>\n    </g>\n    <g id=\"ytick_2\">\n     <g id=\"line2d_7\">\n      <g>\n       <use xlink:href=\"#m365a9456c0\" x=\"54.00625\" y=\"252.134882\" style=\"stroke: #000000; stroke-width: 0.8\"/>\n      </g>\n     </g>\n     <g id=\"text_8\">\n      <!-- 0.05 -->\n      <g transform=\"translate(27.00625 256.131757) scale(0.1 -0.1)\">\n       <defs>\n        <path id=\"MicrosoftYaHei-35\" d=\"M 3294 1494 \nQ 3294 784 2823 350 \nQ 2353 -84 1559 -84 \nQ 878 -84 544 119 \nL 544 744 \nQ 1034 425 1544 425 \nQ 2050 425 2361 704 \nQ 2672 984 2672 1447 \nQ 2672 1909 2348 2167 \nQ 2025 2425 1434 2425 \nQ 978 2425 613 2384 \nL 791 4841 \nL 3053 4841 \nL 3053 4303 \nL 1306 4303 \nL 1206 2931 \nL 1647 2950 \nQ 2416 2950 2855 2567 \nQ 3294 2184 3294 1494 \nz\n\" transform=\"scale(0.015625)\"/>\n       </defs>\n       <use xlink:href=\"#MicrosoftYaHei-30\"/>\n       <use xlink:href=\"#MicrosoftYaHei-2e\" x=\"58.642578\"/>\n       <use xlink:href=\"#MicrosoftYaHei-30\" x=\"82.714844\"/>\n       <use xlink:href=\"#MicrosoftYaHei-35\" x=\"141.357422\"/>\n      </g>\n     </g>\n    </g>\n    <g id=\"ytick_3\">\n     <g id=\"line2d_8\">\n      <g>\n       <use xlink:href=\"#m365a9456c0\" x=\"54.00625\" y=\"221.166514\" style=\"stroke: #000000; stroke-width: 0.8\"/>\n      </g>\n     </g>\n     <g id=\"text_9\">\n      <!-- 0.10 -->\n      <g transform=\"translate(27.00625 225.163389) scale(0.1 -0.1)\">\n       <defs>\n        <path id=\"MicrosoftYaHei-31\" d=\"M 1781 0 \nL 1781 4141 \nQ 1638 3997 1295 3819 \nQ 953 3641 663 3569 \nL 663 4169 \nQ 1047 4275 1484 4508 \nQ 1922 4741 2156 4947 \nL 2388 4947 \nL 2388 0 \nL 1781 0 \nz\n\" transform=\"scale(0.015625)\"/>\n       </defs>\n       <use xlink:href=\"#MicrosoftYaHei-30\"/>\n       <use xlink:href=\"#MicrosoftYaHei-2e\" x=\"58.642578\"/>\n       <use xlink:href=\"#MicrosoftYaHei-31\" x=\"82.714844\"/>\n       <use xlink:href=\"#MicrosoftYaHei-30\" x=\"141.357422\"/>\n      </g>\n     </g>\n    </g>\n    <g id=\"ytick_4\">\n     <g id=\"line2d_9\">\n      <g>\n       <use xlink:href=\"#m365a9456c0\" x=\"54.00625\" y=\"190.198145\" style=\"stroke: #000000; stroke-width: 0.8\"/>\n      </g>\n     </g>\n     <g id=\"text_10\">\n      <!-- 0.15 -->\n      <g transform=\"translate(27.00625 194.19502) scale(0.1 -0.1)\">\n       <use xlink:href=\"#MicrosoftYaHei-30\"/>\n       <use xlink:href=\"#MicrosoftYaHei-2e\" x=\"58.642578\"/>\n       <use xlink:href=\"#MicrosoftYaHei-31\" x=\"82.714844\"/>\n       <use xlink:href=\"#MicrosoftYaHei-35\" x=\"141.357422\"/>\n      </g>\n     </g>\n    </g>\n    <g id=\"ytick_5\">\n     <g id=\"line2d_10\">\n      <g>\n       <use xlink:href=\"#m365a9456c0\" x=\"54.00625\" y=\"159.229777\" style=\"stroke: #000000; stroke-width: 0.8\"/>\n      </g>\n     </g>\n     <g id=\"text_11\">\n      <!-- 0.20 -->\n      <g transform=\"translate(27.00625 163.226652) scale(0.1 -0.1)\">\n       <use xlink:href=\"#MicrosoftYaHei-30\"/>\n       <use xlink:href=\"#MicrosoftYaHei-2e\" x=\"58.642578\"/>\n       <use xlink:href=\"#MicrosoftYaHei-32\" x=\"82.714844\"/>\n       <use xlink:href=\"#MicrosoftYaHei-30\" x=\"141.357422\"/>\n      </g>\n     </g>\n    </g>\n    <g id=\"ytick_6\">\n     <g id=\"line2d_11\">\n      <g>\n       <use xlink:href=\"#m365a9456c0\" x=\"54.00625\" y=\"128.261409\" style=\"stroke: #000000; stroke-width: 0.8\"/>\n      </g>\n     </g>\n     <g id=\"text_12\">\n      <!-- 0.25 -->\n      <g transform=\"translate(27.00625 132.258284) scale(0.1 -0.1)\">\n       <use xlink:href=\"#MicrosoftYaHei-30\"/>\n       <use xlink:href=\"#MicrosoftYaHei-2e\" x=\"58.642578\"/>\n       <use xlink:href=\"#MicrosoftYaHei-32\" x=\"82.714844\"/>\n       <use xlink:href=\"#MicrosoftYaHei-35\" x=\"141.357422\"/>\n      </g>\n     </g>\n    </g>\n    <g id=\"ytick_7\">\n     <g id=\"line2d_12\">\n      <g>\n       <use xlink:href=\"#m365a9456c0\" x=\"54.00625\" y=\"97.29304\" style=\"stroke: #000000; stroke-width: 0.8\"/>\n      </g>\n     </g>\n     <g id=\"text_13\">\n      <!-- 0.30 -->\n      <g transform=\"translate(27.00625 101.289915) scale(0.1 -0.1)\">\n       <defs>\n        <path id=\"MicrosoftYaHei-33\" d=\"M 447 809 \nQ 944 425 1569 425 \nQ 2069 425 2361 670 \nQ 2653 916 2653 1328 \nQ 2653 2247 1338 2247 \nL 934 2247 \nL 934 2753 \nL 1319 2753 \nQ 2484 2753 2484 3616 \nQ 2484 4413 1594 4413 \nQ 1084 4413 634 4069 \nL 634 4647 \nQ 1109 4922 1744 4922 \nQ 2363 4922 2738 4598 \nQ 3113 4275 3113 3759 \nQ 3113 2809 2144 2538 \nL 2144 2525 \nQ 2669 2469 2973 2155 \nQ 3278 1841 3278 1372 \nQ 3278 719 2808 319 \nQ 2338 -81 1556 -81 \nQ 869 -81 447 175 \nL 447 809 \nz\n\" transform=\"scale(0.015625)\"/>\n       </defs>\n       <use xlink:href=\"#MicrosoftYaHei-30\"/>\n       <use xlink:href=\"#MicrosoftYaHei-2e\" x=\"58.642578\"/>\n       <use xlink:href=\"#MicrosoftYaHei-33\" x=\"82.714844\"/>\n       <use xlink:href=\"#MicrosoftYaHei-30\" x=\"141.357422\"/>\n      </g>\n     </g>\n    </g>\n    <g id=\"ytick_8\">\n     <g id=\"line2d_13\">\n      <g>\n       <use xlink:href=\"#m365a9456c0\" x=\"54.00625\" y=\"66.324672\" style=\"stroke: #000000; stroke-width: 0.8\"/>\n      </g>\n     </g>\n     <g id=\"text_14\">\n      <!-- 0.35 -->\n      <g transform=\"translate(27.00625 70.321547) scale(0.1 -0.1)\">\n       <use xlink:href=\"#MicrosoftYaHei-30\"/>\n       <use xlink:href=\"#MicrosoftYaHei-2e\" x=\"58.642578\"/>\n       <use xlink:href=\"#MicrosoftYaHei-33\" x=\"82.714844\"/>\n       <use xlink:href=\"#MicrosoftYaHei-35\" x=\"141.357422\"/>\n      </g>\n     </g>\n    </g>\n    <g id=\"ytick_9\">\n     <g id=\"line2d_14\">\n      <g>\n       <use xlink:href=\"#m365a9456c0\" x=\"54.00625\" y=\"35.356303\" style=\"stroke: #000000; stroke-width: 0.8\"/>\n      </g>\n     </g>\n     <g id=\"text_15\">\n      <!-- 0.40 -->\n      <g transform=\"translate(27.00625 39.353178) scale(0.1 -0.1)\">\n       <use xlink:href=\"#MicrosoftYaHei-30\"/>\n       <use xlink:href=\"#MicrosoftYaHei-2e\" x=\"58.642578\"/>\n       <use xlink:href=\"#MicrosoftYaHei-34\" x=\"82.714844\"/>\n       <use xlink:href=\"#MicrosoftYaHei-30\" x=\"141.357422\"/>\n      </g>\n     </g>\n    </g>\n    <g id=\"text_16\">\n     <!-- Probability density -->\n     <g transform=\"translate(19.190625 226.176797) rotate(-90) scale(0.15 -0.15)\">\n      <defs>\n       <path id=\"MicrosoftYaHei-50\" d=\"M 1250 1809 \nL 1250 0 \nL 625 0 \nL 625 4841 \nL 2000 4841 \nQ 2784 4841 3217 4462 \nQ 3650 4084 3650 3381 \nQ 3650 2669 3144 2226 \nQ 2638 1784 1878 1809 \nL 1250 1809 \nz\nM 1250 4291 \nL 1250 2359 \nL 1828 2359 \nQ 2400 2359 2697 2617 \nQ 2994 2875 2994 3356 \nQ 2994 4291 1888 4291 \nL 1250 4291 \nz\n\" transform=\"scale(0.015625)\"/>\n       <path id=\"MicrosoftYaHei-72\" d=\"M 2400 2850 \nQ 2247 2959 1978 2959 \nQ 1622 2959 1390 2626 \nQ 1159 2294 1159 1750 \nL 1159 0 \nL 547 0 \nL 547 3456 \nL 1159 3456 \nL 1159 2753 \nL 1172 2753 \nQ 1434 3516 2078 3516 \nQ 2288 3516 2400 3469 \nL 2400 2850 \nz\n\" transform=\"scale(0.015625)\"/>\n       <path id=\"MicrosoftYaHei-6f\" d=\"M 316 1691 \nQ 316 2547 794 3042 \nQ 1272 3538 2091 3538 \nQ 2869 3538 3311 3061 \nQ 3753 2584 3753 1744 \nQ 3753 925 3281 422 \nQ 2809 -81 2016 -81 \nQ 1241 -81 778 406 \nQ 316 894 316 1691 \nz\nM 941 1709 \nQ 941 1113 1242 769 \nQ 1544 425 2053 425 \nQ 2578 425 2853 761 \nQ 3128 1097 3128 1725 \nQ 3128 2356 2853 2693 \nQ 2578 3031 2053 3031 \nQ 1538 3031 1239 2678 \nQ 941 2325 941 1709 \nz\n\" transform=\"scale(0.015625)\"/>\n       <path id=\"MicrosoftYaHei-62\" d=\"M 1159 488 \nL 1159 0 \nL 547 0 \nL 547 5116 \nL 1159 5116 \nL 1159 2859 \nL 1172 2859 \nQ 1578 3538 2359 3538 \nQ 3009 3538 3392 3080 \nQ 3775 2622 3775 1828 \nQ 3775 953 3345 436 \nQ 2916 -81 2200 -81 \nQ 1525 -81 1172 488 \nL 1159 488 \nz\nM 1156 1422 \nQ 1156 1003 1428 714 \nQ 1700 425 2109 425 \nQ 2597 425 2872 800 \nQ 3147 1175 3147 1838 \nQ 3147 2384 2890 2707 \nQ 2634 3031 2191 3031 \nQ 1741 3031 1448 2709 \nQ 1156 2388 1156 1891 \nL 1156 1422 \nz\n\" transform=\"scale(0.015625)\"/>\n       <path id=\"MicrosoftYaHei-61\" d=\"M 628 3216 \nQ 1144 3538 1819 3538 \nQ 3069 3538 3069 2225 \nL 3069 0 \nL 2463 0 \nL 2463 534 \nL 2447 534 \nQ 2088 -81 1388 -81 \nQ 884 -81 587 191 \nQ 291 463 291 925 \nQ 291 1894 1438 2053 \nL 2463 2197 \nQ 2463 3044 1763 3044 \nQ 1141 3044 628 2625 \nL 628 3216 \nz\nM 1653 1625 \nQ 1228 1569 1067 1412 \nQ 906 1256 906 975 \nQ 906 728 1081 572 \nQ 1256 416 1544 416 \nQ 1944 416 2203 697 \nQ 2463 978 2463 1403 \nL 2463 1734 \nL 1653 1625 \nz\n\" transform=\"scale(0.015625)\"/>\n       <path id=\"MicrosoftYaHei-69\" d=\"M 472 4675 \nQ 472 4838 583 4948 \nQ 694 5059 856 5059 \nQ 1022 5059 1136 4950 \nQ 1250 4841 1250 4675 \nQ 1250 4513 1136 4405 \nQ 1022 4297 856 4297 \nQ 691 4297 581 4405 \nQ 472 4513 472 4675 \nz\nM 544 0 \nL 544 3456 \nL 1156 3456 \nL 1156 0 \nL 544 0 \nz\n\" transform=\"scale(0.015625)\"/>\n       <path id=\"MicrosoftYaHei-6c\" d=\"M 544 0 \nL 544 5116 \nL 1156 5116 \nL 1156 0 \nL 544 0 \nz\n\" transform=\"scale(0.015625)\"/>\n       <path id=\"MicrosoftYaHei-74\" d=\"M 2206 34 \nQ 2006 -75 1666 -75 \nQ 738 -75 738 953 \nL 738 2950 \nL 144 2950 \nL 144 3456 \nL 738 3456 \nL 738 4288 \nL 1347 4481 \nL 1347 3456 \nL 2206 3456 \nL 2206 2950 \nL 1347 2950 \nL 1347 1063 \nQ 1347 722 1462 575 \nQ 1578 428 1847 428 \nQ 2053 428 2206 544 \nL 2206 34 \nz\n\" transform=\"scale(0.015625)\"/>\n       <path id=\"MicrosoftYaHei-79\" d=\"M 3359 3456 \nL 1791 -522 \nQ 1353 -1628 556 -1628 \nQ 328 -1628 166 -1578 \nL 166 -1041 \nQ 344 -1109 509 -1109 \nQ 925 -1109 1131 -622 \nL 1397 6 \nL 41 3456 \nL 719 3456 \nL 1622 859 \nL 1697 575 \nL 1713 575 \nQ 1731 672 1788 853 \nL 2731 3456 \nL 3359 3456 \nz\n\" transform=\"scale(0.015625)\"/>\n       <path id=\"MicrosoftYaHei-20\" transform=\"scale(0.015625)\"/>\n       <path id=\"MicrosoftYaHei-64\" d=\"M 3547 0 \nL 2934 0 \nL 2934 575 \nL 2922 575 \nQ 2544 -81 1747 -81 \nQ 1091 -81 703 386 \nQ 316 853 316 1647 \nQ 316 2503 753 3020 \nQ 1191 3538 1897 3538 \nQ 2603 3538 2922 2988 \nL 2934 2988 \nL 2934 5116 \nL 3547 5116 \nL 3547 0 \nz\nM 2938 2056 \nQ 2938 2472 2664 2751 \nQ 2391 3031 1991 3031 \nQ 1503 3031 1222 2667 \nQ 941 2303 941 1675 \nQ 941 1097 1211 761 \nQ 1481 425 1931 425 \nQ 2375 425 2656 754 \nQ 2938 1084 2938 1575 \nL 2938 2056 \nz\n\" transform=\"scale(0.015625)\"/>\n       <path id=\"MicrosoftYaHei-65\" d=\"M 3363 1572 \nL 944 1572 \nQ 959 1019 1246 717 \nQ 1534 416 2050 416 \nQ 2631 416 3116 788 \nL 3116 241 \nQ 2659 -81 1906 -81 \nQ 1156 -81 736 394 \nQ 316 869 316 1713 \nQ 316 2506 777 3022 \nQ 1238 3538 1922 3538 \nQ 2600 3538 2981 3102 \nQ 3363 2666 3363 1881 \nL 3363 1572 \nz\nM 2750 2063 \nQ 2747 2531 2528 2787 \nQ 2309 3044 1913 3044 \nQ 1547 3044 1280 2772 \nQ 1013 2500 944 2063 \nL 2750 2063 \nz\n\" transform=\"scale(0.015625)\"/>\n       <path id=\"MicrosoftYaHei-6e\" d=\"M 3469 0 \nL 2859 0 \nL 2859 1966 \nQ 2859 3031 2081 3031 \nQ 1678 3031 1418 2731 \nQ 1159 2431 1159 1972 \nL 1159 0 \nL 547 0 \nL 547 3456 \nL 1159 3456 \nL 1159 2884 \nL 1172 2884 \nQ 1563 3538 2306 3538 \nQ 2875 3538 3172 3173 \nQ 3469 2809 3469 2113 \nL 3469 0 \nz\n\" transform=\"scale(0.015625)\"/>\n       <path id=\"MicrosoftYaHei-73\" d=\"M 353 747 \nQ 816 413 1350 413 \nQ 2066 413 2066 881 \nQ 2066 1081 1909 1211 \nQ 1753 1341 1275 1519 \nQ 700 1750 528 1976 \nQ 356 2203 356 2525 \nQ 356 2984 745 3261 \nQ 1134 3538 1703 3538 \nQ 2144 3538 2522 3384 \nL 2522 2794 \nQ 2134 3044 1644 3044 \nQ 1350 3044 1165 2916 \nQ 981 2788 981 2578 \nQ 981 2372 1114 2256 \nQ 1247 2141 1703 1959 \nQ 2281 1744 2484 1512 \nQ 2688 1281 2688 941 \nQ 2688 466 2298 192 \nQ 1909 -81 1291 -81 \nQ 753 -81 353 122 \nL 353 747 \nz\n\" transform=\"scale(0.015625)\"/>\n      </defs>\n      <use xlink:href=\"#MicrosoftYaHei-50\"/>\n      <use xlink:href=\"#MicrosoftYaHei-72\" x=\"61.181641\"/>\n      <use xlink:href=\"#MicrosoftYaHei-6f\" x=\"97.990234\"/>\n      <use xlink:href=\"#MicrosoftYaHei-62\" x=\"161.564453\"/>\n      <use xlink:href=\"#MicrosoftYaHei-61\" x=\"224.056641\"/>\n      <use xlink:href=\"#MicrosoftYaHei-62\" x=\"279.330078\"/>\n      <use xlink:href=\"#MicrosoftYaHei-69\" x=\"343.197266\"/>\n      <use xlink:href=\"#MicrosoftYaHei-6c\" x=\"369.808594\"/>\n      <use xlink:href=\"#MicrosoftYaHei-69\" x=\"396.419922\"/>\n      <use xlink:href=\"#MicrosoftYaHei-74\" x=\"423.03125\"/>\n      <use xlink:href=\"#MicrosoftYaHei-79\" x=\"460.287109\"/>\n      <use xlink:href=\"#MicrosoftYaHei-20\" x=\"513.216797\"/>\n      <use xlink:href=\"#MicrosoftYaHei-64\" x=\"542.806641\"/>\n      <use xlink:href=\"#MicrosoftYaHei-65\" x=\"606.771484\"/>\n      <use xlink:href=\"#MicrosoftYaHei-6e\" x=\"663.509766\"/>\n      <use xlink:href=\"#MicrosoftYaHei-73\" x=\"725.130859\"/>\n      <use xlink:href=\"#MicrosoftYaHei-69\" x=\"771.419922\"/>\n      <use xlink:href=\"#MicrosoftYaHei-74\" x=\"798.03125\"/>\n      <use xlink:href=\"#MicrosoftYaHei-79\" x=\"835.287109\"/>\n     </g>\n    </g>\n   </g>\n   <g id=\"line2d_15\">\n    <path d=\"M 64.574432 283.10233 \nL 66.709418 283.10174 \nL 68.844404 283.100797 \nL 70.97939 283.099305 \nL 73.114377 283.096969 \nL 75.249363 283.093351 \nL 77.384349 283.087802 \nL 79.519335 283.079383 \nL 81.654322 283.066743 \nL 83.789308 283.047965 \nL 85.924294 283.02036 \nL 88.05928 282.98021 \nL 90.194267 282.922428 \nL 92.329253 282.840155 \nL 94.464239 282.724258 \nL 96.599225 282.562739 \nL 98.734211 282.340054 \nL 100.869198 282.036347 \nL 103.004184 281.626624 \nL 105.13917 281.079889 \nL 107.274156 280.358308 \nL 109.409143 279.416446 \nL 111.544129 278.200678 \nL 113.679115 276.648863 \nL 115.814101 274.690402 \nL 117.949087 272.246793 \nL 120.084074 269.232809 \nL 122.21906 265.558408 \nL 124.354046 261.131445 \nL 126.489032 255.861246 \nL 128.624019 249.663008 \nL 130.759005 242.462956 \nL 132.893991 234.204099 \nL 135.028977 224.852321 \nL 137.163963 214.402505 \nL 139.29895 202.884278 \nL 141.433936 190.366944 \nL 143.568922 176.963137 \nL 145.703908 162.830745 \nL 147.838895 148.172721 \nL 149.973881 133.23448 \nL 152.108867 118.29873 \nL 154.243853 103.677756 \nL 156.37884 89.703354 \nL 158.513826 76.714805 \nL 160.648812 65.045476 \nL 162.783798 55.008743 \nL 164.918784 46.884083 \nL 167.053771 40.904167 \nL 169.188757 37.243796 \nL 171.323743 36.01142 \nL 173.458729 37.243796 \nL 175.593716 40.904167 \nL 177.728702 46.884083 \nL 179.863688 55.008743 \nL 181.998674 65.045476 \nL 184.13366 76.714805 \nL 186.268647 89.703354 \nL 188.403633 103.677756 \nL 190.538619 118.29873 \nL 192.673605 133.23448 \nL 194.808592 148.172721 \nL 196.943578 162.830745 \nL 199.078564 176.963137 \nL 201.21355 190.366944 \nL 203.348537 202.884278 \nL 205.483523 214.402505 \nL 207.618509 224.852321 \nL 209.753495 234.204099 \nL 211.888481 242.462956 \nL 214.023468 249.663008 \nL 216.158454 255.861246 \nL 218.29344 261.131445 \nL 220.428426 265.558408 \nL 222.563413 269.232809 \nL 224.698399 272.246793 \nL 226.833385 274.690402 \nL 228.968371 276.648863 \nL 231.103357 278.200678 \nL 233.238344 279.416446 \nL 235.37333 280.358308 \nL 237.508316 281.079889 \nL 239.643302 281.626624 \nL 241.778289 282.036347 \nL 243.913275 282.340054 \nL 246.048261 282.562739 \nL 248.183247 282.724258 \nL 250.318233 282.840155 \nL 252.45322 282.922428 \nL 254.588206 282.98021 \nL 256.723192 283.02036 \nL 258.858178 283.047965 \nL 260.993165 283.066743 \nL 263.128151 283.079383 \nL 265.263137 283.087802 \nL 267.398123 283.093351 \nL 269.53311 283.096969 \nL 271.668096 283.099305 \nL 273.803082 283.100797 \nL 275.938068 283.10174 \n\" clip-path=\"url(#pbafad9fa72)\" style=\"fill: none; stroke: #1f77b4; stroke-width: 1.5; stroke-linecap: square\"/>\n   </g>\n   <g id=\"patch_3\">\n    <path d=\"M 54.00625 295.456875 \nL 54.00625 23.656875 \n\" style=\"fill: none; stroke: #000000; stroke-width: 0.8; stroke-linejoin: miter; stroke-linecap: square\"/>\n   </g>\n   <g id=\"patch_4\">\n    <path d=\"M 286.50625 295.456875 \nL 286.50625 23.656875 \n\" style=\"fill: none; stroke: #000000; stroke-width: 0.8; stroke-linejoin: miter; stroke-linecap: square\"/>\n   </g>\n   <g id=\"patch_5\">\n    <path d=\"M 54.00625 295.456875 \nL 286.50625 295.456875 \n\" style=\"fill: none; stroke: #000000; stroke-width: 0.8; stroke-linejoin: miter; stroke-linecap: square\"/>\n   </g>\n   <g id=\"patch_6\">\n    <path d=\"M 54.00625 23.656875 \nL 286.50625 23.656875 \n\" style=\"fill: none; stroke: #000000; stroke-width: 0.8; stroke-linejoin: miter; stroke-linecap: square\"/>\n   </g>\n   <g id=\"text_17\">\n    <!-- Normal: $\\mu$=0.0, $\\sigma^2$=1.0 -->\n    <g transform=\"translate(105.75625 17.656875) scale(0.12 -0.12)\">\n     <defs>\n      <path id=\"MicrosoftYaHei-4e\" d=\"M 4578 0 \nL 3838 0 \nL 1403 3766 \nQ 1300 3925 1238 4081 \nL 1219 4081 \nQ 1244 3919 1244 3403 \nL 1244 0 \nL 625 0 \nL 625 4841 \nL 1409 4841 \nL 3778 1141 \nQ 3947 878 3978 806 \nL 3991 806 \nQ 3959 1013 3959 1513 \nL 3959 4841 \nL 4578 4841 \nL 4578 0 \nz\n\" transform=\"scale(0.015625)\"/>\n      <path id=\"MicrosoftYaHei-6d\" d=\"M 5522 0 \nL 4909 0 \nL 4909 1984 \nQ 4909 2547 4734 2789 \nQ 4559 3031 4159 3031 \nQ 3822 3031 3581 2715 \nQ 3341 2400 3341 1969 \nL 3341 0 \nL 2728 0 \nL 2728 2047 \nQ 2728 3031 1969 3031 \nQ 1619 3031 1389 2731 \nQ 1159 2431 1159 1966 \nL 1159 0 \nL 547 0 \nL 547 3456 \nL 1159 3456 \nL 1159 2909 \nL 1172 2909 \nQ 1541 3538 2250 3538 \nQ 2597 3538 2862 3347 \nQ 3128 3156 3231 2831 \nQ 3616 3538 4381 3538 \nQ 5522 3538 5522 2131 \nL 5522 0 \nz\n\" transform=\"scale(0.015625)\"/>\n      <path id=\"MicrosoftYaHei-3a\" d=\"M 372 3134 \nQ 372 3303 490 3415 \nQ 609 3528 775 3528 \nQ 944 3528 1062 3414 \nQ 1181 3300 1181 3134 \nQ 1181 2969 1065 2853 \nQ 950 2738 772 2738 \nQ 603 2738 487 2853 \nQ 372 2969 372 3134 \nz\nM 372 322 \nQ 372 491 487 606 \nQ 603 722 775 722 \nQ 950 722 1065 605 \nQ 1181 488 1181 322 \nQ 1181 159 1065 42 \nQ 950 -75 772 -75 \nQ 600 -75 486 42 \nQ 372 159 372 322 \nz\n\" transform=\"scale(0.015625)\"/>\n      <path id=\"DejaVuSans-Oblique-3bc\" d=\"M -84 -1331 \nL 856 3500 \nL 1434 3500 \nL 1009 1322 \nQ 997 1256 987 1175 \nQ 978 1094 978 1013 \nQ 978 722 1161 565 \nQ 1344 409 1684 409 \nQ 2147 409 2431 671 \nQ 2716 934 2816 1459 \nL 3213 3500 \nL 3788 3500 \nL 3266 809 \nQ 3253 750 3248 706 \nQ 3244 663 3244 628 \nQ 3244 531 3283 486 \nQ 3322 441 3406 441 \nQ 3438 441 3492 456 \nQ 3547 472 3647 513 \nL 3559 50 \nQ 3422 -19 3297 -55 \nQ 3172 -91 3053 -91 \nQ 2847 -91 2730 40 \nQ 2613 172 2613 403 \nQ 2438 153 2195 31 \nQ 1953 -91 1625 -91 \nQ 1334 -91 1117 43 \nQ 900 178 831 397 \nL 494 -1331 \nL -84 -1331 \nz\n\" transform=\"scale(0.015625)\"/>\n      <path id=\"MicrosoftYaHei-3d\" d=\"M 3972 2497 \nL 788 2497 \nL 788 2969 \nL 3972 2969 \nL 3972 2497 \nz\nM 3972 1053 \nL 788 1053 \nL 788 1525 \nL 3972 1525 \nL 3972 1053 \nz\n\" transform=\"scale(0.015625)\"/>\n      <path id=\"MicrosoftYaHei-2c\" d=\"M 1109 778 \nL 575 -888 \nL 131 -888 \nL 519 778 \nL 1109 778 \nz\n\" transform=\"scale(0.015625)\"/>\n      <path id=\"DejaVuSans-Oblique-3c3\" d=\"M 2219 3044 \nQ 1744 3044 1422 2700 \nQ 1081 2341 969 1747 \nQ 844 1119 1044 756 \nQ 1241 397 1706 397 \nQ 2166 397 2503 759 \nQ 2844 1122 2966 1747 \nQ 3075 2319 2881 2700 \nQ 2700 3044 2219 3044 \nz\nM 2309 3503 \nL 4219 3500 \nL 4106 2925 \nL 3463 2925 \nQ 3706 2438 3575 1747 \nQ 3406 888 2884 400 \nQ 2359 -91 1609 -91 \nQ 856 -91 525 400 \nQ 194 888 363 1747 \nQ 528 2609 1050 3097 \nQ 1484 3503 2309 3503 \nz\n\" transform=\"scale(0.015625)\"/>\n      <path id=\"DejaVuSans-32\" d=\"M 1228 531 \nL 3431 531 \nL 3431 0 \nL 469 0 \nL 469 531 \nQ 828 903 1448 1529 \nQ 2069 2156 2228 2338 \nQ 2531 2678 2651 2914 \nQ 2772 3150 2772 3378 \nQ 2772 3750 2511 3984 \nQ 2250 4219 1831 4219 \nQ 1534 4219 1204 4116 \nQ 875 4013 500 3803 \nL 500 4441 \nQ 881 4594 1212 4672 \nQ 1544 4750 1819 4750 \nQ 2544 4750 2975 4387 \nQ 3406 4025 3406 3419 \nQ 3406 3131 3298 2873 \nQ 3191 2616 2906 2266 \nQ 2828 2175 2409 1742 \nQ 1991 1309 1228 531 \nz\n\" transform=\"scale(0.015625)\"/>\n     </defs>\n     <use xlink:href=\"#MicrosoftYaHei-4e\" transform=\"translate(0 0.765625)\"/>\n     <use xlink:href=\"#MicrosoftYaHei-6f\" transform=\"translate(81.298828 0.765625)\"/>\n     <use xlink:href=\"#MicrosoftYaHei-72\" transform=\"translate(144.873047 0.765625)\"/>\n     <use xlink:href=\"#MicrosoftYaHei-6d\" transform=\"translate(183.056641 0.765625)\"/>\n     <use xlink:href=\"#MicrosoftYaHei-61\" transform=\"translate(276.757812 0.765625)\"/>\n     <use xlink:href=\"#MicrosoftYaHei-6c\" transform=\"translate(332.03125 0.765625)\"/>\n     <use xlink:href=\"#MicrosoftYaHei-3a\" transform=\"translate(358.642578 0.765625)\"/>\n     <use xlink:href=\"#MicrosoftYaHei-20\" transform=\"translate(381.464844 0.765625)\"/>\n     <use xlink:href=\"#DejaVuSans-Oblique-3bc\" transform=\"translate(411.054688 0.765625)\"/>\n     <use xlink:href=\"#MicrosoftYaHei-3d\" transform=\"translate(474.677734 0.765625)\"/>\n     <use xlink:href=\"#MicrosoftYaHei-30\" transform=\"translate(548.847656 0.765625)\"/>\n     <use xlink:href=\"#MicrosoftYaHei-2e\" transform=\"translate(607.490234 0.765625)\"/>\n     <use xlink:href=\"#MicrosoftYaHei-30\" transform=\"translate(631.5625 0.765625)\"/>\n     <use xlink:href=\"#MicrosoftYaHei-2c\" transform=\"translate(690.205078 0.765625)\"/>\n     <use xlink:href=\"#MicrosoftYaHei-20\" transform=\"translate(714.277344 0.765625)\"/>\n     <use xlink:href=\"#DejaVuSans-Oblique-3c3\" transform=\"translate(743.867188 0.765625)\"/>\n     <use xlink:href=\"#DejaVuSans-32\" transform=\"translate(811.718802 39.046875) scale(0.7)\"/>\n     <use xlink:href=\"#MicrosoftYaHei-3d\" transform=\"translate(858.98931 0.765625)\"/>\n     <use xlink:href=\"#MicrosoftYaHei-31\" transform=\"translate(933.159232 0.765625)\"/>\n     <use xlink:href=\"#MicrosoftYaHei-2e\" transform=\"translate(991.80181 0.765625)\"/>\n     <use xlink:href=\"#MicrosoftYaHei-30\" transform=\"translate(1015.874076 0.765625)\"/>\n    </g>\n   </g>\n  </g>\n  <g id=\"axes_2\">\n   <g id=\"patch_7\">\n    <path d=\"M 379.50625 295.456875 \nL 612.00625 295.456875 \nL 612.00625 23.656875 \nL 379.50625 23.656875 \nz\n\" style=\"fill: #ffffff\"/>\n   </g>\n   <g id=\"matplotlib.axis_3\">\n    <g id=\"xtick_6\">\n     <g id=\"line2d_16\">\n      <g>\n       <use xlink:href=\"#m7c04517e37\" x=\"411.424294\" y=\"295.456875\" style=\"stroke: #000000; stroke-width: 0.8\"/>\n      </g>\n     </g>\n     <g id=\"text_18\">\n      <!-- -4 -->\n      <g transform=\"translate(406.328982 310.450625) scale(0.1 -0.1)\">\n       <use xlink:href=\"#MicrosoftYaHei-2d\"/>\n       <use xlink:href=\"#MicrosoftYaHei-34\" x=\"43.261719\"/>\n      </g>\n     </g>\n    </g>\n    <g id=\"xtick_7\">\n     <g id=\"line2d_17\">\n      <g>\n       <use xlink:href=\"#m7c04517e37\" x=\"454.124019\" y=\"295.456875\" style=\"stroke: #000000; stroke-width: 0.8\"/>\n      </g>\n     </g>\n     <g id=\"text_19\">\n      <!-- -2 -->\n      <g transform=\"translate(449.028706 310.450625) scale(0.1 -0.1)\">\n       <use xlink:href=\"#MicrosoftYaHei-2d\"/>\n       <use xlink:href=\"#MicrosoftYaHei-32\" x=\"43.261719\"/>\n      </g>\n     </g>\n    </g>\n    <g id=\"xtick_8\">\n     <g id=\"line2d_18\">\n      <g>\n       <use xlink:href=\"#m7c04517e37\" x=\"496.823743\" y=\"295.456875\" style=\"stroke: #000000; stroke-width: 0.8\"/>\n      </g>\n     </g>\n     <g id=\"text_20\">\n      <!-- 0 -->\n      <g transform=\"translate(493.891712 310.450625) scale(0.1 -0.1)\">\n       <use xlink:href=\"#MicrosoftYaHei-30\"/>\n      </g>\n     </g>\n    </g>\n    <g id=\"xtick_9\">\n     <g id=\"line2d_19\">\n      <g>\n       <use xlink:href=\"#m7c04517e37\" x=\"539.523468\" y=\"295.456875\" style=\"stroke: #000000; stroke-width: 0.8\"/>\n      </g>\n     </g>\n     <g id=\"text_21\">\n      <!-- 2 -->\n      <g transform=\"translate(536.591436 310.450625) scale(0.1 -0.1)\">\n       <use xlink:href=\"#MicrosoftYaHei-32\"/>\n      </g>\n     </g>\n    </g>\n    <g id=\"xtick_10\">\n     <g id=\"line2d_20\">\n      <g>\n       <use xlink:href=\"#m7c04517e37\" x=\"582.223192\" y=\"295.456875\" style=\"stroke: #000000; stroke-width: 0.8\"/>\n      </g>\n     </g>\n     <g id=\"text_22\">\n      <!-- 4 -->\n      <g transform=\"translate(579.291161 310.450625) scale(0.1 -0.1)\">\n       <use xlink:href=\"#MicrosoftYaHei-34\"/>\n      </g>\n     </g>\n    </g>\n    <g id=\"text_23\">\n     <!-- x -->\n     <g transform=\"translate(493.221875 324.930312) scale(0.1 -0.1)\">\n      <use xlink:href=\"#MicrosoftYaHei-78\"/>\n     </g>\n    </g>\n   </g>\n   <g id=\"matplotlib.axis_4\">\n    <g id=\"ytick_10\">\n     <g id=\"line2d_21\">\n      <g>\n       <use xlink:href=\"#m365a9456c0\" x=\"379.50625\" y=\"283.1024\" style=\"stroke: #000000; stroke-width: 0.8\"/>\n      </g>\n     </g>\n     <g id=\"text_24\">\n      <!-- 0.0 -->\n      <g transform=\"translate(358.370313 287.099275) scale(0.1 -0.1)\">\n       <use xlink:href=\"#MicrosoftYaHei-30\"/>\n       <use xlink:href=\"#MicrosoftYaHei-2e\" x=\"58.642578\"/>\n       <use xlink:href=\"#MicrosoftYaHei-30\" x=\"82.714844\"/>\n      </g>\n     </g>\n    </g>\n    <g id=\"ytick_11\">\n     <g id=\"line2d_22\">\n      <g>\n       <use xlink:href=\"#m365a9456c0\" x=\"379.50625\" y=\"233.684181\" style=\"stroke: #000000; stroke-width: 0.8\"/>\n      </g>\n     </g>\n     <g id=\"text_25\">\n      <!-- 0.2 -->\n      <g transform=\"translate(358.370313 237.681056) scale(0.1 -0.1)\">\n       <use xlink:href=\"#MicrosoftYaHei-30\"/>\n       <use xlink:href=\"#MicrosoftYaHei-2e\" x=\"58.642578\"/>\n       <use xlink:href=\"#MicrosoftYaHei-32\" x=\"82.714844\"/>\n      </g>\n     </g>\n    </g>\n    <g id=\"ytick_12\">\n     <g id=\"line2d_23\">\n      <g>\n       <use xlink:href=\"#m365a9456c0\" x=\"379.50625\" y=\"184.265961\" style=\"stroke: #000000; stroke-width: 0.8\"/>\n      </g>\n     </g>\n     <g id=\"text_26\">\n      <!-- 0.4 -->\n      <g transform=\"translate(358.370313 188.262836) scale(0.1 -0.1)\">\n       <use xlink:href=\"#MicrosoftYaHei-30\"/>\n       <use xlink:href=\"#MicrosoftYaHei-2e\" x=\"58.642578\"/>\n       <use xlink:href=\"#MicrosoftYaHei-34\" x=\"82.714844\"/>\n      </g>\n     </g>\n    </g>\n    <g id=\"ytick_13\">\n     <g id=\"line2d_24\">\n      <g>\n       <use xlink:href=\"#m365a9456c0\" x=\"379.50625\" y=\"134.847741\" style=\"stroke: #000000; stroke-width: 0.8\"/>\n      </g>\n     </g>\n     <g id=\"text_27\">\n      <!-- 0.6 -->\n      <g transform=\"translate(358.370313 138.844616) scale(0.1 -0.1)\">\n       <defs>\n        <path id=\"MicrosoftYaHei-36\" d=\"M 3181 4219 \nQ 2803 4413 2391 4413 \nQ 1763 4413 1381 3866 \nQ 1000 3319 994 2372 \nL 1009 2372 \nQ 1353 3038 2106 3038 \nQ 2734 3038 3109 2628 \nQ 3484 2219 3484 1541 \nQ 3484 831 3051 375 \nQ 2619 -81 1947 -81 \nQ 1209 -81 789 495 \nQ 369 1072 369 2131 \nQ 369 3413 920 4167 \nQ 1472 4922 2372 4922 \nQ 2888 4922 3181 4781 \nL 3181 4219 \nz\nM 1031 1584 \nQ 1031 1106 1286 765 \nQ 1541 425 1963 425 \nQ 2363 425 2613 719 \nQ 2863 1013 2863 1475 \nQ 2863 1975 2627 2253 \nQ 2391 2531 1956 2531 \nQ 1544 2531 1287 2250 \nQ 1031 1969 1031 1584 \nz\n\" transform=\"scale(0.015625)\"/>\n       </defs>\n       <use xlink:href=\"#MicrosoftYaHei-30\"/>\n       <use xlink:href=\"#MicrosoftYaHei-2e\" x=\"58.642578\"/>\n       <use xlink:href=\"#MicrosoftYaHei-36\" x=\"82.714844\"/>\n      </g>\n     </g>\n    </g>\n    <g id=\"ytick_14\">\n     <g id=\"line2d_25\">\n      <g>\n       <use xlink:href=\"#m365a9456c0\" x=\"379.50625\" y=\"85.429522\" style=\"stroke: #000000; stroke-width: 0.8\"/>\n      </g>\n     </g>\n     <g id=\"text_28\">\n      <!-- 0.8 -->\n      <g transform=\"translate(358.370313 89.426397) scale(0.1 -0.1)\">\n       <defs>\n        <path id=\"MicrosoftYaHei-38\" d=\"M 306 1350 \nQ 306 1769 556 2122 \nQ 806 2475 1200 2625 \nQ 884 2803 700 3081 \nQ 516 3359 516 3684 \nQ 516 4028 692 4312 \nQ 869 4597 1183 4759 \nQ 1497 4922 1875 4922 \nQ 2256 4922 2572 4761 \nQ 2888 4600 3063 4315 \nQ 3238 4031 3238 3684 \nQ 3238 3366 3058 3086 \nQ 2878 2806 2559 2625 \nQ 2953 2472 3200 2119 \nQ 3447 1766 3447 1350 \nQ 3447 938 3250 611 \nQ 3053 284 2690 103 \nQ 2328 -78 1875 -78 \nQ 1425 -78 1065 103 \nQ 706 284 506 612 \nQ 306 941 306 1350 \nz\nM 906 1378 \nQ 906 947 1172 687 \nQ 1438 428 1878 428 \nQ 2309 428 2582 692 \nQ 2856 956 2856 1378 \nQ 2856 1778 2579 2051 \nQ 2303 2325 1878 2325 \nQ 1456 2325 1181 2058 \nQ 906 1791 906 1378 \nz\nM 1081 3634 \nQ 1081 3309 1312 3076 \nQ 1544 2844 1878 2844 \nQ 2206 2844 2445 3078 \nQ 2684 3313 2684 3634 \nQ 2684 3963 2454 4191 \nQ 2225 4419 1878 4419 \nQ 1534 4419 1307 4195 \nQ 1081 3972 1081 3634 \nz\n\" transform=\"scale(0.015625)\"/>\n       </defs>\n       <use xlink:href=\"#MicrosoftYaHei-30\"/>\n       <use xlink:href=\"#MicrosoftYaHei-2e\" x=\"58.642578\"/>\n       <use xlink:href=\"#MicrosoftYaHei-38\" x=\"82.714844\"/>\n      </g>\n     </g>\n    </g>\n    <g id=\"ytick_15\">\n     <g id=\"line2d_26\">\n      <g>\n       <use xlink:href=\"#m365a9456c0\" x=\"379.50625\" y=\"36.011302\" style=\"stroke: #000000; stroke-width: 0.8\"/>\n      </g>\n     </g>\n     <g id=\"text_29\">\n      <!-- 1.0 -->\n      <g transform=\"translate(358.370313 40.008177) scale(0.1 -0.1)\">\n       <use xlink:href=\"#MicrosoftYaHei-31\"/>\n       <use xlink:href=\"#MicrosoftYaHei-2e\" x=\"58.642578\"/>\n       <use xlink:href=\"#MicrosoftYaHei-30\" x=\"82.714844\"/>\n      </g>\n     </g>\n    </g>\n    <g id=\"text_30\">\n     <!-- Cumulative density -->\n     <g transform=\"translate(350.554688 228.047109) rotate(-90) scale(0.15 -0.15)\">\n      <defs>\n       <path id=\"MicrosoftYaHei-43\" d=\"M 3938 200 \nQ 3403 -81 2597 -81 \nQ 1556 -81 934 580 \nQ 313 1241 313 2328 \nQ 313 3497 1013 4209 \nQ 1713 4922 2791 4922 \nQ 3484 4922 3938 4725 \nL 3938 4072 \nQ 3419 4359 2797 4359 \nQ 1988 4359 1478 3820 \nQ 969 3281 969 2366 \nQ 969 1497 1444 986 \nQ 1919 475 2688 475 \nQ 3406 475 3938 800 \nL 3938 200 \nz\n\" transform=\"scale(0.015625)\"/>\n       <path id=\"MicrosoftYaHei-75\" d=\"M 3400 0 \nL 2784 0 \nL 2784 544 \nL 2772 544 \nQ 2425 -81 1706 -81 \nQ 478 -81 478 1388 \nL 478 3456 \nL 1084 3456 \nL 1084 1478 \nQ 1084 425 1891 425 \nQ 2291 425 2537 720 \nQ 2784 1016 2784 1466 \nL 2784 3456 \nL 3400 3456 \nL 3400 0 \nz\n\" transform=\"scale(0.015625)\"/>\n       <path id=\"MicrosoftYaHei-76\" d=\"M 3331 3456 \nL 1963 0 \nL 1344 0 \nL 44 3456 \nL 713 3456 \nL 1556 988 \nQ 1659 691 1678 491 \nL 1694 491 \nQ 1725 753 1803 975 \nL 2688 3456 \nL 3331 3456 \nz\n\" transform=\"scale(0.015625)\"/>\n      </defs>\n      <use xlink:href=\"#MicrosoftYaHei-43\"/>\n      <use xlink:href=\"#MicrosoftYaHei-75\" x=\"66.894531\"/>\n      <use xlink:href=\"#MicrosoftYaHei-6d\" x=\"128.515625\"/>\n      <use xlink:href=\"#MicrosoftYaHei-75\" x=\"222.216797\"/>\n      <use xlink:href=\"#MicrosoftYaHei-6c\" x=\"283.837891\"/>\n      <use xlink:href=\"#MicrosoftYaHei-61\" x=\"310.449219\"/>\n      <use xlink:href=\"#MicrosoftYaHei-74\" x=\"365.722656\"/>\n      <use xlink:href=\"#MicrosoftYaHei-69\" x=\"402.978516\"/>\n      <use xlink:href=\"#MicrosoftYaHei-76\" x=\"429.589844\"/>\n      <use xlink:href=\"#MicrosoftYaHei-65\" x=\"481.455078\"/>\n      <use xlink:href=\"#MicrosoftYaHei-20\" x=\"538.193359\"/>\n      <use xlink:href=\"#MicrosoftYaHei-64\" x=\"567.783203\"/>\n      <use xlink:href=\"#MicrosoftYaHei-65\" x=\"631.748047\"/>\n      <use xlink:href=\"#MicrosoftYaHei-6e\" x=\"688.486328\"/>\n      <use xlink:href=\"#MicrosoftYaHei-73\" x=\"750.107422\"/>\n      <use xlink:href=\"#MicrosoftYaHei-69\" x=\"796.396484\"/>\n      <use xlink:href=\"#MicrosoftYaHei-74\" x=\"823.007812\"/>\n      <use xlink:href=\"#MicrosoftYaHei-79\" x=\"860.263672\"/>\n     </g>\n    </g>\n   </g>\n   <g id=\"line2d_27\">\n    <path d=\"M 390.074432 283.10233 \nL 392.209418 283.102282 \nL 394.344404 283.102204 \nL 396.47939 283.102079 \nL 398.614377 283.101878 \nL 400.749363 283.101561 \nL 402.884349 283.101063 \nL 405.019335 283.10029 \nL 407.154322 283.099103 \nL 409.289308 283.097296 \nL 411.424294 283.094575 \nL 413.55928 283.090516 \nL 415.694267 283.084524 \nL 417.829253 283.075764 \nL 419.964239 283.063086 \nL 422.099225 283.04492 \nL 424.234211 283.019148 \nL 426.369198 282.982951 \nL 428.504184 282.932615 \nL 430.63917 282.863314 \nL 432.774156 282.768853 \nL 434.909143 282.641375 \nL 437.044129 282.47105 \nL 439.179115 282.245742 \nL 441.314101 281.950662 \nL 443.449087 281.568047 \nL 445.584074 281.076862 \nL 447.71906 280.452568 \nL 449.854046 279.666982 \nL 451.989032 278.688261 \nL 454.124019 277.481045 \nL 456.259005 276.006794 \nL 458.393991 274.224338 \nL 460.528977 272.090671 \nL 462.663963 269.561983 \nL 464.79895 266.594936 \nL 466.933936 263.148149 \nL 469.068922 259.183862 \nL 471.203908 254.669709 \nL 473.338895 249.580524 \nL 475.473881 243.900099 \nL 477.608867 237.622782 \nL 479.743853 230.754817 \nL 481.87884 223.315336 \nL 484.013826 215.336896 \nL 486.148812 206.865521 \nL 488.283798 197.96018 \nL 490.418784 188.691714 \nL 492.553771 179.14122 \nL 494.688757 169.397955 \nL 496.823743 159.556851 \nL 498.958729 149.715747 \nL 501.093716 139.972483 \nL 503.228702 130.421988 \nL 505.363688 121.153522 \nL 507.498674 112.248181 \nL 509.63366 103.776806 \nL 511.768647 95.798367 \nL 513.903633 88.358885 \nL 516.038619 81.490921 \nL 518.173605 75.213603 \nL 520.308592 69.533178 \nL 522.443578 64.443993 \nL 524.578564 59.92984 \nL 526.71355 55.965554 \nL 528.848537 52.518767 \nL 530.983523 49.551719 \nL 533.118509 47.023031 \nL 535.253495 44.889364 \nL 537.388481 43.106908 \nL 539.523468 41.632657 \nL 541.658454 40.425441 \nL 543.79344 39.44672 \nL 545.928426 38.661134 \nL 548.063413 38.03684 \nL 550.198399 37.545655 \nL 552.333385 37.16304 \nL 554.468371 36.86796 \nL 556.603357 36.642652 \nL 558.738344 36.472328 \nL 560.87333 36.34485 \nL 563.008316 36.250388 \nL 565.143302 36.181088 \nL 567.278289 36.130752 \nL 569.413275 36.094554 \nL 571.548261 36.068783 \nL 573.683247 36.050616 \nL 575.818233 36.037938 \nL 577.95322 36.029179 \nL 580.088206 36.023186 \nL 582.223192 36.019128 \nL 584.358178 36.016406 \nL 586.493165 36.0146 \nL 588.628151 36.013412 \nL 590.763137 36.012639 \nL 592.898123 36.012142 \nL 595.03311 36.011824 \nL 597.168096 36.011623 \nL 599.303082 36.011498 \nL 601.438068 36.01142 \n\" clip-path=\"url(#p4f50e30ff7)\" style=\"fill: none; stroke: #1f77b4; stroke-width: 1.5; stroke-linecap: square\"/>\n   </g>\n   <g id=\"patch_8\">\n    <path d=\"M 379.50625 295.456875 \nL 379.50625 23.656875 \n\" style=\"fill: none; stroke: #000000; stroke-width: 0.8; stroke-linejoin: miter; stroke-linecap: square\"/>\n   </g>\n   <g id=\"patch_9\">\n    <path d=\"M 612.00625 295.456875 \nL 612.00625 23.656875 \n\" style=\"fill: none; stroke: #000000; stroke-width: 0.8; stroke-linejoin: miter; stroke-linecap: square\"/>\n   </g>\n   <g id=\"patch_10\">\n    <path d=\"M 379.50625 295.456875 \nL 612.00625 295.456875 \n\" style=\"fill: none; stroke: #000000; stroke-width: 0.8; stroke-linejoin: miter; stroke-linecap: square\"/>\n   </g>\n   <g id=\"patch_11\">\n    <path d=\"M 379.50625 23.656875 \nL 612.00625 23.656875 \n\" style=\"fill: none; stroke: #000000; stroke-width: 0.8; stroke-linejoin: miter; stroke-linecap: square\"/>\n   </g>\n   <g id=\"text_31\">\n    <!-- Normal: $\\mu$=0.0, $\\sigma^2$=1.0 -->\n    <g transform=\"translate(431.25625 17.656875) scale(0.12 -0.12)\">\n     <use xlink:href=\"#MicrosoftYaHei-4e\" transform=\"translate(0 0.765625)\"/>\n     <use xlink:href=\"#MicrosoftYaHei-6f\" transform=\"translate(81.298828 0.765625)\"/>\n     <use xlink:href=\"#MicrosoftYaHei-72\" transform=\"translate(144.873047 0.765625)\"/>\n     <use xlink:href=\"#MicrosoftYaHei-6d\" transform=\"translate(183.056641 0.765625)\"/>\n     <use xlink:href=\"#MicrosoftYaHei-61\" transform=\"translate(276.757812 0.765625)\"/>\n     <use xlink:href=\"#MicrosoftYaHei-6c\" transform=\"translate(332.03125 0.765625)\"/>\n     <use xlink:href=\"#MicrosoftYaHei-3a\" transform=\"translate(358.642578 0.765625)\"/>\n     <use xlink:href=\"#MicrosoftYaHei-20\" transform=\"translate(381.464844 0.765625)\"/>\n     <use xlink:href=\"#DejaVuSans-Oblique-3bc\" transform=\"translate(411.054688 0.765625)\"/>\n     <use xlink:href=\"#MicrosoftYaHei-3d\" transform=\"translate(474.677734 0.765625)\"/>\n     <use xlink:href=\"#MicrosoftYaHei-30\" transform=\"translate(548.847656 0.765625)\"/>\n     <use xlink:href=\"#MicrosoftYaHei-2e\" transform=\"translate(607.490234 0.765625)\"/>\n     <use xlink:href=\"#MicrosoftYaHei-30\" transform=\"translate(631.5625 0.765625)\"/>\n     <use xlink:href=\"#MicrosoftYaHei-2c\" transform=\"translate(690.205078 0.765625)\"/>\n     <use xlink:href=\"#MicrosoftYaHei-20\" transform=\"translate(714.277344 0.765625)\"/>\n     <use xlink:href=\"#DejaVuSans-Oblique-3c3\" transform=\"translate(743.867188 0.765625)\"/>\n     <use xlink:href=\"#DejaVuSans-32\" transform=\"translate(811.718802 39.046875) scale(0.7)\"/>\n     <use xlink:href=\"#MicrosoftYaHei-3d\" transform=\"translate(858.98931 0.765625)\"/>\n     <use xlink:href=\"#MicrosoftYaHei-31\" transform=\"translate(933.159232 0.765625)\"/>\n     <use xlink:href=\"#MicrosoftYaHei-2e\" transform=\"translate(991.80181 0.765625)\"/>\n     <use xlink:href=\"#MicrosoftYaHei-30\" transform=\"translate(1015.874076 0.765625)\"/>\n    </g>\n   </g>\n  </g>\n </g>\n <defs>\n  <clipPath id=\"pbafad9fa72\">\n   <rect x=\"54.00625\" y=\"23.656875\" width=\"232.5\" height=\"271.8\"/>\n  </clipPath>\n  <clipPath id=\"p4f50e30ff7\">\n   <rect x=\"379.50625\" y=\"23.656875\" width=\"232.5\" height=\"271.8\"/>\n  </clipPath>\n </defs>\n</svg>\n",
      "text/plain": [
       "<Figure size 720x360 with 2 Axes>"
      ]
     },
     "metadata": {
      "needs_background": "light"
     },
     "output_type": "display_data"
    }
   ],
   "source": [
    "#书本代码\n",
    "import numpy as np\n",
    "import matplotlib.pyplot as plt\n",
    "import scipy.stats as stats\n",
    "\n",
    "def test_norm_pmf(mu=0, sigma=1):   #平均值mu  标准差sigma\n",
    "    # 正态分布是一种连续分布，其函数可以在实线上的任何地方取值\n",
    "    x= np.arange(-5, 5, 0.1)    #生成随机数\n",
    "\n",
    "    #得到对应的概率值\n",
    "    y= (1/ (sympy.sqrt(2*sympy.pi) * sigma)) * pow(sympy.E, (-1* (x-mu)**2 / (2*sigma**2)))\n",
    "    \n",
    "    fig, (ax0, ax1)= plt.subplots(ncols=2, figsize=(10,5))\n",
    "    ax0.plot(x, y)\n",
    "    ax1.plot(x, stats.norm.cdf(x, 0, 1))\n",
    "    \n",
    "    #概率密度函数\n",
    "    ax0.set_title('Normal: $\\mu$=%.1f, $\\sigma^2$=%.1f'% (mu, sigma))\n",
    "    ax0.set_xlabel('x')\n",
    "    ax0.set_ylabel('Probability density', fontsize=15)\n",
    "\n",
    "    #分布函数\n",
    "    ax1.set_title('Normal: $\\mu$=%.1f, $\\sigma^2$=%.1f'% (mu, sigma))\n",
    "    ax1.set_xlabel('x')\n",
    "    ax1.set_ylabel('Cumulative density', fontsize=15)\n",
    "\n",
    "    fig.subplots_adjust(wspace=0.4)\n",
    "    plt.show()\n",
    "\n",
    "test_norm_pmf()"
   ]
  },
  {
   "cell_type": "markdown",
   "metadata": {},
   "source": [
    "---\n",
    "---\n",
    "#### 二维随机变量"
   ]
  },
  {
   "cell_type": "markdown",
   "metadata": {},
   "source": [
    "##### 二维离散型随机变量"
   ]
  },
  {
   "cell_type": "markdown",
   "metadata": {},
   "source": [
    "ex 7.17  \n",
    "设同一个品种的5个产品中，有3个次品，每次从中取一个检验，连续两次，设$X$表示第1次取到的次品概率，$Y$是第2次取到的次品概率，每次取出不放回，求出$(X,Y)$的联合概率函数分布。"
   ]
  },
  {
   "cell_type": "code",
   "execution_count": 18,
   "metadata": {},
   "outputs": [
    {
     "name": "stdout",
     "output_type": "stream",
     "text": [
      "P(X=0, Y=0)=0.100\n",
      "P(X=0, Y=1)=0.300\n",
      "P(X=1, Y=0)=0.300\n",
      "P(X=1, Y=1)=0.300\n"
     ]
    }
   ],
   "source": [
    "# 记1为取到次品，0为没有取到次品\n",
    "# 所有情况：(0, 0), (0, 1), (1, 0), (1, 1)\n",
    "\n",
    "n=1\n",
    "num= 5\n",
    "bad_num= 3\n",
    "good_num= num- bad_num\n",
    "p_00= good_num/num * (good_num-1)/(num-1)\n",
    "p_01= good_num/num * (bad_num)/(num-1)\n",
    "p_10= bad_num/num * good_num/(num-1)\n",
    "p_11= bad_num/num * (bad_num-1)/(num-1)\n",
    "print(\"P(X=0, Y=0)={:.3f}\".format(p_00))\n",
    "print(\"P(X=0, Y=1)={:.3f}\".format(p_01))\n",
    "print(\"P(X=1, Y=0)={:.3f}\".format(p_10))\n",
    "print(\"P(X=1, Y=1)={:.3f}\".format(p_11))\n",
    "\n",
    "#有待优化"
   ]
  },
  {
   "cell_type": "markdown",
   "metadata": {},
   "source": [
    "---\n",
    "##### 二维连续型随机变量"
   ]
  },
  {
   "cell_type": "markdown",
   "metadata": {},
   "source": [
    "二维随机变量$(X,Y)$的分布函数$F(x,y)$和概率密度函数$f(x,y)$的关系\n",
    "$$F(x,y)=\\int_{-\\infty}^{y} \\int_{-\\infty}^{x} f(u,v)\\mathrm{d}u \\mathrm{d}v$$  "
   ]
  },
  {
   "cell_type": "markdown",
   "metadata": {},
   "source": [
    "设$G$是平面上的一个区域，点$(x,y)$落在$G$内的概率为\n",
    "$$P\\left \\{ (X,Y)\\in G \\right \\} =\\iint\\limits_{G} f(x,y)\\mathrm{d}x \\mathrm{d}y$$  \n",
    "若$f(x,y)$在点$(x,y)$上连续，则有\n",
    "$$\\frac{\\partial^{2}F(x,y)}{\\partial x \\cdot \\partial y} = f(x,y)$$"
   ]
  },
  {
   "cell_type": "markdown",
   "metadata": {},
   "source": [
    "设二维随机变量$(X,Y)$具有概率密度：\n",
    "$$f(x,y)=\\left\\{\\begin{matrix}\n",
    " ke^{-(2x+3y)} ,& x>0,y>0\\\\\n",
    " 0 ,& else\n",
    "\\end{matrix}\\right.$$  \n",
    "1. 求常数$k$\n",
    "2. 求分布函数$F(x,y)$\n",
    "3. 求$P(Y \\le X)$的概率"
   ]
  },
  {
   "cell_type": "code",
   "execution_count": 19,
   "metadata": {},
   "outputs": [
    {
     "name": "stdout",
     "output_type": "stream",
     "text": [
      "常数k：6.0000\n"
     ]
    },
    {
     "ename": "TypeError",
     "evalue": "Cannot convert expression to float",
     "output_type": "error",
     "traceback": [
      "\u001b[1;31m---------------------------------------------------------------------------\u001b[0m",
      "\u001b[1;31mTypeError\u001b[0m                                 Traceback (most recent call last)",
      "\u001b[1;32md:\\Work\\CODE\\git\\Python-Learning\\self-learn\\math\\mathematical foundations of AI\\foudation_PT.ipynb Cell 55\u001b[0m in \u001b[0;36m<cell line: 25>\u001b[1;34m()\u001b[0m\n\u001b[0;32m     <a href='vscode-notebook-cell:/d%3A/Work/CODE/git/Python-Learning/self-learn/math/mathematical%20foundations%20of%20AI/foudation_PT.ipynb#Y105sZmlsZQ%3D%3D?line=22'>23</a>\u001b[0m x,y \u001b[39m=\u001b[39m sympy\u001b[39m.\u001b[39msymbols(\u001b[39m'\u001b[39m\u001b[39mx,y\u001b[39m\u001b[39m'\u001b[39m, real\u001b[39m=\u001b[39m\u001b[39mTrue\u001b[39;00m)\n\u001b[0;32m     <a href='vscode-notebook-cell:/d%3A/Work/CODE/git/Python-Learning/self-learn/math/mathematical%20foundations%20of%20AI/foudation_PT.ipynb#Y105sZmlsZQ%3D%3D?line=23'>24</a>\u001b[0m \u001b[39m#F= dblquad(f, -oo, x, lambda x:-oo, lambda x:y)\u001b[39;00m\n\u001b[1;32m---> <a href='vscode-notebook-cell:/d%3A/Work/CODE/git/Python-Learning/self-learn/math/mathematical%20foundations%20of%20AI/foudation_PT.ipynb#Y105sZmlsZQ%3D%3D?line=24'>25</a>\u001b[0m F, err\u001b[39m=\u001b[39m dblquad(f, y, oo, \u001b[39mlambda\u001b[39;49;00m x:\u001b[39m0\u001b[39;49m, \u001b[39mlambda\u001b[39;49;00m x:oo)\n",
      "File \u001b[1;32mc:\\Users\\Yumeick\\anaconda3\\lib\\site-packages\\scipy\\integrate\\quadpack.py:601\u001b[0m, in \u001b[0;36mdblquad\u001b[1;34m(func, a, b, gfun, hfun, args, epsabs, epsrel)\u001b[0m\n\u001b[0;32m    597\u001b[0m \u001b[39mdef\u001b[39;00m \u001b[39mtemp_ranges\u001b[39m(\u001b[39m*\u001b[39margs):\n\u001b[0;32m    598\u001b[0m     \u001b[39mreturn\u001b[39;00m [gfun(args[\u001b[39m0\u001b[39m]) \u001b[39mif\u001b[39;00m callable(gfun) \u001b[39melse\u001b[39;00m gfun,\n\u001b[0;32m    599\u001b[0m             hfun(args[\u001b[39m0\u001b[39m]) \u001b[39mif\u001b[39;00m callable(hfun) \u001b[39melse\u001b[39;00m hfun]\n\u001b[1;32m--> 601\u001b[0m \u001b[39mreturn\u001b[39;00m nquad(func, [temp_ranges, [a, b]], args\u001b[39m=\u001b[39;49margs,\n\u001b[0;32m    602\u001b[0m         opts\u001b[39m=\u001b[39;49m{\u001b[39m\"\u001b[39;49m\u001b[39mepsabs\u001b[39;49m\u001b[39m\"\u001b[39;49m: epsabs, \u001b[39m\"\u001b[39;49m\u001b[39mepsrel\u001b[39;49m\u001b[39m\"\u001b[39;49m: epsrel})\n",
      "File \u001b[1;32mc:\\Users\\Yumeick\\anaconda3\\lib\\site-packages\\scipy\\integrate\\quadpack.py:825\u001b[0m, in \u001b[0;36mnquad\u001b[1;34m(func, ranges, args, opts, full_output)\u001b[0m\n\u001b[0;32m    823\u001b[0m \u001b[39melse\u001b[39;00m:\n\u001b[0;32m    824\u001b[0m     opts \u001b[39m=\u001b[39m [opt \u001b[39mif\u001b[39;00m callable(opt) \u001b[39melse\u001b[39;00m _OptFunc(opt) \u001b[39mfor\u001b[39;00m opt \u001b[39min\u001b[39;00m opts]\n\u001b[1;32m--> 825\u001b[0m \u001b[39mreturn\u001b[39;00m _NQuad(func, ranges, opts, full_output)\u001b[39m.\u001b[39;49mintegrate(\u001b[39m*\u001b[39;49margs)\n",
      "File \u001b[1;32mc:\\Users\\Yumeick\\anaconda3\\lib\\site-packages\\scipy\\integrate\\quadpack.py:879\u001b[0m, in \u001b[0;36m_NQuad.integrate\u001b[1;34m(self, *args, **kwargs)\u001b[0m\n\u001b[0;32m    877\u001b[0m \u001b[39melse\u001b[39;00m:\n\u001b[0;32m    878\u001b[0m     f \u001b[39m=\u001b[39m partial(\u001b[39mself\u001b[39m\u001b[39m.\u001b[39mintegrate, depth\u001b[39m=\u001b[39mdepth\u001b[39m+\u001b[39m\u001b[39m1\u001b[39m)\n\u001b[1;32m--> 879\u001b[0m quad_r \u001b[39m=\u001b[39m quad(f, low, high, args\u001b[39m=\u001b[39margs, full_output\u001b[39m=\u001b[39m\u001b[39mself\u001b[39m\u001b[39m.\u001b[39mfull_output,\n\u001b[0;32m    880\u001b[0m               \u001b[39m*\u001b[39m\u001b[39m*\u001b[39mopt)\n\u001b[0;32m    881\u001b[0m value \u001b[39m=\u001b[39m quad_r[\u001b[39m0\u001b[39m]\n\u001b[0;32m    882\u001b[0m abserr \u001b[39m=\u001b[39m quad_r[\u001b[39m1\u001b[39m]\n",
      "File \u001b[1;32mc:\\Users\\Yumeick\\anaconda3\\lib\\site-packages\\scipy\\integrate\\quadpack.py:351\u001b[0m, in \u001b[0;36mquad\u001b[1;34m(func, a, b, args, full_output, epsabs, epsrel, limit, points, weight, wvar, wopts, maxp1, limlst)\u001b[0m\n\u001b[0;32m    348\u001b[0m flip, a, b \u001b[39m=\u001b[39m b \u001b[39m<\u001b[39m a, \u001b[39mmin\u001b[39m(a, b), \u001b[39mmax\u001b[39m(a, b)\n\u001b[0;32m    350\u001b[0m \u001b[39mif\u001b[39;00m weight \u001b[39mis\u001b[39;00m \u001b[39mNone\u001b[39;00m:\n\u001b[1;32m--> 351\u001b[0m     retval \u001b[39m=\u001b[39m _quad(func, a, b, args, full_output, epsabs, epsrel, limit,\n\u001b[0;32m    352\u001b[0m                    points)\n\u001b[0;32m    353\u001b[0m \u001b[39melse\u001b[39;00m:\n\u001b[0;32m    354\u001b[0m     \u001b[39mif\u001b[39;00m points \u001b[39mis\u001b[39;00m \u001b[39mnot\u001b[39;00m \u001b[39mNone\u001b[39;00m:\n",
      "File \u001b[1;32mc:\\Users\\Yumeick\\anaconda3\\lib\\site-packages\\scipy\\integrate\\quadpack.py:465\u001b[0m, in \u001b[0;36m_quad\u001b[1;34m(func, a, b, args, full_output, epsabs, epsrel, limit, points)\u001b[0m\n\u001b[0;32m    463\u001b[0m         \u001b[39mreturn\u001b[39;00m _quadpack\u001b[39m.\u001b[39m_qagse(func,a,b,args,full_output,epsabs,epsrel,limit)\n\u001b[0;32m    464\u001b[0m     \u001b[39melse\u001b[39;00m:\n\u001b[1;32m--> 465\u001b[0m         \u001b[39mreturn\u001b[39;00m _quadpack\u001b[39m.\u001b[39;49m_qagie(func,bound,infbounds,args,full_output,epsabs,epsrel,limit)\n\u001b[0;32m    466\u001b[0m \u001b[39melse\u001b[39;00m:\n\u001b[0;32m    467\u001b[0m     \u001b[39mif\u001b[39;00m infbounds \u001b[39m!=\u001b[39m \u001b[39m0\u001b[39m:\n",
      "File \u001b[1;32mc:\\Users\\Yumeick\\anaconda3\\lib\\site-packages\\sympy\\core\\expr.py:345\u001b[0m, in \u001b[0;36mExpr.__float__\u001b[1;34m(self)\u001b[0m\n\u001b[0;32m    343\u001b[0m \u001b[39mif\u001b[39;00m result\u001b[39m.\u001b[39mis_number \u001b[39mand\u001b[39;00m result\u001b[39m.\u001b[39mas_real_imag()[\u001b[39m1\u001b[39m]:\n\u001b[0;32m    344\u001b[0m     \u001b[39mraise\u001b[39;00m \u001b[39mTypeError\u001b[39;00m(\u001b[39m\"\u001b[39m\u001b[39mCannot convert complex to float\u001b[39m\u001b[39m\"\u001b[39m)\n\u001b[1;32m--> 345\u001b[0m \u001b[39mraise\u001b[39;00m \u001b[39mTypeError\u001b[39;00m(\u001b[39m\"\u001b[39m\u001b[39mCannot convert expression to float\u001b[39m\u001b[39m\"\u001b[39m)\n",
      "\u001b[1;31mTypeError\u001b[0m: Cannot convert expression to float"
     ]
    }
   ],
   "source": [
    "import numpy as np\n",
    "import sympy\n",
    "from sympy import *\n",
    "from scipy.integrate import dblquad\n",
    "import math\n",
    "\n",
    "#1\n",
    "def f(x, y):\n",
    "    return pow(sympy.E, -1*(2*x+3*y))\n",
    "\n",
    "F= dblquad(f, 0, oo, lambda x:0, lambda x:oo)\n",
    "k= 1 / F[0]\n",
    "print(\"常数k：{:.4f}\".format(k))\n",
    "\n",
    "# 概率密度函数\n",
    "def f(x, y):\n",
    "    if x>0 and y>0:\n",
    "        return k * pow(sympy.E, -1*(2*x+3*y))\n",
    "    else:\n",
    "        return 0\n",
    "\n",
    "#2\n",
    "x,y = sympy.symbols('x,y', real=True)\n",
    "#F= dblquad(f, -oo, x, lambda x:-oo, lambda x:y)\n",
    "F, err= dblquad(f, y, oo, lambda x:0, lambda x:oo)\n",
    "\n",
    "# 带未知参数的积分怎么弄?"
   ]
  },
  {
   "cell_type": "markdown",
   "metadata": {},
   "source": [
    "---\n",
    "---\n",
    "#### 边缘分布"
   ]
  },
  {
   "cell_type": "markdown",
   "metadata": {},
   "source": [
    "对于二维连续型随机变量$(X,Y)$，联合概率密度和分布函数分别为$f(x,y)$和$F(x,y)$，  \n",
    "则关于$X$的边缘分布函数为\n",
    "$$F_{X}(x)=P\\left \\{ X \\le x \\right \\} = F(x,+\\infty) \n",
    "= \\int_{-\\infty}^{x} \\left [ \\int_{-\\infty}^{+\\infty} f(x,y) \\mathrm{d}y \\right ]  \\mathrm{d}x $$\n",
    "关于$X$的边缘密度函数为\n",
    "$$f_{X}(x) = \\int_{-\\infty}^{+\\infty} f(x,y) \\mathrm{d}y$$  \n",
    "关于$Y$的则将$x$和$y$全部对调即可。"
   ]
  },
  {
   "cell_type": "markdown",
   "metadata": {},
   "source": [
    "ex 7.19  \n",
    "对某一群体的吸烟及健康状况进行调查，引入随机变量$X$和$Y$。\n",
    "$$X=\\left\\{\\begin{matrix}\n",
    " 0 ,& 健康\\\\\n",
    " 1 ,& 一般\\\\\n",
    " 2 ,& 不健康\n",
    "\\end{matrix}\\right.$$\n",
    "$$Y=\\left\\{\\begin{matrix}\n",
    " 0 ,& 不吸烟\\\\\n",
    " 10 ,& 一天吸烟不多于15支\\\\\n",
    " 20 ,& 一天吸烟多于15支\n",
    "\\end{matrix}\\right.$$  \n",
    "根据调查结果，得$(X,Y)$的联合概率分布如下表：\n",
    "|$(X,Y)$的联合概率|0|10|20|\n",
    "|:---:|:---:|:---:|:---:|\n",
    "|0|0.35|0.04|0.025|\n",
    "|1|0.025|0.15|0.04|\n",
    "|2|0.020|0.10|0.25|\n",
    "\n",
    "1. 求关于$X$和$Y$的边缘概率分布\n",
    "2. 求$P(X=2 \\mid Y=20)$的值"
   ]
  },
  {
   "cell_type": "code",
   "execution_count": 36,
   "metadata": {},
   "outputs": [
    {
     "name": "stdout",
     "output_type": "stream",
     "text": [
      "X的边缘概率：\n",
      "X\tP\n",
      "0\t0.415\n",
      "1\t0.215\n",
      "2\t0.37\n",
      "1\n",
      "Y的边缘概率：\n",
      "Y\tP\n",
      "0\t0.395\n",
      "1\t0.290\n",
      "2\t0.315\n",
      "P(X=2 | Y=20)=0.794\n"
     ]
    }
   ],
   "source": [
    "import numpy as np\n",
    "\n",
    "P= np.matrix([[0.35, 0.04, 0.025], [0.025, 0.15, 0.04], [0.02, 0.1, 0.25]])\n",
    "\n",
    "#1\n",
    "#关于X的边缘概率分布\n",
    "sum_x= P.sum(axis=1)\n",
    "print(\"X的边缘概率：\\nX\\tP\")\n",
    "for x in range(len(sum_x)):\n",
    "    print(\"{}\\t{}\".format(x, float(sum_x[x])))\n",
    "\n",
    "\n",
    "#关于Y的边缘概率分布\n",
    "sum_y= P.sum(axis=0)\n",
    "print(len(sum_y))\n",
    "print(\"Y的边缘概率：\\nY\\tP\")\n",
    "for y in range(len(sum_y.T)):\n",
    "    print(\"{}\\t{:.3f}\".format(y, float(sum_y.T[y])))\n",
    "\n",
    "#2\n",
    "p2_20= P[2,2] / sum_y.T[2]\n",
    "print(\"P(X=2 | Y=20)={:.3f}\".format(float(p2_20)))"
   ]
  },
  {
   "cell_type": "markdown",
   "metadata": {},
   "source": [
    "ex 7.20  \n",
    "设二维随机变量$(X,Y)$在区域$G=\\left \\{ (x,y) \\mid  0 \\le x \\le 1, x^2 \\le y \\le x \\right \\} $上服从均匀分布，求边缘概率密度$f_{x}(x)$和$f_{y}(y)$。"
   ]
  },
  {
   "cell_type": "code",
   "execution_count": null,
   "metadata": {},
   "outputs": [],
   "source": []
  },
  {
   "cell_type": "markdown",
   "metadata": {},
   "source": [
    "---\n",
    "---\n",
    "#### **Scipy.stats**相关函数"
   ]
  },
  {
   "cell_type": "markdown",
   "metadata": {},
   "source": [
    "该模块有多种概率分布，每种分布有以下几种常用的统计函数：  \n",
    "\n",
    "|函数名|解释(相关参数看各自分布的要求)|\n",
    "|:---:|:---:|\n",
    "|`rvs`|产生服从指定分布的随机数|\n",
    "|`pdf`|概率密度函数|\n",
    "|`cdf`|分布函数|\n",
    "|`ppf`|百分点函数，即分布函数的反函数|\n",
    "|`Sf`|残差函数|\n",
    "|`stats`|返回期望与方差|\n",
    "\n",
    "常用分布：\n",
    "\n",
    "|分布|名称|\n",
    "|:---:|:---:|\n",
    "|`norm`|正态分布|\n",
    "|`binom`|二项分布|\n",
    "|`poisson`|泊松分布|\n",
    "|`uniform`|均匀分布|\n",
    "|`chi2`|卡方分布|\n",
    "|`beta`|Beta分布|"
   ]
  },
  {
   "cell_type": "markdown",
   "metadata": {},
   "source": [
    "ex 7.23  \n",
    "获取`norm`函数的使用说明"
   ]
  },
  {
   "cell_type": "code",
   "execution_count": 10,
   "metadata": {},
   "outputs": [
    {
     "name": "stdout",
     "output_type": "stream",
     "text": [
      "A normal continuous random variable.\n",
      "\n",
      "    The location (``loc``) keyword specifies the mean.\n",
      "    The scale (``scale``) keyword specifies the standard deviation.\n",
      "\n",
      "    As an instance of the `rv_continuous` class, `norm` object inherits from it\n",
      "    a collection of generic methods (see below for the full list),\n",
      "    and completes them with details specific for this particular distribution.\n",
      "    \n",
      "    Methods\n",
      "    -------\n",
      "    rvs(loc=0, scale=1, size=1, random_state=None)\n",
      "        Random variates.\n",
      "    pdf(x, loc=0, scale=1)\n",
      "        Probability density function.\n",
      "    logpdf(x, loc=0, scale=1)\n",
      "        Log of the probability density function.\n",
      "    cdf(x, loc=0, scale=1)\n",
      "        Cumulative distribution function.\n",
      "    logcdf(x, loc=0, scale=1)\n",
      "        Log of the cumulative distribution function.\n",
      "    sf(x, loc=0, scale=1)\n",
      "        Survival function  (also defined as ``1 - cdf``, but `sf` is sometimes more accurate).\n",
      "    logsf(x, loc=0, scale=1)\n",
      "        Log of the survival function.\n",
      "    ppf(q, loc=0, scale=1)\n",
      "        Percent point function (inverse of ``cdf`` --- percentiles).\n",
      "    isf(q, loc=0, scale=1)\n",
      "        Inverse survival function (inverse of ``sf``).\n",
      "    moment(n, loc=0, scale=1)\n",
      "        Non-central moment of order n\n",
      "    stats(loc=0, scale=1, moments='mv')\n",
      "        Mean('m'), variance('v'), skew('s'), and/or kurtosis('k').\n",
      "    entropy(loc=0, scale=1)\n",
      "        (Differential) entropy of the RV.\n",
      "    fit(data)\n",
      "        Parameter estimates for generic data.\n",
      "        See `scipy.stats.rv_continuous.fit <https://docs.scipy.org/doc/scipy/reference/generated/scipy.stats.rv_continuous.fit.html#scipy.stats.rv_continuous.fit>`__ for detailed documentation of the\n",
      "        keyword arguments.\n",
      "    expect(func, args=(), loc=0, scale=1, lb=None, ub=None, conditional=False, **kwds)\n",
      "        Expected value of a function (of one argument) with respect to the distribution.\n",
      "    median(loc=0, scale=1)\n",
      "        Median of the distribution.\n",
      "    mean(loc=0, scale=1)\n",
      "        Mean of the distribution.\n",
      "    var(loc=0, scale=1)\n",
      "        Variance of the distribution.\n",
      "    std(loc=0, scale=1)\n",
      "        Standard deviation of the distribution.\n",
      "    interval(alpha, loc=0, scale=1)\n",
      "        Endpoints of the range that contains fraction alpha [0, 1] of the\n",
      "        distribution\n",
      "\n",
      "    Notes\n",
      "    -----\n",
      "    The probability density function for `norm` is:\n",
      "\n",
      "    .. math::\n",
      "\n",
      "        f(x) = \\frac{\\exp(-x^2/2)}{\\sqrt{2\\pi}}\n",
      "\n",
      "    for a real number :math:`x`.\n",
      "\n",
      "    The probability density above is defined in the \"standardized\" form. To shift\n",
      "    and/or scale the distribution use the ``loc`` and ``scale`` parameters.\n",
      "    Specifically, ``norm.pdf(x, loc, scale)`` is identically\n",
      "    equivalent to ``norm.pdf(y) / scale`` with\n",
      "    ``y = (x - loc) / scale``. Note that shifting the location of a distribution\n",
      "    does not make it a \"noncentral\" distribution; noncentral generalizations of\n",
      "    some distributions are available in separate classes.\n",
      "\n",
      "    Examples\n",
      "    --------\n",
      "    >>> from scipy.stats import norm\n",
      "    >>> import matplotlib.pyplot as plt\n",
      "    >>> fig, ax = plt.subplots(1, 1)\n",
      "    \n",
      "    Calculate the first four moments:\n",
      "    \n",
      "    \n",
      "    >>> mean, var, skew, kurt = norm.stats(moments='mvsk')\n",
      "    \n",
      "    Display the probability density function (``pdf``):\n",
      "    \n",
      "    >>> x = np.linspace(norm.ppf(0.01),\n",
      "    ...                 norm.ppf(0.99), 100)\n",
      "    >>> ax.plot(x, norm.pdf(x),\n",
      "    ...        'r-', lw=5, alpha=0.6, label='norm pdf')\n",
      "    \n",
      "    Alternatively, the distribution object can be called (as a function)\n",
      "    to fix the shape, location and scale parameters. This returns a \"frozen\"\n",
      "    RV object holding the given parameters fixed.\n",
      "    \n",
      "    Freeze the distribution and display the frozen ``pdf``:\n",
      "    \n",
      "    >>> rv = norm()\n",
      "    >>> ax.plot(x, rv.pdf(x), 'k-', lw=2, label='frozen pdf')\n",
      "    \n",
      "    Check accuracy of ``cdf`` and ``ppf``:\n",
      "    \n",
      "    >>> vals = norm.ppf([0.001, 0.5, 0.999])\n",
      "    >>> np.allclose([0.001, 0.5, 0.999], norm.cdf(vals))\n",
      "    True\n",
      "    \n",
      "    Generate random numbers:\n",
      "    \n",
      "    >>> r = norm.rvs(size=1000)\n",
      "    \n",
      "    And compare the histogram:\n",
      "    \n",
      "    >>> ax.hist(r, density=True, histtype='stepfilled', alpha=0.2)\n",
      "    >>> ax.legend(loc='best', frameon=False)\n",
      "    >>> plt.show()\n",
      "    \n",
      "\n",
      "    \n"
     ]
    }
   ],
   "source": [
    "from scipy import stats\n",
    "from scipy.stats import norm\n",
    "print(norm.__doc__)"
   ]
  },
  {
   "cell_type": "markdown",
   "metadata": {},
   "source": [
    "ex 7.24  \n",
    "创建正态分布随机变量及绘图"
   ]
  },
  {
   "cell_type": "code",
   "execution_count": 11,
   "metadata": {},
   "outputs": [
    {
     "data": {
      "image/png": "[encoded data removed]",
      "image/svg+xml": "<?xml version=\"1.0\" encoding=\"utf-8\" standalone=\"no\"?>\n<!DOCTYPE svg PUBLIC \"-//W3C//DTD SVG 1.1//EN\"\n  \"http://www.w3.org/Graphics/SVG/1.1/DTD/svg11.dtd\">\n<svg xmlns:xlink=\"http://www.w3.org/1999/xlink\" width=\"378.465625pt\" height=\"248.518125pt\" viewBox=\"0 0 378.465625 248.518125\" xmlns=\"http://www.w3.org/2000/svg\" version=\"1.1\">\n <metadata>\n  <rdf:RDF xmlns:dc=\"http://purl.org/dc/elements/1.1/\" xmlns:cc=\"http://creativecommons.org/ns#\" xmlns:rdf=\"http://www.w3.org/1999/02/22-rdf-syntax-ns#\">\n   <cc:Work>\n    <dc:type rdf:resource=\"http://purl.org/dc/dcmitype/StillImage\"/>\n    <dc:date>2023-02-18T09:46:17.609052</dc:date>\n    <dc:format>image/svg+xml</dc:format>\n    <dc:creator>\n     <cc:Agent>\n      <dc:title>Matplotlib v3.6.3, https://matplotlib.org/</dc:title>\n     </cc:Agent>\n    </dc:creator>\n   </cc:Work>\n  </rdf:RDF>\n </metadata>\n <defs>\n  <style type=\"text/css\">*{stroke-linejoin: round; stroke-linecap: butt}</style>\n </defs>\n <g id=\"figure_1\">\n  <g id=\"patch_1\">\n   <path d=\"M 0 248.518125 \nL 378.465625 248.518125 \nL 378.465625 0 \nL 0 0 \nL 0 248.518125 \nz\n\" style=\"fill: none\"/>\n  </g>\n  <g id=\"axes_1\">\n   <g id=\"patch_2\">\n    <path d=\"M 36.465625 224.64 \nL 371.265625 224.64 \nL 371.265625 7.2 \nL 36.465625 7.2 \nz\n\" style=\"fill: #ffffff\"/>\n   </g>\n   <g id=\"matplotlib.axis_1\">\n    <g id=\"xtick_1\">\n     <g id=\"line2d_1\">\n      <defs>\n       <path id=\"mfc98a89647\" d=\"M 0 0 \nL 0 3.5 \n\" style=\"stroke: #000000; stroke-width: 0.8\"/>\n      </defs>\n      <g>\n       <use xlink:href=\"#mfc98a89647\" x=\"51.683807\" y=\"224.64\" style=\"stroke: #000000; stroke-width: 0.8\"/>\n      </g>\n     </g>\n     <g id=\"text_1\">\n      <!-- −10.0 -->\n      <g transform=\"translate(36.361151 239.238437) scale(0.1 -0.1)\">\n       <defs>\n        <path id=\"DejaVuSans-2212\" d=\"M 678 2272 \nL 4684 2272 \nL 4684 1741 \nL 678 1741 \nL 678 2272 \nz\n\" transform=\"scale(0.015625)\"/>\n        <path id=\"DejaVuSans-31\" d=\"M 794 531 \nL 1825 531 \nL 1825 4091 \nL 703 3866 \nL 703 4441 \nL 1819 4666 \nL 2450 4666 \nL 2450 531 \nL 3481 531 \nL 3481 0 \nL 794 0 \nL 794 531 \nz\n\" transform=\"scale(0.015625)\"/>\n        <path id=\"DejaVuSans-30\" d=\"M 2034 4250 \nQ 1547 4250 1301 3770 \nQ 1056 3291 1056 2328 \nQ 1056 1369 1301 889 \nQ 1547 409 2034 409 \nQ 2525 409 2770 889 \nQ 3016 1369 3016 2328 \nQ 3016 3291 2770 3770 \nQ 2525 4250 2034 4250 \nz\nM 2034 4750 \nQ 2819 4750 3233 4129 \nQ 3647 3509 3647 2328 \nQ 3647 1150 3233 529 \nQ 2819 -91 2034 -91 \nQ 1250 -91 836 529 \nQ 422 1150 422 2328 \nQ 422 3509 836 4129 \nQ 1250 4750 2034 4750 \nz\n\" transform=\"scale(0.015625)\"/>\n        <path id=\"DejaVuSans-2e\" d=\"M 684 794 \nL 1344 794 \nL 1344 0 \nL 684 0 \nL 684 794 \nz\n\" transform=\"scale(0.015625)\"/>\n       </defs>\n       <use xlink:href=\"#DejaVuSans-2212\"/>\n       <use xlink:href=\"#DejaVuSans-31\" x=\"83.789062\"/>\n       <use xlink:href=\"#DejaVuSans-30\" x=\"147.412109\"/>\n       <use xlink:href=\"#DejaVuSans-2e\" x=\"211.035156\"/>\n       <use xlink:href=\"#DejaVuSans-30\" x=\"242.822266\"/>\n      </g>\n     </g>\n    </g>\n    <g id=\"xtick_2\">\n     <g id=\"line2d_2\">\n      <g>\n       <use xlink:href=\"#mfc98a89647\" x=\"89.748294\" y=\"224.64\" style=\"stroke: #000000; stroke-width: 0.8\"/>\n      </g>\n     </g>\n     <g id=\"text_2\">\n      <!-- −7.5 -->\n      <g transform=\"translate(77.606887 239.238437) scale(0.1 -0.1)\">\n       <defs>\n        <path id=\"DejaVuSans-37\" d=\"M 525 4666 \nL 3525 4666 \nL 3525 4397 \nL 1831 0 \nL 1172 0 \nL 2766 4134 \nL 525 4134 \nL 525 4666 \nz\n\" transform=\"scale(0.015625)\"/>\n        <path id=\"DejaVuSans-35\" d=\"M 691 4666 \nL 3169 4666 \nL 3169 4134 \nL 1269 4134 \nL 1269 2991 \nQ 1406 3038 1543 3061 \nQ 1681 3084 1819 3084 \nQ 2600 3084 3056 2656 \nQ 3513 2228 3513 1497 \nQ 3513 744 3044 326 \nQ 2575 -91 1722 -91 \nQ 1428 -91 1123 -41 \nQ 819 9 494 109 \nL 494 744 \nQ 775 591 1075 516 \nQ 1375 441 1709 441 \nQ 2250 441 2565 725 \nQ 2881 1009 2881 1497 \nQ 2881 1984 2565 2268 \nQ 2250 2553 1709 2553 \nQ 1456 2553 1204 2497 \nQ 953 2441 691 2322 \nL 691 4666 \nz\n\" transform=\"scale(0.015625)\"/>\n       </defs>\n       <use xlink:href=\"#DejaVuSans-2212\"/>\n       <use xlink:href=\"#DejaVuSans-37\" x=\"83.789062\"/>\n       <use xlink:href=\"#DejaVuSans-2e\" x=\"147.412109\"/>\n       <use xlink:href=\"#DejaVuSans-35\" x=\"179.199219\"/>\n      </g>\n     </g>\n    </g>\n    <g id=\"xtick_3\">\n     <g id=\"line2d_3\">\n      <g>\n       <use xlink:href=\"#mfc98a89647\" x=\"127.81278\" y=\"224.64\" style=\"stroke: #000000; stroke-width: 0.8\"/>\n      </g>\n     </g>\n     <g id=\"text_3\">\n      <!-- −5.0 -->\n      <g transform=\"translate(115.671374 239.238437) scale(0.1 -0.1)\">\n       <use xlink:href=\"#DejaVuSans-2212\"/>\n       <use xlink:href=\"#DejaVuSans-35\" x=\"83.789062\"/>\n       <use xlink:href=\"#DejaVuSans-2e\" x=\"147.412109\"/>\n       <use xlink:href=\"#DejaVuSans-30\" x=\"179.199219\"/>\n      </g>\n     </g>\n    </g>\n    <g id=\"xtick_4\">\n     <g id=\"line2d_4\">\n      <g>\n       <use xlink:href=\"#mfc98a89647\" x=\"165.877267\" y=\"224.64\" style=\"stroke: #000000; stroke-width: 0.8\"/>\n      </g>\n     </g>\n     <g id=\"text_4\">\n      <!-- −2.5 -->\n      <g transform=\"translate(153.735861 239.238437) scale(0.1 -0.1)\">\n       <defs>\n        <path id=\"DejaVuSans-32\" d=\"M 1228 531 \nL 3431 531 \nL 3431 0 \nL 469 0 \nL 469 531 \nQ 828 903 1448 1529 \nQ 2069 2156 2228 2338 \nQ 2531 2678 2651 2914 \nQ 2772 3150 2772 3378 \nQ 2772 3750 2511 3984 \nQ 2250 4219 1831 4219 \nQ 1534 4219 1204 4116 \nQ 875 4013 500 3803 \nL 500 4441 \nQ 881 4594 1212 4672 \nQ 1544 4750 1819 4750 \nQ 2544 4750 2975 4387 \nQ 3406 4025 3406 3419 \nQ 3406 3131 3298 2873 \nQ 3191 2616 2906 2266 \nQ 2828 2175 2409 1742 \nQ 1991 1309 1228 531 \nz\n\" transform=\"scale(0.015625)\"/>\n       </defs>\n       <use xlink:href=\"#DejaVuSans-2212\"/>\n       <use xlink:href=\"#DejaVuSans-32\" x=\"83.789062\"/>\n       <use xlink:href=\"#DejaVuSans-2e\" x=\"147.412109\"/>\n       <use xlink:href=\"#DejaVuSans-35\" x=\"179.199219\"/>\n      </g>\n     </g>\n    </g>\n    <g id=\"xtick_5\">\n     <g id=\"line2d_5\">\n      <g>\n       <use xlink:href=\"#mfc98a89647\" x=\"203.941754\" y=\"224.64\" style=\"stroke: #000000; stroke-width: 0.8\"/>\n      </g>\n     </g>\n     <g id=\"text_5\">\n      <!-- 0.0 -->\n      <g transform=\"translate(195.990191 239.238437) scale(0.1 -0.1)\">\n       <use xlink:href=\"#DejaVuSans-30\"/>\n       <use xlink:href=\"#DejaVuSans-2e\" x=\"63.623047\"/>\n       <use xlink:href=\"#DejaVuSans-30\" x=\"95.410156\"/>\n      </g>\n     </g>\n    </g>\n    <g id=\"xtick_6\">\n     <g id=\"line2d_6\">\n      <g>\n       <use xlink:href=\"#mfc98a89647\" x=\"242.006241\" y=\"224.64\" style=\"stroke: #000000; stroke-width: 0.8\"/>\n      </g>\n     </g>\n     <g id=\"text_6\">\n      <!-- 2.5 -->\n      <g transform=\"translate(234.054678 239.238437) scale(0.1 -0.1)\">\n       <use xlink:href=\"#DejaVuSans-32\"/>\n       <use xlink:href=\"#DejaVuSans-2e\" x=\"63.623047\"/>\n       <use xlink:href=\"#DejaVuSans-35\" x=\"95.410156\"/>\n      </g>\n     </g>\n    </g>\n    <g id=\"xtick_7\">\n     <g id=\"line2d_7\">\n      <g>\n       <use xlink:href=\"#mfc98a89647\" x=\"280.070728\" y=\"224.64\" style=\"stroke: #000000; stroke-width: 0.8\"/>\n      </g>\n     </g>\n     <g id=\"text_7\">\n      <!-- 5.0 -->\n      <g transform=\"translate(272.119165 239.238437) scale(0.1 -0.1)\">\n       <use xlink:href=\"#DejaVuSans-35\"/>\n       <use xlink:href=\"#DejaVuSans-2e\" x=\"63.623047\"/>\n       <use xlink:href=\"#DejaVuSans-30\" x=\"95.410156\"/>\n      </g>\n     </g>\n    </g>\n    <g id=\"xtick_8\">\n     <g id=\"line2d_8\">\n      <g>\n       <use xlink:href=\"#mfc98a89647\" x=\"318.135214\" y=\"224.64\" style=\"stroke: #000000; stroke-width: 0.8\"/>\n      </g>\n     </g>\n     <g id=\"text_8\">\n      <!-- 7.5 -->\n      <g transform=\"translate(310.183652 239.238437) scale(0.1 -0.1)\">\n       <use xlink:href=\"#DejaVuSans-37\"/>\n       <use xlink:href=\"#DejaVuSans-2e\" x=\"63.623047\"/>\n       <use xlink:href=\"#DejaVuSans-35\" x=\"95.410156\"/>\n      </g>\n     </g>\n    </g>\n    <g id=\"xtick_9\">\n     <g id=\"line2d_9\">\n      <g>\n       <use xlink:href=\"#mfc98a89647\" x=\"356.199701\" y=\"224.64\" style=\"stroke: #000000; stroke-width: 0.8\"/>\n      </g>\n     </g>\n     <g id=\"text_9\">\n      <!-- 10.0 -->\n      <g transform=\"translate(345.066889 239.238437) scale(0.1 -0.1)\">\n       <use xlink:href=\"#DejaVuSans-31\"/>\n       <use xlink:href=\"#DejaVuSans-30\" x=\"63.623047\"/>\n       <use xlink:href=\"#DejaVuSans-2e\" x=\"127.246094\"/>\n       <use xlink:href=\"#DejaVuSans-30\" x=\"159.033203\"/>\n      </g>\n     </g>\n    </g>\n   </g>\n   <g id=\"matplotlib.axis_2\">\n    <g id=\"ytick_1\">\n     <g id=\"line2d_10\">\n      <defs>\n       <path id=\"m5c9b4b3dcc\" d=\"M 0 0 \nL -3.5 0 \n\" style=\"stroke: #000000; stroke-width: 0.8\"/>\n      </defs>\n      <g>\n       <use xlink:href=\"#m5c9b4b3dcc\" x=\"36.465625\" y=\"214.756364\" style=\"stroke: #000000; stroke-width: 0.8\"/>\n      </g>\n     </g>\n     <g id=\"text_10\">\n      <!-- 0.00 -->\n      <g transform=\"translate(7.2 218.555582) scale(0.1 -0.1)\">\n       <use xlink:href=\"#DejaVuSans-30\"/>\n       <use xlink:href=\"#DejaVuSans-2e\" x=\"63.623047\"/>\n       <use xlink:href=\"#DejaVuSans-30\" x=\"95.410156\"/>\n       <use xlink:href=\"#DejaVuSans-30\" x=\"159.033203\"/>\n      </g>\n     </g>\n    </g>\n    <g id=\"ytick_2\">\n     <g id=\"line2d_11\">\n      <g>\n       <use xlink:href=\"#m5c9b4b3dcc\" x=\"36.465625\" y=\"189.981761\" style=\"stroke: #000000; stroke-width: 0.8\"/>\n      </g>\n     </g>\n     <g id=\"text_11\">\n      <!-- 0.05 -->\n      <g transform=\"translate(7.2 193.78098) scale(0.1 -0.1)\">\n       <use xlink:href=\"#DejaVuSans-30\"/>\n       <use xlink:href=\"#DejaVuSans-2e\" x=\"63.623047\"/>\n       <use xlink:href=\"#DejaVuSans-30\" x=\"95.410156\"/>\n       <use xlink:href=\"#DejaVuSans-35\" x=\"159.033203\"/>\n      </g>\n     </g>\n    </g>\n    <g id=\"ytick_3\">\n     <g id=\"line2d_12\">\n      <g>\n       <use xlink:href=\"#m5c9b4b3dcc\" x=\"36.465625\" y=\"165.207159\" style=\"stroke: #000000; stroke-width: 0.8\"/>\n      </g>\n     </g>\n     <g id=\"text_12\">\n      <!-- 0.10 -->\n      <g transform=\"translate(7.2 169.006378) scale(0.1 -0.1)\">\n       <use xlink:href=\"#DejaVuSans-30\"/>\n       <use xlink:href=\"#DejaVuSans-2e\" x=\"63.623047\"/>\n       <use xlink:href=\"#DejaVuSans-31\" x=\"95.410156\"/>\n       <use xlink:href=\"#DejaVuSans-30\" x=\"159.033203\"/>\n      </g>\n     </g>\n    </g>\n    <g id=\"ytick_4\">\n     <g id=\"line2d_13\">\n      <g>\n       <use xlink:href=\"#m5c9b4b3dcc\" x=\"36.465625\" y=\"140.432557\" style=\"stroke: #000000; stroke-width: 0.8\"/>\n      </g>\n     </g>\n     <g id=\"text_13\">\n      <!-- 0.15 -->\n      <g transform=\"translate(7.2 144.231775) scale(0.1 -0.1)\">\n       <use xlink:href=\"#DejaVuSans-30\"/>\n       <use xlink:href=\"#DejaVuSans-2e\" x=\"63.623047\"/>\n       <use xlink:href=\"#DejaVuSans-31\" x=\"95.410156\"/>\n       <use xlink:href=\"#DejaVuSans-35\" x=\"159.033203\"/>\n      </g>\n     </g>\n    </g>\n    <g id=\"ytick_5\">\n     <g id=\"line2d_14\">\n      <g>\n       <use xlink:href=\"#m5c9b4b3dcc\" x=\"36.465625\" y=\"115.657954\" style=\"stroke: #000000; stroke-width: 0.8\"/>\n      </g>\n     </g>\n     <g id=\"text_14\">\n      <!-- 0.20 -->\n      <g transform=\"translate(7.2 119.457173) scale(0.1 -0.1)\">\n       <use xlink:href=\"#DejaVuSans-30\"/>\n       <use xlink:href=\"#DejaVuSans-2e\" x=\"63.623047\"/>\n       <use xlink:href=\"#DejaVuSans-32\" x=\"95.410156\"/>\n       <use xlink:href=\"#DejaVuSans-30\" x=\"159.033203\"/>\n      </g>\n     </g>\n    </g>\n    <g id=\"ytick_6\">\n     <g id=\"line2d_15\">\n      <g>\n       <use xlink:href=\"#m5c9b4b3dcc\" x=\"36.465625\" y=\"90.883352\" style=\"stroke: #000000; stroke-width: 0.8\"/>\n      </g>\n     </g>\n     <g id=\"text_15\">\n      <!-- 0.25 -->\n      <g transform=\"translate(7.2 94.682571) scale(0.1 -0.1)\">\n       <use xlink:href=\"#DejaVuSans-30\"/>\n       <use xlink:href=\"#DejaVuSans-2e\" x=\"63.623047\"/>\n       <use xlink:href=\"#DejaVuSans-32\" x=\"95.410156\"/>\n       <use xlink:href=\"#DejaVuSans-35\" x=\"159.033203\"/>\n      </g>\n     </g>\n    </g>\n    <g id=\"ytick_7\">\n     <g id=\"line2d_16\">\n      <g>\n       <use xlink:href=\"#m5c9b4b3dcc\" x=\"36.465625\" y=\"66.108749\" style=\"stroke: #000000; stroke-width: 0.8\"/>\n      </g>\n     </g>\n     <g id=\"text_16\">\n      <!-- 0.30 -->\n      <g transform=\"translate(7.2 69.907968) scale(0.1 -0.1)\">\n       <defs>\n        <path id=\"DejaVuSans-33\" d=\"M 2597 2516 \nQ 3050 2419 3304 2112 \nQ 3559 1806 3559 1356 \nQ 3559 666 3084 287 \nQ 2609 -91 1734 -91 \nQ 1441 -91 1130 -33 \nQ 819 25 488 141 \nL 488 750 \nQ 750 597 1062 519 \nQ 1375 441 1716 441 \nQ 2309 441 2620 675 \nQ 2931 909 2931 1356 \nQ 2931 1769 2642 2001 \nQ 2353 2234 1838 2234 \nL 1294 2234 \nL 1294 2753 \nL 1863 2753 \nQ 2328 2753 2575 2939 \nQ 2822 3125 2822 3475 \nQ 2822 3834 2567 4026 \nQ 2313 4219 1838 4219 \nQ 1578 4219 1281 4162 \nQ 984 4106 628 3988 \nL 628 4550 \nQ 988 4650 1302 4700 \nQ 1616 4750 1894 4750 \nQ 2613 4750 3031 4423 \nQ 3450 4097 3450 3541 \nQ 3450 3153 3228 2886 \nQ 3006 2619 2597 2516 \nz\n\" transform=\"scale(0.015625)\"/>\n       </defs>\n       <use xlink:href=\"#DejaVuSans-30\"/>\n       <use xlink:href=\"#DejaVuSans-2e\" x=\"63.623047\"/>\n       <use xlink:href=\"#DejaVuSans-33\" x=\"95.410156\"/>\n       <use xlink:href=\"#DejaVuSans-30\" x=\"159.033203\"/>\n      </g>\n     </g>\n    </g>\n    <g id=\"ytick_8\">\n     <g id=\"line2d_17\">\n      <g>\n       <use xlink:href=\"#m5c9b4b3dcc\" x=\"36.465625\" y=\"41.334147\" style=\"stroke: #000000; stroke-width: 0.8\"/>\n      </g>\n     </g>\n     <g id=\"text_17\">\n      <!-- 0.35 -->\n      <g transform=\"translate(7.2 45.133366) scale(0.1 -0.1)\">\n       <use xlink:href=\"#DejaVuSans-30\"/>\n       <use xlink:href=\"#DejaVuSans-2e\" x=\"63.623047\"/>\n       <use xlink:href=\"#DejaVuSans-33\" x=\"95.410156\"/>\n       <use xlink:href=\"#DejaVuSans-35\" x=\"159.033203\"/>\n      </g>\n     </g>\n    </g>\n    <g id=\"ytick_9\">\n     <g id=\"line2d_18\">\n      <g>\n       <use xlink:href=\"#m5c9b4b3dcc\" x=\"36.465625\" y=\"16.559545\" style=\"stroke: #000000; stroke-width: 0.8\"/>\n      </g>\n     </g>\n     <g id=\"text_18\">\n      <!-- 0.40 -->\n      <g transform=\"translate(7.2 20.358763) scale(0.1 -0.1)\">\n       <defs>\n        <path id=\"DejaVuSans-34\" d=\"M 2419 4116 \nL 825 1625 \nL 2419 1625 \nL 2419 4116 \nz\nM 2253 4666 \nL 3047 4666 \nL 3047 1625 \nL 3713 1625 \nL 3713 1100 \nL 3047 1100 \nL 3047 0 \nL 2419 0 \nL 2419 1100 \nL 313 1100 \nL 313 1709 \nL 2253 4666 \nz\n\" transform=\"scale(0.015625)\"/>\n       </defs>\n       <use xlink:href=\"#DejaVuSans-30\"/>\n       <use xlink:href=\"#DejaVuSans-2e\" x=\"63.623047\"/>\n       <use xlink:href=\"#DejaVuSans-34\" x=\"95.410156\"/>\n       <use xlink:href=\"#DejaVuSans-30\" x=\"159.033203\"/>\n      </g>\n     </g>\n    </g>\n   </g>\n   <g id=\"line2d_19\">\n    <path d=\"M 51.683807 214.756364 \nL 145.017928 214.645764 \nL 149.737925 214.406491 \nL 152.935342 214.033574 \nL 155.371469 213.536715 \nL 157.350822 212.925454 \nL 159.177918 212.132067 \nL 160.852755 211.151937 \nL 162.375334 209.996768 \nL 163.745656 208.69574 \nL 165.115977 207.101335 \nL 166.486299 205.165482 \nL 167.85662 202.837018 \nL 169.226942 200.062753 \nL 170.597264 196.788896 \nL 171.967585 192.962842 \nL 173.490165 188.004269 \nL 175.012744 182.244249 \nL 176.535323 175.637188 \nL 178.210161 167.359182 \nL 180.037256 157.119476 \nL 182.01661 144.664076 \nL 184.300479 128.737831 \nL 187.19338 106.812342 \nL 193.435956 58.957978 \nL 195.415309 45.770888 \nL 197.090146 36.118121 \nL 198.460468 29.486632 \nL 199.678531 24.682497 \nL 200.744337 21.394617 \nL 201.657885 19.294992 \nL 202.419175 18.069533 \nL 203.028206 17.439127 \nL 203.637238 17.123167 \nL 204.094012 17.09352 \nL 204.550786 17.241711 \nL 205.159818 17.715178 \nL 205.768849 18.501769 \nL 206.530139 19.919469 \nL 207.291429 21.809898 \nL 208.204976 24.682497 \nL 209.270782 28.827756 \nL 210.488846 34.539167 \nL 211.859167 42.081095 \nL 213.534005 52.664575 \nL 215.513358 66.667463 \nL 218.558517 90.068594 \nL 223.583029 128.737831 \nL 226.019156 145.669627 \nL 228.150768 158.912326 \nL 229.977863 168.943598 \nL 231.6527 177.027977 \nL 233.327538 184.05943 \nL 234.850117 189.573525 \nL 236.372697 194.302685 \nL 237.895276 198.30904 \nL 239.417856 201.66225 \nL 240.788177 204.182209 \nL 242.158499 206.28609 \nL 243.52882 208.02611 \nL 245.0514 209.592873 \nL 246.573979 210.83432 \nL 248.248817 211.89138 \nL 249.923654 212.688713 \nL 251.903007 213.371831 \nL 254.186877 213.902844 \nL 256.92752 214.292696 \nL 260.429452 214.553544 \nL 265.758481 214.704295 \nL 277.482342 214.754665 \nL 356.047443 214.756364 \nL 356.047443 214.756364 \n\" clip-path=\"url(#p580b6b7fc5)\" style=\"fill: none; stroke: #ff0000; stroke-width: 1.5; stroke-linecap: square\"/>\n   </g>\n   <g id=\"line2d_20\">\n    <path d=\"M 51.683807 214.756337 \nL 106.953442 214.645133 \nL 117.002466 214.400976 \nL 123.701816 214.030684 \nL 129.030844 213.519393 \nL 133.446324 212.876211 \nL 137.252773 212.104094 \nL 140.754706 211.16636 \nL 143.952123 210.077686 \nL 146.845024 208.86697 \nL 149.737925 207.409558 \nL 152.478568 205.77263 \nL 155.066953 203.973555 \nL 157.655338 201.907369 \nL 160.243723 199.555487 \nL 162.832108 196.902578 \nL 165.420493 193.937633 \nL 168.161136 190.452068 \nL 170.901779 186.611832 \nL 173.79468 182.185583 \nL 176.992097 176.879022 \nL 180.49403 170.631846 \nL 184.909511 162.264767 \nL 197.699178 137.667942 \nL 200.744337 132.449616 \nL 203.332722 128.418729 \nL 205.616591 125.237167 \nL 207.748203 122.630743 \nL 209.727556 120.556796 \nL 211.554651 118.960875 \nL 213.229489 117.781376 \nL 214.904326 116.883866 \nL 216.426906 116.319478 \nL 217.949485 115.999037 \nL 219.472065 115.924942 \nL 220.994644 116.097745 \nL 222.517224 116.516155 \nL 224.039803 117.177043 \nL 225.562382 118.07549 \nL 227.23722 119.330172 \nL 229.064315 121.004355 \nL 230.891411 122.980156 \nL 232.870764 125.437242 \nL 235.154633 128.643992 \nL 237.743018 132.699244 \nL 240.635919 137.667942 \nL 244.137852 144.139739 \nL 249.619138 154.809079 \nL 256.775262 168.654513 \nL 260.733968 175.82294 \nL 264.083643 181.453177 \nL 267.128802 186.163616 \nL 270.021703 190.247972 \nL 272.762346 193.753357 \nL 275.502989 196.902578 \nL 278.243632 199.702035 \nL 280.832017 202.036649 \nL 283.420402 204.086582 \nL 286.161045 205.967674 \nL 288.901688 207.575529 \nL 291.794589 209.005482 \nL 294.68749 210.192062 \nL 297.884907 211.257798 \nL 301.234582 212.139561 \nL 305.041031 212.902512 \nL 309.304253 213.519393 \nL 314.176508 213.99583 \nL 320.266826 214.356941 \nL 328.336497 214.596374 \nL 340.973906 214.723208 \nL 356.047443 214.752314 \nL 356.047443 214.752314 \n\" clip-path=\"url(#p580b6b7fc5)\" style=\"fill: none; stroke-dasharray: 5.55,2.4; stroke-dashoffset: 0; stroke: #0000ff; stroke-width: 1.5\"/>\n   </g>\n   <g id=\"patch_3\">\n    <path d=\"M 36.465625 224.64 \nL 36.465625 7.2 \n\" style=\"fill: none; stroke: #000000; stroke-width: 0.8; stroke-linejoin: miter; stroke-linecap: square\"/>\n   </g>\n   <g id=\"patch_4\">\n    <path d=\"M 371.265625 224.64 \nL 371.265625 7.2 \n\" style=\"fill: none; stroke: #000000; stroke-width: 0.8; stroke-linejoin: miter; stroke-linecap: square\"/>\n   </g>\n   <g id=\"patch_5\">\n    <path d=\"M 36.465625 224.64 \nL 371.265625 224.64 \n\" style=\"fill: none; stroke: #000000; stroke-width: 0.8; stroke-linejoin: miter; stroke-linecap: square\"/>\n   </g>\n   <g id=\"patch_6\">\n    <path d=\"M 36.465625 7.2 \nL 371.265625 7.2 \n\" style=\"fill: none; stroke: #000000; stroke-width: 0.8; stroke-linejoin: miter; stroke-linecap: square\"/>\n   </g>\n   <g id=\"legend_1\">\n    <g id=\"patch_7\">\n     <path d=\"M 325.365625 44.55625 \nL 364.265625 44.55625 \nQ 366.265625 44.55625 366.265625 42.55625 \nL 366.265625 14.2 \nQ 366.265625 12.2 364.265625 12.2 \nL 325.365625 12.2 \nQ 323.365625 12.2 323.365625 14.2 \nL 323.365625 42.55625 \nQ 323.365625 44.55625 325.365625 44.55625 \nz\n\" style=\"fill: #ffffff; opacity: 0.8; stroke: #cccccc; stroke-linejoin: miter\"/>\n    </g>\n    <g id=\"line2d_21\">\n     <path d=\"M 327.365625 20.298437 \nL 337.365625 20.298437 \nL 347.365625 20.298437 \n\" style=\"fill: none; stroke: #ff0000; stroke-width: 1.5; stroke-linecap: square\"/>\n    </g>\n    <g id=\"text_19\">\n     <!-- $X$ -->\n     <g transform=\"translate(355.365625 23.798437) scale(0.1 -0.1)\">\n      <defs>\n       <path id=\"DejaVuSans-Oblique-58\" d=\"M 878 4666 \nL 1516 4666 \nL 2316 2981 \nL 3763 4666 \nL 4500 4666 \nL 2578 2438 \nL 3738 0 \nL 3103 0 \nL 2163 1966 \nL 459 0 \nL -275 0 \nL 1906 2509 \nL 878 4666 \nz\n\" transform=\"scale(0.015625)\"/>\n      </defs>\n      <use xlink:href=\"#DejaVuSans-Oblique-58\" transform=\"translate(0 0.09375)\"/>\n     </g>\n    </g>\n    <g id=\"line2d_22\">\n     <path d=\"M 327.365625 34.976562 \nL 337.365625 34.976562 \nL 347.365625 34.976562 \n\" style=\"fill: none; stroke-dasharray: 5.55,2.4; stroke-dashoffset: 0; stroke: #0000ff; stroke-width: 1.5\"/>\n    </g>\n    <g id=\"text_20\">\n     <!-- $Y$ -->\n     <g transform=\"translate(355.365625 38.476562) scale(0.1 -0.1)\">\n      <defs>\n       <path id=\"DejaVuSans-Oblique-59\" d=\"M 403 4666 \nL 1081 4666 \nL 1953 2747 \nL 3616 4666 \nL 4325 4666 \nL 2209 2222 \nL 1778 0 \nL 1147 0 \nL 1575 2222 \nL 403 4666 \nz\n\" transform=\"scale(0.015625)\"/>\n      </defs>\n      <use xlink:href=\"#DejaVuSans-Oblique-59\" transform=\"translate(0 0.09375)\"/>\n     </g>\n    </g>\n   </g>\n  </g>\n </g>\n <defs>\n  <clipPath id=\"p580b6b7fc5\">\n   <rect x=\"36.465625\" y=\"7.2\" width=\"334.8\" height=\"217.44\"/>\n  </clipPath>\n </defs>\n</svg>\n",
      "text/plain": [
       "<Figure size 432x288 with 1 Axes>"
      ]
     },
     "metadata": {
      "needs_background": "light"
     },
     "output_type": "display_data"
    }
   ],
   "source": [
    "from scipy import stats\n",
    "from scipy.stats import norm\n",
    "import numpy as np\n",
    "import pylab as plt\n",
    "\n",
    "X= norm()   #默认mu=0, sigma=1\n",
    "Y= norm(loc= 1.0, scale= 2.0)\n",
    "t= np.arange(-10, 10, 0.01)\n",
    "\n",
    "plt.plot(t, X.pdf(t), label=\"$X$\", color=\"red\")\n",
    "plt.plot(t, Y.pdf(t), 'b--', label='$Y$')\n",
    "plt.legend()\n",
    "plt.show()"
   ]
  },
  {
   "cell_type": "markdown",
   "metadata": {},
   "source": [
    "---\n",
    "---\n",
    "---\n",
    "### 应用"
   ]
  },
  {
   "cell_type": "markdown",
   "metadata": {},
   "source": [
    "ex 7.21  \n",
    "在50个人当中出现与自己同一天过生日的人的概率有多大？"
   ]
  },
  {
   "cell_type": "code",
   "execution_count": 1,
   "metadata": {},
   "outputs": [
    {
     "name": "stdout",
     "output_type": "stream",
     "text": [
      "在50个人中有相同生日的概率是:0.9699\n"
     ]
    }
   ],
   "source": [
    "#书本原代码\n",
    "from random import *\n",
    "counter, times= 0, int(1e4)\n",
    "for i in range(times):\n",
    "    if len({randint(1, 365) for i in range(50)}) != 50:\n",
    "        counter+= 1\n",
    "print(\"在50个人中有相同生日的概率是:{}\".format(counter/times))"
   ]
  },
  {
   "cell_type": "markdown",
   "metadata": {},
   "source": [
    "ex 7.22  \n",
    "考虑一个抛硬币的例子，一个盒子里装了3个硬币，这3个硬币抛出正面的概率分别为$0.3$、$0.5$、$0.7$。假设从盒子中随机取出一个硬币，抛出了49个正面，31个反面，那么抛哪个硬币的可能性比较大？"
   ]
  },
  {
   "cell_type": "code",
   "execution_count": 8,
   "metadata": {},
   "outputs": [
    {
     "name": "stdout",
     "output_type": "stream",
     "text": [
      "选中第3个硬币的概率最大：0.023\n"
     ]
    }
   ],
   "source": [
    "from scipy.special import  comb\n",
    "\n",
    "h= 49   #正面\n",
    "t= 31   #反面\n",
    "n= h+t  #总试验次数\n",
    "p0= h / (h+t)   #命中率\n",
    "p= [0.3, 0.5, 0.7]\n",
    "\n",
    "def bernoulli(p, n, h):\n",
    "    max_prob= 0\n",
    "    for k in range(len(p)):\n",
    "        p_h= comb(n, h) * p[k]**h * (1-p[k])**(n-h)\n",
    "        if p_h > max_prob:\n",
    "            max_prob= p_h\n",
    "            max_k= k\n",
    "    return max_k, max_prob\n",
    "\n",
    "k,prob= bernoulli(p, n, h)\n",
    "print(\"选中第{}个硬币的概率最大：{:.3f}\".format(k+1, prob))"
   ]
  },
  {
   "cell_type": "markdown",
   "metadata": {},
   "source": [
    "---\n",
    "---\n",
    "---\n",
    "### 课后习题"
   ]
  },
  {
   "cell_type": "markdown",
   "metadata": {},
   "source": [
    "#### 1. 已知某路口发生事故的概率是每天2次，用Python编程求出此处一天内发生0、1、2、3、4次事故的概率是多少？"
   ]
  },
  {
   "cell_type": "markdown",
   "metadata": {},
   "source": [
    "泊松分布：描述已知一段时间内事件发生的平均数，求某个时间内事件发生的概率\n",
    "$$P(X=r)=\\frac{e^{-\\lambda \\cdot}\\cdot \\lambda^{r}}{r!} $$  \n",
    "其中，$r$表示给定区间内发生事件的次数  \n",
    "$\\lambda$表示每个区间的平均发生次数"
   ]
  },
  {
   "cell_type": "code",
   "execution_count": 13,
   "metadata": {},
   "outputs": [
    {
     "name": "stdout",
     "output_type": "stream",
     "text": [
      "此处一天内发生0次事故的概率是0.135\n",
      "此处一天内发生1次事故的概率是0.271\n",
      "此处一天内发生2次事故的概率是0.271\n",
      "此处一天内发生3次事故的概率是0.180\n",
      "此处一天内发生4次事故的概率是0.090\n"
     ]
    }
   ],
   "source": [
    "from scipy.stats import poisson\n",
    "import sympy\n",
    "import numpy as np\n",
    "\n",
    "mu= 2\n",
    "X= poisson(mu)\n",
    "x=[0, 1, 2, 3, 4]\n",
    "for i in x:\n",
    "    print(\"此处一天内发生{}次事故的概率是{:.3f}\".format(i, X.pmf(i)))"
   ]
  },
  {
   "cell_type": "markdown",
   "metadata": {},
   "source": [
    "#### 2. 假设某地区位于甲、乙两河流交处，当任一河流泛滥时，该地区即遭受水灾。设某时期内甲河流泛滥的概率是$0.1$，乙河流泛滥的概率是$0.2$，当甲河流泛滥时，乙河流泛滥的概率是$0.3$，求：\n",
    "- 该时期内这个地区遭受水灾的概率。\n",
    "- 当乙河流泛滥时，甲河流泛滥的概率。"
   ]
  },
  {
   "cell_type": "code",
   "execution_count": 17,
   "metadata": {},
   "outputs": [
    {
     "name": "stdout",
     "output_type": "stream",
     "text": [
      "该时期内这个地区遭受水灾的概率为：0.280\n",
      "当乙河流泛滥时，甲河流泛滥的概率为：0.15\n"
     ]
    }
   ],
   "source": [
    "\n",
    "\n",
    "pA= 0.1\n",
    "pB= 0.2\n",
    "pB_A= 0.3\n",
    "\n",
    "#1\n",
    "# 求不遭受水灾的概率\n",
    "p_no= (1-pA) * (1-pB)\n",
    "p1= 1 - p_no\n",
    "print(\"该时期内这个地区遭受水灾的概率为：{:.3f}\".format(p1))\n",
    "\n",
    "#2\n",
    "# 求P(A|B)= P(AB) / P(B)\n",
    "# 已知P(B|A)= P(AB) / P(A)\n",
    "pAB= pB_A * pA\n",
    "pA_B= pAB / pB\n",
    "print(\"当乙河流泛滥时，甲河流泛滥的概率为：{}\".format(pA_B))"
   ]
  },
  {
   "cell_type": "markdown",
   "metadata": {},
   "source": [
    "#### 3. 设连续型随机变量的PDF为  \n",
    "$$f(x)=\\left\\{\\begin{matrix}\n",
    " kx, & 0<x<1\\\\\n",
    " 0, & else\n",
    "\\end{matrix}\\right.$$  \n",
    "- 求常数$k$的值  \n",
    "- 求$X$的CDF $F(x)$  \n",
    "- 计算$P(-0.5<X<0.5)$"
   ]
  },
  {
   "cell_type": "code",
   "execution_count": 61,
   "metadata": {},
   "outputs": [
    {
     "name": "stdout",
     "output_type": "stream",
     "text": [
      "常数k的值为2.0\n",
      "P(-0.5<X<0.5)=0.250\n"
     ]
    }
   ],
   "source": [
    "import numpy as np\n",
    "import sympy\n",
    "import scipy \n",
    "from  scipy.integrate import quad\n",
    "from sympy import *\n",
    "\n",
    "#1\n",
    "k= 1 / (quad(lambda x:x, 0, 1))[0]\n",
    "print(\"常数k的值为{}\".format(k))\n",
    "\n",
    "#2\n",
    "def pdf(x):\n",
    "    if 0<x<1:\n",
    "        return k*x\n",
    "    else:\n",
    "        return 0\n",
    "\n",
    "def cdf(x):\n",
    "    F, err= quad(pdf, -oo, x)\n",
    "    return F\n",
    "\n",
    "print(\"P(-0.5<X<0.5)={:.3f}\".format(cdf(0.5)-cdf(-0.5)))"
   ]
  }
 ],
 "metadata": {
  "kernelspec": {
   "display_name": "Python 3.9.12 ('base')",
   "language": "python",
   "name": "python3"
  },
  "language_info": {
   "codemirror_mode": {
    "name": "ipython",
    "version": 3
   },
   "file_extension": ".py",
   "mimetype": "text/x-python",
   "name": "python",
   "nbconvert_exporter": "python",
   "pygments_lexer": "ipython3",
   "version": "3.9.12"
  },
  "orig_nbformat": 4,
  "vscode": {
   "interpreter": {
    "hash": "a4f385f22347421055792fc979c9466e694c4cd728743b19e9db4ebd3910237c"
   }
  }
 },
 "nbformat": 4,
 "nbformat_minor": 2
}
