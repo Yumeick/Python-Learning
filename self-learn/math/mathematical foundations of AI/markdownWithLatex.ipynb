{
 "cells": [
  {
   "cell_type": "markdown",
   "metadata": {},
   "source": [
    "website:https://en.wikibooks.org/wiki/LaTeX/Mathematics"
   ]
  },
  {
   "cell_type": "markdown",
   "metadata": {},
   "source": [
    "两种公式:\n",
    "\n",
    "---\n",
    "- 行内公式\n",
    "  - 单$\n",
    "    ```\n",
    "    $sinx^2+cos^2=1$\n",
    "    ```\n",
    "    $sinx^2+cos^2=1$\n",
    "---\n",
    "- 行间公式\n",
    "  - 双$\n",
    "    ```\n",
    "    $$sinx^2+cos^2=1$$\n",
    "    ```\n",
    "    $$sinx^2+cos^2=1$$\n",
    "  - 公式内补充\\displaystyle\n",
    "    ```\n",
    "    $\\displaystyle{sinx^2+cos^2=1}$\n",
    "    ```\n",
    "    $\\displaystyle{sinx^2+cos^2=1}$\n",
    "  - equation环境\n",
    "    ```\n",
    "    \\begin{equation}\n",
    "    sinx^2+cos^2=1 \\tag{1}\n",
    "    \\end{equation}\n",
    "    ```\n",
    "      \n",
    "    \\begin{equation}\n",
    "    sinx^2+cos^2=1 \\tag{1}\n",
    "    \\end{equation}\n",
    "---"
   ]
  },
  {
   "cell_type": "markdown",
   "metadata": {},
   "source": []
  }
 ],
 "metadata": {
  "kernelspec": {
   "display_name": "Python 3.10.2 64-bit",
   "language": "python",
   "name": "python3"
  },
  "language_info": {
   "name": "python",
   "version": "3.10.2"
  },
  "orig_nbformat": 4,
  "vscode": {
   "interpreter": {
    "hash": "875265320606c99a0b480fa6cfc4e12dcdb2cc0c89106af3e4f88e5863941da0"
   }
  }
 },
 "nbformat": 4,
 "nbformat_minor": 2
}
