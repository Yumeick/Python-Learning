{
 "cells": [
  {
   "cell_type": "markdown",
   "metadata": {},
   "source": [
    "有待温习  \n",
    "- x趋于有限值时函数极限的定义  \n",
    "- x趋于无穷时函数极限的定义"
   ]
  },
  {
   "cell_type": "code",
   "execution_count": 109,
   "metadata": {},
   "outputs": [],
   "source": [
    "#导入库\n",
    "import sympy\n",
    "from sympy import *\n",
    "import numpy as np"
   ]
  },
  {
   "cell_type": "markdown",
   "metadata": {},
   "source": [
    "---\n",
    "ex2.5:使用Python编程求$$\\lim_{x\\to\\infty}\\frac{sinx}{x}$$"
   ]
  },
  {
   "cell_type": "code",
   "execution_count": 110,
   "metadata": {},
   "outputs": [
    {
     "data": {
      "image/png": "[encoded data removed]",
      "text/latex": [
       "$\\displaystyle 0$"
      ],
      "text/plain": [
       "0"
      ]
     },
     "execution_count": 110,
     "metadata": {},
     "output_type": "execute_result"
    }
   ],
   "source": [
    "x=sympy.Symbol('x')\n",
    "y=sympy.sin(x)/x\n",
    "sympy.limit(y,x,oo)"
   ]
  },
  {
   "cell_type": "markdown",
   "metadata": {},
   "source": [
    "sympy库：用于符号运算  \n",
    "Symbol方法可以理解为将变量符号化，也可以理解成将Python的变量转化为数学意义上的变量\n",
    "https://www.tutorialspoint.com/sympy/sympy_symbols.htm"
   ]
  },
  {
   "cell_type": "code",
   "execution_count": 107,
   "metadata": {},
   "outputs": [
    {
     "data": {
      "image/png": "[encoded data removed]",
      "text/latex": [
       "$\\displaystyle x^{2} + y^{3}$"
      ],
      "text/plain": [
       " 2    3\n",
       "x  + y "
      ]
     },
     "execution_count": 107,
     "metadata": {},
     "output_type": "execute_result"
    }
   ],
   "source": [
    "#self trial\n",
    "x=sympy.Symbol('x')\n",
    "y=sympy.Symbol('y')\n",
    "expr=x**2+y**3\n",
    "expr"
   ]
  },
  {
   "cell_type": "markdown",
   "metadata": {},
   "source": [
    "---\n",
    "ex 2.6  \n",
    "使用Python编程求$$\\lim_{x \\to 1} \\frac{x^2-1}{x-1} $$的极限"
   ]
  },
  {
   "cell_type": "code",
   "execution_count": 106,
   "metadata": {},
   "outputs": [
    {
     "data": {
      "image/png": "[encoded data removed]",
      "text/latex": [
       "$\\displaystyle 2$"
      ],
      "text/plain": [
       "2"
      ]
     },
     "execution_count": 106,
     "metadata": {},
     "output_type": "execute_result"
    }
   ],
   "source": [
    "x=sympy.Symbol('x')\n",
    "y= (x**2-1)/(x-1)\n",
    "sympy.limit(y,x,1)"
   ]
  },
  {
   "cell_type": "markdown",
   "metadata": {},
   "source": [
    "---\n",
    "ex 2.7  \n",
    "求$$\\lim_{n \\to \\infty} {\\frac{1}{n^2}+\\frac{2}{n^2}+\\cdots+\\frac{n}{n^2} }   $$的极限"
   ]
  },
  {
   "cell_type": "code",
   "execution_count": 108,
   "metadata": {},
   "outputs": [],
   "source": [
    "n=sympy.Symbol('n')\n",
    "#y该怎么表示？\n",
    "#sympy.limit(y,x,oo)"
   ]
  },
  {
   "cell_type": "markdown",
   "metadata": {},
   "source": [
    "---\n",
    "ex 2.8  \n",
    "求$$\\lim_{x \\to 0} \\frac{\\sin x}{3x+x^3} $$"
   ]
  },
  {
   "cell_type": "code",
   "execution_count": 105,
   "metadata": {},
   "outputs": [
    {
     "data": {
      "image/png": "[encoded data removed]",
      "text/latex": [
       "$\\displaystyle \\frac{1}{3}$"
      ],
      "text/plain": [
       "1/3"
      ]
     },
     "execution_count": 105,
     "metadata": {},
     "output_type": "execute_result"
    }
   ],
   "source": [
    "x=sympy.Symbol('x')\n",
    "y=sin(x)/(3*x+x**3)\n",
    "sympy.limit(y,x,0)"
   ]
  },
  {
   "cell_type": "markdown",
   "metadata": {},
   "source": [
    "---\n",
    "ex 2.9 改  \n",
    "求$$f(x)=\n",
    "\\begin{cases}\n",
    "  x+1,&  x\\le 0 \\\\\n",
    "  \\frac{\\sin x}{x}, &  x> 0\n",
    "\\end{cases}$$在$x=0$处的极限"
   ]
  },
  {
   "cell_type": "code",
   "execution_count": 103,
   "metadata": {},
   "outputs": [
    {
     "name": "stdout",
     "output_type": "stream",
     "text": [
      "1\n",
      "1\n"
     ]
    }
   ],
   "source": [
    "x=sympy.Symbol('x')\n",
    "f1=x+1\n",
    "f2=sin(x)/x\n",
    "f=Piecewise((f1,x<=0),(f2,x>0))\n",
    "print(sympy.limit(f,x,0,dir='+'))\n",
    "print(sympy.limit(f,x,0,dir='-'))"
   ]
  },
  {
   "cell_type": "markdown",
   "metadata": {},
   "source": [
    "---\n",
    "ex 2.10  \n",
    "分析函数$$f(x)=\\frac{x^2-1}{x^2-3x+2} $$的连续性"
   ]
  },
  {
   "cell_type": "code",
   "execution_count": 102,
   "metadata": {},
   "outputs": [
    {
     "name": "stdout",
     "output_type": "stream",
     "text": [
      "x= 1\n",
      "x= 2\n"
     ]
    }
   ],
   "source": [
    "x=sympy.Symbol('x')\n",
    "f=(x**2-1)/(x**2-3*x+2)\n",
    "list_no=[print(\"x=\",i) for i in solveset(Eq(x**2-3*x+2,0),x)] #分母函数为0时对应的x值即为函数没有定义的x值"
   ]
  },
  {
   "cell_type": "markdown",
   "metadata": {},
   "source": [
    "判断间断点的类型"
   ]
  },
  {
   "cell_type": "code",
   "execution_count": null,
   "metadata": {},
   "outputs": [],
   "source": [
    "def point_tpye(lim1,lim0,fx):\n",
    "    list_u=['NaN','-oo','oo'] #极限不存在\n",
    "    if str(lim1) not in list_u and str(lim0) not in list_u: #左右极限是否存在？\n",
    "        if lim1!=lim0: #左右极限是否相等？\n",
    "            print(\"跳跃间断点\")\n",
    "        else:\n",
    "            if fx!=lim1 or fx=='NaN': #函数值与极限是否相等，或者函数值是否存在？\n",
    "                print(\"可去间断点\")\n",
    "            else:\n",
    "                print(\"第二类间断点\")\n",
    "    else:\n",
    "        print(\"第二类间断点\")"
   ]
  },
  {
   "cell_type": "markdown",
   "metadata": {},
   "source": [
    "点$x=1$、$x=2$为间断点\n",
    "分别求出两个点的左右极限和对应的函数的值"
   ]
  },
  {
   "cell_type": "code",
   "execution_count": 101,
   "metadata": {},
   "outputs": [
    {
     "name": "stdout",
     "output_type": "stream",
     "text": [
      "在x=1处是可去间断点\n",
      "在x=2处是第二类间断点\n"
     ]
    }
   ],
   "source": [
    "lim1=sympy.limit(f,x,1,dir='+')\n",
    "lim0=sympy.limit(f,x,1,dir='-')\n",
    "fx=f.subs(x,1)\n",
    "print(\"在x=1处是\",end=\"\")\n",
    "point_tpye(lim1,lim0,fx)\n",
    "\n",
    "lim1=sympy.limit(f,x,2,dir='+')\n",
    "lim0=sympy.limit(f,x,2,dir='-')\n",
    "fx=f.subs(x,2)\n",
    "print(\"在x=2处是\",end=\"\")\n",
    "point_tpye(lim1,lim0,fx)"
   ]
  },
  {
   "cell_type": "markdown",
   "metadata": {},
   "source": [
    "---\n",
    "ex 2.11  \n",
    "求函数$$y=\\arcsin \\sqrt{\\sin x} $$的导数"
   ]
  },
  {
   "cell_type": "code",
   "execution_count": 112,
   "metadata": {},
   "outputs": [
    {
     "data": {
      "image/png": "[encoded data removed]",
      "text/latex": [
       "$\\displaystyle \\frac{\\cos{\\left(x \\right)}}{2 \\sqrt{1 - \\sin{\\left(x \\right)}} \\sqrt{\\sin{\\left(x \\right)}}}$"
      ],
      "text/plain": [
       "           cos(x)          \n",
       "───────────────────────────\n",
       "    ____________   ________\n",
       "2⋅╲╱ 1 - sin(x) ⋅╲╱ sin(x) "
      ]
     },
     "execution_count": 112,
     "metadata": {},
     "output_type": "execute_result"
    }
   ],
   "source": [
    "x=sympy.Symbol('x')\n",
    "y=sympy.asin(sqrt(sin(x)))\n",
    "diff(y,x)"
   ]
  },
  {
   "cell_type": "markdown",
   "metadata": {},
   "source": [
    "---\n",
    "ex 2.11  \n",
    "求$$f(x,y)=x^2+3xy+y^2$$在点$(1,2)$处的偏导数"
   ]
  },
  {
   "cell_type": "code",
   "execution_count": 127,
   "metadata": {},
   "outputs": [
    {
     "name": "stdout",
     "output_type": "stream",
     "text": [
      "z对x在点(1,2)处的偏导数为 8\n",
      "z对y在点(1,2)处的偏导数为 7\n"
     ]
    }
   ],
   "source": [
    "x,y=sympy.symbols('x y')\n",
    "z=x**2+3*x*y+y**2\n",
    "partial_x=diff(z,x)\n",
    "partial_y=diff(z,y)\n",
    "print(\"z对x在点(1,2)处的偏导数为\",partial_x.subs({x:1,y:2}))\n",
    "print(\"z对y在点(1,2)处的偏导数为\",partial_y.subs({x:1,y:2}))"
   ]
  },
  {
   "cell_type": "code",
   "execution_count": 129,
   "metadata": {},
   "outputs": [
    {
     "name": "stdout",
     "output_type": "stream",
     "text": [
      "8.00000000000000\n",
      "7.00000000000000\n"
     ]
    }
   ],
   "source": [
    "#答案\n",
    "from sympy.abc import x,y,z,f  #不同点1\n",
    "f=x**2+3*x*y+y**2\n",
    "fx=diff(f,x)\n",
    "fy=diff(f,y)\n",
    "print(fx.evalf(subs={x:1,y:2})) #不同点2\n",
    "print(fy.evalf(subs={x:1,y:2}))"
   ]
  },
  {
   "cell_type": "markdown",
   "metadata": {},
   "source": [
    "---\n",
    "ex 2.13  \n"
   ]
  }
 ],
 "metadata": {
  "kernelspec": {
   "display_name": "Python 3.9.12 ('base')",
   "language": "python",
   "name": "python3"
  },
  "language_info": {
   "codemirror_mode": {
    "name": "ipython",
    "version": 3
   },
   "file_extension": ".py",
   "mimetype": "text/x-python",
   "name": "python",
   "nbconvert_exporter": "python",
   "pygments_lexer": "ipython3",
   "version": "3.9.12"
  },
  "orig_nbformat": 4,
  "vscode": {
   "interpreter": {
    "hash": "a4f385f22347421055792fc979c9466e694c4cd728743b19e9db4ebd3910237c"
   }
  }
 },
 "nbformat": 4,
 "nbformat_minor": 2
}
