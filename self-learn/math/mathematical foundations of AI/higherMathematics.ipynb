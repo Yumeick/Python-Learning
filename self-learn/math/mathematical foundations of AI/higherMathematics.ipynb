{
 "cells": [
  {
   "cell_type": "markdown",
   "metadata": {},
   "source": [
    "有待温习  \n",
    "- x趋于有限值时函数极限的定义  \n",
    "- x趋于无穷时函数极限的定义"
   ]
  },
  {
   "cell_type": "markdown",
   "metadata": {},
   "source": [
    "ex2.5:使用Python编程求$$\\lim_{x\\to\\infty}\\frac{sinx}{x}$$"
   ]
  },
  {
   "cell_type": "code",
   "execution_count": 6,
   "metadata": {},
   "outputs": [
    {
     "data": {
      "text/latex": [
       "$\\displaystyle 0$"
      ],
      "text/plain": [
       "0"
      ]
     },
     "execution_count": 6,
     "metadata": {},
     "output_type": "execute_result"
    }
   ],
   "source": [
    "import sympy\n",
    "from sympy import *\n",
    "x=sympy.Symbol('x')\n",
    "y=sympy.sin(x)/x\n",
    "sympy.limit(y,x,oo)"
   ]
  },
  {
   "cell_type": "markdown",
   "metadata": {},
   "source": [
    "sympy库：用于符号运算  \n",
    "Symbol方法可以理解为将变量符号化，也可以理解成将Python的变量转化为数学意义上的变量\n",
    "https://www.tutorialspoint.com/sympy/sympy_symbols.htm"
   ]
  },
  {
   "cell_type": "code",
   "execution_count": 8,
   "metadata": {},
   "outputs": [
    {
     "data": {
      "text/latex": [
       "$\\displaystyle x^{2} + y^{3}$"
      ],
      "text/plain": [
       "x**2 + y**3"
      ]
     },
     "execution_count": 8,
     "metadata": {},
     "output_type": "execute_result"
    }
   ],
   "source": [
    "#self trial\n",
    "import sympy\n",
    "x=sympy.Symbol('x')\n",
    "y=sympy.Symbol('y')\n",
    "expr=x**2+y**3\n",
    "expr"
   ]
  },
  {
   "cell_type": "code",
   "execution_count": null,
   "metadata": {},
   "outputs": [],
   "source": []
  }
 ],
 "metadata": {
  "kernelspec": {
   "display_name": "Python 3.9.12 ('base')",
   "language": "python",
   "name": "python3"
  },
  "language_info": {
   "codemirror_mode": {
    "name": "ipython",
    "version": 3
   },
   "file_extension": ".py",
   "mimetype": "text/x-python",
   "name": "python",
   "nbconvert_exporter": "python",
   "pygments_lexer": "ipython3",
   "version": "3.9.12"
  },
  "orig_nbformat": 4,
  "vscode": {
   "interpreter": {
    "hash": "a4f385f22347421055792fc979c9466e694c4cd728743b19e9db4ebd3910237c"
   }
  }
 },
 "nbformat": 4,
 "nbformat_minor": 2
}
