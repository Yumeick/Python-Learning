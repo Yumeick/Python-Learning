{
 "cells": [
  {
   "cell_type": "code",
   "execution_count": 1,
   "id": "6612766e",
   "metadata": {},
   "outputs": [
    {
     "name": "stdout",
     "output_type": "stream",
     "text": [
      "['False', 'None', 'True', '__peg_parser__', 'and', 'as', 'assert', 'async', 'await', 'break', 'class', 'continue', 'def', 'del', 'elif', 'else', 'except', 'finally', 'for', 'from', 'global', 'if', 'import', 'in', 'is', 'lambda', 'nonlocal', 'not', 'or', 'pass', 'raise', 'return', 'try', 'while', 'with', 'yield']\n"
     ]
    }
   ],
   "source": [
    "import keyword\n",
    "print(keyword.kwlist)"
   ]
  },
  {
   "cell_type": "code",
   "execution_count": 30,
   "id": "9bc468e3",
   "metadata": {},
   "outputs": [
    {
     "name": "stdout",
     "output_type": "stream",
     "text": [
      "45\n",
      "25\n",
      "sum is 70\n",
      "mean is 35.0\n"
     ]
    }
   ],
   "source": [
    "a=int(input())\n",
    "b=int(input())\n",
    "sum_ab=int(a+b)\n",
    "mean_ab=sum_ab/2\n",
    "print(\"sum is \"+str(sum_ab)+\"\\n\"+\"mean is \"+str(mean_ab))"
   ]
  },
  {
   "cell_type": "code",
   "execution_count": 28,
   "id": "bd9d3a33",
   "metadata": {},
   "outputs": [
    {
     "name": "stdout",
     "output_type": "stream",
     "text": [
      "3\n",
      "19\n",
      "http://sports_sina_com_cn\n",
      "正向切片：sports\n",
      "反向切片：sports\n",
      "正向切片：sina\n",
      "反向切片：sina\n",
      "HTTP://SPORTS.SINA.COM.CN\n",
      "25\n",
      "http://sports.sina.com.cnindex\n"
     ]
    }
   ],
   "source": [
    "message = 'http://sports.sina.com.cn'\n",
    "print(message.count(\"t\"))\n",
    "print(message.find(\"com\"))\n",
    "print(message.replace(\".\",\"_\"))\n",
    "print(\"正向切片：\"+message[7:13]+\"\\n\"+\"反向切片：\"+message[-18:-12])\n",
    "print(\"正向切片：\"+message[14:18]+\"\\n\"+\"反向切片：\"+message[-11:-7])\n",
    "print(message.upper())\n",
    "print(len(message))\n",
    "print(message+\"index\")"
   ]
  },
  {
   "cell_type": "code",
   "execution_count": 29,
   "id": "f546db45",
   "metadata": {},
   "outputs": [
    {
     "name": "stdout",
     "output_type": "stream",
     "text": [
      "6\n"
     ]
    }
   ],
   "source": [
    "num=\"123\"\n",
    "print(int(num[0])+int(num[1])+int(num[2]))"
   ]
  }
 ],
 "metadata": {
  "kernelspec": {
   "display_name": "Python 3 (ipykernel)",
   "language": "python",
   "name": "python3"
  },
  "language_info": {
   "codemirror_mode": {
    "name": "ipython",
    "version": 3
   },
   "file_extension": ".py",
   "mimetype": "text/x-python",
   "name": "python",
   "nbconvert_exporter": "python",
   "pygments_lexer": "ipython3",
   "version": "3.9.12"
  }
 },
 "nbformat": 4,
 "nbformat_minor": 5
}
