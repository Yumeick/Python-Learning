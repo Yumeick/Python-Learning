{
 "cells": [
  {
   "cell_type": "code",
   "execution_count": null,
   "metadata": {},
   "outputs": [],
   "source": [
    "import pygame.font\n",
    "class Button():\n",
    "    def __init__(self, ai_settings, screen, msg):\n",
    "        self.screen= screen\n",
    "        self.screen_rect= screen.get_rect()\n",
    "\n",
    "        self.width, self.height= 200, 50\n",
    "        self.button_color= (0, 255, 0)\n",
    "        self.text_color= (255, 255, 255)\n",
    "        self.font= pygame.font.SysFont(None, 48)\n",
    "\n",
    "        self.rect= pygame.Rect(0, 0, self.width, self.height)\n",
    "        self.rect.center= self.screen_rect.center\n",
    "\n",
    "        self.pre_msg(msg)\n",
    "\n",
    "    def pre_msg(self, msg):\n",
    "        self.msg_image= self.font.render(msg, True, self.text_color, self.button_color)\n",
    "        self.msg_image_rect= self.msg_image.get_rect()\n",
    "        self.msg_image_rect.center= self.rect.center\n",
    "\n",
    "    def draw_button(self):\n",
    "        self.screen.fill(self.button_color, self.rect)\n",
    "        self.screen.blit(self.msg_image, self.msg_image_rect)\n",
    "        \n",
    "\n",
    "        "
   ]
  }
 ],
 "metadata": {
  "kernelspec": {
   "display_name": "Python 3.10.2 64-bit",
   "language": "python",
   "name": "python3"
  },
  "language_info": {
   "name": "python",
   "version": "3.10.2"
  },
  "orig_nbformat": 4,
  "vscode": {
   "interpreter": {
    "hash": "875265320606c99a0b480fa6cfc4e12dcdb2cc0c89106af3e4f88e5863941da0"
   }
  }
 },
 "nbformat": 4,
 "nbformat_minor": 2
}
