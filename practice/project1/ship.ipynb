{
 "cells": [
  {
   "cell_type": "code",
   "execution_count": null,
   "id": "2afd9de2",
   "metadata": {},
   "outputs": [],
   "source": [
    "import pygame\n",
    "from pygame.sprite import Sprite\n",
    "class Ship(Sprite):\n",
    "    #初始化飞船并设置初始位置\n",
    "    def __init__(self, ai_settings, screen):\n",
    "        super(Ship, self).__init__()\n",
    "        self.screen= screen\n",
    "        self.ai_settings= ai_settings\n",
    "        \n",
    "        #加载飞船图像并获取其外接矩形\n",
    "        self.image= pygame.image.load('images/ship.bmp')\n",
    "        self.rect= self.image.get_rect()\n",
    "        self.screen_rect= screen.get_rect()\n",
    "        \n",
    "        # 将每艘新飞船放在屏幕底部中央\n",
    "        self.rect.centerx= self.screen_rect.centerx\n",
    "        self.rect.bottom= self.screen_rect.bottom\n",
    "        \n",
    "        #在飞船的属性center中存储小数值\n",
    "        self.center= float(self.rect.centerx)\n",
    "        \n",
    "        #移动标志\n",
    "        self.moving_right= False\n",
    "        self.moving_left= False\n",
    "    \n",
    "    \n",
    "    #根据移动标志调整飞船位置\n",
    "    def update(self):\n",
    "        #移动标志为真 并且 外接矩形右侧坐标小于屏幕右侧边缘坐标\n",
    "        if self.moving_right and self.rect.right < self.screen_rect.right:\n",
    "            #更新飞船的center值\n",
    "            self.center += self.ai_settings.ship_speed_factor\n",
    "        if self.moving_left and self.rect.left > 0:\n",
    "            self.center -= self.ai_settings.ship_speed_factor\n",
    "        \n",
    "        #根据self.center更新rect对象\n",
    "        self.rect.centerx= self.center\n",
    "    \n",
    "    #在指定位置绘制飞船\n",
    "    def blitme(self):\n",
    "        self.screen.blit(self.image, self.rect)\n",
    "\n",
    "\n",
    "    def center_ship(self):\n",
    "        self.center= self.screen_rect.centerx"
   ]
  }
 ],
 "metadata": {
  "kernelspec": {
   "display_name": "Python 3.10.2 64-bit",
   "language": "python",
   "name": "python3"
  },
  "language_info": {
   "codemirror_mode": {
    "name": "ipython",
    "version": 3
   },
   "file_extension": ".py",
   "mimetype": "text/x-python",
   "name": "python",
   "nbconvert_exporter": "python",
   "pygments_lexer": "ipython3",
   "version": "3.10.2"
  },
  "latex_envs": {
   "LaTeX_envs_menu_present": true,
   "autoclose": false,
   "autocomplete": true,
   "bibliofile": "biblio.bib",
   "cite_by": "apalike",
   "current_citInitial": 1,
   "eqLabelWithNumbers": true,
   "eqNumInitial": 1,
   "hotkeys": {
    "equation": "Ctrl-E",
    "itemize": "Ctrl-I"
   },
   "labels_anchors": false,
   "latex_user_defs": false,
   "report_style_numbering": false,
   "user_envs_cfg": false
  },
  "vscode": {
   "interpreter": {
    "hash": "875265320606c99a0b480fa6cfc4e12dcdb2cc0c89106af3e4f88e5863941da0"
   }
  }
 },
 "nbformat": 4,
 "nbformat_minor": 5
}
