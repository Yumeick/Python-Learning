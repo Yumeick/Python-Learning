{
 "cells": [
  {
   "cell_type": "code",
   "execution_count": null,
   "metadata": {},
   "outputs": [],
   "source": [
    "import pygame\n",
    "from pygame.sprite import Sprite\n",
    "class Alien(Sprite):\n",
    "\n",
    "    def __init__(self, ai_settings, screen):\n",
    "        super(Alien, self).__init__()\n",
    "        self.screen= screen\n",
    "        self.ai_settings= ai_settings\n",
    "\n",
    "        self.image= pygame.image.load('images/alien.bmp')\n",
    "        self.rect= self.image.get_rect()\n",
    "\n",
    "        self.rect.x= self.rect.width\n",
    "        self.rect.y= self.rect.height\n",
    "        \n",
    "        self.x= float(self.rect.x)\n",
    "\n",
    "    def blitme(self):\n",
    "        self.screen.blit(self.image, self.rect)\n",
    "\n",
    "    def update(self):\n",
    "        self.x+= (self.ai_settings.alien_speed_factor* self.ai_settings.fleet_direction)\n",
    "        self.rect.x= self.x\n",
    "\n",
    "    def check_edges(self):\n",
    "        screen_rect= self.screen.get_rect()\n",
    "        if self.rect.right >= screen_rect.right:\n",
    "            return True\n",
    "        elif self.rect.left <= 0:\n",
    "            return True\n"
   ]
  }
 ],
 "metadata": {
  "kernelspec": {
   "display_name": "Python 3.10.2 64-bit",
   "language": "python",
   "name": "python3"
  },
  "language_info": {
   "name": "python",
   "version": "3.10.2"
  },
  "orig_nbformat": 4,
  "vscode": {
   "interpreter": {
    "hash": "875265320606c99a0b480fa6cfc4e12dcdb2cc0c89106af3e4f88e5863941da0"
   }
  }
 },
 "nbformat": 4,
 "nbformat_minor": 2
}
