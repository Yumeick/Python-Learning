{
 "cells": [
  {
   "cell_type": "code",
   "execution_count": 1,
   "id": "92f013f8",
   "metadata": {},
   "outputs": [
    {
     "name": "stdout",
     "output_type": "stream",
     "text": [
      "pygame 2.1.2 (SDL 2.0.18, Python 3.9.12)\n",
      "Hello from the pygame community. https://www.pygame.org/contribute.html\n"
     ]
    }
   ],
   "source": [
    "import pygame\n",
    "import sys\n",
    "class Settings():\n",
    "    \n",
    "    def __init__(self):\n",
    "        #游戏标题\n",
    "        pygame.display.set_caption(\"Alien Invasion\")\n",
    "        \n",
    "        #屏幕设置\n",
    "        self.screen_width= 1280  #宽\n",
    "        self.screen_height= 800  #高\n",
    "        self.bg_color= (72, 104, 96)  #背景色\n",
    "        \n",
    "        #飞船设置\n",
    "        self.ship_speed_factor= 0.385  #飞船速度\n",
    "        \n",
    "        #子弹设置\n",
    "        self.bullet_speed_factor= 0.65  #子弹速度\n",
    "        self.bullet_width= 3  #宽\n",
    "        self.bullet_height= 15  #高\n",
    "        self.bullet_color= 220,220,220  #子弹颜色\n",
    "        self.bullet_allowed= 4  #子弹发射上限"
   ]
  },
  {
   "cell_type": "code",
   "execution_count": null,
   "id": "ecc0d620",
   "metadata": {},
   "outputs": [],
   "source": []
  }
 ],
 "metadata": {
  "kernelspec": {
   "display_name": "Python 3 (ipykernel)",
   "language": "python",
   "name": "python3"
  },
  "language_info": {
   "codemirror_mode": {
    "name": "ipython",
    "version": 3
   },
   "file_extension": ".py",
   "mimetype": "text/x-python",
   "name": "python",
   "nbconvert_exporter": "python",
   "pygments_lexer": "ipython3",
   "version": "3.9.12"
  },
  "latex_envs": {
   "LaTeX_envs_menu_present": true,
   "autoclose": false,
   "autocomplete": true,
   "bibliofile": "biblio.bib",
   "cite_by": "apalike",
   "current_citInitial": 1,
   "eqLabelWithNumbers": true,
   "eqNumInitial": 1,
   "hotkeys": {
    "equation": "Ctrl-E",
    "itemize": "Ctrl-I"
   },
   "labels_anchors": false,
   "latex_user_defs": false,
   "report_style_numbering": false,
   "user_envs_cfg": false
  }
 },
 "nbformat": 4,
 "nbformat_minor": 5
}
