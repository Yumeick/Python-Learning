{
 "cells": [
  {
   "cell_type": "code",
   "execution_count": null,
   "metadata": {},
   "outputs": [],
   "source": [
    "import pygame.font\n",
    "from pygame.sprite import Group\n",
    "%run ship.ipynb\n",
    "class Scoreboard():\n",
    "    def __init__(self, ai_settings, screen, stats):\n",
    "        self.screen= screen\n",
    "        self.screen_rect= screen.get_rect()\n",
    "        self.ai_settings= ai_settings\n",
    "        self.stats= stats\n",
    "\n",
    "        self.text_color= (30, 30, 30)\n",
    "        self.font= pygame.font.SysFont(None, 48)\n",
    "\n",
    "        self.prep_score()\n",
    "        self.prep_high_score()\n",
    "        self.prep_level()\n",
    "        self.prep_ships()\n",
    "\n",
    "    def prep_score(self):\n",
    "        rounded_score= int(round(self.stats.score, -1))\n",
    "        score_str= \"{:,}\".format(rounded_score)\n",
    "        self.score_image= self.font.render(score_str, True, self.text_color, self.ai_settings.bg_color)\n",
    "\n",
    "        self.score_rect= self.score_image.get_rect()\n",
    "        self.score_rect.right= self.screen_rect.right- 20\n",
    "        self.score_rect.top= 20\n",
    "\n",
    "    def show_score(self):\n",
    "        self.screen.blit(self.score_image, self.score_rect)\n",
    "        self.screen.blit(self.high_score_image, self.high_score_rect)\n",
    "        self.screen.blit(self.level_image, self.level_rect)\n",
    "        self.ships.draw(self.screen)\n",
    "\n",
    "\n",
    "    def prep_high_score(self):\n",
    "        high_score= int(round(self.stats.high_score, -1))\n",
    "        high_score_str= \"{:,}\".format(high_score)\n",
    "        self.high_score_image= self.font.render(high_score_str, True, self.text_color, self.ai_settings.bg_color)\n",
    "\n",
    "        self.high_score_rect= self.high_score_image.get_rect()\n",
    "        self.high_score_rect.centerx= self.screen_rect.centerx\n",
    "        self.high_score_rect.top= self.score_rect.top\n",
    "\n",
    "    def prep_level(self):\n",
    "        self.level_image= self.font.render(str(self.stats.level), True, self.text_color, self.ai_settings.bg_color)\n",
    "        self.level_rect= self.level_image.get_rect()\n",
    "        self.level_rect.right= self.score_rect.right\n",
    "        self.level_rect.top= self.score_rect.bottom+ 10\n",
    "\n",
    "    def prep_ships(self):\n",
    "        self.ships= Group()\n",
    "        for ship_number in range(self.stats.ships_left):\n",
    "            ship= Ship(self.ai_settings, self.screen)\n",
    "            ship.rect.x= 10+ ship_number* ship.rect.width\n",
    "            ship.rect.y= 10\n",
    "            self.ships.add(ship)"
   ]
  }
 ],
 "metadata": {
  "kernelspec": {
   "display_name": "Python 3.10.2 64-bit",
   "language": "python",
   "name": "python3"
  },
  "language_info": {
   "name": "python",
   "version": "3.10.2"
  },
  "orig_nbformat": 4,
  "vscode": {
   "interpreter": {
    "hash": "875265320606c99a0b480fa6cfc4e12dcdb2cc0c89106af3e4f88e5863941da0"
   }
  }
 },
 "nbformat": 4,
 "nbformat_minor": 2
}
