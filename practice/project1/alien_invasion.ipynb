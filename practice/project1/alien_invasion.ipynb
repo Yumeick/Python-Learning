{
 "cells": [
  {
   "cell_type": "markdown",
   "id": "52d360ef",
   "metadata": {},
   "source": [
    "内容是照着课本打的，个别代码调整为ipynb文件也能运行"
   ]
  },
  {
   "cell_type": "code",
   "execution_count": null,
   "id": "c2ede548",
   "metadata": {},
   "outputs": [
    {
     "name": "stdout",
     "output_type": "stream",
     "text": [
      "pygame 2.1.2 (SDL 2.0.18, Python 3.9.12)\n",
      "Hello from the pygame community. https://www.pygame.org/contribute.html\n"
     ]
    }
   ],
   "source": [
    "#from settings import Settings  这是py文件的导入方式\n",
    "%run settings.ipynb  #jupyter调用其他ipynb文件的方法之一\n",
    "%run ship.ipynb\n",
    "%run game_functions.ipynb\n",
    "from pygame.sprite import Group\n",
    "import pygame\n",
    "def run_game():\n",
    "    # 初始化pygame\n",
    "    pygame.init()\n",
    "    #初始化设置\n",
    "    ai_settings =Settings()\n",
    "    # 初始化屏幕对象\n",
    "    screen = pygame.display.set_mode(\n",
    "        (ai_settings.screen_width,ai_settings.screen_height))\n",
    "    \n",
    "    # 创建一个飞船对象\n",
    "    ship= Ship(ai_settings, screen)\n",
    "    \n",
    "    # 创建一个子弹编组\n",
    "    bullets= Group()\n",
    "    \n",
    "    #开始游戏的主循环\n",
    "    while True:\n",
    "        \n",
    "        check_events(ai_settings, screen, ship, bullets)\n",
    "        ship.update()\n",
    "        update_bullets(bullets)\n",
    "        update_screen(ai_settings, screen, ship, bullets)\n",
    "               \n",
    "run_game()"
   ]
  },
  {
   "cell_type": "code",
   "execution_count": null,
   "id": "dfaeef3d",
   "metadata": {},
   "outputs": [],
   "source": []
  }
 ],
 "metadata": {
  "kernelspec": {
   "display_name": "Python 3 (ipykernel)",
   "language": "python",
   "name": "python3"
  },
  "language_info": {
   "codemirror_mode": {
    "name": "ipython",
    "version": 3
   },
   "file_extension": ".py",
   "mimetype": "text/x-python",
   "name": "python",
   "nbconvert_exporter": "python",
   "pygments_lexer": "ipython3",
   "version": "3.9.12"
  },
  "latex_envs": {
   "LaTeX_envs_menu_present": true,
   "autoclose": false,
   "autocomplete": true,
   "bibliofile": "biblio.bib",
   "cite_by": "apalike",
   "current_citInitial": 1,
   "eqLabelWithNumbers": true,
   "eqNumInitial": 1,
   "hotkeys": {
    "equation": "Ctrl-E",
    "itemize": "Ctrl-I"
   },
   "labels_anchors": false,
   "latex_user_defs": false,
   "report_style_numbering": false,
   "user_envs_cfg": false
  }
 },
 "nbformat": 4,
 "nbformat_minor": 5
}
