{
 "cells": [
  {
   "cell_type": "markdown",
   "metadata": {},
   "source": [
    "#### 第四周作业1\n",
    "### 成绩转换：\n",
    "### E(0-59) D(60-69) C(70-79) B(80-89) A(90-100)\n",
    "### 输入一个学生成绩列表，把对应的等级列表打印出来\n",
    "* 注意要点：\n",
    "> 注意各个区间的边界值"
   ]
  },
  {
   "cell_type": "code",
   "execution_count": 1,
   "metadata": {},
   "outputs": [
    {
     "name": "stdout",
     "output_type": "stream",
     "text": [
      "请输入学生成绩列表的长度：5\n",
      "请输入学生成绩：49\n",
      "请输入学生成绩：59\n",
      "请输入学生成绩：61\n",
      "请输入学生成绩：81\n",
      "请输入学生成绩：99\n",
      "学生成绩的成绩列表如下：\n",
      "['E', 'E', 'D', 'B', 'A']\n"
     ]
    }
   ],
   "source": [
    "list_input=[int(input(\"请输入学生成绩：\")) for i in range(int(input(\"请输入学生成绩列表的长度：\")))]\n",
    "list_grade=[]\n",
    "for i in list_input:\n",
    "    if i>=0 and i<=59:\n",
    "        list_grade.append('E')\n",
    "    elif i>=60 and i<=69:\n",
    "        list_grade.append('D')\n",
    "    elif i>=70 and i<=79:\n",
    "        list_grade.append('C')\n",
    "    elif i>=80 and i<=89:\n",
    "        list_grade.append('B')\n",
    "    elif i>=90 and i<=100:\n",
    "        list_grade.append('A')\n",
    "    else:\n",
    "        print(\"无效数据！\")\n",
    "print(\"学生成绩的成绩列表如下：\\n\"+str(list_grade))"
   ]
  },
  {
   "cell_type": "markdown",
   "metadata": {},
   "source": [
    "#### 第四周作业2\n",
    "### 输入若干整数，然后按输入的相反顺序显示这些数据。要求数据之间留一个空格\n",
    "* 新思路\n",
    "> 可以用列表解析式循环输出结果"
   ]
  },
  {
   "cell_type": "code",
   "execution_count": 2,
   "metadata": {},
   "outputs": [
    {
     "name": "stdout",
     "output_type": "stream",
     "text": [
      "请输入整数的数量：8\n",
      "请输入整数:6\n",
      "请输入整数:30\n",
      "请输入整数:68\n",
      "请输入整数:98\n",
      "请输入整数:158\n",
      "请输入整数:328\n",
      "请输入整数:648\n",
      "请输入整数:518\n",
      "518 648 328 158 98 68 30 6 "
     ]
    }
   ],
   "source": [
    "m=int(input(\"请输入整数的数量：\"))\n",
    "list_a=[int(input(\"请输入整数:\")) for i in range(m)]\n",
    "list_a_alt=[list_a[m-i-1] for i in range(m)]\n",
    "list_print=[print(i,end=' ') for i in list_a_alt]"
   ]
  },
  {
   "cell_type": "code",
   "execution_count": 5,
   "metadata": {},
   "outputs": [
    {
     "name": "stdout",
     "output_type": "stream",
     "text": [
      "请输入数组元素个数：2\n",
      "请输入元素值：1\n",
      "请输入元素值：2\n",
      "数组的值为： ['1', '2']\n",
      "倒叙后的数组为：\n",
      "2 1 "
     ]
    }
   ],
   "source": [
    "a=[]\n",
    "n=input(\"请输入数组元素个数：\")\n",
    "for i in range(int(n)):\n",
    "    #str=input(\"请输入元素值：\")\n",
    "    a.append(input(\"请输入元素值：\"))\n",
    "print(\"数组的值为：\",a)\n",
    "a.reverse()\n",
    "print(\"倒叙后的数组为：\")\n",
    "c=[print(i,end=' ') for i in a]"
   ]
  },
  {
   "cell_type": "markdown",
   "metadata": {},
   "source": [
    "#### 第四周作业3\n",
    "### 计算两个3*3矩阵的积\n",
    "* 思路\n",
    "> 调用numpy进行矩阵运算"
   ]
  },
  {
   "cell_type": "code",
   "execution_count": null,
   "metadata": {},
   "outputs": [],
   "source": [
    "import numpy as np\n",
    "matrix1=np.mat(eval(input(\"请输入第一个矩阵：\")))\n",
    "matrix2=np.mat(eval(input(\"请输入第二个矩阵：\")))\n",
    "print(\"两个矩阵的积：\")\n",
    "print(np.dot(matrix1,matrix2))"
   ]
  },
  {
   "cell_type": "markdown",
   "metadata": {},
   "source": [
    "#### 第四周作业4\n",
    "### 为小学生涉及10以内的算术练习：\n",
    "### 1、提供5道加减乘除题目；\n",
    "### 2、自动判断正确与否，并且统计共回答的题目数和正确率。\n",
    "* 思路\n",
    "- 程序分为三个部分\n",
    "    1. 随机生成题目并自动计算答案，然后分别保存题目跟答案  \n",
    "        \n",
    "    2. 打印题目  \n",
    "\n",
    "    3. 用户输入答案，程序会自动校对答案，并输出答对题数跟正确率  \n",
    "\n",
    "\n",
    "- 其中第二部分其实是可以去掉的，但是想了想，难道不先让用户看看题目，再决定要做哪些题吗？所以就留下了。\n"
   ]
  },
  {
   "cell_type": "code",
   "execution_count": 3,
   "metadata": {
    "scrolled": true
   },
   "outputs": [
    {
     "name": "stdout",
     "output_type": "stream",
     "text": [
      "注意：\n",
      "1：除法计算要保留2位小数。\n",
      "2：输入答案时只能输入数字。\n",
      "题目如下：\n",
      "题1：10*3=\t题2：5-3=\t题3：7*8=\t题4：7-9=\t题5：3*10=\t\n",
      "您想回答多少道题？3\n",
      "请输入您要回答的题号：5\n",
      "请输入您要回答的题号：2\n",
      "请输入您要回答的题号：4\n",
      "第2道题目：5-3=2\n",
      "第2题回答正确！\n",
      "第4道题目：7-9=2\n",
      "第4题回答错误！答案：-2\n",
      "第5道题目：3*10=13\n",
      "第5题回答错误！答案：30\n",
      "成功回答题数为：1\t正确率为：0.33\n"
     ]
    }
   ],
   "source": [
    "import random\n",
    "#4-0 基于程序缺陷提出的先前要求\n",
    "print(\"注意：\\n1：除法计算要保留2位小数。\"+\"\\n2：输入答案时只能输入数字。\")\n",
    "num_ques=5 #生成题目的数量\n",
    "#4-1 随机生成并储存答案\n",
    "list_question=[] #初始化问题列表\n",
    "list_answer=[] #初始化答案列表\n",
    "list_symbol=[\"+\",\"-\",\"*\",\"/\"] #符号列表\n",
    "list_a=[random.randint(1,10) for i in range(num_ques)] #随机生成数字一\n",
    "list_b=[random.randint(0,3) for i in range(num_ques)] #随机生成问题的符号代码\n",
    "list_c=[random.randint(1,10) for i in range(num_ques)] #随机生成数字二\n",
    "for i in range(num_ques): #判断符号代码的类型\n",
    "    if list_symbol[list_b[i]] == \"+\":\n",
    "        list_answer.append(list_a[i]+list_c[i])\n",
    "    if list_symbol[list_b[i]] == \"-\":\n",
    "        list_answer.append(list_a[i]-list_c[i])\n",
    "    if list_symbol[list_b[i]] == \"*\":\n",
    "        list_answer.append(list_a[i]*list_c[i])\n",
    "    if list_symbol[list_b[i]] == \"/\":\n",
    "        list_answer.append(format(list_a[i]/list_c[i],'.2f'))\n",
    "    list_question.append(str(list_a[i])+str(list_symbol[list_b[i]])+\\\n",
    "                         str(list_c[i])+\"=\") #保存问题\n",
    "        \n",
    "#4-2 打印题目\n",
    "print(\"题目如下：\")\n",
    "for i in range(num_ques):\n",
    "    print(\"题\"+str(i+1)+\"：\"+\\\n",
    "          list_question[i],end='\\t')\n",
    "    if (i+1)%5 == 0:\n",
    "        print() #美化问题排版\n",
    "\n",
    "    \n",
    "#4-3 输入答案，对比答案并打印结果\n",
    "num=0 #初始化答对题数\n",
    "m=int(input(\"您想回答多少道题？\")) #输入回答题数\n",
    "list_user_answer=[] #初始化用户回答列表\n",
    "list_user=[int(input(\"请输入您要回答的题号：\")) for i in range(m)] #生成用户回答题目列表\n",
    "for i in range(num_ques):\n",
    "    if i+1 not in list_user:\n",
    "        continue #不在用户回答题目列表中的题目则跳过\n",
    "    else:\n",
    "        n=eval(input(\"第\"+str(i+1)+\"道题目：\"+list_question[i]))\n",
    "        if isinstance(n,float): \n",
    "            n=format(n,'.2f') #如果是除法，则保留两位小数\n",
    "        elif isinstance(n,int):\n",
    "            n=int(n) #如果是乘法，则不保留小数\n",
    "        list_user_answer.append(n) #保存用户答案\n",
    "        if list_answer[i] in list_user_answer:\n",
    "            print(\"第\"+str(i+1)+\"题回答正确！\")\n",
    "            num=num+1 #记录回答正确的题数\n",
    "        else:\n",
    "            print(\"第\"+str(i+1)+\"题回答错误！\"+\\\n",
    "            \"答案：\"+str(list_answer[i]))\n",
    "num_all=len(list_user_answer) #用户回答题数\n",
    "ars=format(num/num_all,'.2f')\n",
    "print(\"成功回答题数为：\"+str(num)+\"\\t正确率为：\"+str(ars))"
   ]
  }
 ],
 "metadata": {
  "kernelspec": {
   "display_name": "Python 3 (ipykernel)",
   "language": "python",
   "name": "python3"
  },
  "language_info": {
   "codemirror_mode": {
    "name": "ipython",
    "version": 3
   },
   "file_extension": ".py",
   "mimetype": "text/x-python",
   "name": "python",
   "nbconvert_exporter": "python",
   "pygments_lexer": "ipython3",
   "version": "3.9.12"
  },
  "latex_envs": {
   "LaTeX_envs_menu_present": true,
   "autoclose": false,
   "autocomplete": true,
   "bibliofile": "biblio.bib",
   "cite_by": "apalike",
   "current_citInitial": 1,
   "eqLabelWithNumbers": true,
   "eqNumInitial": 1,
   "hotkeys": {
    "equation": "Ctrl-E",
    "itemize": "Ctrl-I"
   },
   "labels_anchors": false,
   "latex_user_defs": false,
   "report_style_numbering": false,
   "user_envs_cfg": false
  }
 },
 "nbformat": 4,
 "nbformat_minor": 2
}
