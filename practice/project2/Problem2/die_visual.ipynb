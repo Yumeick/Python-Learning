{
 "cells": [
  {
   "cell_type": "code",
   "execution_count": 2,
   "metadata": {},
   "outputs": [],
   "source": [
    "%run die.ipynb\n",
    "import pygal\n",
    "\n",
    "die_1= Die()\n",
    "\n",
    "results= []\n",
    "for roll_num in range(1000):\n",
    "    result= die_1.roll()\n",
    "    results.append(result)\n",
    "\n",
    "frequencies= []\n",
    "max_result= die_1.num_sides\n",
    "for value in range(1, max_result+1):\n",
    "    frequency= results.count(value)\n",
    "    frequencies.append(frequency)\n",
    "\n",
    "hist= pygal.Bar()\n",
    "\n",
    "#hist.title= \"Results of rolling one D6 1,000 times.\"\n",
    "hist.x_labels= ['1','2', '3', '4', '5', '6']\n",
    "#hist.x_title= \"Result\"\n",
    "#hist.y_title= \"Frequency of Result\"\n",
    "hist.title= \"模拟一个6面骰子抛掷1000次的结果\"\n",
    "hist.x_title= \"点数\"\n",
    "hist.y_title= \"点数频率\"\n",
    "\n",
    "hist.add('D6', frequencies)\n",
    "hist.render_to_file('die_visual.svg')\n",
    "print()"
   ]
  }
 ],
 "metadata": {
  "kernelspec": {
   "display_name": "Python 3.10.2 64-bit",
   "language": "python",
   "name": "python3"
  },
  "language_info": {
   "codemirror_mode": {
    "name": "ipython",
    "version": 3
   },
   "file_extension": ".py",
   "mimetype": "text/x-python",
   "name": "python",
   "nbconvert_exporter": "python",
   "pygments_lexer": "ipython3",
   "version": "3.10.2"
  },
  "orig_nbformat": 4,
  "vscode": {
   "interpreter": {
    "hash": "875265320606c99a0b480fa6cfc4e12dcdb2cc0c89106af3e4f88e5863941da0"
   }
  }
 },
 "nbformat": 4,
 "nbformat_minor": 2
}
