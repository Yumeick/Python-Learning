{
 "cells": [
  {
   "cell_type": "code",
   "execution_count": null,
   "metadata": {},
   "outputs": [],
   "source": [
    "from random import randint\n",
    "\n",
    "class Die():\n",
    "    def __init__(self, num_sides= 6):\n",
    "        self.num_sides= num_sides\n",
    "\n",
    "    def roll(self):\n",
    "        return randint(1, self.num_sides)"
   ]
  }
 ],
 "metadata": {
  "language_info": {
   "name": "python"
  },
  "orig_nbformat": 4
 },
 "nbformat": 4,
 "nbformat_minor": 2
}
