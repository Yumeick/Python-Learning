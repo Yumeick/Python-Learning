{
 "cells": [
  {
   "cell_type": "markdown",
   "id": "316a9a6d",
   "metadata": {},
   "source": [
    "## 第九周作业——文件与异常\n",
    "### 第一题(优化版)：\n",
    "#### 一年级要举行一个猜谜语比赛，需要从儿童谜语集中随机抽题组成5份试卷（每一份10题），请编写程序完成组卷，并生成试卷文件和答案文件。"
   ]
  },
  {
   "cell_type": "code",
   "execution_count": 2,
   "id": "f120e3b6",
   "metadata": {},
   "outputs": [
    {
     "name": "stdout",
     "output_type": "stream",
     "text": [
      "已跳过异常数据\n",
      "已跳过异常数据\n",
      "已跳过异常数据\n",
      "已跳过异常数据\n",
      "已跳过异常数据\n"
     ]
    }
   ],
   "source": [
    "import csv\n",
    "import random\n",
    "#整体循环5次，即可生成五份试卷\n",
    "for id in range(5):\n",
    "    filename_raw='7_4儿童谜语集.csv'\n",
    "    filename_que='试卷'+str(id+1)+'.txt'\n",
    "    filename_ans='答案'+str(id+1)+'.txt'\n",
    "    #同时打开三个文件（csv文件、试卷文件和答案文件）\n",
    "    with open(filename_raw, 'r', encoding=\"utf-8\", newline='') as file_raw, open(filename_que,'w+') as file_que, open(filename_ans,'w+') as file_ans:\n",
    "        chart=csv.reader(file_raw)\n",
    "        file_que.write(\"第\"+str(id+1)+\"套试卷\\n\"+\"猜谜语：\\n\")\n",
    "        file_ans.write(\"第\"+str(id+1)+\"套试卷\\n\"+\"猜谜语答案：\\n\")\n",
    "        \n",
    "        #Part 1：设置初值\n",
    "        list_qs=list(chart)\n",
    "        list_random=[] #用于储存不重复且编码不会报错的随机数的列表，称为随机数列表\n",
    "        #删除csv文件中的第一行，即标题行\n",
    "        del list_qs[0]\n",
    "\n",
    "        #Part 2：生成随机数列表，并将 随机数对应的题目 和 答案 写入试卷文件 和 答案文件\n",
    "        while len(list_random)< 10:\n",
    "            i=random.randint(1,len(list_qs)+1)\n",
    "            #如果新生成的随机数在随机数列表中未曾出现，则加入列表中\n",
    "            if i not in list_random:\n",
    "                #跳过编码错误的数据\n",
    "                try:\n",
    "                    file_que.write(\"题目：\"+list_qs[i][0]+\"\\n\\n\")\n",
    "                    file_ans.write(\"题目：\"+list_qs[i][0]+\"\\n\")\n",
    "                    file_ans.write(\"答案：\"+list_qs[i][1]+\"\\n\\n\")\n",
    "                    list_random.append(i)\n",
    "                except Exception:\n",
    "                    print(\"已跳过异常数据\")"
   ]
  }
 ],
 "metadata": {
  "kernelspec": {
   "display_name": "Python 3 (ipykernel)",
   "language": "python",
   "name": "python3"
  },
  "language_info": {
   "codemirror_mode": {
    "name": "ipython",
    "version": 3
   },
   "file_extension": ".py",
   "mimetype": "text/x-python",
   "name": "python",
   "nbconvert_exporter": "python",
   "pygments_lexer": "ipython3",
   "version": "3.9.12"
  },
  "latex_envs": {
   "LaTeX_envs_menu_present": true,
   "autoclose": false,
   "autocomplete": true,
   "bibliofile": "biblio.bib",
   "cite_by": "apalike",
   "current_citInitial": 1,
   "eqLabelWithNumbers": true,
   "eqNumInitial": 1,
   "hotkeys": {
    "equation": "Ctrl-E",
    "itemize": "Ctrl-I"
   },
   "labels_anchors": false,
   "latex_user_defs": false,
   "report_style_numbering": false,
   "user_envs_cfg": false
  }
 },
 "nbformat": 4,
 "nbformat_minor": 5
}
