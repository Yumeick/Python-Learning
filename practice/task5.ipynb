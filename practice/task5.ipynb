{
 "cells": [
  {
   "cell_type": "markdown",
   "id": "1171301e",
   "metadata": {},
   "source": [
    "### 编写程序，创建类MyMath，要求如下：\n",
    "- 计算圆的周长和面积  \n",
    "- 计算球的表面积和体积  \n",
    "- 编写测试代码，结果保留两位小数。\n",
    "\n",
    "### 运行效果：\n",
    "```\n",
    "请输入半径：5\n",
    "\n",
    "圆的周长：31.42\n",
    "\n",
    "圆的面积：78.54\n",
    "\n",
    "球的表面积：314.16\n",
    "\n",
    "球的体积：523.60\n",
    "```"
   ]
  },
  {
   "cell_type": "code",
   "execution_count": 11,
   "id": "0a760bac",
   "metadata": {},
   "outputs": [
    {
     "name": "stdout",
     "output_type": "stream",
     "text": [
      "请输入半径：5\n",
      "\n",
      "圆的周长：31.42\n",
      "\n",
      "圆的面积：78.54\n",
      "\n",
      "球的表面积：314.16\n",
      "\n",
      "球的体积：523.60\n"
     ]
    }
   ],
   "source": [
    "PI= 3.14159\n",
    "class MyMath():\n",
    "    def __init__(self, r):\n",
    "        self.r= r\n",
    "    def perimeter(self):\n",
    "        return 2* PI* self.r\n",
    "    def area(self):\n",
    "        return PI* self.r**2\n",
    "    def surface_area(self):\n",
    "        return 4* PI*self.r**2\n",
    "    def volume(self):\n",
    "        return 4/ 3* PI* self.r**3\n",
    "    def introduce(self):\n",
    "        message=\"\\n圆的周长：%.2f\\n\\n圆的面积：%.2f\\n\\n球的表面积：%.2f\\n\\n球的体积：%.2f\"%\\\n",
    "        (self.perimeter(),self.area(),self.surface_area(),self.volume())\n",
    "        print(message)\n",
    "MyMath(float(input(\"请输入半径：\"))).introduce()"
   ]
  },
  {
   "cell_type": "markdown",
   "id": "6af51532",
   "metadata": {},
   "source": [
    "### 编写程序，创建类Temperature，要求如下：  \n",
    "- 保护成员变量degree  \n",
    "- 实列方法ToFahrenheit()将摄氏温度转换为华氏温度  \n",
    "- 实例方法ToCelsius()将华氏温度转换为摄氏温度  \n",
    "- 编写测试代码。  \n",
    "\n",
    "### 运行效果：\n",
    "```\n",
    "请输入摄氏温度：30  `\n",
    "\n",
    "设施温度：30.0，华氏温度：86.0  \n",
    "\n",
    "请输入华氏温度：86  \n",
    "\n",
    "华氏温度：86.0，摄氏温度：30.0 \n",
    "\n",
    "```"
   ]
  },
  {
   "cell_type": "code",
   "execution_count": 13,
   "id": "fb615b16",
   "metadata": {},
   "outputs": [
    {
     "name": "stdout",
     "output_type": "stream",
     "text": [
      "请输入摄氏温度：30\n",
      "\n",
      "摄氏温度：30.0， 华氏温度：86.0\n",
      "\n",
      "请输入华氏温度：86\n",
      "\n",
      "摄氏温度：30.0， 华氏温度：86.0\n",
      "\n"
     ]
    }
   ],
   "source": [
    "class Temperture():\n",
    "    def __init__(self, __degree):\n",
    "        self.__degree= __degree\n",
    "    def ToFahrenheit(self):\n",
    "        c= self.__degree\n",
    "        f= 9/ 5* c+ 32\n",
    "        print(\"\\n摄氏温度：%.1f， 华氏温度：%.1f\\n\"%(c,f))\n",
    "    def ToCelsius(self):\n",
    "        f= self.__degree\n",
    "        c= 5/ 9* (f-32)\n",
    "        print(\"\\n摄氏温度：%.1f， 华氏温度：%.1f\\n\"%(c,f))\n",
    "#a=Temperture(float(input(\"请输入摄氏温度：\")))\n",
    "Temperture(float(input(\"请输入摄氏温度：\"))).ToFahrenheit()\n",
    "Temperture(float(input(\"请输入华氏温度：\"))).ToCelsius()"
   ]
  }
 ],
 "metadata": {
  "kernelspec": {
   "display_name": "Python 3 (ipykernel)",
   "language": "python",
   "name": "python3"
  },
  "language_info": {
   "codemirror_mode": {
    "name": "ipython",
    "version": 3
   },
   "file_extension": ".py",
   "mimetype": "text/x-python",
   "name": "python",
   "nbconvert_exporter": "python",
   "pygments_lexer": "ipython3",
   "version": "3.9.12"
  },
  "latex_envs": {
   "LaTeX_envs_menu_present": true,
   "autoclose": false,
   "autocomplete": true,
   "bibliofile": "biblio.bib",
   "cite_by": "apalike",
   "current_citInitial": 1,
   "eqLabelWithNumbers": true,
   "eqNumInitial": 1,
   "hotkeys": {
    "equation": "Ctrl-E",
    "itemize": "Ctrl-I"
   },
   "labels_anchors": false,
   "latex_user_defs": false,
   "report_style_numbering": false,
   "user_envs_cfg": false
  }
 },
 "nbformat": 4,
 "nbformat_minor": 5
}
