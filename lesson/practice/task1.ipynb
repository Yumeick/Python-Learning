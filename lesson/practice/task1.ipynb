{
 "cells": [
  {
   "cell_type": "code",
   "execution_count": 1,
   "id": "6612766e",
   "metadata": {},
   "outputs": [
    {
     "name": "stdout",
     "output_type": "stream",
     "text": [
      "['False', 'None', 'True', '__peg_parser__', 'and', 'as', 'assert', 'async', 'await', 'break', 'class', 'continue', 'def', 'del', 'elif', 'else', 'except', 'finally', 'for', 'from', 'global', 'if', 'import', 'in', 'is', 'lambda', 'nonlocal', 'not', 'or', 'pass', 'raise', 'return', 'try', 'while', 'with', 'yield']\n"
     ]
    }
   ],
   "source": [
    "#1、利用keywords命令获得所有保留字\n",
    "import keyword\n",
    "print(keyword.kwlist)"
   ]
  },
  {
   "cell_type": "markdown",
   "id": "41b1a86d",
   "metadata": {},
   "source": [
    "3、输入字符串\"http://sports.sina.com.cn\"，输出以下结果：  \n",
    "    字符串中 t 出现的次数  \n",
    "    “com”子字符串出现的位置  \n",
    "    将“.”换成“-”  \n",
    "    提取“sports”和“sina”两个字符串（分别用正向和反向切片）  \n",
    "    将字符串字母全部变成大写  \n",
    "    在字符串后拼接子字符串“index”  "
   ]
  },
  {
   "cell_type": "code",
   "execution_count": 28,
   "id": "bd9d3a33",
   "metadata": {},
   "outputs": [
    {
     "name": "stdout",
     "output_type": "stream",
     "text": [
      "3\n",
      "19\n",
      "http://sports_sina_com_cn\n",
      "正向切片：sports\n",
      "反向切片：sports\n",
      "正向切片：sina\n",
      "反向切片：sina\n",
      "HTTP://SPORTS.SINA.COM.CN\n",
      "25\n",
      "http://sports.sina.com.cnindex\n"
     ]
    }
   ],
   "source": [
    "message = 'http://sports.sina.com.cn'\n",
    "print(message.count(\"t\"))\n",
    "print(message.find(\"com\"))\n",
    "print(message.replace(\".\",\"_\"))\n",
    "print(\"正向切片：\"+message[7:13]+\"\\n\"+\"反向切片：\"+message[-18:-12])\n",
    "print(\"正向切片：\"+message[14:18]+\"\\n\"+\"反向切片：\"+message[-11:-7])\n",
    "print(message.upper())\n",
    "print(len(message))\n",
    "print(message+\"index\")"
   ]
  },
  {
   "cell_type": "code",
   "execution_count": 29,
   "id": "f546db45",
   "metadata": {},
   "outputs": [
    {
     "name": "stdout",
     "output_type": "stream",
     "text": [
      "6\n"
     ]
    }
   ],
   "source": [
    "#4、输入一个三位数，求每位数上数字的和\n",
    "num=\"123\"\n",
    "print(int(num[0])+int(num[1])+int(num[2]))"
   ]
  }
 ],
 "metadata": {
  "kernelspec": {
   "display_name": "Python 3.10.2 64-bit",
   "language": "python",
   "name": "python3"
  },
  "language_info": {
   "codemirror_mode": {
    "name": "ipython",
    "version": 3
   },
   "file_extension": ".py",
   "mimetype": "text/x-python",
   "name": "python",
   "nbconvert_exporter": "python",
   "pygments_lexer": "ipython3",
   "version": "3.10.2"
  },
  "latex_envs": {
   "LaTeX_envs_menu_present": true,
   "autoclose": false,
   "autocomplete": true,
   "bibliofile": "biblio.bib",
   "cite_by": "apalike",
   "current_citInitial": 1,
   "eqLabelWithNumbers": true,
   "eqNumInitial": 1,
   "hotkeys": {
    "equation": "Ctrl-E",
    "itemize": "Ctrl-I"
   },
   "labels_anchors": false,
   "latex_user_defs": false,
   "report_style_numbering": false,
   "user_envs_cfg": false
  },
  "vscode": {
   "interpreter": {
    "hash": "875265320606c99a0b480fa6cfc4e12dcdb2cc0c89106af3e4f88e5863941da0"
   }
  }
 },
 "nbformat": 4,
 "nbformat_minor": 5
}
