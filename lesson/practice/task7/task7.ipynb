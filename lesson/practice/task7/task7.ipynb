{
 "cells": [
  {
   "cell_type": "markdown",
   "id": "58f6eb32",
   "metadata": {},
   "source": [
    "### 这次是老师给的答案，无优化"
   ]
  },
  {
   "cell_type": "markdown",
   "id": "b7c4eabf",
   "metadata": {},
   "source": [
    "# 第十周作业——测试代码\n",
    "## 第一题\n",
    "\n",
    "定义一个模块hello,在该模块中实现函数f1，f1用于判断输入年份是否为闰年\n",
    "\n",
    "定义测试用例，测试数据为2000年，看函数测试是否通过！"
   ]
  },
  {
   "cell_type": "code",
   "execution_count": 18,
   "id": "6002e8e7",
   "metadata": {},
   "outputs": [],
   "source": [
    "def f1(year):\n",
    "    if year%4==0 or (year%400==0 and year%100!=0):\n",
    "        return True\n",
    "    else:\n",
    "        return False"
   ]
  },
  {
   "cell_type": "code",
   "execution_count": 23,
   "id": "9f3de2c1",
   "metadata": {},
   "outputs": [],
   "source": [
    "from hello import f1\n",
    "import unittest\n",
    "class TestHello(unittest.TestCase):\n",
    "    def test_f1(self):\n",
    "        flag=f1(1600)\n",
    "        self.assertTrue(flag)\n",
    "        \n",
    "unittest.main()"
   ]
  },
  {
   "cell_type": "markdown",
   "id": "2c78ccf3",
   "metadata": {},
   "source": [
    "## 第二题\n",
    "定义一个分页器类，分页器：  \n",
    "- 数据成员：总记录条数sum，每页显示d，当前页i，  \n",
    "- 方法成员：nextPage(),prePage(),  \n",
    "\n",
    "编写测试用例，测试nextPage（）和prePage（）方法。注意测试第一页的前一页，和最后一页的下一页。"
   ]
  },
  {
   "cell_type": "code",
   "execution_count": 9,
   "id": "fe7b07e5",
   "metadata": {},
   "outputs": [],
   "source": [
    "#分页器用来计算页码：100条分10/页，则有10页\n",
    "import math\n",
    "class Pager():        \n",
    "    def __init__(self, sum, d, i):\n",
    "        self.sum= sum\n",
    "        self.d= d\n",
    "        self.i= i\n",
    "        \n",
    "    def setI(self,j):\n",
    "        self.i=j\n",
    "        \n",
    "    def nextPage(self):\n",
    "        if self.i==math.ceil(self.sum/self.d):\n",
    "            return self.i\n",
    "        else:\n",
    "            return self.i+1\n",
    "        \n",
    "    def prePage(self):\n",
    "        if self.i==1:\n",
    "            return self.i\n",
    "        else:\n",
    "            return self.i-1"
   ]
  },
  {
   "cell_type": "code",
   "execution_count": 25,
   "id": "54df3882",
   "metadata": {},
   "outputs": [],
   "source": [
    "from Pager import Pager\n",
    "import unittest\n",
    "class Test_Pager(unittest.TestCase):\n",
    "    def setUp(self):\n",
    "        self.pager1=Pager(101,10,5)\n",
    "        \n",
    "    def test_nextPage(self):\n",
    "        self.pager1.setI(11)\n",
    "        pageNum=self.pager1.nextPage()\n",
    "        self.assertEqual(11,pageNum)\n",
    "        \n",
    "    def test_prePage(self):\n",
    "        self.pager1.setI(1)\n",
    "        pageNum=self.pager1.prePage()\n",
    "        self.assertEqual(1,pageNum)\n",
    "        \n",
    "unittest.main()"
   ]
  }
 ],
 "metadata": {
  "kernelspec": {
   "display_name": "Python 3 (ipykernel)",
   "language": "python",
   "name": "python3"
  },
  "language_info": {
   "codemirror_mode": {
    "name": "ipython",
    "version": 3
   },
   "file_extension": ".py",
   "mimetype": "text/x-python",
   "name": "python",
   "nbconvert_exporter": "python",
   "pygments_lexer": "ipython3",
   "version": "3.9.12"
  },
  "latex_envs": {
   "LaTeX_envs_menu_present": true,
   "autoclose": false,
   "autocomplete": true,
   "bibliofile": "biblio.bib",
   "cite_by": "apalike",
   "current_citInitial": 1,
   "eqLabelWithNumbers": true,
   "eqNumInitial": 1,
   "hotkeys": {
    "equation": "Ctrl-E",
    "itemize": "Ctrl-I"
   },
   "labels_anchors": false,
   "latex_user_defs": false,
   "report_style_numbering": false,
   "user_envs_cfg": false
  }
 },
 "nbformat": 4,
 "nbformat_minor": 5
}
