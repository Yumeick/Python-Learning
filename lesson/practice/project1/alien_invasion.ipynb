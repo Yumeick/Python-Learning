{
 "cells": [
  {
   "cell_type": "markdown",
   "id": "52d360ef",
   "metadata": {},
   "source": [
    "内容是照着课本打的，个别代码调整为ipynb文件也能运行"
   ]
  },
  {
   "cell_type": "code",
   "execution_count": 2,
   "id": "c2ede548",
   "metadata": {},
   "outputs": [],
   "source": [
    "#from settings import Settings  这是py文件的导入方式\n",
    "%run settings.ipynb  #jupyter调用其他ipynb文件的方法之一\n",
    "%run ship.ipynb\n",
    "%run game_functions.ipynb\n",
    "%run alien.ipynb\n",
    "%run game_stats.ipynb\n",
    "%run button.ipynb\n",
    "%run scoreboard.ipynb\n",
    "from pygame.sprite import Group\n",
    "import pygame\n",
    "def run_game():\n",
    "    # 初始化pygame\n",
    "    pygame.init()\n",
    "    #初始化设置\n",
    "    ai_settings =Settings()\n",
    "    # 初始化屏幕对象\n",
    "    screen = pygame.display.set_mode(\n",
    "        (ai_settings.screen_width,ai_settings.screen_height))\n",
    "    \n",
    "    # 创建一个飞船对象\n",
    "    ship= Ship(ai_settings, screen)\n",
    "    \n",
    "    # 创建一个子弹编组\n",
    "    bullets= Group()\n",
    "\n",
    "    #创建一个外星人对象\n",
    "    aliens= Group()\n",
    "\n",
    "    #创建外星人群\n",
    "    create_fleet(ai_settings, screen, ship, aliens)\n",
    "\n",
    "\n",
    "    stats= GameStats(ai_settings)\n",
    "\n",
    "    sb= Scoreboard(ai_settings, screen, stats)\n",
    "\n",
    "    play_button= Button(ai_settings, screen, \"Play\") \n",
    "    \n",
    "    #开始游戏的主循环\n",
    "    while True:\n",
    "        \n",
    "        check_events(ai_settings, screen, stats, sb, play_button, ship, aliens, bullets)\n",
    "        if stats.game_active:\n",
    "            ship.update()\n",
    "            update_bullets(ai_settings, screen, stats, sb, ship, aliens, bullets)\n",
    "            update_aliens(ai_settings, stats, screen, sb, ship, aliens, bullets)\n",
    "        update_screen(ai_settings, screen, stats, sb, ship, aliens, bullets, play_button)\n",
    "        \n",
    "        \n",
    "        \n",
    "               \n",
    "run_game()"
   ]
  },
  {
   "cell_type": "code",
   "execution_count": null,
   "id": "dfaeef3d",
   "metadata": {},
   "outputs": [],
   "source": []
  }
 ],
 "metadata": {
  "kernelspec": {
   "display_name": "Python 3.10.2 64-bit",
   "language": "python",
   "name": "python3"
  },
  "language_info": {
   "codemirror_mode": {
    "name": "ipython",
    "version": 3
   },
   "file_extension": ".py",
   "mimetype": "text/x-python",
   "name": "python",
   "nbconvert_exporter": "python",
   "pygments_lexer": "ipython3",
   "version": "3.10.2"
  },
  "latex_envs": {
   "LaTeX_envs_menu_present": true,
   "autoclose": false,
   "autocomplete": true,
   "bibliofile": "biblio.bib",
   "cite_by": "apalike",
   "current_citInitial": 1,
   "eqLabelWithNumbers": true,
   "eqNumInitial": 1,
   "hotkeys": {
    "equation": "Ctrl-E",
    "itemize": "Ctrl-I"
   },
   "labels_anchors": false,
   "latex_user_defs": false,
   "report_style_numbering": false,
   "user_envs_cfg": false
  },
  "vscode": {
   "interpreter": {
    "hash": "875265320606c99a0b480fa6cfc4e12dcdb2cc0c89106af3e4f88e5863941da0"
   }
  }
 },
 "nbformat": 4,
 "nbformat_minor": 5
}
