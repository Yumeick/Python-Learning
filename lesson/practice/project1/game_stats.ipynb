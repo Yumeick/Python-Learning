{
 "cells": [
  {
   "cell_type": "code",
   "execution_count": null,
   "metadata": {},
   "outputs": [],
   "source": [
    "class GameStats():\n",
    "    def __init__(self, ai_settings):\n",
    "        self.ai_settings= ai_settings\n",
    "        self.reset_stats()\n",
    "        self.game_active= False\n",
    "        self.high_score= 0\n",
    "        self.level= 1\n",
    "\n",
    "    def reset_stats(self):\n",
    "        self.ships_left= self.ai_settings.ship_limit\n",
    "        self.score= 0"
   ]
  }
 ],
 "metadata": {
  "kernelspec": {
   "display_name": "Python 3.10.2 64-bit",
   "language": "python",
   "name": "python3"
  },
  "language_info": {
   "name": "python",
   "version": "3.10.2"
  },
  "orig_nbformat": 4,
  "vscode": {
   "interpreter": {
    "hash": "875265320606c99a0b480fa6cfc4e12dcdb2cc0c89106af3e4f88e5863941da0"
   }
  }
 },
 "nbformat": 4,
 "nbformat_minor": 2
}
