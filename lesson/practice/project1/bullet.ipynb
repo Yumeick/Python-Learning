{
 "cells": [
  {
   "cell_type": "code",
   "execution_count": null,
   "id": "e74723a9",
   "metadata": {},
   "outputs": [],
   "source": [
    "import pygame\n",
    "from pygame.sprite import Sprite\n",
    "\n",
    "class Bullet(Sprite):\n",
    "    #创建子弹对象\n",
    "    def __init__(self, ai_settings, screen, ship):\n",
    "        super(Bullet, self).__init__()\n",
    "        self.screen= screen\n",
    "        \n",
    "        #在（0，0）处创建一个表示子弹的矩形，再设置正确的位置\n",
    "        self.rect= pygame.Rect(0, 0, ai_settings.bullet_width,\n",
    "                              ai_settings.bullet_height)\n",
    "        self.rect.centerx= ship.rect.centerx\n",
    "        self.rect.top= ship.rect.top\n",
    "        \n",
    "        #存储用小数表示的子弹位置\n",
    "        self.y= float(self.rect.y)\n",
    "        \n",
    "        self.color= ai_settings.bullet_color\n",
    "        self.speed_factor= ai_settings.bullet_speed_factor\n",
    "    \n",
    "    \n",
    "    #向上移动子弹\n",
    "    def update(self):\n",
    "        #更新表示子弹位置的小数值\n",
    "        self.y -= self.speed_factor\n",
    "        \n",
    "        #更新表示子弹的rect的位置\n",
    "        self.rect.y= self.y\n",
    "    \n",
    "    #在屏幕上绘制子弹\n",
    "    def draw_bullet(self):\n",
    "        pygame.draw.rect(self.screen, self.color, self.rect)"
   ]
  }
 ],
 "metadata": {
  "kernelspec": {
   "display_name": "Python 3 (ipykernel)",
   "language": "python",
   "name": "python3"
  },
  "language_info": {
   "codemirror_mode": {
    "name": "ipython",
    "version": 3
   },
   "file_extension": ".py",
   "mimetype": "text/x-python",
   "name": "python",
   "nbconvert_exporter": "python",
   "pygments_lexer": "ipython3",
   "version": "3.9.12"
  },
  "latex_envs": {
   "LaTeX_envs_menu_present": true,
   "autoclose": false,
   "autocomplete": true,
   "bibliofile": "biblio.bib",
   "cite_by": "apalike",
   "current_citInitial": 1,
   "eqLabelWithNumbers": true,
   "eqNumInitial": 1,
   "hotkeys": {
    "equation": "Ctrl-E",
    "itemize": "Ctrl-I"
   },
   "labels_anchors": false,
   "latex_user_defs": false,
   "report_style_numbering": false,
   "user_envs_cfg": false
  }
 },
 "nbformat": 4,
 "nbformat_minor": 5
}
